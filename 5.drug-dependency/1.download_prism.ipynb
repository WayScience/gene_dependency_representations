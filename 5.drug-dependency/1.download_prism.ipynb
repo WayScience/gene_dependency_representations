{
 "cells": [
  {
   "cell_type": "markdown",
   "id": "aa808d86-7b43-44ec-9b98-442b171d4403",
   "metadata": {},
   "source": [
    "## Download PRISM Repurposing Data\n",
    "\n",
    "https://depmap.org/repurposing/\n",
    "\n",
    "- Primary screen: 578 cell lines treated with 4,518 compounds\n",
    "- Secondary screen: 489 cell lines treated with 1,448 compounds in 8 doses"
   ]
  },
  {
   "cell_type": "code",
   "execution_count": 1,
   "id": "8da5afd5-2c96-4333-a8da-87923b453a9f",
   "metadata": {},
   "outputs": [],
   "source": [
    "import pathlib\n",
    "import sys\n",
    "\n",
    "import pandas as pd\n",
    "\n",
    "sys.path.append(\"../\")\n",
    "from utils import download_utils"
   ]
  },
  {
   "cell_type": "code",
   "execution_count": 2,
   "id": "da42f770-97b0-4017-8b80-f91afa913253",
   "metadata": {},
   "outputs": [],
   "source": [
    "# For downloading figshare IDs\n",
    "figshare_url = \"https://ndownloader.figshare.com/files/\""
   ]
  },
  {
   "cell_type": "code",
   "execution_count": 3,
   "id": "6e8a7647-91be-4fcc-a0cd-4a4cf13fddea",
   "metadata": {},
   "outputs": [],
   "source": [
    "base_output_dir = \"data\"\n",
    "\n",
    "download_dict = {\n",
    "    # Primary screen\n",
    "    \"20237718\": {  # Cell line details\n",
    "        \"output_file\": \"primary-screen-cell-line-info.csv\",\n",
    "        \"output_data_dir\": \"primary_screen\",\n",
    "    },\n",
    "    \"20237715\": {  # Compound details\n",
    "        \"output_file\": \"primary-screen-replicate-collapsed-treatment-info.csv\",\n",
    "        \"output_data_dir\": \"primary_screen\",\n",
    "    },\n",
    "    \"20237709\": {  # PRISM readouts replicate collapsed\n",
    "        \"output_file\": \"primary-screen-replicate-collapsed-logfold-change.csv\",\n",
    "        \"output_data_dir\": \"primary_screen\",\n",
    "    },\n",
    "    # Secondary screen\n",
    "    \"20237769\": {  # Cell line details\n",
    "        \"output_file\": \"secondary-screen-cell-line-info.csv\",\n",
    "        \"output_data_dir\": \"secondary_screen\",\n",
    "    },\n",
    "    \"20237763\": {  # Compound details\n",
    "        \"output_file\": \"secondary-screen-replicate-collapsed-treatment-info.csv\",\n",
    "        \"output_data_dir\": \"secondary_screen\",\n",
    "    },\n",
    "    \"20237757\": {  # PRISM readouts replicate collapsed\n",
    "        \"output_file\": \"secondary-screen-replicate-collapsed-logfold-change.csv\",\n",
    "        \"output_data_dir\": \"secondary_screen\",\n",
    "    },\n",
    "}"
   ]
  },
  {
   "cell_type": "code",
   "execution_count": 4,
   "id": "482c8691-3cc6-4a83-9135-f69312d9f5c5",
   "metadata": {
    "tags": []
   },
   "outputs": [
    {
     "name": "stdout",
     "output_type": "stream",
     "text": [
      "Downloading data/primary_screen/primary-screen-cell-line-info.csv...\n",
      "Downloading data/primary_screen/primary-screen-replicate-collapsed-treatment-info.csv...\n",
      "Downloading data/primary_screen/primary-screen-replicate-collapsed-logfold-change.csv...\n",
      "Downloading data/secondary_screen/secondary-screen-cell-line-info.csv...\n",
      "Downloading data/secondary_screen/secondary-screen-replicate-collapsed-treatment-info.csv...\n",
      "Downloading data/secondary_screen/secondary-screen-replicate-collapsed-logfold-change.csv...\n"
     ]
    }
   ],
   "source": [
    "for figshare_id in download_dict:\n",
    "    # Create directories and paths for outputing data\n",
    "    output_dir = pathlib.Path(\n",
    "        base_output_dir, download_dict[figshare_id][\"output_data_dir\"]\n",
    "    )\n",
    "    output_dir.mkdir(parents=True, exist_ok=True)\n",
    "\n",
    "    output_file = pathlib.Path(output_dir, download_dict[figshare_id][\"output_file\"])\n",
    "\n",
    "    # Download data from figshare\n",
    "    print(f\"Downloading {output_file}...\")\n",
    "\n",
    "    download_utils.download_figshare(\n",
    "        figshare_id=figshare_id, output_file=output_file, figshare_url=figshare_url\n",
    "    )"
   ]
  }
 ],
 "metadata": {
  "kernelspec": {
   "display_name": "gene_dependency_representations",
   "language": "python",
   "name": "python3"
  },
  "language_info": {
   "codemirror_mode": {
    "name": "ipython",
    "version": 3
   },
   "file_extension": ".py",
   "mimetype": "text/x-python",
   "name": "python",
   "nbconvert_exporter": "python",
   "pygments_lexer": "ipython3",
   "version": "3.12.5"
  }
 },
 "nbformat": 4,
 "nbformat_minor": 5
}
