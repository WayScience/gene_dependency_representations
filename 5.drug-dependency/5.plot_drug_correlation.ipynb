{
 "cells": [
  {
   "cell_type": "code",
   "execution_count": 1,
   "metadata": {
    "vscode": {
     "languageId": "r"
    }
   },
   "outputs": [
    {
     "name": "stderr",
     "output_type": "stream",
     "text": [
      "Warning message:\n",
      "“package ‘ggplot2’ was built under R version 4.2.3”\n",
      "Warning message:\n",
      "“package ‘cowplot’ was built under R version 4.2.3”\n"
     ]
    }
   ],
   "source": [
    "suppressPackageStartupMessages(library(dplyr))\n",
    "suppressPackageStartupMessages(library(ggplot2))\n",
    "suppressPackageStartupMessages(library(cowplot))\n",
    "suppressPackageStartupMessages(library(reticulate))"
   ]
  },
  {
   "cell_type": "code",
   "execution_count": 2,
   "metadata": {
    "vscode": {
     "languageId": "r"
    }
   },
   "outputs": [
    {
     "name": "stderr",
     "output_type": "stream",
     "text": [
      "\u001b[1mRows: \u001b[22m\u001b[34m19531248\u001b[39m \u001b[1mColumns: \u001b[22m\u001b[34m7\u001b[39m\n",
      "\u001b[36m──\u001b[39m \u001b[1mColumn specification\u001b[22m \u001b[36m────────────────────────────────────────────────────────\u001b[39m\n",
      "\u001b[1mDelimiter:\u001b[22m \",\"\n",
      "\u001b[31mchr\u001b[39m (2): model, drug\n",
      "\u001b[32mdbl\u001b[39m (4): z, full_model_z, pearson_correlation, p_value\n",
      "\u001b[33mlgl\u001b[39m (1): shuffled\n",
      "\n",
      "\u001b[36mℹ\u001b[39m Use `spec()` to retrieve the full column specification for this data.\n",
      "\u001b[36mℹ\u001b[39m Specify the column types or set `show_col_types = FALSE` to quiet this message.\n",
      "\u001b[1mRows: \u001b[22m\u001b[34m2288\u001b[39m \u001b[1mColumns: \u001b[22m\u001b[34m13\u001b[39m\n",
      "\u001b[36m──\u001b[39m \u001b[1mColumn specification\u001b[22m \u001b[36m────────────────────────────────────────────────────────\u001b[39m\n",
      "\u001b[1mDelimiter:\u001b[22m \",\"\n",
      "\u001b[31mchr\u001b[39m (9): OncotreePrimaryDisease, Drug, Higher in, name, moa, target, drug, i...\n",
      "\u001b[32mdbl\u001b[39m (4): F-statistic, p-value, latent_dimension, correlation\n",
      "\n",
      "\u001b[36mℹ\u001b[39m Use `spec()` to retrieve the full column specification for this data.\n",
      "\u001b[36mℹ\u001b[39m Specify the column types or set `show_col_types = FALSE` to quiet this message.\n"
     ]
    }
   ],
   "source": [
    "#Load data\n",
    "data_dir <- file.path(\"../5.drug-dependency/results\")\n",
    "\n",
    "results_file <- file.path(data_dir, \"combined_latent_drug_correlations.csv\")\n",
    "drug_results_df <- readr::read_csv(\n",
    "    results_file,\n",
    ")\n",
    "\n",
    "glioma_file <- file.path(data_dir, \"diffuse_glioma.csv\")\n",
    "glioma_df <- readr::read_csv(\n",
    "    glioma_file,\n",
    ")"
   ]
  },
  {
   "cell_type": "code",
   "execution_count": 3,
   "metadata": {
    "vscode": {
     "languageId": "r"
    }
   },
   "outputs": [],
   "source": [
    "# Source the themes.R file from the utils folder\n",
    "source(\"../utils/themes.r\")"
   ]
  },
  {
   "cell_type": "code",
   "execution_count": 4,
   "metadata": {
    "vscode": {
     "languageId": "r"
    }
   },
   "outputs": [],
   "source": [
    "drug_results_df$adjusted_p_value <- p.adjust(drug_results_df$p_value, method = \"BH\")\n",
    "\n",
    "positive_df <- drug_results_df %>%\n",
    "    filter(`shuffled` == FALSE)\n",
    "\n",
    "control_df <- drug_results_df %>%\n",
    "    filter(`shuffled` == TRUE)\n"
   ]
  },
  {
   "cell_type": "code",
   "execution_count": 5,
   "metadata": {
    "vscode": {
     "languageId": "r"
    }
   },
   "outputs": [
    {
     "name": "stderr",
     "output_type": "stream",
     "text": [
      "\u001b[1m\u001b[22m`summarise()` has grouped output by 'model'. You can override using the\n",
      "`.groups` argument.\n"
     ]
    }
   ],
   "source": [
    "# Prepare the data\n",
    "# Filter for the single highest correlation for each model at each dimension\n",
    "max_corr_df <- drug_results_df %>%\n",
    "  group_by(model, full_model_z) %>%\n",
    "  summarize(max_corr = max(abs(`pearson_correlation`), na.rm = TRUE)) %>%\n",
    "  ungroup()"
   ]
  },
  {
   "cell_type": "code",
   "execution_count": 6,
   "metadata": {
    "vscode": {
     "languageId": "r"
    }
   },
   "outputs": [
    {
     "name": "stderr",
     "output_type": "stream",
     "text": [
      "\u001b[1m\u001b[22m`summarise()` has grouped output by 'model'. You can override using the\n",
      "`.groups` argument.\n"
     ]
    }
   ],
   "source": [
    "# Prepare the data\n",
    "# Filter for PHGG drug the single highest correlation for each model at each dimension\n",
    "phgg_corr_df <- drug_results_df %>%\n",
    "  filter(`drug` == \"BRD-K98572433-001-02-9::2.5::HTS\") %>%\n",
    "  group_by(model, full_model_z) %>%\n",
    "  summarize(max_corr = max(abs(`pearson_correlation`), na.rm = TRUE)) %>%\n",
    "  ungroup()"
   ]
  },
  {
   "cell_type": "code",
   "execution_count": 7,
   "metadata": {
    "vscode": {
     "languageId": "r"
    }
   },
   "outputs": [
    {
     "name": "stderr",
     "output_type": "stream",
     "text": [
      "\u001b[1m\u001b[22m`summarise()` has grouped output by 'model'. You can override using the\n",
      "`.groups` argument.\n"
     ]
    }
   ],
   "source": [
    "# Prepare the data\n",
    "# Filter for hepatoblastoma drug the single highest correlation for each model at each dimension\n",
    "hepato_corr_df <- drug_results_df %>%\n",
    "  filter(`drug` == \"BRD-K11742128-003-23-4::2.5::HTS\") %>%\n",
    "  group_by(model, full_model_z) %>%\n",
    "  summarize(max_corr = max(abs(`pearson_correlation`), na.rm = TRUE)) %>%\n",
    "  ungroup()"
   ]
  },
  {
   "cell_type": "code",
   "execution_count": 8,
   "metadata": {
    "vscode": {
     "languageId": "r"
    }
   },
   "outputs": [
    {
     "name": "stderr",
     "output_type": "stream",
     "text": [
      "Warning message:\n",
      "“\u001b[1m\u001b[22mUsing `size` aesthetic for lines was deprecated in ggplot2 3.4.0.\n",
      "\u001b[36mℹ\u001b[39m Please use `linewidth` instead.”\n"
     ]
    }
   ],
   "source": [
    "# Plot the data\n",
    "latent_plot <- ggplot(max_corr_df, aes(x = factor(full_model_z), y = max_corr, color = model, fill = model)) +\n",
    "  geom_point(size = 3, shape = 21) +  # Points on the line\n",
    "  geom_smooth(aes(group = model), method = \"loess\", se = TRUE, size = 1, alpha = 0.1) +  # Trend line with shading \n",
    "  scale_color_manual(name = \"Algorithm\", values = model_colors, labels = model_labels) +\n",
    "  scale_fill_manual(name = \"Algorithm\", values = model_colors, labels = model_labels) +\n",
    "  labs(x = \"Latent Dimensions\", y = \"Highest Correlation\", title = \"Highest Correlation Across All Pathways by Latent Dimension for Each Model\") +\n",
    "  custom_theme()"
   ]
  },
  {
   "cell_type": "code",
   "execution_count": 9,
   "metadata": {
    "vscode": {
     "languageId": "r"
    }
   },
   "outputs": [
    {
     "name": "stderr",
     "output_type": "stream",
     "text": [
      "\u001b[1m\u001b[22m`geom_smooth()` using formula = 'y ~ x'\n"
     ]
    }
   ],
   "source": [
    "# Save the plot with custom dimensions\n",
    "ggsave(\"./visualize/drug_latent_plot.png\", plot = latent_plot, width = 10, height = 8, units = \"in\")"
   ]
  },
  {
   "cell_type": "code",
   "execution_count": 10,
   "metadata": {
    "vscode": {
     "languageId": "r"
    }
   },
   "outputs": [],
   "source": [
    "# Plot the hepatoblastoma data\n",
    "hepato_plot <- ggplot(hepato_corr_df, aes(x = factor(full_model_z), y = max_corr, color = model, fill = model)) +\n",
    "  geom_point(size = 3, shape = 21) +  # Points on the line\n",
    "  geom_smooth(aes(group = model), method = \"loess\", se = TRUE, size = 1, alpha = 0.1) +  # Trend line with shading \n",
    "  scale_color_manual(name = \"Algorithm\", values = model_colors, labels = model_labels) +\n",
    "  scale_fill_manual(name = \"Algorithm\", values = model_colors, labels = model_labels) +\n",
    "  labs(x = \"Latent Dimensions\", y = \"Highest Correlation\", title = \"Highest Correlation for Triprolidine by Latent Dimension for Each Model\") +\n",
    "  theme(legend.position = \"right\")"
   ]
  },
  {
   "cell_type": "code",
   "execution_count": 11,
   "metadata": {
    "vscode": {
     "languageId": "r"
    }
   },
   "outputs": [
    {
     "name": "stderr",
     "output_type": "stream",
     "text": [
      "\u001b[1m\u001b[22m`geom_smooth()` using formula = 'y ~ x'\n"
     ]
    }
   ],
   "source": [
    "# Save the hepatoblastoma plot with custom dimensions\n",
    "ggsave(\"./visualize/hepatoblastoma_latent_plot.png\", plot = hepato_plot, width = 10, height = 8, units = \"in\")"
   ]
  },
  {
   "cell_type": "code",
   "execution_count": 12,
   "metadata": {
    "vscode": {
     "languageId": "r"
    }
   },
   "outputs": [],
   "source": [
    "#Plot the PHGG data\n",
    "phgg_plot <- ggplot(phgg_corr_df, aes(x = factor(full_model_z), y = max_corr, color = model, fill = model)) +\n",
    "  geom_point(size = 3, shape = 21) +  # Points on the line\n",
    "  geom_smooth(aes(group = model), method = \"loess\", se = TRUE, size = 1, alpha = 0.1) +  # Trend line with shading \n",
    "  scale_color_manual(name = \"Algorithm\", values = model_colors, labels = model_labels) +\n",
    "  scale_fill_manual(name = \"Algorithm\", values = model_colors, labels = model_labels) +\n",
    "  labs(x = \"Latent Dimensions\", y = \"Highest Correlation\", title = \"Highest Correlation for Ro-4987655 by Latent Dimension for Each Model\") +\n",
    "  theme(legend.position = \"right\")"
   ]
  },
  {
   "cell_type": "code",
   "execution_count": 13,
   "metadata": {
    "vscode": {
     "languageId": "r"
    }
   },
   "outputs": [
    {
     "name": "stderr",
     "output_type": "stream",
     "text": [
      "\u001b[1m\u001b[22m`geom_smooth()` using formula = 'y ~ x'\n"
     ]
    }
   ],
   "source": [
    "# Save the PHGG plot with custom dimensions\n",
    "ggsave(\"./visualize/phgg_latent_plot.png\", plot = phgg_plot, width = 10, height = 8, units = \"in\")"
   ]
  },
  {
   "cell_type": "code",
   "execution_count": 14,
   "metadata": {
    "vscode": {
     "languageId": "r"
    }
   },
   "outputs": [
    {
     "data": {
      "text/plain": [
       "List of 1\n",
       " $ legend.position: chr \"right\"\n",
       " - attr(*, \"class\")= chr [1:2] \"theme\" \"gg\"\n",
       " - attr(*, \"complete\")= logi FALSE\n",
       " - attr(*, \"validate\")= logi TRUE"
      ]
     },
     "metadata": {},
     "output_type": "display_data"
    }
   ],
   "source": [
    "#Normal volcano plot \n",
    "volcano_plot <- ggplot(drug_results_df, aes(x = pearson_correlation, y = -log(adjusted_p_value), color = model, fill = model)) +\n",
    "  geom_point(size = 3, shape = 21) +  # Points representing drugs\n",
    "  scale_color_manual(name = \"Model\", values = model_colors, labels = model_labels) +  # Color scale\n",
    "  scale_fill_manual(name = \"Model\", values = model_colors, labels = model_labels) +  # Fill scale\n",
    "  ylim(0, 125) +\n",
    "  labs(x = \"Correlation\", y = \"-log10(p-value)\", title = \"Drug Correlation by Model\") \n",
    "  theme(legend.position = \"right\")  # Position the legend"
   ]
  },
  {
   "cell_type": "code",
   "execution_count": 15,
   "metadata": {
    "vscode": {
     "languageId": "r"
    }
   },
   "outputs": [
    {
     "name": "stderr",
     "output_type": "stream",
     "text": [
      "Warning message:\n",
      "“\u001b[1m\u001b[22mRemoved 8886 rows containing missing values or values outside the scale range\n",
      "(`geom_point()`).”\n"
     ]
    }
   ],
   "source": [
    "# Save the plot with custom dimensions\n",
    "ggsave(\"./visualize/drug_volcano_plot.png\", plot = volcano_plot, width = 10, height = 8, units = \"in\")"
   ]
  },
  {
   "cell_type": "code",
   "execution_count": 16,
   "metadata": {
    "vscode": {
     "languageId": "r"
    }
   },
   "outputs": [],
   "source": [
    "#Control volcano plot\n",
    "control_plot <- ggplot(control_df, aes(x = pearson_correlation, y = -log(adjusted_p_value), color = model, fill = model)) +\n",
    "  geom_point(size = 3, shape = 21) +  # Points representing drugs\n",
    "  scale_color_manual(name = \"Model\", values = model_colors, labels = model_labels) +  # Color scale\n",
    "  scale_fill_manual(name = \"Model\", values = model_colors, labels = model_labels) +  # Fill scale\n",
    "  ylim(0, 125) +\n",
    "  xlim(-0.5, 0.5) +\n",
    "  labs(x = \"Correlation\", y = \"-log10(p-value)\", title = \"Drug Correlation by Model: Control\") +\n",
    "  theme(legend.position = \"right\")  # Position the legend"
   ]
  },
  {
   "cell_type": "code",
   "execution_count": 17,
   "metadata": {
    "vscode": {
     "languageId": "r"
    }
   },
   "outputs": [
    {
     "name": "stderr",
     "output_type": "stream",
     "text": [
      "Warning message:\n",
      "“\u001b[1m\u001b[22mRemoved 6299 rows containing missing values or values outside the scale range\n",
      "(`geom_point()`).”\n"
     ]
    }
   ],
   "source": [
    "# Save the control plot with custom dimensions\n",
    "ggsave(\"./visualize/drug_volcano_plot_control.png\", plot = control_plot, width = 10, height = 8, units = \"in\")"
   ]
  },
  {
   "cell_type": "code",
   "execution_count": 18,
   "metadata": {
    "vscode": {
     "languageId": "r"
    }
   },
   "outputs": [],
   "source": [
    "#Manually annotate groups of drugs by In clinical trials, In vitro testing, and No testing\n",
    "glioma_df$group <- ifelse(glioma_df$name %in% c(\n",
    "   \"gefitinib\", \"AEE788\", \"BMS-599626\", \"osimertinib\", \n",
    "  \"lapatinib\", \"MEK162\", \"selumetinib\",  \"afatinib\", \"vandetanib\", \n",
    "  \"EGF816\", \"AZD8330\", \"trametinib\", \"CUDC-101\", \"PD-0325901\", \n",
    "  \"cobimetinib\",  \"OTX015\", \"ACY-1215\", \"OSI-027\", \n",
    "  \"linsitinib\", \"abemaciclib\"), \"In clinical trials\", \n",
    "ifelse(glioma_df$name %in% c(\n",
    "    \"AZD8931\", \"BVD-523\", \"AS-703026\", \"refametinib\", \"XL388\", \"WYE-354\",\n",
    "    \"ibrutinib\", \"OSI-420\", \"ARRY-334543\", \"tyrphostin-AG-1478\", \"neratinib\", \n",
    "  \"XL-647\", \"U-18666A\", \"BIBU-1361\", \"I-BET-762\", \"CH5132799\", \"dacomitinib\", \n",
    "  \"alpelisib\", \"SRC-kinase-inhibitor-I\", \"fenofibrate\", \"calcitriol\", \n",
    "  \"alfacalcidol\", \"I-BET151\", \"medroxyprogesterone-acetate\", \"mycophenolic-acid\", \n",
    "  \"bosutinib\", \"triciribine\", \"3-deazaneplanocin-A\", \"scriptaid\", \"tacalcitol\", \n",
    "  \"spironolactone\", \"tucatinib\", \"mercaptopurine\"), \"In vitro results\", \n",
    "\"No testing\"))"
   ]
  },
  {
   "cell_type": "code",
   "execution_count": 19,
   "metadata": {
    "vscode": {
     "languageId": "r"
    }
   },
   "outputs": [],
   "source": [
    "# Plot the glioma drug data\n",
    "glioma_plot <- ggplot(glioma_df, aes(x = correlation, y = `F-statistic`, color = group)) +\n",
    "  geom_point(size = 3, alpha = 0.7) +  # Adjust size and transparency of points\n",
    "  theme_minimal() +  # Use a minimal theme for a clean look\n",
    "  labs(\n",
    "    title = \"Diffuse Glioma Data: Correlation vs F-statistic\",\n",
    "    x = \"Correlation\",\n",
    "    y = \"F-statistic\"\n",
    "  ) +\n",
    "  scale_color_manual(values = c(\"In clinical trials\" = \"#648FFF\", \n",
    "                                \"In vitro results\" = \"#FFC20A\", \n",
    "                                \"No testing\" = \"#D41159\")) +  # Custom colors for each group\n",
    "  theme(\n",
    "    plot.title = element_text(hjust = 0.5),  # Center the plot title\n",
    "    legend.title = element_blank(),  # Remove legend title\n",
    "    legend.position = \"top\"          # Position legend at the top\n",
    "  )"
   ]
  },
  {
   "cell_type": "code",
   "execution_count": 20,
   "metadata": {
    "vscode": {
     "languageId": "r"
    }
   },
   "outputs": [],
   "source": [
    "#Save the Glioma drug plot \n",
    "ggsave(\"./visualize/glioma_plot.png\", plot = glioma_plot, width = 10, height = 8, units = \"in\")"
   ]
  }
 ],
 "metadata": {
  "kernelspec": {
   "display_name": "R",
   "language": "R",
   "name": "ir"
  },
  "language_info": {
   "codemirror_mode": "r",
   "file_extension": ".r",
   "mimetype": "text/x-r-source",
   "name": "R",
   "pygments_lexer": "r",
   "version": "4.2.2"
  }
 },
 "nbformat": 4,
 "nbformat_minor": 2
}
