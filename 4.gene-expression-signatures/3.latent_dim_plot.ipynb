{
 "cells": [
  {
   "cell_type": "code",
   "execution_count": 1,
   "metadata": {
    "vscode": {
     "languageId": "r"
    }
   },
   "outputs": [
    {
     "name": "stderr",
     "output_type": "stream",
     "text": [
      "Warning message:\n",
      "“package ‘ggplot2’ was built under R version 4.2.3”\n",
      "Warning message:\n",
      "“package ‘cowplot’ was built under R version 4.2.3”\n",
      "Warning message:\n",
      "“package ‘arrow’ was built under R version 4.2.3”\n"
     ]
    }
   ],
   "source": [
    "suppressPackageStartupMessages(library(dplyr))\n",
    "suppressPackageStartupMessages(library(ggplot2))\n",
    "suppressPackageStartupMessages(library(cowplot))\n",
    "suppressPackageStartupMessages(library(reticulate))\n",
    "suppressPackageStartupMessages(library(arrow))"
   ]
  },
  {
   "cell_type": "code",
   "execution_count": 2,
   "metadata": {
    "vscode": {
     "languageId": "r"
    }
   },
   "outputs": [],
   "source": [
    "#Load data\n",
    "data_dir <- file.path(\"../4.gene-expression-signatures/gsea_results\")\n",
    "\n",
    "results_file <- file.path(data_dir, \"combined_z_matrix_gsea_results.parquet\")\n",
    "gsea_results_df <- arrow::read_parquet(\n",
    "    results_file,\n",
    ")"
   ]
  },
  {
   "cell_type": "code",
   "execution_count": 3,
   "metadata": {
    "vscode": {
     "languageId": "r"
    }
   },
   "outputs": [],
   "source": [
    "# Source the themes.R file from the utils folder\n",
    "source(\"../utils/themes.r\")"
   ]
  },
  {
   "cell_type": "code",
   "execution_count": 4,
   "metadata": {
    "vscode": {
     "languageId": "r"
    }
   },
   "outputs": [
    {
     "name": "stderr",
     "output_type": "stream",
     "text": [
      "\u001b[1m\u001b[22m`summarise()` has grouped output by 'model'. You can override using the\n",
      "`.groups` argument.\n"
     ]
    }
   ],
   "source": [
    "# Prepare the data\n",
    "# Filter for the single highest ES score for each model at each dimension\n",
    "max_es_df <- gsea_results_df %>%\n",
    "  group_by(model, full_model_z) %>%\n",
    "  summarize(max_es = max(abs(`gsea_es_score`), na.rm = TRUE)) %>%\n",
    "  ungroup()"
   ]
  },
  {
   "cell_type": "code",
   "execution_count": 5,
   "metadata": {
    "vscode": {
     "languageId": "r"
    }
   },
   "outputs": [
    {
     "name": "stderr",
     "output_type": "stream",
     "text": [
      "Warning message in max(abs(gsea_es_score), na.rm = TRUE):\n",
      "“no non-missing arguments to max; returning -Inf”\n",
      "\u001b[1m\u001b[22m`summarise()` has grouped output by 'model'. You can override using the\n",
      "`.groups` argument.\n"
     ]
    }
   ],
   "source": [
    "# Prepare the data\n",
    "# Filter for some specific pathway the single highest ES score for each model at each dimension\n",
    "path_es_df <- gsea_results_df %>%\n",
    "  filter(`reactome_pathway` == \"Cardiac Conduction R-HSA-5576891\") %>%\n",
    "  group_by(model, full_model_z) %>%\n",
    "  summarize(max_es = max(abs(`gsea_es_score`), na.rm = TRUE)) %>%\n",
    "  ungroup()"
   ]
  },
  {
   "cell_type": "code",
   "execution_count": 6,
   "metadata": {
    "vscode": {
     "languageId": "r"
    }
   },
   "outputs": [
    {
     "name": "stderr",
     "output_type": "stream",
     "text": [
      "Warning message:\n",
      "“\u001b[1m\u001b[22mUsing `size` aesthetic for lines was deprecated in ggplot2 3.4.0.\n",
      "\u001b[36mℹ\u001b[39m Please use `linewidth` instead.”\n"
     ]
    }
   ],
   "source": [
    "# Plot the data\n",
    "latent_plot <- ggplot(max_es_df, aes(x = factor(full_model_z), y = log(max_es), color = model, fill = model)) +\n",
    "  geom_point(size = 3, shape = 21) +  # Points on the line\n",
    "  geom_smooth(aes(group = model), method = \"loess\", se = TRUE, size = 1, alpha = 0.1) +  # Trend line with shading \n",
    "  scale_color_manual(name = \"Algorithm\", values = model_colors, labels = model_labels) +\n",
    "  scale_fill_manual(name = \"Algorithm\", values = model_colors, labels = model_labels) +\n",
    "  labs(x = \"Latent Dimensions\", y = \"Highest ES Score\", title = \"Highest ES Score Across All Pathways by Latent Dimension for Each Model\") +\n",
    "  custom_theme()"
   ]
  },
  {
   "cell_type": "code",
   "execution_count": 7,
   "metadata": {
    "vscode": {
     "languageId": "r"
    }
   },
   "outputs": [
    {
     "name": "stderr",
     "output_type": "stream",
     "text": [
      "\u001b[1m\u001b[22m`geom_smooth()` using formula = 'y ~ x'\n"
     ]
    }
   ],
   "source": [
    "# Save the plot with custom dimensions\n",
    "ggsave(\"./visualize/latent_plot.png\", plot = latent_plot, width = 10, height = 8, units = \"in\")"
   ]
  },
  {
   "cell_type": "code",
   "execution_count": 8,
   "metadata": {
    "vscode": {
     "languageId": "r"
    }
   },
   "outputs": [],
   "source": [
    "# Plot the data\n",
    "path_plot <- ggplot(path_es_df, aes(x = factor(full_model_z), y = log(max_es), color = model, fill = model)) +\n",
    "  geom_point(size = 3, shape = 21) +  # Points on the line\n",
    "  geom_smooth(aes(group = model), method = \"loess\", se = TRUE, size = 1, alpha = 0.1) +  # Trend line with shading \n",
    "  scale_color_manual(name = \"Algorithm\", values = model_colors, labels = model_labels) +\n",
    "  scale_fill_manual(name = \"Algorithm\", values = model_colors, labels = model_labels) +\n",
    "  labs(x = \"Latent Dimensions\", y = \"Highest ES Score\", title = \"Highest ES Score for Regulation of Cardiac Conduction Pathway by Latent Dimension for Each Model\") +\n",
    "  theme(legend.position = \"right\")"
   ]
  },
  {
   "cell_type": "code",
   "execution_count": 9,
   "metadata": {
    "vscode": {
     "languageId": "r"
    }
   },
   "outputs": [
    {
     "name": "stderr",
     "output_type": "stream",
     "text": [
      "Warning message:\n",
      "“\u001b[1m\u001b[22mNo shared levels found between `names(values)` of the manual scale and the\n",
      "data's \u001b[32mcolour\u001b[39m values.”\n",
      "Warning message:\n",
      "“\u001b[1m\u001b[22mNo shared levels found between `names(values)` of the manual scale and the\n",
      "data's \u001b[32mfill\u001b[39m values.”\n"
     ]
    }
   ],
   "source": [
    "# Save the plot with custom dimensions\n",
    "ggsave(\"./visualize/cardiac_conduction_latent_plot.png\", plot = path_plot, width = 10, height = 8, units = \"in\")"
   ]
  }
 ],
 "metadata": {
  "kernelspec": {
   "display_name": "R",
   "language": "R",
   "name": "ir"
  },
  "language_info": {
   "codemirror_mode": "r",
   "file_extension": ".r",
   "mimetype": "text/x-r-source",
   "name": "R",
   "pygments_lexer": "r",
   "version": "4.2.2"
  }
 },
 "nbformat": 4,
 "nbformat_minor": 2
}
