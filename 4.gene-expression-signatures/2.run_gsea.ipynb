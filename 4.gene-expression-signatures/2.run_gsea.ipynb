{
 "cells": [
  {
   "cell_type": "code",
   "execution_count": 1,
   "metadata": {},
   "outputs": [],
   "source": [
    "import joblib\n",
    "import pandas as pd\n",
    "import blitzgsea as blitz\n",
    "import random\n",
    "import pathlib\n",
    "import sys\n",
    "\n",
    "script_directory = pathlib.Path(\"../2.train-VAE/utils/\").resolve()\n",
    "sys.path.insert(0, str(script_directory))\n",
    "from betavae import BetaVAE, weights\n",
    "from betatcvae import BetaTCVAE, tc_weights\n",
    "from vanillavae import VanillaVAE, vanilla_weights\n",
    "\n",
    "script_directory = pathlib.Path(\"../utils/\").resolve()\n",
    "sys.path.insert(0, str(script_directory))\n",
    "from data_loader import load_train_test_data, load_model_data"
   ]
  },
  {
   "cell_type": "code",
   "execution_count": 2,
   "metadata": {},
   "outputs": [
    {
     "name": "stdout",
     "output_type": "stream",
     "text": [
      "(1150, 18444)\n"
     ]
    }
   ],
   "source": [
    "# Load data\n",
    "data_directory = pathlib.Path(\"../0.data-download/data\").resolve()\n",
    "\n",
    "train_df, test_df, val_df, load_gene_stats = load_train_test_data(\n",
    "    data_directory, train_or_test=\"all\", load_gene_stats=True, zero_one_normalize=True\n",
    ")\n",
    "train_data = pd.DataFrame(train_df)\n",
    "\n",
    "dependency_file = pathlib.Path(f\"{data_directory}/CRISPRGeneEffect.parquet\").resolve()\n",
    "gene_dict_file = pathlib.Path(f\"{data_directory}/CRISPR_gene_dictionary.parquet\").resolve()\n",
    "dependency_df, gene_dict_df= load_model_data(dependency_file, gene_dict_file)\n",
    "gene_dict_df = pd.DataFrame(gene_dict_df)"
   ]
  },
  {
   "cell_type": "code",
   "execution_count": 3,
   "metadata": {},
   "outputs": [
    {
     "data": {
      "text/html": [
       "<div>\n",
       "<style scoped>\n",
       "    .dataframe tbody tr th:only-of-type {\n",
       "        vertical-align: middle;\n",
       "    }\n",
       "\n",
       "    .dataframe tbody tr th {\n",
       "        vertical-align: top;\n",
       "    }\n",
       "\n",
       "    .dataframe thead th {\n",
       "        text-align: right;\n",
       "    }\n",
       "</style>\n",
       "<table border=\"1\" class=\"dataframe\">\n",
       "  <thead>\n",
       "    <tr style=\"text-align: right;\">\n",
       "      <th></th>\n",
       "      <th>SRSF3 (6428)</th>\n",
       "      <th>GTSE1 (51512)</th>\n",
       "      <th>NDUFAF1 (51103)</th>\n",
       "      <th>SIRT1 (23411)</th>\n",
       "      <th>BLM (641)</th>\n",
       "      <th>CPSF7 (79869)</th>\n",
       "      <th>SAV1 (60485)</th>\n",
       "      <th>POLR2C (5432)</th>\n",
       "      <th>NUBP2 (10101)</th>\n",
       "      <th>RPN1 (6184)</th>\n",
       "      <th>...</th>\n",
       "      <th>LSM5 (23658)</th>\n",
       "      <th>PIK3CA (5290)</th>\n",
       "      <th>NEK1 (4750)</th>\n",
       "      <th>PRKAR1A (5573)</th>\n",
       "      <th>RARS1 (5917)</th>\n",
       "      <th>RAB35 (11021)</th>\n",
       "      <th>SUPT7L (9913)</th>\n",
       "      <th>MYO9B (4650)</th>\n",
       "      <th>PSMG1 (8624)</th>\n",
       "      <th>UMPS (7372)</th>\n",
       "    </tr>\n",
       "  </thead>\n",
       "  <tbody>\n",
       "    <tr>\n",
       "      <th>0</th>\n",
       "      <td>-1.693757</td>\n",
       "      <td>-0.136488</td>\n",
       "      <td>-0.864693</td>\n",
       "      <td>-0.013704</td>\n",
       "      <td>-0.283012</td>\n",
       "      <td>-0.319562</td>\n",
       "      <td>0.178313</td>\n",
       "      <td>-1.447555</td>\n",
       "      <td>-0.631783</td>\n",
       "      <td>-1.414832</td>\n",
       "      <td>...</td>\n",
       "      <td>-1.588830</td>\n",
       "      <td>-0.746764</td>\n",
       "      <td>-0.374383</td>\n",
       "      <td>-0.294940</td>\n",
       "      <td>-0.686259</td>\n",
       "      <td>-0.326404</td>\n",
       "      <td>0.079078</td>\n",
       "      <td>-0.351177</td>\n",
       "      <td>-0.686760</td>\n",
       "      <td>-0.218936</td>\n",
       "    </tr>\n",
       "    <tr>\n",
       "      <th>1</th>\n",
       "      <td>-1.485160</td>\n",
       "      <td>-0.314759</td>\n",
       "      <td>-0.624142</td>\n",
       "      <td>0.087907</td>\n",
       "      <td>-0.304571</td>\n",
       "      <td>-0.304542</td>\n",
       "      <td>0.805793</td>\n",
       "      <td>-2.141096</td>\n",
       "      <td>-0.714623</td>\n",
       "      <td>-0.322596</td>\n",
       "      <td>...</td>\n",
       "      <td>-1.460564</td>\n",
       "      <td>-0.620022</td>\n",
       "      <td>0.184013</td>\n",
       "      <td>-0.100026</td>\n",
       "      <td>-0.757333</td>\n",
       "      <td>0.059360</td>\n",
       "      <td>0.102430</td>\n",
       "      <td>-0.276469</td>\n",
       "      <td>-0.280140</td>\n",
       "      <td>0.143615</td>\n",
       "    </tr>\n",
       "    <tr>\n",
       "      <th>2</th>\n",
       "      <td>-2.964004</td>\n",
       "      <td>0.057690</td>\n",
       "      <td>-0.387791</td>\n",
       "      <td>-0.070234</td>\n",
       "      <td>-0.139432</td>\n",
       "      <td>0.031475</td>\n",
       "      <td>0.018988</td>\n",
       "      <td>-1.899382</td>\n",
       "      <td>-1.059893</td>\n",
       "      <td>-0.516142</td>\n",
       "      <td>...</td>\n",
       "      <td>-1.345557</td>\n",
       "      <td>-0.493776</td>\n",
       "      <td>-0.228195</td>\n",
       "      <td>-0.459461</td>\n",
       "      <td>-0.968340</td>\n",
       "      <td>-0.330881</td>\n",
       "      <td>0.419336</td>\n",
       "      <td>-0.158184</td>\n",
       "      <td>-0.704374</td>\n",
       "      <td>-0.534583</td>\n",
       "    </tr>\n",
       "    <tr>\n",
       "      <th>3</th>\n",
       "      <td>-2.392055</td>\n",
       "      <td>-0.636052</td>\n",
       "      <td>-0.422132</td>\n",
       "      <td>-0.026249</td>\n",
       "      <td>-0.319615</td>\n",
       "      <td>-0.097562</td>\n",
       "      <td>0.037515</td>\n",
       "      <td>-3.127571</td>\n",
       "      <td>-0.792688</td>\n",
       "      <td>-0.868215</td>\n",
       "      <td>...</td>\n",
       "      <td>-0.712235</td>\n",
       "      <td>-0.846320</td>\n",
       "      <td>0.134637</td>\n",
       "      <td>-0.252746</td>\n",
       "      <td>-1.039371</td>\n",
       "      <td>-0.085814</td>\n",
       "      <td>0.094900</td>\n",
       "      <td>-0.087613</td>\n",
       "      <td>-0.318083</td>\n",
       "      <td>-0.429983</td>\n",
       "    </tr>\n",
       "    <tr>\n",
       "      <th>4</th>\n",
       "      <td>-3.336677</td>\n",
       "      <td>-0.464687</td>\n",
       "      <td>-0.565287</td>\n",
       "      <td>0.039973</td>\n",
       "      <td>-0.327088</td>\n",
       "      <td>-0.089449</td>\n",
       "      <td>0.033562</td>\n",
       "      <td>-2.240198</td>\n",
       "      <td>-0.902725</td>\n",
       "      <td>-0.738746</td>\n",
       "      <td>...</td>\n",
       "      <td>-1.869687</td>\n",
       "      <td>-0.879411</td>\n",
       "      <td>0.074374</td>\n",
       "      <td>-0.104297</td>\n",
       "      <td>-0.665542</td>\n",
       "      <td>-0.360077</td>\n",
       "      <td>-0.251629</td>\n",
       "      <td>-0.107372</td>\n",
       "      <td>-0.908419</td>\n",
       "      <td>-0.467040</td>\n",
       "    </tr>\n",
       "  </tbody>\n",
       "</table>\n",
       "<p>5 rows × 2718 columns</p>\n",
       "</div>"
      ],
      "text/plain": [
       "   SRSF3 (6428)  GTSE1 (51512)  NDUFAF1 (51103)  SIRT1 (23411)  BLM (641)  \\\n",
       "0     -1.693757      -0.136488        -0.864693      -0.013704  -0.283012   \n",
       "1     -1.485160      -0.314759        -0.624142       0.087907  -0.304571   \n",
       "2     -2.964004       0.057690        -0.387791      -0.070234  -0.139432   \n",
       "3     -2.392055      -0.636052        -0.422132      -0.026249  -0.319615   \n",
       "4     -3.336677      -0.464687        -0.565287       0.039973  -0.327088   \n",
       "\n",
       "   CPSF7 (79869)  SAV1 (60485)  POLR2C (5432)  NUBP2 (10101)  RPN1 (6184)  \\\n",
       "0      -0.319562      0.178313      -1.447555      -0.631783    -1.414832   \n",
       "1      -0.304542      0.805793      -2.141096      -0.714623    -0.322596   \n",
       "2       0.031475      0.018988      -1.899382      -1.059893    -0.516142   \n",
       "3      -0.097562      0.037515      -3.127571      -0.792688    -0.868215   \n",
       "4      -0.089449      0.033562      -2.240198      -0.902725    -0.738746   \n",
       "\n",
       "   ...  LSM5 (23658)  PIK3CA (5290)  NEK1 (4750)  PRKAR1A (5573)  \\\n",
       "0  ...     -1.588830      -0.746764    -0.374383       -0.294940   \n",
       "1  ...     -1.460564      -0.620022     0.184013       -0.100026   \n",
       "2  ...     -1.345557      -0.493776    -0.228195       -0.459461   \n",
       "3  ...     -0.712235      -0.846320     0.134637       -0.252746   \n",
       "4  ...     -1.869687      -0.879411     0.074374       -0.104297   \n",
       "\n",
       "   RARS1 (5917)  RAB35 (11021)  SUPT7L (9913)  MYO9B (4650)  PSMG1 (8624)  \\\n",
       "0     -0.686259      -0.326404       0.079078     -0.351177     -0.686760   \n",
       "1     -0.757333       0.059360       0.102430     -0.276469     -0.280140   \n",
       "2     -0.968340      -0.330881       0.419336     -0.158184     -0.704374   \n",
       "3     -1.039371      -0.085814       0.094900     -0.087613     -0.318083   \n",
       "4     -0.665542      -0.360077      -0.251629     -0.107372     -0.908419   \n",
       "\n",
       "   UMPS (7372)  \n",
       "0    -0.218936  \n",
       "1     0.143615  \n",
       "2    -0.534583  \n",
       "3    -0.429983  \n",
       "4    -0.467040  \n",
       "\n",
       "[5 rows x 2718 columns]"
      ]
     },
     "execution_count": 3,
     "metadata": {},
     "output_type": "execute_result"
    }
   ],
   "source": [
    "#Load weight data for VAEs\n",
    "data_directory = pathlib.Path(\"../0.data-download/data\").resolve()\n",
    "weight_df = load_train_test_data(\n",
    "    data_directory, train_or_test=\"train\"\n",
    ")\n",
    "\n",
    "gene_list_passed_qc = gene_dict_df.loc[\n",
    "    gene_dict_df[\"qc_pass\"], \"dependency_column\"\n",
    "].tolist()\n",
    "\n",
    "weight_data = weight_df.filter(gene_list_passed_qc, axis=1)\n",
    "weight_data.head()"
   ]
  },
  {
   "cell_type": "code",
   "execution_count": 4,
   "metadata": {},
   "outputs": [
    {
     "name": "stdout",
     "output_type": "stream",
     "text": [
      "No existing file found. Initialized empty DataFrame.\n",
      "Loading model from saved_models/pca_2_components_model.joblib\n",
      "Loading model from saved_models/ica_2_components_model.joblib\n",
      "Loading model from saved_models/nmf_2_components_model.joblib\n",
      "Loading model from saved_models/vanillavae_2_components_model.joblib\n"
     ]
    },
    {
     "name": "stderr",
     "output_type": "stream",
     "text": [
      "/home/juliacurd/anaconda3/envs/gene_dependency_representations/lib/python3.12/site-packages/torch/storage.py:414: FutureWarning: You are using `torch.load` with `weights_only=False` (the current default value), which uses the default pickle module implicitly. It is possible to construct malicious pickle data which will execute arbitrary code during unpickling (See https://github.com/pytorch/pytorch/blob/main/SECURITY.md#untrusted-models for more details). In a future release, the default value for `weights_only` will be flipped to `True`. This limits the functions that could be executed during unpickling. Arbitrary objects will no longer be allowed to be loaded via this mode unless they are explicitly allowlisted by the user via `torch.serialization.add_safe_globals`. We recommend you start setting `weights_only=True` for any use case where you don't have full control of the loaded file. Please open an issue on GitHub for any issues related to this experimental feature.\n",
      "  return torch.load(io.BytesIO(b))\n"
     ]
    },
    {
     "name": "stdout",
     "output_type": "stream",
     "text": [
      "Loading model from saved_models/betavae_2_components_model.joblib\n"
     ]
    },
    {
     "name": "stderr",
     "output_type": "stream",
     "text": [
      "/home/juliacurd/anaconda3/envs/gene_dependency_representations/lib/python3.12/site-packages/torch/storage.py:414: FutureWarning: You are using `torch.load` with `weights_only=False` (the current default value), which uses the default pickle module implicitly. It is possible to construct malicious pickle data which will execute arbitrary code during unpickling (See https://github.com/pytorch/pytorch/blob/main/SECURITY.md#untrusted-models for more details). In a future release, the default value for `weights_only` will be flipped to `True`. This limits the functions that could be executed during unpickling. Arbitrary objects will no longer be allowed to be loaded via this mode unless they are explicitly allowlisted by the user via `torch.serialization.add_safe_globals`. We recommend you start setting `weights_only=True` for any use case where you don't have full control of the loaded file. Please open an issue on GitHub for any issues related to this experimental feature.\n",
      "  return torch.load(io.BytesIO(b))\n"
     ]
    },
    {
     "name": "stdout",
     "output_type": "stream",
     "text": [
      "Loading model from saved_models/betatcvae_2_components_model.joblib\n"
     ]
    },
    {
     "name": "stderr",
     "output_type": "stream",
     "text": [
      "/home/juliacurd/anaconda3/envs/gene_dependency_representations/lib/python3.12/site-packages/torch/storage.py:414: FutureWarning: You are using `torch.load` with `weights_only=False` (the current default value), which uses the default pickle module implicitly. It is possible to construct malicious pickle data which will execute arbitrary code during unpickling (See https://github.com/pytorch/pytorch/blob/main/SECURITY.md#untrusted-models for more details). In a future release, the default value for `weights_only` will be flipped to `True`. This limits the functions that could be executed during unpickling. Arbitrary objects will no longer be allowed to be loaded via this mode unless they are explicitly allowlisted by the user via `torch.serialization.add_safe_globals`. We recommend you start setting `weights_only=True` for any use case where you don't have full control of the loaded file. Please open an issue on GitHub for any issues related to this experimental feature.\n",
      "  return torch.load(io.BytesIO(b))\n"
     ]
    },
    {
     "name": "stdout",
     "output_type": "stream",
     "text": [
      "Loading model from saved_models/pca_3_components_model.joblib\n",
      "Loading model from saved_models/ica_3_components_model.joblib\n",
      "Loading model from saved_models/nmf_3_components_model.joblib\n",
      "Loading model from saved_models/vanillavae_3_components_model.joblib\n"
     ]
    },
    {
     "name": "stderr",
     "output_type": "stream",
     "text": [
      "/home/juliacurd/anaconda3/envs/gene_dependency_representations/lib/python3.12/site-packages/torch/storage.py:414: FutureWarning: You are using `torch.load` with `weights_only=False` (the current default value), which uses the default pickle module implicitly. It is possible to construct malicious pickle data which will execute arbitrary code during unpickling (See https://github.com/pytorch/pytorch/blob/main/SECURITY.md#untrusted-models for more details). In a future release, the default value for `weights_only` will be flipped to `True`. This limits the functions that could be executed during unpickling. Arbitrary objects will no longer be allowed to be loaded via this mode unless they are explicitly allowlisted by the user via `torch.serialization.add_safe_globals`. We recommend you start setting `weights_only=True` for any use case where you don't have full control of the loaded file. Please open an issue on GitHub for any issues related to this experimental feature.\n",
      "  return torch.load(io.BytesIO(b))\n"
     ]
    },
    {
     "name": "stdout",
     "output_type": "stream",
     "text": [
      "Loading model from saved_models/betavae_3_components_model.joblib\n"
     ]
    },
    {
     "name": "stderr",
     "output_type": "stream",
     "text": [
      "/home/juliacurd/anaconda3/envs/gene_dependency_representations/lib/python3.12/site-packages/torch/storage.py:414: FutureWarning: You are using `torch.load` with `weights_only=False` (the current default value), which uses the default pickle module implicitly. It is possible to construct malicious pickle data which will execute arbitrary code during unpickling (See https://github.com/pytorch/pytorch/blob/main/SECURITY.md#untrusted-models for more details). In a future release, the default value for `weights_only` will be flipped to `True`. This limits the functions that could be executed during unpickling. Arbitrary objects will no longer be allowed to be loaded via this mode unless they are explicitly allowlisted by the user via `torch.serialization.add_safe_globals`. We recommend you start setting `weights_only=True` for any use case where you don't have full control of the loaded file. Please open an issue on GitHub for any issues related to this experimental feature.\n",
      "  return torch.load(io.BytesIO(b))\n"
     ]
    },
    {
     "name": "stdout",
     "output_type": "stream",
     "text": [
      "Loading model from saved_models/betatcvae_3_components_model.joblib\n"
     ]
    },
    {
     "name": "stderr",
     "output_type": "stream",
     "text": [
      "/home/juliacurd/anaconda3/envs/gene_dependency_representations/lib/python3.12/site-packages/torch/storage.py:414: FutureWarning: You are using `torch.load` with `weights_only=False` (the current default value), which uses the default pickle module implicitly. It is possible to construct malicious pickle data which will execute arbitrary code during unpickling (See https://github.com/pytorch/pytorch/blob/main/SECURITY.md#untrusted-models for more details). In a future release, the default value for `weights_only` will be flipped to `True`. This limits the functions that could be executed during unpickling. Arbitrary objects will no longer be allowed to be loaded via this mode unless they are explicitly allowlisted by the user via `torch.serialization.add_safe_globals`. We recommend you start setting `weights_only=True` for any use case where you don't have full control of the loaded file. Please open an issue on GitHub for any issues related to this experimental feature.\n",
      "  return torch.load(io.BytesIO(b))\n"
     ]
    },
    {
     "name": "stdout",
     "output_type": "stream",
     "text": [
      "Loading model from saved_models/pca_4_components_model.joblib\n",
      "Loading model from saved_models/ica_4_components_model.joblib\n",
      "Loading model from saved_models/nmf_4_components_model.joblib\n",
      "Loading model from saved_models/vanillavae_4_components_model.joblib\n"
     ]
    },
    {
     "name": "stderr",
     "output_type": "stream",
     "text": [
      "/home/juliacurd/anaconda3/envs/gene_dependency_representations/lib/python3.12/site-packages/torch/storage.py:414: FutureWarning: You are using `torch.load` with `weights_only=False` (the current default value), which uses the default pickle module implicitly. It is possible to construct malicious pickle data which will execute arbitrary code during unpickling (See https://github.com/pytorch/pytorch/blob/main/SECURITY.md#untrusted-models for more details). In a future release, the default value for `weights_only` will be flipped to `True`. This limits the functions that could be executed during unpickling. Arbitrary objects will no longer be allowed to be loaded via this mode unless they are explicitly allowlisted by the user via `torch.serialization.add_safe_globals`. We recommend you start setting `weights_only=True` for any use case where you don't have full control of the loaded file. Please open an issue on GitHub for any issues related to this experimental feature.\n",
      "  return torch.load(io.BytesIO(b))\n"
     ]
    },
    {
     "name": "stdout",
     "output_type": "stream",
     "text": [
      "Loading model from saved_models/betavae_4_components_model.joblib\n"
     ]
    },
    {
     "name": "stderr",
     "output_type": "stream",
     "text": [
      "/home/juliacurd/anaconda3/envs/gene_dependency_representations/lib/python3.12/site-packages/torch/storage.py:414: FutureWarning: You are using `torch.load` with `weights_only=False` (the current default value), which uses the default pickle module implicitly. It is possible to construct malicious pickle data which will execute arbitrary code during unpickling (See https://github.com/pytorch/pytorch/blob/main/SECURITY.md#untrusted-models for more details). In a future release, the default value for `weights_only` will be flipped to `True`. This limits the functions that could be executed during unpickling. Arbitrary objects will no longer be allowed to be loaded via this mode unless they are explicitly allowlisted by the user via `torch.serialization.add_safe_globals`. We recommend you start setting `weights_only=True` for any use case where you don't have full control of the loaded file. Please open an issue on GitHub for any issues related to this experimental feature.\n",
      "  return torch.load(io.BytesIO(b))\n"
     ]
    },
    {
     "name": "stdout",
     "output_type": "stream",
     "text": [
      "Loading model from saved_models/betatcvae_4_components_model.joblib\n"
     ]
    },
    {
     "name": "stderr",
     "output_type": "stream",
     "text": [
      "/home/juliacurd/anaconda3/envs/gene_dependency_representations/lib/python3.12/site-packages/torch/storage.py:414: FutureWarning: You are using `torch.load` with `weights_only=False` (the current default value), which uses the default pickle module implicitly. It is possible to construct malicious pickle data which will execute arbitrary code during unpickling (See https://github.com/pytorch/pytorch/blob/main/SECURITY.md#untrusted-models for more details). In a future release, the default value for `weights_only` will be flipped to `True`. This limits the functions that could be executed during unpickling. Arbitrary objects will no longer be allowed to be loaded via this mode unless they are explicitly allowlisted by the user via `torch.serialization.add_safe_globals`. We recommend you start setting `weights_only=True` for any use case where you don't have full control of the loaded file. Please open an issue on GitHub for any issues related to this experimental feature.\n",
      "  return torch.load(io.BytesIO(b))\n"
     ]
    },
    {
     "name": "stdout",
     "output_type": "stream",
     "text": [
      "Loading model from saved_models/pca_5_components_model.joblib\n",
      "Loading model from saved_models/ica_5_components_model.joblib\n",
      "Loading model from saved_models/nmf_5_components_model.joblib\n",
      "Loading model from saved_models/vanillavae_5_components_model.joblib\n"
     ]
    },
    {
     "name": "stderr",
     "output_type": "stream",
     "text": [
      "/home/juliacurd/anaconda3/envs/gene_dependency_representations/lib/python3.12/site-packages/torch/storage.py:414: FutureWarning: You are using `torch.load` with `weights_only=False` (the current default value), which uses the default pickle module implicitly. It is possible to construct malicious pickle data which will execute arbitrary code during unpickling (See https://github.com/pytorch/pytorch/blob/main/SECURITY.md#untrusted-models for more details). In a future release, the default value for `weights_only` will be flipped to `True`. This limits the functions that could be executed during unpickling. Arbitrary objects will no longer be allowed to be loaded via this mode unless they are explicitly allowlisted by the user via `torch.serialization.add_safe_globals`. We recommend you start setting `weights_only=True` for any use case where you don't have full control of the loaded file. Please open an issue on GitHub for any issues related to this experimental feature.\n",
      "  return torch.load(io.BytesIO(b))\n"
     ]
    },
    {
     "name": "stdout",
     "output_type": "stream",
     "text": [
      "Loading model from saved_models/betavae_5_components_model.joblib\n"
     ]
    },
    {
     "name": "stderr",
     "output_type": "stream",
     "text": [
      "/home/juliacurd/anaconda3/envs/gene_dependency_representations/lib/python3.12/site-packages/torch/storage.py:414: FutureWarning: You are using `torch.load` with `weights_only=False` (the current default value), which uses the default pickle module implicitly. It is possible to construct malicious pickle data which will execute arbitrary code during unpickling (See https://github.com/pytorch/pytorch/blob/main/SECURITY.md#untrusted-models for more details). In a future release, the default value for `weights_only` will be flipped to `True`. This limits the functions that could be executed during unpickling. Arbitrary objects will no longer be allowed to be loaded via this mode unless they are explicitly allowlisted by the user via `torch.serialization.add_safe_globals`. We recommend you start setting `weights_only=True` for any use case where you don't have full control of the loaded file. Please open an issue on GitHub for any issues related to this experimental feature.\n",
      "  return torch.load(io.BytesIO(b))\n"
     ]
    },
    {
     "name": "stdout",
     "output_type": "stream",
     "text": [
      "Loading model from saved_models/betatcvae_5_components_model.joblib\n"
     ]
    },
    {
     "name": "stderr",
     "output_type": "stream",
     "text": [
      "/home/juliacurd/anaconda3/envs/gene_dependency_representations/lib/python3.12/site-packages/torch/storage.py:414: FutureWarning: You are using `torch.load` with `weights_only=False` (the current default value), which uses the default pickle module implicitly. It is possible to construct malicious pickle data which will execute arbitrary code during unpickling (See https://github.com/pytorch/pytorch/blob/main/SECURITY.md#untrusted-models for more details). In a future release, the default value for `weights_only` will be flipped to `True`. This limits the functions that could be executed during unpickling. Arbitrary objects will no longer be allowed to be loaded via this mode unless they are explicitly allowlisted by the user via `torch.serialization.add_safe_globals`. We recommend you start setting `weights_only=True` for any use case where you don't have full control of the loaded file. Please open an issue on GitHub for any issues related to this experimental feature.\n",
      "  return torch.load(io.BytesIO(b))\n"
     ]
    },
    {
     "name": "stdout",
     "output_type": "stream",
     "text": [
      "Loading model from saved_models/pca_6_components_model.joblib\n",
      "Loading model from saved_models/ica_6_components_model.joblib\n",
      "Loading model from saved_models/nmf_6_components_model.joblib\n",
      "Loading model from saved_models/vanillavae_6_components_model.joblib\n"
     ]
    },
    {
     "name": "stderr",
     "output_type": "stream",
     "text": [
      "/home/juliacurd/anaconda3/envs/gene_dependency_representations/lib/python3.12/site-packages/torch/storage.py:414: FutureWarning: You are using `torch.load` with `weights_only=False` (the current default value), which uses the default pickle module implicitly. It is possible to construct malicious pickle data which will execute arbitrary code during unpickling (See https://github.com/pytorch/pytorch/blob/main/SECURITY.md#untrusted-models for more details). In a future release, the default value for `weights_only` will be flipped to `True`. This limits the functions that could be executed during unpickling. Arbitrary objects will no longer be allowed to be loaded via this mode unless they are explicitly allowlisted by the user via `torch.serialization.add_safe_globals`. We recommend you start setting `weights_only=True` for any use case where you don't have full control of the loaded file. Please open an issue on GitHub for any issues related to this experimental feature.\n",
      "  return torch.load(io.BytesIO(b))\n"
     ]
    },
    {
     "name": "stdout",
     "output_type": "stream",
     "text": [
      "Loading model from saved_models/betavae_6_components_model.joblib\n"
     ]
    },
    {
     "name": "stderr",
     "output_type": "stream",
     "text": [
      "/home/juliacurd/anaconda3/envs/gene_dependency_representations/lib/python3.12/site-packages/torch/storage.py:414: FutureWarning: You are using `torch.load` with `weights_only=False` (the current default value), which uses the default pickle module implicitly. It is possible to construct malicious pickle data which will execute arbitrary code during unpickling (See https://github.com/pytorch/pytorch/blob/main/SECURITY.md#untrusted-models for more details). In a future release, the default value for `weights_only` will be flipped to `True`. This limits the functions that could be executed during unpickling. Arbitrary objects will no longer be allowed to be loaded via this mode unless they are explicitly allowlisted by the user via `torch.serialization.add_safe_globals`. We recommend you start setting `weights_only=True` for any use case where you don't have full control of the loaded file. Please open an issue on GitHub for any issues related to this experimental feature.\n",
      "  return torch.load(io.BytesIO(b))\n"
     ]
    },
    {
     "name": "stdout",
     "output_type": "stream",
     "text": [
      "Loading model from saved_models/betatcvae_6_components_model.joblib\n"
     ]
    },
    {
     "name": "stderr",
     "output_type": "stream",
     "text": [
      "/home/juliacurd/anaconda3/envs/gene_dependency_representations/lib/python3.12/site-packages/torch/storage.py:414: FutureWarning: You are using `torch.load` with `weights_only=False` (the current default value), which uses the default pickle module implicitly. It is possible to construct malicious pickle data which will execute arbitrary code during unpickling (See https://github.com/pytorch/pytorch/blob/main/SECURITY.md#untrusted-models for more details). In a future release, the default value for `weights_only` will be flipped to `True`. This limits the functions that could be executed during unpickling. Arbitrary objects will no longer be allowed to be loaded via this mode unless they are explicitly allowlisted by the user via `torch.serialization.add_safe_globals`. We recommend you start setting `weights_only=True` for any use case where you don't have full control of the loaded file. Please open an issue on GitHub for any issues related to this experimental feature.\n",
      "  return torch.load(io.BytesIO(b))\n"
     ]
    },
    {
     "name": "stdout",
     "output_type": "stream",
     "text": [
      "Loading model from saved_models/pca_7_components_model.joblib\n",
      "Loading model from saved_models/ica_7_components_model.joblib\n",
      "Loading model from saved_models/nmf_7_components_model.joblib\n",
      "Loading model from saved_models/vanillavae_7_components_model.joblib\n"
     ]
    },
    {
     "name": "stderr",
     "output_type": "stream",
     "text": [
      "/home/juliacurd/anaconda3/envs/gene_dependency_representations/lib/python3.12/site-packages/torch/storage.py:414: FutureWarning: You are using `torch.load` with `weights_only=False` (the current default value), which uses the default pickle module implicitly. It is possible to construct malicious pickle data which will execute arbitrary code during unpickling (See https://github.com/pytorch/pytorch/blob/main/SECURITY.md#untrusted-models for more details). In a future release, the default value for `weights_only` will be flipped to `True`. This limits the functions that could be executed during unpickling. Arbitrary objects will no longer be allowed to be loaded via this mode unless they are explicitly allowlisted by the user via `torch.serialization.add_safe_globals`. We recommend you start setting `weights_only=True` for any use case where you don't have full control of the loaded file. Please open an issue on GitHub for any issues related to this experimental feature.\n",
      "  return torch.load(io.BytesIO(b))\n"
     ]
    },
    {
     "name": "stdout",
     "output_type": "stream",
     "text": [
      "Loading model from saved_models/betavae_7_components_model.joblib\n"
     ]
    },
    {
     "name": "stderr",
     "output_type": "stream",
     "text": [
      "/home/juliacurd/anaconda3/envs/gene_dependency_representations/lib/python3.12/site-packages/torch/storage.py:414: FutureWarning: You are using `torch.load` with `weights_only=False` (the current default value), which uses the default pickle module implicitly. It is possible to construct malicious pickle data which will execute arbitrary code during unpickling (See https://github.com/pytorch/pytorch/blob/main/SECURITY.md#untrusted-models for more details). In a future release, the default value for `weights_only` will be flipped to `True`. This limits the functions that could be executed during unpickling. Arbitrary objects will no longer be allowed to be loaded via this mode unless they are explicitly allowlisted by the user via `torch.serialization.add_safe_globals`. We recommend you start setting `weights_only=True` for any use case where you don't have full control of the loaded file. Please open an issue on GitHub for any issues related to this experimental feature.\n",
      "  return torch.load(io.BytesIO(b))\n"
     ]
    },
    {
     "name": "stdout",
     "output_type": "stream",
     "text": [
      "Loading model from saved_models/betatcvae_7_components_model.joblib\n"
     ]
    },
    {
     "name": "stderr",
     "output_type": "stream",
     "text": [
      "/home/juliacurd/anaconda3/envs/gene_dependency_representations/lib/python3.12/site-packages/torch/storage.py:414: FutureWarning: You are using `torch.load` with `weights_only=False` (the current default value), which uses the default pickle module implicitly. It is possible to construct malicious pickle data which will execute arbitrary code during unpickling (See https://github.com/pytorch/pytorch/blob/main/SECURITY.md#untrusted-models for more details). In a future release, the default value for `weights_only` will be flipped to `True`. This limits the functions that could be executed during unpickling. Arbitrary objects will no longer be allowed to be loaded via this mode unless they are explicitly allowlisted by the user via `torch.serialization.add_safe_globals`. We recommend you start setting `weights_only=True` for any use case where you don't have full control of the loaded file. Please open an issue on GitHub for any issues related to this experimental feature.\n",
      "  return torch.load(io.BytesIO(b))\n"
     ]
    },
    {
     "name": "stdout",
     "output_type": "stream",
     "text": [
      "Loading model from saved_models/pca_8_components_model.joblib\n",
      "Loading model from saved_models/ica_8_components_model.joblib\n",
      "Loading model from saved_models/nmf_8_components_model.joblib\n",
      "Loading model from saved_models/vanillavae_8_components_model.joblib\n"
     ]
    },
    {
     "name": "stderr",
     "output_type": "stream",
     "text": [
      "/home/juliacurd/anaconda3/envs/gene_dependency_representations/lib/python3.12/site-packages/torch/storage.py:414: FutureWarning: You are using `torch.load` with `weights_only=False` (the current default value), which uses the default pickle module implicitly. It is possible to construct malicious pickle data which will execute arbitrary code during unpickling (See https://github.com/pytorch/pytorch/blob/main/SECURITY.md#untrusted-models for more details). In a future release, the default value for `weights_only` will be flipped to `True`. This limits the functions that could be executed during unpickling. Arbitrary objects will no longer be allowed to be loaded via this mode unless they are explicitly allowlisted by the user via `torch.serialization.add_safe_globals`. We recommend you start setting `weights_only=True` for any use case where you don't have full control of the loaded file. Please open an issue on GitHub for any issues related to this experimental feature.\n",
      "  return torch.load(io.BytesIO(b))\n"
     ]
    },
    {
     "name": "stdout",
     "output_type": "stream",
     "text": [
      "Loading model from saved_models/betavae_8_components_model.joblib\n"
     ]
    },
    {
     "name": "stderr",
     "output_type": "stream",
     "text": [
      "/home/juliacurd/anaconda3/envs/gene_dependency_representations/lib/python3.12/site-packages/torch/storage.py:414: FutureWarning: You are using `torch.load` with `weights_only=False` (the current default value), which uses the default pickle module implicitly. It is possible to construct malicious pickle data which will execute arbitrary code during unpickling (See https://github.com/pytorch/pytorch/blob/main/SECURITY.md#untrusted-models for more details). In a future release, the default value for `weights_only` will be flipped to `True`. This limits the functions that could be executed during unpickling. Arbitrary objects will no longer be allowed to be loaded via this mode unless they are explicitly allowlisted by the user via `torch.serialization.add_safe_globals`. We recommend you start setting `weights_only=True` for any use case where you don't have full control of the loaded file. Please open an issue on GitHub for any issues related to this experimental feature.\n",
      "  return torch.load(io.BytesIO(b))\n"
     ]
    },
    {
     "name": "stdout",
     "output_type": "stream",
     "text": [
      "Loading model from saved_models/betatcvae_8_components_model.joblib\n"
     ]
    },
    {
     "name": "stderr",
     "output_type": "stream",
     "text": [
      "/home/juliacurd/anaconda3/envs/gene_dependency_representations/lib/python3.12/site-packages/torch/storage.py:414: FutureWarning: You are using `torch.load` with `weights_only=False` (the current default value), which uses the default pickle module implicitly. It is possible to construct malicious pickle data which will execute arbitrary code during unpickling (See https://github.com/pytorch/pytorch/blob/main/SECURITY.md#untrusted-models for more details). In a future release, the default value for `weights_only` will be flipped to `True`. This limits the functions that could be executed during unpickling. Arbitrary objects will no longer be allowed to be loaded via this mode unless they are explicitly allowlisted by the user via `torch.serialization.add_safe_globals`. We recommend you start setting `weights_only=True` for any use case where you don't have full control of the loaded file. Please open an issue on GitHub for any issues related to this experimental feature.\n",
      "  return torch.load(io.BytesIO(b))\n"
     ]
    },
    {
     "name": "stdout",
     "output_type": "stream",
     "text": [
      "Loading model from saved_models/pca_9_components_model.joblib\n",
      "Loading model from saved_models/ica_9_components_model.joblib\n",
      "Loading model from saved_models/nmf_9_components_model.joblib\n",
      "Loading model from saved_models/vanillavae_9_components_model.joblib\n"
     ]
    },
    {
     "name": "stderr",
     "output_type": "stream",
     "text": [
      "/home/juliacurd/anaconda3/envs/gene_dependency_representations/lib/python3.12/site-packages/torch/storage.py:414: FutureWarning: You are using `torch.load` with `weights_only=False` (the current default value), which uses the default pickle module implicitly. It is possible to construct malicious pickle data which will execute arbitrary code during unpickling (See https://github.com/pytorch/pytorch/blob/main/SECURITY.md#untrusted-models for more details). In a future release, the default value for `weights_only` will be flipped to `True`. This limits the functions that could be executed during unpickling. Arbitrary objects will no longer be allowed to be loaded via this mode unless they are explicitly allowlisted by the user via `torch.serialization.add_safe_globals`. We recommend you start setting `weights_only=True` for any use case where you don't have full control of the loaded file. Please open an issue on GitHub for any issues related to this experimental feature.\n",
      "  return torch.load(io.BytesIO(b))\n"
     ]
    },
    {
     "name": "stdout",
     "output_type": "stream",
     "text": [
      "Loading model from saved_models/betavae_9_components_model.joblib\n"
     ]
    },
    {
     "name": "stderr",
     "output_type": "stream",
     "text": [
      "/home/juliacurd/anaconda3/envs/gene_dependency_representations/lib/python3.12/site-packages/torch/storage.py:414: FutureWarning: You are using `torch.load` with `weights_only=False` (the current default value), which uses the default pickle module implicitly. It is possible to construct malicious pickle data which will execute arbitrary code during unpickling (See https://github.com/pytorch/pytorch/blob/main/SECURITY.md#untrusted-models for more details). In a future release, the default value for `weights_only` will be flipped to `True`. This limits the functions that could be executed during unpickling. Arbitrary objects will no longer be allowed to be loaded via this mode unless they are explicitly allowlisted by the user via `torch.serialization.add_safe_globals`. We recommend you start setting `weights_only=True` for any use case where you don't have full control of the loaded file. Please open an issue on GitHub for any issues related to this experimental feature.\n",
      "  return torch.load(io.BytesIO(b))\n"
     ]
    },
    {
     "name": "stdout",
     "output_type": "stream",
     "text": [
      "Loading model from saved_models/betatcvae_9_components_model.joblib\n"
     ]
    },
    {
     "name": "stderr",
     "output_type": "stream",
     "text": [
      "/home/juliacurd/anaconda3/envs/gene_dependency_representations/lib/python3.12/site-packages/torch/storage.py:414: FutureWarning: You are using `torch.load` with `weights_only=False` (the current default value), which uses the default pickle module implicitly. It is possible to construct malicious pickle data which will execute arbitrary code during unpickling (See https://github.com/pytorch/pytorch/blob/main/SECURITY.md#untrusted-models for more details). In a future release, the default value for `weights_only` will be flipped to `True`. This limits the functions that could be executed during unpickling. Arbitrary objects will no longer be allowed to be loaded via this mode unless they are explicitly allowlisted by the user via `torch.serialization.add_safe_globals`. We recommend you start setting `weights_only=True` for any use case where you don't have full control of the loaded file. Please open an issue on GitHub for any issues related to this experimental feature.\n",
      "  return torch.load(io.BytesIO(b))\n"
     ]
    },
    {
     "name": "stdout",
     "output_type": "stream",
     "text": [
      "Loading model from saved_models/pca_10_components_model.joblib\n",
      "Loading model from saved_models/ica_10_components_model.joblib\n",
      "Loading model from saved_models/nmf_10_components_model.joblib\n",
      "Loading model from saved_models/vanillavae_10_components_model.joblib\n"
     ]
    },
    {
     "name": "stderr",
     "output_type": "stream",
     "text": [
      "/home/juliacurd/anaconda3/envs/gene_dependency_representations/lib/python3.12/site-packages/torch/storage.py:414: FutureWarning: You are using `torch.load` with `weights_only=False` (the current default value), which uses the default pickle module implicitly. It is possible to construct malicious pickle data which will execute arbitrary code during unpickling (See https://github.com/pytorch/pytorch/blob/main/SECURITY.md#untrusted-models for more details). In a future release, the default value for `weights_only` will be flipped to `True`. This limits the functions that could be executed during unpickling. Arbitrary objects will no longer be allowed to be loaded via this mode unless they are explicitly allowlisted by the user via `torch.serialization.add_safe_globals`. We recommend you start setting `weights_only=True` for any use case where you don't have full control of the loaded file. Please open an issue on GitHub for any issues related to this experimental feature.\n",
      "  return torch.load(io.BytesIO(b))\n"
     ]
    },
    {
     "name": "stdout",
     "output_type": "stream",
     "text": [
      "Loading model from saved_models/betavae_10_components_model.joblib\n"
     ]
    },
    {
     "name": "stderr",
     "output_type": "stream",
     "text": [
      "/home/juliacurd/anaconda3/envs/gene_dependency_representations/lib/python3.12/site-packages/torch/storage.py:414: FutureWarning: You are using `torch.load` with `weights_only=False` (the current default value), which uses the default pickle module implicitly. It is possible to construct malicious pickle data which will execute arbitrary code during unpickling (See https://github.com/pytorch/pytorch/blob/main/SECURITY.md#untrusted-models for more details). In a future release, the default value for `weights_only` will be flipped to `True`. This limits the functions that could be executed during unpickling. Arbitrary objects will no longer be allowed to be loaded via this mode unless they are explicitly allowlisted by the user via `torch.serialization.add_safe_globals`. We recommend you start setting `weights_only=True` for any use case where you don't have full control of the loaded file. Please open an issue on GitHub for any issues related to this experimental feature.\n",
      "  return torch.load(io.BytesIO(b))\n"
     ]
    },
    {
     "name": "stdout",
     "output_type": "stream",
     "text": [
      "Loading model from saved_models/betatcvae_10_components_model.joblib\n"
     ]
    },
    {
     "name": "stderr",
     "output_type": "stream",
     "text": [
      "/home/juliacurd/anaconda3/envs/gene_dependency_representations/lib/python3.12/site-packages/torch/storage.py:414: FutureWarning: You are using `torch.load` with `weights_only=False` (the current default value), which uses the default pickle module implicitly. It is possible to construct malicious pickle data which will execute arbitrary code during unpickling (See https://github.com/pytorch/pytorch/blob/main/SECURITY.md#untrusted-models for more details). In a future release, the default value for `weights_only` will be flipped to `True`. This limits the functions that could be executed during unpickling. Arbitrary objects will no longer be allowed to be loaded via this mode unless they are explicitly allowlisted by the user via `torch.serialization.add_safe_globals`. We recommend you start setting `weights_only=True` for any use case where you don't have full control of the loaded file. Please open an issue on GitHub for any issues related to this experimental feature.\n",
      "  return torch.load(io.BytesIO(b))\n"
     ]
    },
    {
     "name": "stdout",
     "output_type": "stream",
     "text": [
      "Loading model from saved_models/pca_12_components_model.joblib\n",
      "Loading model from saved_models/ica_12_components_model.joblib\n",
      "Loading model from saved_models/nmf_12_components_model.joblib\n",
      "Loading model from saved_models/vanillavae_12_components_model.joblib\n"
     ]
    },
    {
     "name": "stderr",
     "output_type": "stream",
     "text": [
      "/home/juliacurd/anaconda3/envs/gene_dependency_representations/lib/python3.12/site-packages/torch/storage.py:414: FutureWarning: You are using `torch.load` with `weights_only=False` (the current default value), which uses the default pickle module implicitly. It is possible to construct malicious pickle data which will execute arbitrary code during unpickling (See https://github.com/pytorch/pytorch/blob/main/SECURITY.md#untrusted-models for more details). In a future release, the default value for `weights_only` will be flipped to `True`. This limits the functions that could be executed during unpickling. Arbitrary objects will no longer be allowed to be loaded via this mode unless they are explicitly allowlisted by the user via `torch.serialization.add_safe_globals`. We recommend you start setting `weights_only=True` for any use case where you don't have full control of the loaded file. Please open an issue on GitHub for any issues related to this experimental feature.\n",
      "  return torch.load(io.BytesIO(b))\n"
     ]
    },
    {
     "name": "stdout",
     "output_type": "stream",
     "text": [
      "Loading model from saved_models/betavae_12_components_model.joblib\n"
     ]
    },
    {
     "name": "stderr",
     "output_type": "stream",
     "text": [
      "/home/juliacurd/anaconda3/envs/gene_dependency_representations/lib/python3.12/site-packages/torch/storage.py:414: FutureWarning: You are using `torch.load` with `weights_only=False` (the current default value), which uses the default pickle module implicitly. It is possible to construct malicious pickle data which will execute arbitrary code during unpickling (See https://github.com/pytorch/pytorch/blob/main/SECURITY.md#untrusted-models for more details). In a future release, the default value for `weights_only` will be flipped to `True`. This limits the functions that could be executed during unpickling. Arbitrary objects will no longer be allowed to be loaded via this mode unless they are explicitly allowlisted by the user via `torch.serialization.add_safe_globals`. We recommend you start setting `weights_only=True` for any use case where you don't have full control of the loaded file. Please open an issue on GitHub for any issues related to this experimental feature.\n",
      "  return torch.load(io.BytesIO(b))\n"
     ]
    },
    {
     "name": "stdout",
     "output_type": "stream",
     "text": [
      "Loading model from saved_models/betatcvae_12_components_model.joblib\n"
     ]
    },
    {
     "name": "stderr",
     "output_type": "stream",
     "text": [
      "/home/juliacurd/anaconda3/envs/gene_dependency_representations/lib/python3.12/site-packages/torch/storage.py:414: FutureWarning: You are using `torch.load` with `weights_only=False` (the current default value), which uses the default pickle module implicitly. It is possible to construct malicious pickle data which will execute arbitrary code during unpickling (See https://github.com/pytorch/pytorch/blob/main/SECURITY.md#untrusted-models for more details). In a future release, the default value for `weights_only` will be flipped to `True`. This limits the functions that could be executed during unpickling. Arbitrary objects will no longer be allowed to be loaded via this mode unless they are explicitly allowlisted by the user via `torch.serialization.add_safe_globals`. We recommend you start setting `weights_only=True` for any use case where you don't have full control of the loaded file. Please open an issue on GitHub for any issues related to this experimental feature.\n",
      "  return torch.load(io.BytesIO(b))\n"
     ]
    },
    {
     "name": "stdout",
     "output_type": "stream",
     "text": [
      "Loading model from saved_models/pca_14_components_model.joblib\n",
      "Loading model from saved_models/ica_14_components_model.joblib\n",
      "Loading model from saved_models/nmf_14_components_model.joblib\n",
      "Loading model from saved_models/vanillavae_14_components_model.joblib\n"
     ]
    },
    {
     "name": "stderr",
     "output_type": "stream",
     "text": [
      "/home/juliacurd/anaconda3/envs/gene_dependency_representations/lib/python3.12/site-packages/torch/storage.py:414: FutureWarning: You are using `torch.load` with `weights_only=False` (the current default value), which uses the default pickle module implicitly. It is possible to construct malicious pickle data which will execute arbitrary code during unpickling (See https://github.com/pytorch/pytorch/blob/main/SECURITY.md#untrusted-models for more details). In a future release, the default value for `weights_only` will be flipped to `True`. This limits the functions that could be executed during unpickling. Arbitrary objects will no longer be allowed to be loaded via this mode unless they are explicitly allowlisted by the user via `torch.serialization.add_safe_globals`. We recommend you start setting `weights_only=True` for any use case where you don't have full control of the loaded file. Please open an issue on GitHub for any issues related to this experimental feature.\n",
      "  return torch.load(io.BytesIO(b))\n"
     ]
    },
    {
     "name": "stdout",
     "output_type": "stream",
     "text": [
      "Loading model from saved_models/betavae_14_components_model.joblib\n"
     ]
    },
    {
     "name": "stderr",
     "output_type": "stream",
     "text": [
      "/home/juliacurd/anaconda3/envs/gene_dependency_representations/lib/python3.12/site-packages/torch/storage.py:414: FutureWarning: You are using `torch.load` with `weights_only=False` (the current default value), which uses the default pickle module implicitly. It is possible to construct malicious pickle data which will execute arbitrary code during unpickling (See https://github.com/pytorch/pytorch/blob/main/SECURITY.md#untrusted-models for more details). In a future release, the default value for `weights_only` will be flipped to `True`. This limits the functions that could be executed during unpickling. Arbitrary objects will no longer be allowed to be loaded via this mode unless they are explicitly allowlisted by the user via `torch.serialization.add_safe_globals`. We recommend you start setting `weights_only=True` for any use case where you don't have full control of the loaded file. Please open an issue on GitHub for any issues related to this experimental feature.\n",
      "  return torch.load(io.BytesIO(b))\n"
     ]
    },
    {
     "name": "stdout",
     "output_type": "stream",
     "text": [
      "Loading model from saved_models/betatcvae_14_components_model.joblib\n"
     ]
    },
    {
     "name": "stderr",
     "output_type": "stream",
     "text": [
      "/home/juliacurd/anaconda3/envs/gene_dependency_representations/lib/python3.12/site-packages/torch/storage.py:414: FutureWarning: You are using `torch.load` with `weights_only=False` (the current default value), which uses the default pickle module implicitly. It is possible to construct malicious pickle data which will execute arbitrary code during unpickling (See https://github.com/pytorch/pytorch/blob/main/SECURITY.md#untrusted-models for more details). In a future release, the default value for `weights_only` will be flipped to `True`. This limits the functions that could be executed during unpickling. Arbitrary objects will no longer be allowed to be loaded via this mode unless they are explicitly allowlisted by the user via `torch.serialization.add_safe_globals`. We recommend you start setting `weights_only=True` for any use case where you don't have full control of the loaded file. Please open an issue on GitHub for any issues related to this experimental feature.\n",
      "  return torch.load(io.BytesIO(b))\n"
     ]
    },
    {
     "name": "stdout",
     "output_type": "stream",
     "text": [
      "Loading model from saved_models/pca_16_components_model.joblib\n",
      "Loading model from saved_models/ica_16_components_model.joblib\n",
      "Loading model from saved_models/nmf_16_components_model.joblib\n",
      "Loading model from saved_models/vanillavae_16_components_model.joblib\n"
     ]
    },
    {
     "name": "stderr",
     "output_type": "stream",
     "text": [
      "/home/juliacurd/anaconda3/envs/gene_dependency_representations/lib/python3.12/site-packages/torch/storage.py:414: FutureWarning: You are using `torch.load` with `weights_only=False` (the current default value), which uses the default pickle module implicitly. It is possible to construct malicious pickle data which will execute arbitrary code during unpickling (See https://github.com/pytorch/pytorch/blob/main/SECURITY.md#untrusted-models for more details). In a future release, the default value for `weights_only` will be flipped to `True`. This limits the functions that could be executed during unpickling. Arbitrary objects will no longer be allowed to be loaded via this mode unless they are explicitly allowlisted by the user via `torch.serialization.add_safe_globals`. We recommend you start setting `weights_only=True` for any use case where you don't have full control of the loaded file. Please open an issue on GitHub for any issues related to this experimental feature.\n",
      "  return torch.load(io.BytesIO(b))\n"
     ]
    },
    {
     "name": "stdout",
     "output_type": "stream",
     "text": [
      "Loading model from saved_models/betavae_16_components_model.joblib\n"
     ]
    },
    {
     "name": "stderr",
     "output_type": "stream",
     "text": [
      "/home/juliacurd/anaconda3/envs/gene_dependency_representations/lib/python3.12/site-packages/torch/storage.py:414: FutureWarning: You are using `torch.load` with `weights_only=False` (the current default value), which uses the default pickle module implicitly. It is possible to construct malicious pickle data which will execute arbitrary code during unpickling (See https://github.com/pytorch/pytorch/blob/main/SECURITY.md#untrusted-models for more details). In a future release, the default value for `weights_only` will be flipped to `True`. This limits the functions that could be executed during unpickling. Arbitrary objects will no longer be allowed to be loaded via this mode unless they are explicitly allowlisted by the user via `torch.serialization.add_safe_globals`. We recommend you start setting `weights_only=True` for any use case where you don't have full control of the loaded file. Please open an issue on GitHub for any issues related to this experimental feature.\n",
      "  return torch.load(io.BytesIO(b))\n"
     ]
    },
    {
     "name": "stdout",
     "output_type": "stream",
     "text": [
      "Loading model from saved_models/betatcvae_16_components_model.joblib\n"
     ]
    },
    {
     "name": "stderr",
     "output_type": "stream",
     "text": [
      "/home/juliacurd/anaconda3/envs/gene_dependency_representations/lib/python3.12/site-packages/torch/storage.py:414: FutureWarning: You are using `torch.load` with `weights_only=False` (the current default value), which uses the default pickle module implicitly. It is possible to construct malicious pickle data which will execute arbitrary code during unpickling (See https://github.com/pytorch/pytorch/blob/main/SECURITY.md#untrusted-models for more details). In a future release, the default value for `weights_only` will be flipped to `True`. This limits the functions that could be executed during unpickling. Arbitrary objects will no longer be allowed to be loaded via this mode unless they are explicitly allowlisted by the user via `torch.serialization.add_safe_globals`. We recommend you start setting `weights_only=True` for any use case where you don't have full control of the loaded file. Please open an issue on GitHub for any issues related to this experimental feature.\n",
      "  return torch.load(io.BytesIO(b))\n"
     ]
    },
    {
     "name": "stdout",
     "output_type": "stream",
     "text": [
      "Loading model from saved_models/pca_18_components_model.joblib\n",
      "Loading model from saved_models/ica_18_components_model.joblib\n",
      "Loading model from saved_models/nmf_18_components_model.joblib\n",
      "Loading model from saved_models/vanillavae_18_components_model.joblib\n"
     ]
    },
    {
     "name": "stderr",
     "output_type": "stream",
     "text": [
      "/home/juliacurd/anaconda3/envs/gene_dependency_representations/lib/python3.12/site-packages/torch/storage.py:414: FutureWarning: You are using `torch.load` with `weights_only=False` (the current default value), which uses the default pickle module implicitly. It is possible to construct malicious pickle data which will execute arbitrary code during unpickling (See https://github.com/pytorch/pytorch/blob/main/SECURITY.md#untrusted-models for more details). In a future release, the default value for `weights_only` will be flipped to `True`. This limits the functions that could be executed during unpickling. Arbitrary objects will no longer be allowed to be loaded via this mode unless they are explicitly allowlisted by the user via `torch.serialization.add_safe_globals`. We recommend you start setting `weights_only=True` for any use case where you don't have full control of the loaded file. Please open an issue on GitHub for any issues related to this experimental feature.\n",
      "  return torch.load(io.BytesIO(b))\n"
     ]
    },
    {
     "name": "stdout",
     "output_type": "stream",
     "text": [
      "Loading model from saved_models/betavae_18_components_model.joblib\n"
     ]
    },
    {
     "name": "stderr",
     "output_type": "stream",
     "text": [
      "/home/juliacurd/anaconda3/envs/gene_dependency_representations/lib/python3.12/site-packages/torch/storage.py:414: FutureWarning: You are using `torch.load` with `weights_only=False` (the current default value), which uses the default pickle module implicitly. It is possible to construct malicious pickle data which will execute arbitrary code during unpickling (See https://github.com/pytorch/pytorch/blob/main/SECURITY.md#untrusted-models for more details). In a future release, the default value for `weights_only` will be flipped to `True`. This limits the functions that could be executed during unpickling. Arbitrary objects will no longer be allowed to be loaded via this mode unless they are explicitly allowlisted by the user via `torch.serialization.add_safe_globals`. We recommend you start setting `weights_only=True` for any use case where you don't have full control of the loaded file. Please open an issue on GitHub for any issues related to this experimental feature.\n",
      "  return torch.load(io.BytesIO(b))\n"
     ]
    },
    {
     "name": "stdout",
     "output_type": "stream",
     "text": [
      "Loading model from saved_models/betatcvae_18_components_model.joblib\n"
     ]
    },
    {
     "name": "stderr",
     "output_type": "stream",
     "text": [
      "/home/juliacurd/anaconda3/envs/gene_dependency_representations/lib/python3.12/site-packages/torch/storage.py:414: FutureWarning: You are using `torch.load` with `weights_only=False` (the current default value), which uses the default pickle module implicitly. It is possible to construct malicious pickle data which will execute arbitrary code during unpickling (See https://github.com/pytorch/pytorch/blob/main/SECURITY.md#untrusted-models for more details). In a future release, the default value for `weights_only` will be flipped to `True`. This limits the functions that could be executed during unpickling. Arbitrary objects will no longer be allowed to be loaded via this mode unless they are explicitly allowlisted by the user via `torch.serialization.add_safe_globals`. We recommend you start setting `weights_only=True` for any use case where you don't have full control of the loaded file. Please open an issue on GitHub for any issues related to this experimental feature.\n",
      "  return torch.load(io.BytesIO(b))\n"
     ]
    },
    {
     "name": "stdout",
     "output_type": "stream",
     "text": [
      "Loading model from saved_models/pca_20_components_model.joblib\n",
      "Loading model from saved_models/ica_20_components_model.joblib\n",
      "Loading model from saved_models/nmf_20_components_model.joblib\n",
      "Loading model from saved_models/vanillavae_20_components_model.joblib\n"
     ]
    },
    {
     "name": "stderr",
     "output_type": "stream",
     "text": [
      "/home/juliacurd/anaconda3/envs/gene_dependency_representations/lib/python3.12/site-packages/torch/storage.py:414: FutureWarning: You are using `torch.load` with `weights_only=False` (the current default value), which uses the default pickle module implicitly. It is possible to construct malicious pickle data which will execute arbitrary code during unpickling (See https://github.com/pytorch/pytorch/blob/main/SECURITY.md#untrusted-models for more details). In a future release, the default value for `weights_only` will be flipped to `True`. This limits the functions that could be executed during unpickling. Arbitrary objects will no longer be allowed to be loaded via this mode unless they are explicitly allowlisted by the user via `torch.serialization.add_safe_globals`. We recommend you start setting `weights_only=True` for any use case where you don't have full control of the loaded file. Please open an issue on GitHub for any issues related to this experimental feature.\n",
      "  return torch.load(io.BytesIO(b))\n"
     ]
    },
    {
     "name": "stdout",
     "output_type": "stream",
     "text": [
      "Loading model from saved_models/betavae_20_components_model.joblib\n"
     ]
    },
    {
     "name": "stderr",
     "output_type": "stream",
     "text": [
      "/home/juliacurd/anaconda3/envs/gene_dependency_representations/lib/python3.12/site-packages/torch/storage.py:414: FutureWarning: You are using `torch.load` with `weights_only=False` (the current default value), which uses the default pickle module implicitly. It is possible to construct malicious pickle data which will execute arbitrary code during unpickling (See https://github.com/pytorch/pytorch/blob/main/SECURITY.md#untrusted-models for more details). In a future release, the default value for `weights_only` will be flipped to `True`. This limits the functions that could be executed during unpickling. Arbitrary objects will no longer be allowed to be loaded via this mode unless they are explicitly allowlisted by the user via `torch.serialization.add_safe_globals`. We recommend you start setting `weights_only=True` for any use case where you don't have full control of the loaded file. Please open an issue on GitHub for any issues related to this experimental feature.\n",
      "  return torch.load(io.BytesIO(b))\n"
     ]
    },
    {
     "name": "stdout",
     "output_type": "stream",
     "text": [
      "Loading model from saved_models/betatcvae_20_components_model.joblib\n"
     ]
    },
    {
     "name": "stderr",
     "output_type": "stream",
     "text": [
      "/home/juliacurd/anaconda3/envs/gene_dependency_representations/lib/python3.12/site-packages/torch/storage.py:414: FutureWarning: You are using `torch.load` with `weights_only=False` (the current default value), which uses the default pickle module implicitly. It is possible to construct malicious pickle data which will execute arbitrary code during unpickling (See https://github.com/pytorch/pytorch/blob/main/SECURITY.md#untrusted-models for more details). In a future release, the default value for `weights_only` will be flipped to `True`. This limits the functions that could be executed during unpickling. Arbitrary objects will no longer be allowed to be loaded via this mode unless they are explicitly allowlisted by the user via `torch.serialization.add_safe_globals`. We recommend you start setting `weights_only=True` for any use case where you don't have full control of the loaded file. Please open an issue on GitHub for any issues related to this experimental feature.\n",
      "  return torch.load(io.BytesIO(b))\n"
     ]
    },
    {
     "name": "stdout",
     "output_type": "stream",
     "text": [
      "Loading model from saved_models/pca_25_components_model.joblib\n",
      "Loading model from saved_models/ica_25_components_model.joblib\n",
      "Loading model from saved_models/nmf_25_components_model.joblib\n",
      "Loading model from saved_models/vanillavae_25_components_model.joblib\n"
     ]
    },
    {
     "name": "stderr",
     "output_type": "stream",
     "text": [
      "/home/juliacurd/anaconda3/envs/gene_dependency_representations/lib/python3.12/site-packages/torch/storage.py:414: FutureWarning: You are using `torch.load` with `weights_only=False` (the current default value), which uses the default pickle module implicitly. It is possible to construct malicious pickle data which will execute arbitrary code during unpickling (See https://github.com/pytorch/pytorch/blob/main/SECURITY.md#untrusted-models for more details). In a future release, the default value for `weights_only` will be flipped to `True`. This limits the functions that could be executed during unpickling. Arbitrary objects will no longer be allowed to be loaded via this mode unless they are explicitly allowlisted by the user via `torch.serialization.add_safe_globals`. We recommend you start setting `weights_only=True` for any use case where you don't have full control of the loaded file. Please open an issue on GitHub for any issues related to this experimental feature.\n",
      "  return torch.load(io.BytesIO(b))\n"
     ]
    },
    {
     "name": "stdout",
     "output_type": "stream",
     "text": [
      "Loading model from saved_models/betavae_25_components_model.joblib\n"
     ]
    },
    {
     "name": "stderr",
     "output_type": "stream",
     "text": [
      "/home/juliacurd/anaconda3/envs/gene_dependency_representations/lib/python3.12/site-packages/torch/storage.py:414: FutureWarning: You are using `torch.load` with `weights_only=False` (the current default value), which uses the default pickle module implicitly. It is possible to construct malicious pickle data which will execute arbitrary code during unpickling (See https://github.com/pytorch/pytorch/blob/main/SECURITY.md#untrusted-models for more details). In a future release, the default value for `weights_only` will be flipped to `True`. This limits the functions that could be executed during unpickling. Arbitrary objects will no longer be allowed to be loaded via this mode unless they are explicitly allowlisted by the user via `torch.serialization.add_safe_globals`. We recommend you start setting `weights_only=True` for any use case where you don't have full control of the loaded file. Please open an issue on GitHub for any issues related to this experimental feature.\n",
      "  return torch.load(io.BytesIO(b))\n"
     ]
    },
    {
     "name": "stdout",
     "output_type": "stream",
     "text": [
      "Model file saved_models/betatcvae_25_components_model.joblib not found. Skipping.\n",
      "Loading model from saved_models/pca_30_components_model.joblib\n",
      "Loading model from saved_models/ica_30_components_model.joblib\n",
      "Loading model from saved_models/nmf_30_components_model.joblib\n",
      "Loading model from saved_models/vanillavae_30_components_model.joblib\n"
     ]
    },
    {
     "name": "stderr",
     "output_type": "stream",
     "text": [
      "/home/juliacurd/anaconda3/envs/gene_dependency_representations/lib/python3.12/site-packages/torch/storage.py:414: FutureWarning: You are using `torch.load` with `weights_only=False` (the current default value), which uses the default pickle module implicitly. It is possible to construct malicious pickle data which will execute arbitrary code during unpickling (See https://github.com/pytorch/pytorch/blob/main/SECURITY.md#untrusted-models for more details). In a future release, the default value for `weights_only` will be flipped to `True`. This limits the functions that could be executed during unpickling. Arbitrary objects will no longer be allowed to be loaded via this mode unless they are explicitly allowlisted by the user via `torch.serialization.add_safe_globals`. We recommend you start setting `weights_only=True` for any use case where you don't have full control of the loaded file. Please open an issue on GitHub for any issues related to this experimental feature.\n",
      "  return torch.load(io.BytesIO(b))\n"
     ]
    },
    {
     "name": "stdout",
     "output_type": "stream",
     "text": [
      "Model file saved_models/betavae_30_components_model.joblib not found. Skipping.\n",
      "Model file saved_models/betatcvae_30_components_model.joblib not found. Skipping.\n",
      "Model file saved_models/pca_35_components_model.joblib not found. Skipping.\n",
      "Model file saved_models/ica_35_components_model.joblib not found. Skipping.\n",
      "Model file saved_models/nmf_35_components_model.joblib not found. Skipping.\n",
      "Model file saved_models/vanillavae_35_components_model.joblib not found. Skipping.\n",
      "Model file saved_models/betavae_35_components_model.joblib not found. Skipping.\n",
      "Model file saved_models/betatcvae_35_components_model.joblib not found. Skipping.\n",
      "Model file saved_models/pca_40_components_model.joblib not found. Skipping.\n",
      "Model file saved_models/ica_40_components_model.joblib not found. Skipping.\n",
      "Model file saved_models/nmf_40_components_model.joblib not found. Skipping.\n",
      "Model file saved_models/vanillavae_40_components_model.joblib not found. Skipping.\n",
      "Model file saved_models/betavae_40_components_model.joblib not found. Skipping.\n",
      "Model file saved_models/betatcvae_40_components_model.joblib not found. Skipping.\n",
      "Model file saved_models/pca_45_components_model.joblib not found. Skipping.\n",
      "Model file saved_models/ica_45_components_model.joblib not found. Skipping.\n",
      "Model file saved_models/nmf_45_components_model.joblib not found. Skipping.\n",
      "Model file saved_models/vanillavae_45_components_model.joblib not found. Skipping.\n",
      "Model file saved_models/betavae_45_components_model.joblib not found. Skipping.\n",
      "Model file saved_models/betatcvae_45_components_model.joblib not found. Skipping.\n",
      "Model file saved_models/pca_50_components_model.joblib not found. Skipping.\n",
      "Model file saved_models/ica_50_components_model.joblib not found. Skipping.\n",
      "Model file saved_models/nmf_50_components_model.joblib not found. Skipping.\n",
      "Model file saved_models/vanillavae_50_components_model.joblib not found. Skipping.\n",
      "Model file saved_models/betavae_50_components_model.joblib not found. Skipping.\n",
      "Model file saved_models/betatcvae_50_components_model.joblib not found. Skipping.\n",
      "Model file saved_models/pca_60_components_model.joblib not found. Skipping.\n",
      "Model file saved_models/ica_60_components_model.joblib not found. Skipping.\n",
      "Model file saved_models/nmf_60_components_model.joblib not found. Skipping.\n",
      "Model file saved_models/vanillavae_60_components_model.joblib not found. Skipping.\n",
      "Model file saved_models/betavae_60_components_model.joblib not found. Skipping.\n",
      "Model file saved_models/betatcvae_60_components_model.joblib not found. Skipping.\n",
      "Model file saved_models/pca_70_components_model.joblib not found. Skipping.\n",
      "Model file saved_models/ica_70_components_model.joblib not found. Skipping.\n",
      "Model file saved_models/nmf_70_components_model.joblib not found. Skipping.\n",
      "Model file saved_models/vanillavae_70_components_model.joblib not found. Skipping.\n",
      "Model file saved_models/betavae_70_components_model.joblib not found. Skipping.\n",
      "Model file saved_models/betatcvae_70_components_model.joblib not found. Skipping.\n",
      "Model file saved_models/pca_80_components_model.joblib not found. Skipping.\n",
      "Model file saved_models/ica_80_components_model.joblib not found. Skipping.\n",
      "Model file saved_models/nmf_80_components_model.joblib not found. Skipping.\n",
      "Model file saved_models/vanillavae_80_components_model.joblib not found. Skipping.\n",
      "Model file saved_models/betavae_80_components_model.joblib not found. Skipping.\n",
      "Model file saved_models/betatcvae_80_components_model.joblib not found. Skipping.\n",
      "Model file saved_models/pca_90_components_model.joblib not found. Skipping.\n",
      "Model file saved_models/ica_90_components_model.joblib not found. Skipping.\n",
      "Model file saved_models/nmf_90_components_model.joblib not found. Skipping.\n",
      "Model file saved_models/vanillavae_90_components_model.joblib not found. Skipping.\n",
      "Model file saved_models/betavae_90_components_model.joblib not found. Skipping.\n",
      "Model file saved_models/betatcvae_90_components_model.joblib not found. Skipping.\n",
      "Model file saved_models/pca_100_components_model.joblib not found. Skipping.\n",
      "Model file saved_models/ica_100_components_model.joblib not found. Skipping.\n",
      "Model file saved_models/nmf_100_components_model.joblib not found. Skipping.\n",
      "Model file saved_models/vanillavae_100_components_model.joblib not found. Skipping.\n",
      "Model file saved_models/betavae_100_components_model.joblib not found. Skipping.\n",
      "Model file saved_models/betatcvae_100_components_model.joblib not found. Skipping.\n",
      "Model file saved_models/pca_150_components_model.joblib not found. Skipping.\n",
      "Model file saved_models/ica_150_components_model.joblib not found. Skipping.\n",
      "Model file saved_models/nmf_150_components_model.joblib not found. Skipping.\n",
      "Model file saved_models/vanillavae_150_components_model.joblib not found. Skipping.\n",
      "Model file saved_models/betavae_150_components_model.joblib not found. Skipping.\n",
      "Model file saved_models/betatcvae_150_components_model.joblib not found. Skipping.\n",
      "Model file saved_models/pca_200_components_model.joblib not found. Skipping.\n",
      "Model file saved_models/ica_200_components_model.joblib not found. Skipping.\n",
      "Model file saved_models/nmf_200_components_model.joblib not found. Skipping.\n",
      "Model file saved_models/vanillavae_200_components_model.joblib not found. Skipping.\n",
      "Model file saved_models/betavae_200_components_model.joblib not found. Skipping.\n",
      "Model file saved_models/betatcvae_200_components_model.joblib not found. Skipping.\n"
     ]
    }
   ],
   "source": [
    "# Function to extract weights for sklearn models\n",
    "def extract_weights(model, model_name):\n",
    "    if model_name in [\"pca\", \"ica\", \"nmf\"]:\n",
    "        weights_df = pd.DataFrame(model.components_, columns=dependency_df.drop(columns=[\"ModelID\"]).columns.tolist()).transpose()\n",
    "        weights_df.columns = [f\"{x}\" for x in range(0, weights_df.shape[1])]\n",
    "    \n",
    "    weights_df = weights_df.reset_index().rename(columns={\"index\": \"genes\"})\n",
    "    return weights_df\n",
    "\n",
    "# GSEA function (same as before)\n",
    "def perform_gsea(weights_df, model_name, num_components, lib=\"CORUM\"):\n",
    "    library = blitz.enrichr.get_library(lib)\n",
    "    random.seed(0)\n",
    "    seed = random.random()\n",
    "    gsea_results = []\n",
    "    for col in weights_df.columns[1:]:  # Skip 'genes' column\n",
    "        gene_signature = weights_df[['genes', col]]\n",
    "        if gene_signature.shape[0] > 0:\n",
    "            try:\n",
    "                gsea_result = blitz.gsea(gene_signature, library, seed=seed)\n",
    "                gsea_result = gsea_result.reset_index()\n",
    "                for _, pathway_result in gsea_result.iterrows():\n",
    "                    result_row = {\n",
    "                        \"z\": int(col),\n",
    "                        \"full_model_z\": num_components,\n",
    "                        \"model\": str(model_name),\n",
    "                        \"reactome_pathway\": str(pathway_result['Term']),\n",
    "                        \"gsea_es_score\": pathway_result['es'],\n",
    "                        \"nes_score\": pathway_result['nes'],\n",
    "                        \"p_value\": pathway_result['pval'],\n",
    "                        \"shuffled\": False\n",
    "                    }\n",
    "                    gsea_results.append(result_row)\n",
    "                    \n",
    "            except ZeroDivisionError:\n",
    "                print(f\"Skipping GSEA for {col} due to zero division error.\")\n",
    "    \n",
    "    gsea_results_df = pd.DataFrame(gsea_results)\n",
    "    return gsea_results_df\n",
    "\n",
    "# Define the location of the saved models and output directory for GSEA results\n",
    "model_save_dir = pathlib.Path(\"saved_models\")\n",
    "output_dir = pathlib.Path(\"gsea_results\")\n",
    "output_dir.mkdir(parents=True, exist_ok=True)\n",
    "\n",
    "# Latent dimensions and model names to iterate over\n",
    "latent_dims = [2, 3, 4, 5, 6, 7, 8, 9, 10, 12, 14, 16, 18, 20, 25, 30, 35, 40, 45, 50, 60, 70, 80, 90, 100, 150, 200]\n",
    "model_names = [\"pca\", \"ica\", \"nmf\", \"vanillavae\", \"betavae\", \"betatcvae\"]\n",
    "\n",
    "final_output_file = output_dir / \"combined_z_matrix_gsea_results.parquet\"\n",
    "try:\n",
    "    combined_results_df = pd.read_parquet(final_output_file)\n",
    "    print(f\"Loaded existing results from {final_output_file}\")\n",
    "except FileNotFoundError:\n",
    "    # If the file doesn't exist, initialize an empty DataFrame\n",
    "    combined_results_df = pd.DataFrame()\n",
    "    print(f\"No existing file found. Initialized empty DataFrame.\")\n",
    "\n",
    "for num_components in latent_dims:\n",
    "    for model_name in model_names:\n",
    "        # Load the saved model\n",
    "        # Check if this model and latent dimension have already been processed\n",
    "        if not combined_results_df.empty:\n",
    "            if ((combined_results_df['model'] == model_name) & \n",
    "                (combined_results_df['full_model_z'] == num_components)).any():\n",
    "                print(f\"Skipping {model_name} with {num_components} dimensions as it is already processed.\")\n",
    "                continue  # Skip to the next iteration if this combination is already present\n",
    "        model_filename = model_save_dir / f\"{model_name}_{num_components}_components_model.joblib\"\n",
    "        if model_filename.exists():\n",
    "            print(f\"Loading model from {model_filename}\")\n",
    "            model = joblib.load(model_filename)\n",
    "            \n",
    "            if model_name in [\"pca\", \"ica\", \"nmf\"]:\n",
    "                # Extract the weight matrix\n",
    "                weight_matrix_df = extract_weights(model, model_name)\n",
    "            elif model_name == \"betavae\":\n",
    "                weight_matrix_df = weights(model, weight_data)\n",
    "                weight_matrix_df.rename(columns={0: 'genes'}, inplace=True)\n",
    "            elif model_name == \"betatcvae\":\n",
    "                weight_matrix_df = tc_weights(model, weight_data)\n",
    "                weight_matrix_df.rename(columns={0: 'genes'}, inplace=True)\n",
    "            elif model_name == \"vanillavae\":\n",
    "                weight_matrix_df = vanilla_weights(model, weight_data)\n",
    "                weight_matrix_df.rename(columns={0: 'genes'}, inplace=True)\n",
    "            # Perform GSEA\n",
    "            gsea_results_df = perform_gsea(weight_matrix_df, model_name, num_components)\n",
    "            combined_results_df = pd.concat([combined_results_df, gsea_results_df], ignore_index=True)\n",
    "        else:\n",
    "            print(f\"Model file {model_filename} not found. Skipping.\")\n",
    "            "
   ]
  },
  {
   "cell_type": "code",
   "execution_count": 7,
   "metadata": {},
   "outputs": [
    {
     "name": "stdout",
     "output_type": "stream",
     "text": [
      "Saved final combined z_matrix and GSEA results to gsea_results/combined_z_matrix_gsea_results.parquet\n"
     ]
    }
   ],
   "source": [
    "# Save the combined dataframe to a file\n",
    "final_output_file = output_dir / \"combined_z_matrix_gsea_results.parquet\"\n",
    "combined_results_df.to_parquet(final_output_file, index=False)\n",
    "\n",
    "print(f\"Saved final combined z_matrix and GSEA results to {final_output_file}\")\n",
    "\n",
    "#Save as CSV for R \n",
    "csv_output_file = output_dir / \"combined_z_matrix_gsea_results.csv\"\n",
    "combined_results_df.to_csv(csv_output_file, index=False)"
   ]
  },
  {
   "cell_type": "code",
   "execution_count": 8,
   "metadata": {},
   "outputs": [
    {
     "data": {
      "text/html": [
       "<div>\n",
       "<style scoped>\n",
       "    .dataframe tbody tr th:only-of-type {\n",
       "        vertical-align: middle;\n",
       "    }\n",
       "\n",
       "    .dataframe tbody tr th {\n",
       "        vertical-align: top;\n",
       "    }\n",
       "\n",
       "    .dataframe thead th {\n",
       "        text-align: right;\n",
       "    }\n",
       "</style>\n",
       "<table border=\"1\" class=\"dataframe\">\n",
       "  <thead>\n",
       "    <tr style=\"text-align: right;\">\n",
       "      <th></th>\n",
       "      <th>z</th>\n",
       "      <th>full_model_z</th>\n",
       "      <th>model</th>\n",
       "      <th>reactome_pathway</th>\n",
       "      <th>gsea_es_score</th>\n",
       "      <th>nes_score</th>\n",
       "      <th>p_value</th>\n",
       "      <th>shuffled</th>\n",
       "    </tr>\n",
       "  </thead>\n",
       "  <tbody>\n",
       "    <tr>\n",
       "      <th>96220</th>\n",
       "      <td>7</td>\n",
       "      <td>16</td>\n",
       "      <td>betatcvae</td>\n",
       "      <td>Toposome (human)</td>\n",
       "      <td>-0.943584</td>\n",
       "      <td>-3.087680</td>\n",
       "      <td>0.002017</td>\n",
       "      <td>False</td>\n",
       "    </tr>\n",
       "    <tr>\n",
       "      <th>59671</th>\n",
       "      <td>3</td>\n",
       "      <td>12</td>\n",
       "      <td>nmf</td>\n",
       "      <td>Nucleic and chromatin Fanconi complex (human)</td>\n",
       "      <td>-0.931089</td>\n",
       "      <td>-2.959808</td>\n",
       "      <td>0.003078</td>\n",
       "      <td>False</td>\n",
       "    </tr>\n",
       "    <tr>\n",
       "      <th>166601</th>\n",
       "      <td>21</td>\n",
       "      <td>30</td>\n",
       "      <td>ica</td>\n",
       "      <td>SIN3-ING1b complex I (human)</td>\n",
       "      <td>0.930681</td>\n",
       "      <td>2.663094</td>\n",
       "      <td>0.007743</td>\n",
       "      <td>False</td>\n",
       "    </tr>\n",
       "    <tr>\n",
       "      <th>18190</th>\n",
       "      <td>6</td>\n",
       "      <td>6</td>\n",
       "      <td>vanillavae</td>\n",
       "      <td>CHUK-NFKB2-REL-IKBKG-SPAG9-NFKB1-NFKBIE-COPB2-...</td>\n",
       "      <td>0.929550</td>\n",
       "      <td>2.832204</td>\n",
       "      <td>0.004623</td>\n",
       "      <td>False</td>\n",
       "    </tr>\n",
       "    <tr>\n",
       "      <th>42160</th>\n",
       "      <td>3</td>\n",
       "      <td>9</td>\n",
       "      <td>betavae</td>\n",
       "      <td>NCOR2 complex (human)</td>\n",
       "      <td>-0.925815</td>\n",
       "      <td>-2.559891</td>\n",
       "      <td>0.010470</td>\n",
       "      <td>False</td>\n",
       "    </tr>\n",
       "    <tr>\n",
       "      <th>156910</th>\n",
       "      <td>20</td>\n",
       "      <td>25</td>\n",
       "      <td>betavae</td>\n",
       "      <td>CHUK-NFKB2-REL-IKBKG-SPAG9-NFKB1-NFKBIE-COPB2-...</td>\n",
       "      <td>0.921811</td>\n",
       "      <td>2.886040</td>\n",
       "      <td>0.003901</td>\n",
       "      <td>False</td>\n",
       "    </tr>\n",
       "    <tr>\n",
       "      <th>22101</th>\n",
       "      <td>3</td>\n",
       "      <td>7</td>\n",
       "      <td>ica</td>\n",
       "      <td>Nucleic and chromatin Fanconi complex (human)</td>\n",
       "      <td>0.920653</td>\n",
       "      <td>2.528776</td>\n",
       "      <td>0.011446</td>\n",
       "      <td>False</td>\n",
       "    </tr>\n",
       "    <tr>\n",
       "      <th>108630</th>\n",
       "      <td>10</td>\n",
       "      <td>18</td>\n",
       "      <td>vanillavae</td>\n",
       "      <td>Condensin II (human)</td>\n",
       "      <td>0.919581</td>\n",
       "      <td>2.651714</td>\n",
       "      <td>0.008008</td>\n",
       "      <td>False</td>\n",
       "    </tr>\n",
       "    <tr>\n",
       "      <th>157590</th>\n",
       "      <td>24</td>\n",
       "      <td>25</td>\n",
       "      <td>betavae</td>\n",
       "      <td>CHUK-NFKB2-REL-IKBKG-SPAG9-NFKB1-NFKBIE-COPB2-...</td>\n",
       "      <td>0.917719</td>\n",
       "      <td>2.883604</td>\n",
       "      <td>0.003932</td>\n",
       "      <td>False</td>\n",
       "    </tr>\n",
       "    <tr>\n",
       "      <th>31620</th>\n",
       "      <td>1</td>\n",
       "      <td>8</td>\n",
       "      <td>vanillavae</td>\n",
       "      <td>Condensin II (human)</td>\n",
       "      <td>-0.915064</td>\n",
       "      <td>-2.611345</td>\n",
       "      <td>0.009019</td>\n",
       "      <td>False</td>\n",
       "    </tr>\n",
       "    <tr>\n",
       "      <th>151810</th>\n",
       "      <td>15</td>\n",
       "      <td>25</td>\n",
       "      <td>vanillavae</td>\n",
       "      <td>NCOR2 complex (human)</td>\n",
       "      <td>-0.914682</td>\n",
       "      <td>-2.611989</td>\n",
       "      <td>0.009002</td>\n",
       "      <td>False</td>\n",
       "    </tr>\n",
       "    <tr>\n",
       "      <th>18870</th>\n",
       "      <td>4</td>\n",
       "      <td>6</td>\n",
       "      <td>betavae</td>\n",
       "      <td>MDC1-MRN-ATM-FANCD2 complex (human)</td>\n",
       "      <td>-0.914255</td>\n",
       "      <td>-2.477923</td>\n",
       "      <td>0.013215</td>\n",
       "      <td>False</td>\n",
       "    </tr>\n",
       "    <tr>\n",
       "      <th>5952</th>\n",
       "      <td>1</td>\n",
       "      <td>4</td>\n",
       "      <td>ica</td>\n",
       "      <td>MDC1-MRN-ATM-FANCD2 complex (human)</td>\n",
       "      <td>-0.910815</td>\n",
       "      <td>-2.510561</td>\n",
       "      <td>0.012054</td>\n",
       "      <td>False</td>\n",
       "    </tr>\n",
       "    <tr>\n",
       "      <th>15980</th>\n",
       "      <td>4</td>\n",
       "      <td>6</td>\n",
       "      <td>ica</td>\n",
       "      <td>NCOR2 complex (human)</td>\n",
       "      <td>0.909917</td>\n",
       "      <td>2.419382</td>\n",
       "      <td>0.015547</td>\n",
       "      <td>False</td>\n",
       "    </tr>\n",
       "    <tr>\n",
       "      <th>173061</th>\n",
       "      <td>29</td>\n",
       "      <td>30</td>\n",
       "      <td>nmf</td>\n",
       "      <td>SIN3-ING1b complex I (human)</td>\n",
       "      <td>-0.908588</td>\n",
       "      <td>-2.761789</td>\n",
       "      <td>0.005749</td>\n",
       "      <td>False</td>\n",
       "    </tr>\n",
       "    <tr>\n",
       "      <th>76840</th>\n",
       "      <td>1</td>\n",
       "      <td>14</td>\n",
       "      <td>betavae</td>\n",
       "      <td>CHUK-NFKB2-REL-IKBKG-SPAG9-NFKB1-NFKBIE-COPB2-...</td>\n",
       "      <td>0.907103</td>\n",
       "      <td>2.632278</td>\n",
       "      <td>0.008481</td>\n",
       "      <td>False</td>\n",
       "    </tr>\n",
       "    <tr>\n",
       "      <th>96390</th>\n",
       "      <td>8</td>\n",
       "      <td>16</td>\n",
       "      <td>betatcvae</td>\n",
       "      <td>Nucleic and chromatin Fanconi complex (human)</td>\n",
       "      <td>0.905634</td>\n",
       "      <td>2.712001</td>\n",
       "      <td>0.006688</td>\n",
       "      <td>False</td>\n",
       "    </tr>\n",
       "    <tr>\n",
       "      <th>123931</th>\n",
       "      <td>5</td>\n",
       "      <td>20</td>\n",
       "      <td>nmf</td>\n",
       "      <td>RAD17-RFC complex (human)</td>\n",
       "      <td>0.905576</td>\n",
       "      <td>2.839286</td>\n",
       "      <td>0.004521</td>\n",
       "      <td>False</td>\n",
       "    </tr>\n",
       "    <tr>\n",
       "      <th>17680</th>\n",
       "      <td>3</td>\n",
       "      <td>6</td>\n",
       "      <td>vanillavae</td>\n",
       "      <td>NCOR2 complex (human)</td>\n",
       "      <td>-0.905164</td>\n",
       "      <td>-2.481038</td>\n",
       "      <td>0.013100</td>\n",
       "      <td>False</td>\n",
       "    </tr>\n",
       "    <tr>\n",
       "      <th>168642</th>\n",
       "      <td>3</td>\n",
       "      <td>30</td>\n",
       "      <td>nmf</td>\n",
       "      <td>Ubiquitin E3 ligase (AHR, ARNT, DDB1, TBL3, CU...</td>\n",
       "      <td>0.904319</td>\n",
       "      <td>2.400820</td>\n",
       "      <td>0.016358</td>\n",
       "      <td>False</td>\n",
       "    </tr>\n",
       "    <tr>\n",
       "      <th>24822</th>\n",
       "      <td>6</td>\n",
       "      <td>7</td>\n",
       "      <td>vanillavae</td>\n",
       "      <td>MDC1-MRN-ATM-FANCD2 complex (human)</td>\n",
       "      <td>-0.903589</td>\n",
       "      <td>-2.451315</td>\n",
       "      <td>0.014234</td>\n",
       "      <td>False</td>\n",
       "    </tr>\n",
       "    <tr>\n",
       "      <th>81261</th>\n",
       "      <td>13</td>\n",
       "      <td>14</td>\n",
       "      <td>betatcvae</td>\n",
       "      <td>Kaiso-NCOR complex (human)</td>\n",
       "      <td>-0.902124</td>\n",
       "      <td>-2.779240</td>\n",
       "      <td>0.005449</td>\n",
       "      <td>False</td>\n",
       "    </tr>\n",
       "    <tr>\n",
       "      <th>63411</th>\n",
       "      <td>2</td>\n",
       "      <td>12</td>\n",
       "      <td>betavae</td>\n",
       "      <td>5S-DNA-TFIIIA-TFIIIC2 subcomplex (human)</td>\n",
       "      <td>0.901687</td>\n",
       "      <td>2.767551</td>\n",
       "      <td>0.005648</td>\n",
       "      <td>False</td>\n",
       "    </tr>\n",
       "    <tr>\n",
       "      <th>15472</th>\n",
       "      <td>1</td>\n",
       "      <td>6</td>\n",
       "      <td>ica</td>\n",
       "      <td>PTIP-HMT complex (human)</td>\n",
       "      <td>0.901314</td>\n",
       "      <td>2.420033</td>\n",
       "      <td>0.015519</td>\n",
       "      <td>False</td>\n",
       "    </tr>\n",
       "    <tr>\n",
       "      <th>30771</th>\n",
       "      <td>3</td>\n",
       "      <td>8</td>\n",
       "      <td>nmf</td>\n",
       "      <td>Nucleic and chromatin Fanconi complex (human)</td>\n",
       "      <td>-0.900582</td>\n",
       "      <td>-2.592264</td>\n",
       "      <td>0.009535</td>\n",
       "      <td>False</td>\n",
       "    </tr>\n",
       "    <tr>\n",
       "      <th>146880</th>\n",
       "      <td>10</td>\n",
       "      <td>25</td>\n",
       "      <td>nmf</td>\n",
       "      <td>MDC1-MRN-ATM-FANCD2 complex (human)</td>\n",
       "      <td>0.900525</td>\n",
       "      <td>2.613192</td>\n",
       "      <td>0.008970</td>\n",
       "      <td>False</td>\n",
       "    </tr>\n",
       "    <tr>\n",
       "      <th>111520</th>\n",
       "      <td>9</td>\n",
       "      <td>18</td>\n",
       "      <td>betavae</td>\n",
       "      <td>NCOR2 complex (human)</td>\n",
       "      <td>-0.900346</td>\n",
       "      <td>-2.537822</td>\n",
       "      <td>0.011154</td>\n",
       "      <td>False</td>\n",
       "    </tr>\n",
       "    <tr>\n",
       "      <th>48791</th>\n",
       "      <td>3</td>\n",
       "      <td>10</td>\n",
       "      <td>nmf</td>\n",
       "      <td>Nucleic and chromatin Fanconi complex (human)</td>\n",
       "      <td>-0.899705</td>\n",
       "      <td>-2.595461</td>\n",
       "      <td>0.009446</td>\n",
       "      <td>False</td>\n",
       "    </tr>\n",
       "    <tr>\n",
       "      <th>15474</th>\n",
       "      <td>1</td>\n",
       "      <td>6</td>\n",
       "      <td>ica</td>\n",
       "      <td>RAD17-RFC complex (human)</td>\n",
       "      <td>0.899625</td>\n",
       "      <td>2.412940</td>\n",
       "      <td>0.015824</td>\n",
       "      <td>False</td>\n",
       "    </tr>\n",
       "    <tr>\n",
       "      <th>129030</th>\n",
       "      <td>16</td>\n",
       "      <td>20</td>\n",
       "      <td>vanillavae</td>\n",
       "      <td>Condensin II (human)</td>\n",
       "      <td>0.899540</td>\n",
       "      <td>2.593177</td>\n",
       "      <td>0.009509</td>\n",
       "      <td>False</td>\n",
       "    </tr>\n",
       "    <tr>\n",
       "      <th>15812</th>\n",
       "      <td>3</td>\n",
       "      <td>6</td>\n",
       "      <td>ica</td>\n",
       "      <td>MDC1-MRN-ATM-FANCD2 complex (human)</td>\n",
       "      <td>-0.899071</td>\n",
       "      <td>-2.347574</td>\n",
       "      <td>0.018896</td>\n",
       "      <td>False</td>\n",
       "    </tr>\n",
       "    <tr>\n",
       "      <th>62730</th>\n",
       "      <td>10</td>\n",
       "      <td>12</td>\n",
       "      <td>vanillavae</td>\n",
       "      <td>UTX-MLL2/3 complex (human)</td>\n",
       "      <td>0.898579</td>\n",
       "      <td>2.595618</td>\n",
       "      <td>0.009442</td>\n",
       "      <td>False</td>\n",
       "    </tr>\n",
       "    <tr>\n",
       "      <th>7990</th>\n",
       "      <td>2</td>\n",
       "      <td>4</td>\n",
       "      <td>betavae</td>\n",
       "      <td>Anaphase-promoting complex (human)</td>\n",
       "      <td>-0.898468</td>\n",
       "      <td>-2.720714</td>\n",
       "      <td>0.006514</td>\n",
       "      <td>False</td>\n",
       "    </tr>\n",
       "    <tr>\n",
       "      <th>28902</th>\n",
       "      <td>0</td>\n",
       "      <td>8</td>\n",
       "      <td>ica</td>\n",
       "      <td>Nucleic and chromatin Fanconi complex (human)</td>\n",
       "      <td>0.896274</td>\n",
       "      <td>2.487350</td>\n",
       "      <td>0.012870</td>\n",
       "      <td>False</td>\n",
       "    </tr>\n",
       "    <tr>\n",
       "      <th>79390</th>\n",
       "      <td>2</td>\n",
       "      <td>14</td>\n",
       "      <td>betatcvae</td>\n",
       "      <td>CRM1-RAN-PHAX-CBC complex (cap binding complex...</td>\n",
       "      <td>0.896245</td>\n",
       "      <td>2.891193</td>\n",
       "      <td>0.003838</td>\n",
       "      <td>False</td>\n",
       "    </tr>\n",
       "    <tr>\n",
       "      <th>27370</th>\n",
       "      <td>7</td>\n",
       "      <td>7</td>\n",
       "      <td>betatcvae</td>\n",
       "      <td>Kaiso-NCOR complex (human)</td>\n",
       "      <td>-0.895848</td>\n",
       "      <td>-2.798051</td>\n",
       "      <td>0.005141</td>\n",
       "      <td>False</td>\n",
       "    </tr>\n",
       "    <tr>\n",
       "      <th>102510</th>\n",
       "      <td>9</td>\n",
       "      <td>18</td>\n",
       "      <td>ica</td>\n",
       "      <td>PTIP-DNA damage response complex (human)</td>\n",
       "      <td>-0.895593</td>\n",
       "      <td>-2.475079</td>\n",
       "      <td>0.013321</td>\n",
       "      <td>False</td>\n",
       "    </tr>\n",
       "    <tr>\n",
       "      <th>47940</th>\n",
       "      <td>8</td>\n",
       "      <td>10</td>\n",
       "      <td>ica</td>\n",
       "      <td>Prefoldin complex (human)</td>\n",
       "      <td>-0.895449</td>\n",
       "      <td>-2.432453</td>\n",
       "      <td>0.014997</td>\n",
       "      <td>False</td>\n",
       "    </tr>\n",
       "    <tr>\n",
       "      <th>147730</th>\n",
       "      <td>15</td>\n",
       "      <td>25</td>\n",
       "      <td>nmf</td>\n",
       "      <td>FCP1-associated protein complex (human)</td>\n",
       "      <td>-0.894116</td>\n",
       "      <td>-2.678492</td>\n",
       "      <td>0.007395</td>\n",
       "      <td>False</td>\n",
       "    </tr>\n",
       "    <tr>\n",
       "      <th>21760</th>\n",
       "      <td>1</td>\n",
       "      <td>7</td>\n",
       "      <td>ica</td>\n",
       "      <td>GCN5-TRRAP histone acetyltransferase complex (...</td>\n",
       "      <td>-0.894078</td>\n",
       "      <td>-2.943930</td>\n",
       "      <td>0.003241</td>\n",
       "      <td>False</td>\n",
       "    </tr>\n",
       "    <tr>\n",
       "      <th>77350</th>\n",
       "      <td>4</td>\n",
       "      <td>14</td>\n",
       "      <td>betavae</td>\n",
       "      <td>TNF-alpha/NF-kappa B signaling complex (SEC16A...</td>\n",
       "      <td>0.893929</td>\n",
       "      <td>2.632532</td>\n",
       "      <td>0.008475</td>\n",
       "      <td>False</td>\n",
       "    </tr>\n",
       "    <tr>\n",
       "      <th>127673</th>\n",
       "      <td>8</td>\n",
       "      <td>20</td>\n",
       "      <td>vanillavae</td>\n",
       "      <td>cMYC-ATPase-helicase complex (human)</td>\n",
       "      <td>0.893604</td>\n",
       "      <td>2.262251</td>\n",
       "      <td>0.023682</td>\n",
       "      <td>False</td>\n",
       "    </tr>\n",
       "    <tr>\n",
       "      <th>23801</th>\n",
       "      <td>6</td>\n",
       "      <td>7</td>\n",
       "      <td>nmf</td>\n",
       "      <td>NAT complex (human)</td>\n",
       "      <td>0.891142</td>\n",
       "      <td>2.359944</td>\n",
       "      <td>0.018278</td>\n",
       "      <td>False</td>\n",
       "    </tr>\n",
       "    <tr>\n",
       "      <th>173571</th>\n",
       "      <td>3</td>\n",
       "      <td>30</td>\n",
       "      <td>vanillavae</td>\n",
       "      <td>NCOR2 complex (human)</td>\n",
       "      <td>-0.891070</td>\n",
       "      <td>-2.511698</td>\n",
       "      <td>0.012015</td>\n",
       "      <td>False</td>\n",
       "    </tr>\n",
       "    <tr>\n",
       "      <th>81262</th>\n",
       "      <td>13</td>\n",
       "      <td>14</td>\n",
       "      <td>betatcvae</td>\n",
       "      <td>PTIP-HMT complex (human)</td>\n",
       "      <td>0.889479</td>\n",
       "      <td>2.728482</td>\n",
       "      <td>0.006363</td>\n",
       "      <td>False</td>\n",
       "    </tr>\n",
       "    <tr>\n",
       "      <th>18361</th>\n",
       "      <td>1</td>\n",
       "      <td>6</td>\n",
       "      <td>betavae</td>\n",
       "      <td>MDC1-MRN-ATM-FANCD2 complex (human)</td>\n",
       "      <td>0.889041</td>\n",
       "      <td>2.432968</td>\n",
       "      <td>0.014976</td>\n",
       "      <td>False</td>\n",
       "    </tr>\n",
       "    <tr>\n",
       "      <th>4081</th>\n",
       "      <td>1</td>\n",
       "      <td>3</td>\n",
       "      <td>betavae</td>\n",
       "      <td>Condensin II (human)</td>\n",
       "      <td>-0.888529</td>\n",
       "      <td>-2.455094</td>\n",
       "      <td>0.014085</td>\n",
       "      <td>False</td>\n",
       "    </tr>\n",
       "    <tr>\n",
       "      <th>24310</th>\n",
       "      <td>3</td>\n",
       "      <td>7</td>\n",
       "      <td>vanillavae</td>\n",
       "      <td>UTX-MLL2/3 complex (human)</td>\n",
       "      <td>0.887847</td>\n",
       "      <td>2.411500</td>\n",
       "      <td>0.015887</td>\n",
       "      <td>False</td>\n",
       "    </tr>\n",
       "    <tr>\n",
       "      <th>53210</th>\n",
       "      <td>10</td>\n",
       "      <td>10</td>\n",
       "      <td>betavae</td>\n",
       "      <td>CENP-A NAC-CAD complex (human)</td>\n",
       "      <td>-0.887513</td>\n",
       "      <td>-2.878510</td>\n",
       "      <td>0.003996</td>\n",
       "      <td>False</td>\n",
       "    </tr>\n",
       "    <tr>\n",
       "      <th>33660</th>\n",
       "      <td>5</td>\n",
       "      <td>8</td>\n",
       "      <td>betavae</td>\n",
       "      <td>FCP1-associated protein complex (human)</td>\n",
       "      <td>0.887487</td>\n",
       "      <td>2.156251</td>\n",
       "      <td>0.031064</td>\n",
       "      <td>False</td>\n",
       "    </tr>\n",
       "  </tbody>\n",
       "</table>\n",
       "</div>"
      ],
      "text/plain": [
       "         z  full_model_z       model  \\\n",
       "96220    7            16   betatcvae   \n",
       "59671    3            12         nmf   \n",
       "166601  21            30         ica   \n",
       "18190    6             6  vanillavae   \n",
       "42160    3             9     betavae   \n",
       "156910  20            25     betavae   \n",
       "22101    3             7         ica   \n",
       "108630  10            18  vanillavae   \n",
       "157590  24            25     betavae   \n",
       "31620    1             8  vanillavae   \n",
       "151810  15            25  vanillavae   \n",
       "18870    4             6     betavae   \n",
       "5952     1             4         ica   \n",
       "15980    4             6         ica   \n",
       "173061  29            30         nmf   \n",
       "76840    1            14     betavae   \n",
       "96390    8            16   betatcvae   \n",
       "123931   5            20         nmf   \n",
       "17680    3             6  vanillavae   \n",
       "168642   3            30         nmf   \n",
       "24822    6             7  vanillavae   \n",
       "81261   13            14   betatcvae   \n",
       "63411    2            12     betavae   \n",
       "15472    1             6         ica   \n",
       "30771    3             8         nmf   \n",
       "146880  10            25         nmf   \n",
       "111520   9            18     betavae   \n",
       "48791    3            10         nmf   \n",
       "15474    1             6         ica   \n",
       "129030  16            20  vanillavae   \n",
       "15812    3             6         ica   \n",
       "62730   10            12  vanillavae   \n",
       "7990     2             4     betavae   \n",
       "28902    0             8         ica   \n",
       "79390    2            14   betatcvae   \n",
       "27370    7             7   betatcvae   \n",
       "102510   9            18         ica   \n",
       "47940    8            10         ica   \n",
       "147730  15            25         nmf   \n",
       "21760    1             7         ica   \n",
       "77350    4            14     betavae   \n",
       "127673   8            20  vanillavae   \n",
       "23801    6             7         nmf   \n",
       "173571   3            30  vanillavae   \n",
       "81262   13            14   betatcvae   \n",
       "18361    1             6     betavae   \n",
       "4081     1             3     betavae   \n",
       "24310    3             7  vanillavae   \n",
       "53210   10            10     betavae   \n",
       "33660    5             8     betavae   \n",
       "\n",
       "                                         reactome_pathway  gsea_es_score  \\\n",
       "96220                                    Toposome (human)      -0.943584   \n",
       "59671       Nucleic and chromatin Fanconi complex (human)      -0.931089   \n",
       "166601                       SIN3-ING1b complex I (human)       0.930681   \n",
       "18190   CHUK-NFKB2-REL-IKBKG-SPAG9-NFKB1-NFKBIE-COPB2-...       0.929550   \n",
       "42160                               NCOR2 complex (human)      -0.925815   \n",
       "156910  CHUK-NFKB2-REL-IKBKG-SPAG9-NFKB1-NFKBIE-COPB2-...       0.921811   \n",
       "22101       Nucleic and chromatin Fanconi complex (human)       0.920653   \n",
       "108630                               Condensin II (human)       0.919581   \n",
       "157590  CHUK-NFKB2-REL-IKBKG-SPAG9-NFKB1-NFKBIE-COPB2-...       0.917719   \n",
       "31620                                Condensin II (human)      -0.915064   \n",
       "151810                              NCOR2 complex (human)      -0.914682   \n",
       "18870                 MDC1-MRN-ATM-FANCD2 complex (human)      -0.914255   \n",
       "5952                  MDC1-MRN-ATM-FANCD2 complex (human)      -0.910815   \n",
       "15980                               NCOR2 complex (human)       0.909917   \n",
       "173061                       SIN3-ING1b complex I (human)      -0.908588   \n",
       "76840   CHUK-NFKB2-REL-IKBKG-SPAG9-NFKB1-NFKBIE-COPB2-...       0.907103   \n",
       "96390       Nucleic and chromatin Fanconi complex (human)       0.905634   \n",
       "123931                          RAD17-RFC complex (human)       0.905576   \n",
       "17680                               NCOR2 complex (human)      -0.905164   \n",
       "168642  Ubiquitin E3 ligase (AHR, ARNT, DDB1, TBL3, CU...       0.904319   \n",
       "24822                 MDC1-MRN-ATM-FANCD2 complex (human)      -0.903589   \n",
       "81261                          Kaiso-NCOR complex (human)      -0.902124   \n",
       "63411            5S-DNA-TFIIIA-TFIIIC2 subcomplex (human)       0.901687   \n",
       "15472                            PTIP-HMT complex (human)       0.901314   \n",
       "30771       Nucleic and chromatin Fanconi complex (human)      -0.900582   \n",
       "146880                MDC1-MRN-ATM-FANCD2 complex (human)       0.900525   \n",
       "111520                              NCOR2 complex (human)      -0.900346   \n",
       "48791       Nucleic and chromatin Fanconi complex (human)      -0.899705   \n",
       "15474                           RAD17-RFC complex (human)       0.899625   \n",
       "129030                               Condensin II (human)       0.899540   \n",
       "15812                 MDC1-MRN-ATM-FANCD2 complex (human)      -0.899071   \n",
       "62730                          UTX-MLL2/3 complex (human)       0.898579   \n",
       "7990                   Anaphase-promoting complex (human)      -0.898468   \n",
       "28902       Nucleic and chromatin Fanconi complex (human)       0.896274   \n",
       "79390   CRM1-RAN-PHAX-CBC complex (cap binding complex...       0.896245   \n",
       "27370                          Kaiso-NCOR complex (human)      -0.895848   \n",
       "102510           PTIP-DNA damage response complex (human)      -0.895593   \n",
       "47940                           Prefoldin complex (human)      -0.895449   \n",
       "147730            FCP1-associated protein complex (human)      -0.894116   \n",
       "21760   GCN5-TRRAP histone acetyltransferase complex (...      -0.894078   \n",
       "77350   TNF-alpha/NF-kappa B signaling complex (SEC16A...       0.893929   \n",
       "127673               cMYC-ATPase-helicase complex (human)       0.893604   \n",
       "23801                                 NAT complex (human)       0.891142   \n",
       "173571                              NCOR2 complex (human)      -0.891070   \n",
       "81262                            PTIP-HMT complex (human)       0.889479   \n",
       "18361                 MDC1-MRN-ATM-FANCD2 complex (human)       0.889041   \n",
       "4081                                 Condensin II (human)      -0.888529   \n",
       "24310                          UTX-MLL2/3 complex (human)       0.887847   \n",
       "53210                      CENP-A NAC-CAD complex (human)      -0.887513   \n",
       "33660             FCP1-associated protein complex (human)       0.887487   \n",
       "\n",
       "        nes_score   p_value  shuffled  \n",
       "96220   -3.087680  0.002017     False  \n",
       "59671   -2.959808  0.003078     False  \n",
       "166601   2.663094  0.007743     False  \n",
       "18190    2.832204  0.004623     False  \n",
       "42160   -2.559891  0.010470     False  \n",
       "156910   2.886040  0.003901     False  \n",
       "22101    2.528776  0.011446     False  \n",
       "108630   2.651714  0.008008     False  \n",
       "157590   2.883604  0.003932     False  \n",
       "31620   -2.611345  0.009019     False  \n",
       "151810  -2.611989  0.009002     False  \n",
       "18870   -2.477923  0.013215     False  \n",
       "5952    -2.510561  0.012054     False  \n",
       "15980    2.419382  0.015547     False  \n",
       "173061  -2.761789  0.005749     False  \n",
       "76840    2.632278  0.008481     False  \n",
       "96390    2.712001  0.006688     False  \n",
       "123931   2.839286  0.004521     False  \n",
       "17680   -2.481038  0.013100     False  \n",
       "168642   2.400820  0.016358     False  \n",
       "24822   -2.451315  0.014234     False  \n",
       "81261   -2.779240  0.005449     False  \n",
       "63411    2.767551  0.005648     False  \n",
       "15472    2.420033  0.015519     False  \n",
       "30771   -2.592264  0.009535     False  \n",
       "146880   2.613192  0.008970     False  \n",
       "111520  -2.537822  0.011154     False  \n",
       "48791   -2.595461  0.009446     False  \n",
       "15474    2.412940  0.015824     False  \n",
       "129030   2.593177  0.009509     False  \n",
       "15812   -2.347574  0.018896     False  \n",
       "62730    2.595618  0.009442     False  \n",
       "7990    -2.720714  0.006514     False  \n",
       "28902    2.487350  0.012870     False  \n",
       "79390    2.891193  0.003838     False  \n",
       "27370   -2.798051  0.005141     False  \n",
       "102510  -2.475079  0.013321     False  \n",
       "47940   -2.432453  0.014997     False  \n",
       "147730  -2.678492  0.007395     False  \n",
       "21760   -2.943930  0.003241     False  \n",
       "77350    2.632532  0.008475     False  \n",
       "127673   2.262251  0.023682     False  \n",
       "23801    2.359944  0.018278     False  \n",
       "173571  -2.511698  0.012015     False  \n",
       "81262    2.728482  0.006363     False  \n",
       "18361    2.432968  0.014976     False  \n",
       "4081    -2.455094  0.014085     False  \n",
       "24310    2.411500  0.015887     False  \n",
       "53210   -2.878510  0.003996     False  \n",
       "33660    2.156251  0.031064     False  "
      ]
     },
     "execution_count": 8,
     "metadata": {},
     "output_type": "execute_result"
    }
   ],
   "source": [
    "combined_results_df.sort_values(by='gsea_es_score', key=abs, ascending = False).head(50)"
   ]
  }
 ],
 "metadata": {
  "kernelspec": {
   "display_name": "gene_dependency_representations",
   "language": "python",
   "name": "python3"
  },
  "language_info": {
   "codemirror_mode": {
    "name": "ipython",
    "version": 3
   },
   "file_extension": ".py",
   "mimetype": "text/x-python",
   "name": "python",
   "nbconvert_exporter": "python",
   "pygments_lexer": "ipython3",
   "version": "3.12.5"
  }
 },
 "nbformat": 4,
 "nbformat_minor": 2
}
