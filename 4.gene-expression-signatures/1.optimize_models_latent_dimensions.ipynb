{
 "cells": [
  {
   "cell_type": "code",
   "execution_count": 1,
   "metadata": {},
   "outputs": [],
   "source": [
    "\n",
    "import pathlib \n",
    "import optuna\n",
    "import pandas as pd\n",
    "import joblib\n",
    "import torch\n",
    "import sys\n",
    "import numpy as np\n",
    "import random\n",
    "import os \n",
    "\n",
    "from sklearn.decomposition import PCA, FastICA, NMF\n",
    "from torch.utils.data import DataLoader, TensorDataset\n",
    "\n",
    "script_directory = pathlib.Path(\"../2.train-VAE/utils/\").resolve()\n",
    "sys.path.insert(0, str(script_directory))\n",
    "from betavae import BetaVAE, train_vae, evaluate_vae\n",
    "from betatcvae import BetaTCVAE, train_tc_vae, evaluate_tc_vae\n",
    "from vanillavae import VanillaVAE, train_vvae, evaluate_vvae\n",
    "from optimize_utils import get_optimize_args, objective, get_optimizer\n",
    "from optimize_utils_tcvae import get_optimize_args_tc, objective_tc, get_optimizer_tc\n",
    "from optimize_utils_vvae import get_optimize_args_vvae, objective_vvae, get_optimizer_vvae\n",
    "\n",
    "script_directory = pathlib.Path(\"../utils/\").resolve()\n",
    "sys.path.insert(0, str(script_directory))\n",
    "from data_loader import load_train_test_data, load_model_data"
   ]
  },
  {
   "cell_type": "code",
   "execution_count": 2,
   "metadata": {},
   "outputs": [],
   "source": [
    "def set_random_seed(seed):\n",
    "    \"\"\"\n",
    "    Set the random seed for reproducibility.\n",
    "    \n",
    "    Args:\n",
    "        seed: Random seed value\n",
    "    \"\"\"\n",
    "    torch.manual_seed(seed)\n",
    "    torch.cuda.manual_seed_all(seed)\n",
    "    np.random.seed(seed)\n",
    "    random.seed(seed)\n",
    "    torch.backends.cudnn.deterministic = True\n",
    "    torch.backends.cudnn.benchmark = False"
   ]
  },
  {
   "cell_type": "code",
   "execution_count": 3,
   "metadata": {},
   "outputs": [],
   "source": [
    "def save_model(trial, model, directory, modelname, latent_dims, init, seed):\n",
    "    \"\"\"\n",
    "    Save the model state_dict or the full model based on its type.\n",
    "    \n",
    "    Args:\n",
    "        trial: Current Optuna trial object or string for non-Optuna cases\n",
    "        model: The model being optimized\n",
    "        directory: The directory where the models will be saved\n",
    "        modelname: Name of the model (e.g., \"pca\", \"ica\", etc.)\n",
    "        latent_dims: Number of latent dimensions\n",
    "        init: Initialization number (e.g., 0 to 4)\n",
    "        seed: Random seed used for the initialization\n",
    "    \"\"\"\n",
    "    # Ensure the save directory exists\n",
    "    if not os.path.exists(directory):\n",
    "        os.makedirs(directory)\n",
    "\n",
    "    # Handle trial number for Optuna trials or use \"non-optuna\" for others\n",
    "    trial_number = trial.number if hasattr(trial, \"number\") else \"non-optuna\"\n",
    "\n",
    "    # Define the model save path\n",
    "    model_save_path = os.path.join(\n",
    "        directory,\n",
    "        f\"{modelname}_latent_dims_{latent_dims}_trial_{trial_number}_init_{init}_seed_{seed}\"\n",
    "    )\n",
    "    \n",
    "    \n",
    "    joblib.dump(model, model_save_path + \".joblib\")\n",
    "\n",
    "    # Optionally, store the model path and seed in the trial's attributes for later retrieval\n",
    "    if hasattr(trial, \"set_user_attr\"):\n",
    "        trial.set_user_attr(f\"model_path_init_{init}\", model_save_path)\n",
    "        trial.set_user_attr(f\"seed_init_{init}\", seed)\n"
   ]
  },
  {
   "cell_type": "code",
   "execution_count": 4,
   "metadata": {},
   "outputs": [
    {
     "name": "stdout",
     "output_type": "stream",
     "text": [
      "(1150, 18444)\n"
     ]
    },
    {
     "data": {
      "text/html": [
       "<div>\n",
       "<style scoped>\n",
       "    .dataframe tbody tr th:only-of-type {\n",
       "        vertical-align: middle;\n",
       "    }\n",
       "\n",
       "    .dataframe tbody tr th {\n",
       "        vertical-align: top;\n",
       "    }\n",
       "\n",
       "    .dataframe thead th {\n",
       "        text-align: right;\n",
       "    }\n",
       "</style>\n",
       "<table border=\"1\" class=\"dataframe\">\n",
       "  <thead>\n",
       "    <tr style=\"text-align: right;\">\n",
       "      <th></th>\n",
       "      <th>0</th>\n",
       "      <th>1</th>\n",
       "      <th>2</th>\n",
       "      <th>3</th>\n",
       "      <th>4</th>\n",
       "      <th>5</th>\n",
       "      <th>6</th>\n",
       "      <th>7</th>\n",
       "      <th>8</th>\n",
       "      <th>9</th>\n",
       "      <th>...</th>\n",
       "      <th>2708</th>\n",
       "      <th>2709</th>\n",
       "      <th>2710</th>\n",
       "      <th>2711</th>\n",
       "      <th>2712</th>\n",
       "      <th>2713</th>\n",
       "      <th>2714</th>\n",
       "      <th>2715</th>\n",
       "      <th>2716</th>\n",
       "      <th>2717</th>\n",
       "    </tr>\n",
       "  </thead>\n",
       "  <tbody>\n",
       "    <tr>\n",
       "      <th>0</th>\n",
       "      <td>0.856396</td>\n",
       "      <td>0.524130</td>\n",
       "      <td>0.454598</td>\n",
       "      <td>0.477647</td>\n",
       "      <td>0.290616</td>\n",
       "      <td>0.493821</td>\n",
       "      <td>0.509459</td>\n",
       "      <td>0.470619</td>\n",
       "      <td>0.678614</td>\n",
       "      <td>0.764572</td>\n",
       "      <td>...</td>\n",
       "      <td>0.546061</td>\n",
       "      <td>0.424490</td>\n",
       "      <td>0.630406</td>\n",
       "      <td>0.437840</td>\n",
       "      <td>0.612547</td>\n",
       "      <td>0.100948</td>\n",
       "      <td>0.727655</td>\n",
       "      <td>0.567081</td>\n",
       "      <td>0.550219</td>\n",
       "      <td>0.857448</td>\n",
       "    </tr>\n",
       "    <tr>\n",
       "      <th>1</th>\n",
       "      <td>0.602398</td>\n",
       "      <td>0.458392</td>\n",
       "      <td>0.422174</td>\n",
       "      <td>0.667840</td>\n",
       "      <td>0.317417</td>\n",
       "      <td>0.866981</td>\n",
       "      <td>0.645869</td>\n",
       "      <td>0.469371</td>\n",
       "      <td>0.569442</td>\n",
       "      <td>0.691008</td>\n",
       "      <td>...</td>\n",
       "      <td>0.820237</td>\n",
       "      <td>0.297817</td>\n",
       "      <td>0.611111</td>\n",
       "      <td>0.461061</td>\n",
       "      <td>0.726131</td>\n",
       "      <td>0.620933</td>\n",
       "      <td>0.596270</td>\n",
       "      <td>0.571577</td>\n",
       "      <td>0.439725</td>\n",
       "      <td>0.699469</td>\n",
       "    </tr>\n",
       "    <tr>\n",
       "      <th>2</th>\n",
       "      <td>0.470072</td>\n",
       "      <td>0.441811</td>\n",
       "      <td>0.333899</td>\n",
       "      <td>0.622735</td>\n",
       "      <td>0.623862</td>\n",
       "      <td>0.423447</td>\n",
       "      <td>0.621539</td>\n",
       "      <td>0.422418</td>\n",
       "      <td>0.666295</td>\n",
       "      <td>0.836754</td>\n",
       "      <td>...</td>\n",
       "      <td>0.356129</td>\n",
       "      <td>0.108649</td>\n",
       "      <td>0.706207</td>\n",
       "      <td>0.530195</td>\n",
       "      <td>0.706685</td>\n",
       "      <td>0.377080</td>\n",
       "      <td>0.541181</td>\n",
       "      <td>0.475121</td>\n",
       "      <td>0.520993</td>\n",
       "      <td>0.766563</td>\n",
       "    </tr>\n",
       "    <tr>\n",
       "      <th>3</th>\n",
       "      <td>0.696976</td>\n",
       "      <td>0.058090</td>\n",
       "      <td>0.218041</td>\n",
       "      <td>0.641029</td>\n",
       "      <td>0.416265</td>\n",
       "      <td>0.749956</td>\n",
       "      <td>0.584399</td>\n",
       "      <td>0.235217</td>\n",
       "      <td>0.619033</td>\n",
       "      <td>0.760014</td>\n",
       "      <td>...</td>\n",
       "      <td>0.600717</td>\n",
       "      <td>0.491875</td>\n",
       "      <td>0.557667</td>\n",
       "      <td>0.263071</td>\n",
       "      <td>0.556380</td>\n",
       "      <td>0.458748</td>\n",
       "      <td>0.525110</td>\n",
       "      <td>0.285958</td>\n",
       "      <td>0.020888</td>\n",
       "      <td>0.800589</td>\n",
       "    </tr>\n",
       "    <tr>\n",
       "      <th>4</th>\n",
       "      <td>0.636979</td>\n",
       "      <td>0.446745</td>\n",
       "      <td>0.601733</td>\n",
       "      <td>0.748012</td>\n",
       "      <td>0.387747</td>\n",
       "      <td>0.696226</td>\n",
       "      <td>0.635404</td>\n",
       "      <td>0.700367</td>\n",
       "      <td>0.569001</td>\n",
       "      <td>0.812043</td>\n",
       "      <td>...</td>\n",
       "      <td>0.475938</td>\n",
       "      <td>0.485309</td>\n",
       "      <td>0.678319</td>\n",
       "      <td>0.476837</td>\n",
       "      <td>0.473643</td>\n",
       "      <td>0.513316</td>\n",
       "      <td>0.658391</td>\n",
       "      <td>0.644729</td>\n",
       "      <td>0.414735</td>\n",
       "      <td>0.462667</td>\n",
       "    </tr>\n",
       "  </tbody>\n",
       "</table>\n",
       "<p>5 rows × 2718 columns</p>\n",
       "</div>"
      ],
      "text/plain": [
       "       0         1         2         3         4         5         6     \\\n",
       "0  0.856396  0.524130  0.454598  0.477647  0.290616  0.493821  0.509459   \n",
       "1  0.602398  0.458392  0.422174  0.667840  0.317417  0.866981  0.645869   \n",
       "2  0.470072  0.441811  0.333899  0.622735  0.623862  0.423447  0.621539   \n",
       "3  0.696976  0.058090  0.218041  0.641029  0.416265  0.749956  0.584399   \n",
       "4  0.636979  0.446745  0.601733  0.748012  0.387747  0.696226  0.635404   \n",
       "\n",
       "       7         8         9     ...      2708      2709      2710      2711  \\\n",
       "0  0.470619  0.678614  0.764572  ...  0.546061  0.424490  0.630406  0.437840   \n",
       "1  0.469371  0.569442  0.691008  ...  0.820237  0.297817  0.611111  0.461061   \n",
       "2  0.422418  0.666295  0.836754  ...  0.356129  0.108649  0.706207  0.530195   \n",
       "3  0.235217  0.619033  0.760014  ...  0.600717  0.491875  0.557667  0.263071   \n",
       "4  0.700367  0.569001  0.812043  ...  0.475938  0.485309  0.678319  0.476837   \n",
       "\n",
       "       2712      2713      2714      2715      2716      2717  \n",
       "0  0.612547  0.100948  0.727655  0.567081  0.550219  0.857448  \n",
       "1  0.726131  0.620933  0.596270  0.571577  0.439725  0.699469  \n",
       "2  0.706685  0.377080  0.541181  0.475121  0.520993  0.766563  \n",
       "3  0.556380  0.458748  0.525110  0.285958  0.020888  0.800589  \n",
       "4  0.473643  0.513316  0.658391  0.644729  0.414735  0.462667  \n",
       "\n",
       "[5 rows x 2718 columns]"
      ]
     },
     "execution_count": 4,
     "metadata": {},
     "output_type": "execute_result"
    }
   ],
   "source": [
    "# Load command line arguments\n",
    "args = get_optimize_args()\n",
    "tc_args = get_optimize_args_tc()\n",
    "vvae_args = get_optimize_args_vvae()\n",
    "\n",
    "# Load data\n",
    "data_directory = pathlib.Path(\"../0.data-download/data\").resolve()\n",
    "\n",
    "train_df, test_df, val_df, load_gene_stats = load_train_test_data(\n",
    "    data_directory, train_or_test=\"all\", load_gene_stats=True, zero_one_normalize=True\n",
    ")\n",
    "train_data = pd.DataFrame(train_df)\n",
    "\n",
    "dependency_file = pathlib.Path(f\"{data_directory}/CRISPRGeneEffect.parquet\").resolve()\n",
    "gene_dict_file = pathlib.Path(f\"{data_directory}/CRISPR_gene_dictionary.parquet\").resolve()\n",
    "dependency_df, gene_dict_df= load_model_data(dependency_file, gene_dict_file)\n",
    "gene_dict_df = pd.DataFrame(gene_dict_df)\n",
    "train_data.head()"
   ]
  },
  {
   "cell_type": "code",
   "execution_count": 5,
   "metadata": {},
   "outputs": [],
   "source": [
    "# Convert dataframes to tensors\n",
    "train_tensor = torch.tensor(train_df, dtype=torch.float32)\n",
    "test_tensor = torch.tensor(test_df, dtype=torch.float32)\n",
    "val_tensor = torch.tensor(val_df, dtype=torch.float32)"
   ]
  },
  {
   "cell_type": "code",
   "execution_count": 6,
   "metadata": {},
   "outputs": [
    {
     "name": "stderr",
     "output_type": "stream",
     "text": [
      "[I 2024-12-02 12:07:22,401] A new study created in memory with name: no-name-ac3d7f3b-1dd3-45fd-b153-f09834e652df\n"
     ]
    },
    {
     "name": "stdout",
     "output_type": "stream",
     "text": [
      "Generated seeds: [2931246831, 2248852669, 3726430609, 3492743783, 963171976]\n",
      "8\n"
     ]
    },
    {
     "name": "stderr",
     "output_type": "stream",
     "text": [
      "[I 2024-12-02 12:09:22,981] Trial 0 finished with value: 43.51232582206157 and parameters: {'beta': 1.5553037348198973, 'learning_rate': 2.4412950387512615e-05, 'batch_size': 28, 'epochs': 989, 'optimizer_type': 'rmsprop'}. Best is trial 0 with value: 43.51232582206157.\n"
     ]
    },
    {
     "name": "stdout",
     "output_type": "stream",
     "text": [
      "8\n"
     ]
    },
    {
     "name": "stderr",
     "output_type": "stream",
     "text": [
      "[I 2024-12-02 12:09:59,932] Trial 1 finished with value: 44.818230381296644 and parameters: {'beta': 1.01326812514087, 'learning_rate': 2.4674133467004827e-05, 'batch_size': 67, 'epochs': 603, 'optimizer_type': 'adam'}. Best is trial 0 with value: 43.51232582206157.\n"
     ]
    },
    {
     "name": "stdout",
     "output_type": "stream",
     "text": [
      "8\n"
     ]
    },
    {
     "name": "stderr",
     "output_type": "stream",
     "text": [
      "[I 2024-12-02 12:10:21,259] Trial 2 finished with value: 45.210571835645986 and parameters: {'beta': 1.6765476665291705, 'learning_rate': 9.184846260906011e-05, 'batch_size': 72, 'epochs': 403, 'optimizer_type': 'rmsprop'}. Best is trial 0 with value: 43.51232582206157.\n"
     ]
    },
    {
     "name": "stdout",
     "output_type": "stream",
     "text": [
      "8\n"
     ]
    },
    {
     "name": "stderr",
     "output_type": "stream",
     "text": [
      "[I 2024-12-02 12:10:58,811] Trial 3 finished with value: 46.87881064343809 and parameters: {'beta': 1.4408671852524357, 'learning_rate': 2.9009972807493783e-05, 'batch_size': 83, 'epochs': 750, 'optimizer_type': 'rmsprop'}. Best is trial 0 with value: 43.51232582206157.\n"
     ]
    },
    {
     "name": "stdout",
     "output_type": "stream",
     "text": [
      "8\n"
     ]
    },
    {
     "name": "stderr",
     "output_type": "stream",
     "text": [
      "[I 2024-12-02 12:11:27,098] Trial 4 finished with value: 46.75844016003965 and parameters: {'beta': 1.6738069723193338, 'learning_rate': 3.9653939097237515e-05, 'batch_size': 107, 'epochs': 549, 'optimizer_type': 'adam'}. Best is trial 0 with value: 43.51232582206157.\n"
     ]
    },
    {
     "name": "stdout",
     "output_type": "stream",
     "text": [
      "8\n"
     ]
    },
    {
     "name": "stderr",
     "output_type": "stream",
     "text": [
      "[I 2024-12-02 12:12:10,821] Trial 5 finished with value: 43.8353345273146 and parameters: {'beta': 1.4339452103273072, 'learning_rate': 5.497999595934411e-05, 'batch_size': 59, 'epochs': 708, 'optimizer_type': 'rmsprop'}. Best is trial 0 with value: 43.51232582206157.\n"
     ]
    },
    {
     "name": "stdout",
     "output_type": "stream",
     "text": [
      "8\n"
     ]
    },
    {
     "name": "stderr",
     "output_type": "stream",
     "text": [
      "[I 2024-12-02 12:12:41,891] Trial 6 finished with value: 44.225317246166625 and parameters: {'beta': 1.198775747413157, 'learning_rate': 5.884314950531972e-05, 'batch_size': 44, 'epochs': 441, 'optimizer_type': 'rmsprop'}. Best is trial 0 with value: 43.51232582206157.\n"
     ]
    },
    {
     "name": "stdout",
     "output_type": "stream",
     "text": [
      "8\n"
     ]
    },
    {
     "name": "stderr",
     "output_type": "stream",
     "text": [
      "[I 2024-12-02 12:13:30,448] Trial 7 finished with value: 41.374276687849814 and parameters: {'beta': 1.4077257051730707, 'learning_rate': 8.507502407380631e-05, 'batch_size': 38, 'epochs': 570, 'optimizer_type': 'rmsprop'}. Best is trial 7 with value: 41.374276687849814.\n"
     ]
    },
    {
     "name": "stdout",
     "output_type": "stream",
     "text": [
      "8\n"
     ]
    },
    {
     "name": "stderr",
     "output_type": "stream",
     "text": [
      "[I 2024-12-02 12:14:42,780] Trial 8 finished with value: 43.03548911934468 and parameters: {'beta': 1.215590433082392, 'learning_rate': 7.647685024113522e-05, 'batch_size': 29, 'epochs': 661, 'optimizer_type': 'adam'}. Best is trial 7 with value: 41.374276687849814.\n"
     ]
    },
    {
     "name": "stdout",
     "output_type": "stream",
     "text": [
      "8\n"
     ]
    },
    {
     "name": "stderr",
     "output_type": "stream",
     "text": [
      "[I 2024-12-02 12:15:03,054] Trial 9 finished with value: 46.87783549294543 and parameters: {'beta': 1.3926791758862738, 'learning_rate': 6.619193613934023e-05, 'batch_size': 59, 'epochs': 297, 'optimizer_type': 'adam'}. Best is trial 7 with value: 41.374276687849814.\n"
     ]
    },
    {
     "name": "stdout",
     "output_type": "stream",
     "text": [
      "8\n"
     ]
    },
    {
     "name": "stderr",
     "output_type": "stream",
     "text": [
      "[I 2024-12-02 12:15:05,729] Trial 10 finished with value: 158.04209640275187 and parameters: {'beta': 1.9778854443932277, 'learning_rate': 4.895972776188899e-06, 'batch_size': 20, 'epochs': 21, 'optimizer_type': 'rmsprop'}. Best is trial 7 with value: 41.374276687849814.\n"
     ]
    },
    {
     "name": "stdout",
     "output_type": "stream",
     "text": [
      "8\n"
     ]
    },
    {
     "name": "stderr",
     "output_type": "stream",
     "text": [
      "[I 2024-12-02 12:16:21,913] Trial 11 finished with value: 40.083330843341884 and parameters: {'beta': 1.2100102844353886, 'learning_rate': 8.707583459455752e-05, 'batch_size': 38, 'epochs': 871, 'optimizer_type': 'adam'}. Best is trial 11 with value: 40.083330843341884.\n"
     ]
    },
    {
     "name": "stdout",
     "output_type": "stream",
     "text": [
      "8\n"
     ]
    },
    {
     "name": "stderr",
     "output_type": "stream",
     "text": [
      "[I 2024-12-02 12:17:36,197] Trial 12 finished with value: 40.359720440764924 and parameters: {'beta': 1.226857846820117, 'learning_rate': 9.505435427155972e-05, 'batch_size': 43, 'epochs': 940, 'optimizer_type': 'adam'}. Best is trial 11 with value: 40.083330843341884.\n"
     ]
    },
    {
     "name": "stdout",
     "output_type": "stream",
     "text": [
      "8\n"
     ]
    },
    {
     "name": "stderr",
     "output_type": "stream",
     "text": [
      "[I 2024-12-02 12:18:47,550] Trial 13 finished with value: 40.7629396353195 and parameters: {'beta': 1.1438998545489125, 'learning_rate': 9.818656524594292e-05, 'batch_size': 48, 'epochs': 978, 'optimizer_type': 'adam'}. Best is trial 11 with value: 40.083330843341884.\n"
     ]
    },
    {
     "name": "stdout",
     "output_type": "stream",
     "text": [
      "8\n"
     ]
    },
    {
     "name": "stderr",
     "output_type": "stream",
     "text": [
      "[I 2024-12-02 12:19:52,306] Trial 14 finished with value: 40.611308675737526 and parameters: {'beta': 1.0164356524488596, 'learning_rate': 7.671353768061147e-05, 'batch_size': 47, 'epochs': 848, 'optimizer_type': 'adam'}. Best is trial 11 with value: 40.083330843341884.\n"
     ]
    },
    {
     "name": "stdout",
     "output_type": "stream",
     "text": [
      "8\n"
     ]
    },
    {
     "name": "stderr",
     "output_type": "stream",
     "text": [
      "[I 2024-12-02 12:20:37,508] Trial 15 finished with value: 42.03026414558069 and parameters: {'beta': 1.314285817241112, 'learning_rate': 9.81435066460066e-05, 'batch_size': 91, 'epochs': 852, 'optimizer_type': 'adam'}. Best is trial 11 with value: 40.083330843341884.\n"
     ]
    },
    {
     "name": "stdout",
     "output_type": "stream",
     "text": [
      "8\n"
     ]
    },
    {
     "name": "stderr",
     "output_type": "stream",
     "text": [
      "[I 2024-12-02 12:21:53,844] Trial 16 finished with value: 40.74165239476446 and parameters: {'beta': 1.2708359577731492, 'learning_rate': 7.6740920579313e-05, 'batch_size': 34, 'epochs': 837, 'optimizer_type': 'adam'}. Best is trial 11 with value: 40.083330843341884.\n"
     ]
    },
    {
     "name": "stdout",
     "output_type": "stream",
     "text": [
      "8\n"
     ]
    },
    {
     "name": "stderr",
     "output_type": "stream",
     "text": [
      "[I 2024-12-02 12:22:26,049] Trial 17 finished with value: 43.117056319962686 and parameters: {'beta': 1.1157423833897981, 'learning_rate': 8.701712707621664e-05, 'batch_size': 17, 'epochs': 208, 'optimizer_type': 'adam'}. Best is trial 11 with value: 40.083330843341884.\n"
     ]
    },
    {
     "name": "stdout",
     "output_type": "stream",
     "text": [
      "8\n"
     ]
    },
    {
     "name": "stderr",
     "output_type": "stream",
     "text": [
      "[I 2024-12-02 12:23:30,265] Trial 18 finished with value: 41.86369537809002 and parameters: {'beta': 1.6091282254200838, 'learning_rate': 6.485640796428606e-05, 'batch_size': 54, 'epochs': 913, 'optimizer_type': 'adam'}. Best is trial 11 with value: 40.083330843341884.\n"
     ]
    },
    {
     "name": "stdout",
     "output_type": "stream",
     "text": [
      "8\n"
     ]
    },
    {
     "name": "stderr",
     "output_type": "stream",
     "text": [
      "[I 2024-12-02 12:24:12,677] Trial 19 finished with value: 43.52819605585354 and parameters: {'beta': 1.8301114601007336, 'learning_rate': 4.3869800200471365e-05, 'batch_size': 76, 'epochs': 764, 'optimizer_type': 'adam'}. Best is trial 11 with value: 40.083330843341884.\n"
     ]
    },
    {
     "name": "stdout",
     "output_type": "stream",
     "text": [
      "8\n"
     ]
    },
    {
     "name": "stderr",
     "output_type": "stream",
     "text": [
      "[I 2024-12-02 12:25:34,784] Trial 20 finished with value: 40.08961855760261 and parameters: {'beta': 1.3370416112471388, 'learning_rate': 8.358861712288192e-05, 'batch_size': 40, 'epochs': 997, 'optimizer_type': 'adam'}. Best is trial 11 with value: 40.083330843341884.\n"
     ]
    },
    {
     "name": "stdout",
     "output_type": "stream",
     "text": [
      "8\n"
     ]
    },
    {
     "name": "stderr",
     "output_type": "stream",
     "text": [
      "[I 2024-12-02 12:26:57,063] Trial 21 finished with value: 40.661840638118 and parameters: {'beta': 1.301168188757395, 'learning_rate': 8.314857333899981e-05, 'batch_size': 40, 'epochs': 992, 'optimizer_type': 'adam'}. Best is trial 11 with value: 40.083330843341884.\n"
     ]
    },
    {
     "name": "stdout",
     "output_type": "stream",
     "text": [
      "8\n"
     ]
    },
    {
     "name": "stderr",
     "output_type": "stream",
     "text": [
      "[I 2024-12-02 12:28:36,008] Trial 22 finished with value: 42.254688684264224 and parameters: {'beta': 1.127114474878812, 'learning_rate': 9.968575169375277e-05, 'batch_size': 27, 'epochs': 906, 'optimizer_type': 'adam'}. Best is trial 11 with value: 40.083330843341884.\n"
     ]
    },
    {
     "name": "stdout",
     "output_type": "stream",
     "text": [
      "8\n"
     ]
    },
    {
     "name": "stderr",
     "output_type": "stream",
     "text": [
      "[I 2024-12-02 12:29:42,312] Trial 23 finished with value: 41.2979090904122 and parameters: {'beta': 1.3405706468929686, 'learning_rate': 7.057549255688052e-05, 'batch_size': 51, 'epochs': 908, 'optimizer_type': 'adam'}. Best is trial 11 with value: 40.083330843341884.\n"
     ]
    },
    {
     "name": "stdout",
     "output_type": "stream",
     "text": [
      "8\n"
     ]
    },
    {
     "name": "stderr",
     "output_type": "stream",
     "text": [
      "[I 2024-12-02 12:30:51,002] Trial 24 finished with value: 39.59769881518919 and parameters: {'beta': 1.227123609408931, 'learning_rate': 8.899225662632131e-05, 'batch_size': 39, 'epochs': 807, 'optimizer_type': 'adam'}. Best is trial 24 with value: 39.59769881518919.\n"
     ]
    },
    {
     "name": "stdout",
     "output_type": "stream",
     "text": [
      "8\n"
     ]
    },
    {
     "name": "stderr",
     "output_type": "stream",
     "text": [
      "[I 2024-12-02 12:32:08,730] Trial 25 finished with value: 42.43900529092817 and parameters: {'beta': 1.510389835163732, 'learning_rate': 8.856320631370654e-05, 'batch_size': 32, 'epochs': 815, 'optimizer_type': 'adam'}. Best is trial 24 with value: 39.59769881518919.\n"
     ]
    },
    {
     "name": "stdout",
     "output_type": "stream",
     "text": [
      "8\n"
     ]
    },
    {
     "name": "stderr",
     "output_type": "stream",
     "text": [
      "[I 2024-12-02 12:33:24,703] Trial 26 finished with value: 42.12023816464552 and parameters: {'beta': 1.0915890829346497, 'learning_rate': 8.026092021848143e-05, 'batch_size': 24, 'epochs': 652, 'optimizer_type': 'adam'}. Best is trial 24 with value: 39.59769881518919.\n"
     ]
    },
    {
     "name": "stdout",
     "output_type": "stream",
     "text": [
      "8\n"
     ]
    },
    {
     "name": "stderr",
     "output_type": "stream",
     "text": [
      "[I 2024-12-02 12:34:31,764] Trial 27 finished with value: 40.35513009598006 and parameters: {'beta': 1.3380742610012188, 'learning_rate': 7.014191298398818e-05, 'batch_size': 37, 'epochs': 767, 'optimizer_type': 'adam'}. Best is trial 24 with value: 39.59769881518919.\n"
     ]
    },
    {
     "name": "stdout",
     "output_type": "stream",
     "text": [
      "8\n"
     ]
    },
    {
     "name": "stderr",
     "output_type": "stream",
     "text": [
      "[I 2024-12-02 12:35:29,466] Trial 28 finished with value: 41.85619388409515 and parameters: {'beta': 1.1823635778061843, 'learning_rate': 5.900858544396117e-05, 'batch_size': 57, 'epochs': 873, 'optimizer_type': 'adam'}. Best is trial 24 with value: 39.59769881518919.\n"
     ]
    },
    {
     "name": "stdout",
     "output_type": "stream",
     "text": [
      "8\n"
     ]
    },
    {
     "name": "stderr",
     "output_type": "stream",
     "text": [
      "[I 2024-12-02 12:36:32,450] Trial 29 finished with value: 42.842842489214085 and parameters: {'beta': 1.4844535626610835, 'learning_rate': 4.769967344815025e-05, 'batch_size': 64, 'epochs': 974, 'optimizer_type': 'adam'}. Best is trial 24 with value: 39.59769881518919.\n"
     ]
    },
    {
     "name": "stdout",
     "output_type": "stream",
     "text": [
      "8\n"
     ]
    },
    {
     "name": "stderr",
     "output_type": "stream",
     "text": [
      "[I 2024-12-02 12:37:57,840] Trial 30 finished with value: 44.014638735643075 and parameters: {'beta': 1.0591402053201282, 'learning_rate': 1.264737714826952e-05, 'batch_size': 23, 'epochs': 691, 'optimizer_type': 'adam'}. Best is trial 24 with value: 39.59769881518919.\n"
     ]
    },
    {
     "name": "stdout",
     "output_type": "stream",
     "text": [
      "8\n"
     ]
    },
    {
     "name": "stderr",
     "output_type": "stream",
     "text": [
      "[I 2024-12-02 12:39:09,408] Trial 31 finished with value: 41.203042511441815 and parameters: {'beta': 1.358268828928479, 'learning_rate': 7.079181338242103e-05, 'batch_size': 35, 'epochs': 776, 'optimizer_type': 'adam'}. Best is trial 24 with value: 39.59769881518919.\n"
     ]
    },
    {
     "name": "stdout",
     "output_type": "stream",
     "text": [
      "8\n"
     ]
    },
    {
     "name": "stderr",
     "output_type": "stream",
     "text": [
      "[I 2024-12-02 12:40:15,359] Trial 32 finished with value: 41.11759106080923 and parameters: {'beta': 1.2643932112197471, 'learning_rate': 8.865730280298398e-05, 'batch_size': 40, 'epochs': 789, 'optimizer_type': 'adam'}. Best is trial 24 with value: 39.59769881518919.\n"
     ]
    },
    {
     "name": "stdout",
     "output_type": "stream",
     "text": [
      "8\n"
     ]
    },
    {
     "name": "stderr",
     "output_type": "stream",
     "text": [
      "[I 2024-12-02 12:41:52,537] Trial 33 finished with value: 40.12262682558885 and parameters: {'beta': 1.5477988438601615, 'learning_rate': 7.129835483937259e-05, 'batch_size': 31, 'epochs': 1000, 'optimizer_type': 'adam'}. Best is trial 24 with value: 39.59769881518919.\n"
     ]
    },
    {
     "name": "stdout",
     "output_type": "stream",
     "text": [
      "8\n"
     ]
    },
    {
     "name": "stderr",
     "output_type": "stream",
     "text": [
      "[I 2024-12-02 12:44:30,611] Trial 34 finished with value: 38.27031714595965 and parameters: {'beta': 1.5536456405039787, 'learning_rate': 8.109662643476678e-05, 'batch_size': 16, 'epochs': 993, 'optimizer_type': 'adam'}. Best is trial 34 with value: 38.27031714595965.\n"
     ]
    },
    {
     "name": "stdout",
     "output_type": "stream",
     "text": [
      "8\n"
     ]
    },
    {
     "name": "stderr",
     "output_type": "stream",
     "text": [
      "[I 2024-12-02 12:47:26,194] Trial 35 finished with value: 38.3682692798216 and parameters: {'beta': 1.6080156006199509, 'learning_rate': 9.020878473683475e-05, 'batch_size': 18, 'epochs': 905, 'optimizer_type': 'rmsprop'}. Best is trial 34 with value: 38.27031714595965.\n"
     ]
    },
    {
     "name": "stdout",
     "output_type": "stream",
     "text": [
      "8\n"
     ]
    },
    {
     "name": "stderr",
     "output_type": "stream",
     "text": [
      "[I 2024-12-02 12:48:43,555] Trial 36 finished with value: 40.61898421102495 and parameters: {'beta': 1.7554887447599021, 'learning_rate': 9.245574553157183e-05, 'batch_size': 20, 'epochs': 492, 'optimizer_type': 'rmsprop'}. Best is trial 34 with value: 38.27031714595965.\n"
     ]
    },
    {
     "name": "stdout",
     "output_type": "stream",
     "text": [
      "8\n"
     ]
    },
    {
     "name": "stderr",
     "output_type": "stream",
     "text": [
      "[I 2024-12-02 12:51:15,600] Trial 37 finished with value: 41.700185633417384 and parameters: {'beta': 1.6116391643591867, 'learning_rate': 3.0100995441242347e-05, 'batch_size': 17, 'epochs': 724, 'optimizer_type': 'rmsprop'}. Best is trial 34 with value: 38.27031714595965.\n"
     ]
    },
    {
     "name": "stdout",
     "output_type": "stream",
     "text": [
      "8\n"
     ]
    },
    {
     "name": "stderr",
     "output_type": "stream",
     "text": [
      "[I 2024-12-02 12:52:32,850] Trial 38 finished with value: 40.16450486823694 and parameters: {'beta': 1.7040707179624177, 'learning_rate': 9.369455066584123e-05, 'batch_size': 26, 'epochs': 612, 'optimizer_type': 'rmsprop'}. Best is trial 34 with value: 38.27031714595965.\n"
     ]
    },
    {
     "name": "stdout",
     "output_type": "stream",
     "text": [
      "8\n"
     ]
    },
    {
     "name": "stderr",
     "output_type": "stream",
     "text": [
      "[I 2024-12-02 12:53:11,287] Trial 39 finished with value: 43.77905783582089 and parameters: {'beta': 1.5868104071235618, 'learning_rate': 8.042205845190321e-05, 'batch_size': 99, 'epochs': 881, 'optimizer_type': 'rmsprop'}. Best is trial 34 with value: 38.27031714595965.\n"
     ]
    },
    {
     "name": "stdout",
     "output_type": "stream",
     "text": [
      "8\n"
     ]
    },
    {
     "name": "stderr",
     "output_type": "stream",
     "text": [
      "[I 2024-12-02 12:54:02,419] Trial 40 finished with value: 41.166484047049906 and parameters: {'beta': 1.4758960296867811, 'learning_rate': 9.098492978861747e-05, 'batch_size': 70, 'epochs': 931, 'optimizer_type': 'rmsprop'}. Best is trial 34 with value: 38.27031714595965.\n"
     ]
    },
    {
     "name": "stdout",
     "output_type": "stream",
     "text": [
      "8\n"
     ]
    },
    {
     "name": "stderr",
     "output_type": "stream",
     "text": [
      "[I 2024-12-02 12:57:19,685] Trial 41 finished with value: 38.03933023481227 and parameters: {'beta': 1.544438760122203, 'learning_rate': 8.55992486350159e-05, 'batch_size': 16, 'epochs': 935, 'optimizer_type': 'rmsprop'}. Best is trial 41 with value: 38.03933023481227.\n"
     ]
    },
    {
     "name": "stdout",
     "output_type": "stream",
     "text": [
      "8\n"
     ]
    },
    {
     "name": "stderr",
     "output_type": "stream",
     "text": [
      "[I 2024-12-02 12:59:30,665] Trial 42 finished with value: 39.40585345367887 and parameters: {'beta': 1.677165950021699, 'learning_rate': 8.591584569582013e-05, 'batch_size': 21, 'epochs': 816, 'optimizer_type': 'rmsprop'}. Best is trial 41 with value: 38.03933023481227.\n"
     ]
    },
    {
     "name": "stdout",
     "output_type": "stream",
     "text": [
      "8\n"
     ]
    },
    {
     "name": "stderr",
     "output_type": "stream",
     "text": [
      "[I 2024-12-02 13:02:21,440] Trial 43 finished with value: 39.37798771644706 and parameters: {'beta': 1.6707987311296857, 'learning_rate': 8.007653530598572e-05, 'batch_size': 16, 'epochs': 815, 'optimizer_type': 'rmsprop'}. Best is trial 41 with value: 38.03933023481227.\n"
     ]
    },
    {
     "name": "stdout",
     "output_type": "stream",
     "text": [
      "8\n"
     ]
    },
    {
     "name": "stderr",
     "output_type": "stream",
     "text": [
      "[I 2024-12-02 13:03:29,814] Trial 44 finished with value: 42.37660695545709 and parameters: {'beta': 1.7994985757898665, 'learning_rate': 6.268268160881257e-05, 'batch_size': 16, 'epochs': 362, 'optimizer_type': 'rmsprop'}. Best is trial 41 with value: 38.03933023481227.\n"
     ]
    },
    {
     "name": "stdout",
     "output_type": "stream",
     "text": [
      "8\n"
     ]
    },
    {
     "name": "stderr",
     "output_type": "stream",
     "text": [
      "[I 2024-12-02 13:06:13,775] Trial 45 finished with value: 38.855180973793146 and parameters: {'beta': 1.654584107640409, 'learning_rate': 7.979805305647413e-05, 'batch_size': 20, 'epochs': 944, 'optimizer_type': 'rmsprop'}. Best is trial 41 with value: 38.03933023481227.\n"
     ]
    },
    {
     "name": "stdout",
     "output_type": "stream",
     "text": [
      "8\n"
     ]
    },
    {
     "name": "stderr",
     "output_type": "stream",
     "text": [
      "[I 2024-12-02 13:08:26,355] Trial 46 finished with value: 39.68016351728297 and parameters: {'beta': 1.6538865385734147, 'learning_rate': 7.499494240313076e-05, 'batch_size': 29, 'epochs': 960, 'optimizer_type': 'rmsprop'}. Best is trial 41 with value: 38.03933023481227.\n"
     ]
    },
    {
     "name": "stdout",
     "output_type": "stream",
     "text": [
      "8\n"
     ]
    },
    {
     "name": "stderr",
     "output_type": "stream",
     "text": [
      "[I 2024-12-02 13:11:45,123] Trial 47 finished with value: 38.77777837497085 and parameters: {'beta': 1.5476969580311195, 'learning_rate': 8.066382471193311e-05, 'batch_size': 16, 'epochs': 925, 'optimizer_type': 'rmsprop'}. Best is trial 41 with value: 38.03933023481227.\n"
     ]
    },
    {
     "name": "stdout",
     "output_type": "stream",
     "text": [
      "8\n"
     ]
    },
    {
     "name": "stderr",
     "output_type": "stream",
     "text": [
      "[I 2024-12-02 13:14:17,553] Trial 48 finished with value: 38.17499608281833 and parameters: {'beta': 1.5431834964404485, 'learning_rate': 9.492694883779137e-05, 'batch_size': 21, 'epochs': 928, 'optimizer_type': 'rmsprop'}. Best is trial 41 with value: 38.03933023481227.\n"
     ]
    },
    {
     "name": "stdout",
     "output_type": "stream",
     "text": [
      "8\n"
     ]
    },
    {
     "name": "stderr",
     "output_type": "stream",
     "text": [
      "[I 2024-12-02 13:14:25,502] Trial 49 finished with value: 47.899198435313664 and parameters: {'beta': 1.537615483007475, 'learning_rate': 9.533659324416546e-05, 'batch_size': 26, 'epochs': 81, 'optimizer_type': 'rmsprop'}. Best is trial 41 with value: 38.03933023481227.\n",
      "[I 2024-12-02 13:17:45,507] A new study created in memory with name: no-name-a658efa2-ddf6-4e10-8edc-05be6e476c44\n"
     ]
    },
    {
     "name": "stdout",
     "output_type": "stream",
     "text": [
      "8\n"
     ]
    },
    {
     "name": "stderr",
     "output_type": "stream",
     "text": [
      "[I 2024-12-02 13:18:48,913] Trial 0 finished with value: 43.8592945611299 and parameters: {'beta': 1.2903325672877686, 'learning_rate': 3.146564847740625e-05, 'batch_size': 20, 'epochs': 417, 'optimizer_type': 'rmsprop'}. Best is trial 0 with value: 43.8592945611299.\n"
     ]
    },
    {
     "name": "stdout",
     "output_type": "stream",
     "text": [
      "8\n"
     ]
    },
    {
     "name": "stderr",
     "output_type": "stream",
     "text": [
      "[I 2024-12-02 13:19:02,475] Trial 1 finished with value: 47.56274732902868 and parameters: {'beta': 1.4137905461100413, 'learning_rate': 5.255123962846851e-05, 'batch_size': 33, 'epochs': 161, 'optimizer_type': 'rmsprop'}. Best is trial 0 with value: 43.8592945611299.\n"
     ]
    },
    {
     "name": "stdout",
     "output_type": "stream",
     "text": [
      "8\n"
     ]
    },
    {
     "name": "stderr",
     "output_type": "stream",
     "text": [
      "[I 2024-12-02 13:19:44,361] Trial 2 finished with value: 44.05050613631064 and parameters: {'beta': 1.0391323410198197, 'learning_rate': 4.1901884835204324e-05, 'batch_size': 64, 'epochs': 644, 'optimizer_type': 'adam'}. Best is trial 0 with value: 43.8592945611299.\n"
     ]
    },
    {
     "name": "stdout",
     "output_type": "stream",
     "text": [
      "8\n"
     ]
    },
    {
     "name": "stderr",
     "output_type": "stream",
     "text": [
      "[I 2024-12-02 13:20:26,250] Trial 3 finished with value: 41.79470797866138 and parameters: {'beta': 1.9391982258409648, 'learning_rate': 9.841096163535521e-05, 'batch_size': 69, 'epochs': 681, 'optimizer_type': 'adam'}. Best is trial 3 with value: 41.79470797866138.\n"
     ]
    },
    {
     "name": "stdout",
     "output_type": "stream",
     "text": [
      "8\n"
     ]
    },
    {
     "name": "stderr",
     "output_type": "stream",
     "text": [
      "[I 2024-12-02 13:20:59,413] Trial 4 finished with value: 43.9511720571945 and parameters: {'beta': 1.75041727321885, 'learning_rate': 4.879656561919267e-05, 'batch_size': 38, 'epochs': 429, 'optimizer_type': 'rmsprop'}. Best is trial 3 with value: 41.79470797866138.\n"
     ]
    },
    {
     "name": "stdout",
     "output_type": "stream",
     "text": [
      "8\n"
     ]
    },
    {
     "name": "stderr",
     "output_type": "stream",
     "text": [
      "[I 2024-12-02 13:21:42,160] Trial 5 finished with value: 43.81325526450997 and parameters: {'beta': 1.5633866095827267, 'learning_rate': 5.624296910100732e-05, 'batch_size': 83, 'epochs': 709, 'optimizer_type': 'adam'}. Best is trial 3 with value: 41.79470797866138.\n"
     ]
    },
    {
     "name": "stdout",
     "output_type": "stream",
     "text": [
      "8\n"
     ]
    },
    {
     "name": "stderr",
     "output_type": "stream",
     "text": [
      "[I 2024-12-02 13:22:15,357] Trial 6 finished with value: 46.96024024166278 and parameters: {'beta': 1.3917474279173951, 'learning_rate': 4.397859247168799e-05, 'batch_size': 111, 'epochs': 641, 'optimizer_type': 'adam'}. Best is trial 3 with value: 41.79470797866138.\n"
     ]
    },
    {
     "name": "stdout",
     "output_type": "stream",
     "text": [
      "8\n"
     ]
    },
    {
     "name": "stderr",
     "output_type": "stream",
     "text": [
      "[I 2024-12-02 13:22:32,514] Trial 7 finished with value: 47.281843248054166 and parameters: {'beta': 1.3914664109987864, 'learning_rate': 2.643386836413237e-05, 'batch_size': 111, 'epochs': 381, 'optimizer_type': 'rmsprop'}. Best is trial 3 with value: 41.79470797866138.\n"
     ]
    },
    {
     "name": "stdout",
     "output_type": "stream",
     "text": [
      "8\n"
     ]
    },
    {
     "name": "stderr",
     "output_type": "stream",
     "text": [
      "[I 2024-12-02 13:23:22,926] Trial 8 finished with value: 47.45469578984958 and parameters: {'beta': 1.6296102640854415, 'learning_rate': 2.465993456821297e-06, 'batch_size': 30, 'epochs': 494, 'optimizer_type': 'rmsprop'}. Best is trial 3 with value: 41.79470797866138.\n"
     ]
    },
    {
     "name": "stdout",
     "output_type": "stream",
     "text": [
      "8\n"
     ]
    },
    {
     "name": "stderr",
     "output_type": "stream",
     "text": [
      "[I 2024-12-02 13:23:32,042] Trial 9 finished with value: 46.862131192790926 and parameters: {'beta': 1.972551507150638, 'learning_rate': 9.578819395682812e-05, 'batch_size': 51, 'epochs': 118, 'optimizer_type': 'adam'}. Best is trial 3 with value: 41.79470797866138.\n"
     ]
    },
    {
     "name": "stdout",
     "output_type": "stream",
     "text": [
      "8\n"
     ]
    },
    {
     "name": "stderr",
     "output_type": "stream",
     "text": [
      "[I 2024-12-02 13:24:28,376] Trial 10 finished with value: 41.674168509867656 and parameters: {'beta': 1.9654415598498176, 'learning_rate': 9.54071457811618e-05, 'batch_size': 83, 'epochs': 939, 'optimizer_type': 'adam'}. Best is trial 10 with value: 41.674168509867656.\n"
     ]
    },
    {
     "name": "stdout",
     "output_type": "stream",
     "text": [
      "8\n"
     ]
    },
    {
     "name": "stderr",
     "output_type": "stream",
     "text": [
      "[I 2024-12-02 13:25:21,646] Trial 11 finished with value: 40.34309482859142 and parameters: {'beta': 1.989547985869188, 'learning_rate': 9.793466128160811e-05, 'batch_size': 88, 'epochs': 947, 'optimizer_type': 'adam'}. Best is trial 11 with value: 40.34309482859142.\n"
     ]
    },
    {
     "name": "stdout",
     "output_type": "stream",
     "text": [
      "8\n"
     ]
    },
    {
     "name": "stderr",
     "output_type": "stream",
     "text": [
      "[I 2024-12-02 13:26:19,111] Trial 12 finished with value: 42.91055416277985 and parameters: {'beta': 1.7880488830160606, 'learning_rate': 7.856340391455973e-05, 'batch_size': 90, 'epochs': 999, 'optimizer_type': 'adam'}. Best is trial 11 with value: 40.34309482859142.\n"
     ]
    },
    {
     "name": "stdout",
     "output_type": "stream",
     "text": [
      "8\n"
     ]
    },
    {
     "name": "stderr",
     "output_type": "stream",
     "text": [
      "[I 2024-12-02 13:27:10,255] Trial 13 finished with value: 42.1929931640625 and parameters: {'beta': 1.8358252664317758, 'learning_rate': 7.6088117359687e-05, 'batch_size': 89, 'epochs': 928, 'optimizer_type': 'adam'}. Best is trial 11 with value: 40.34309482859142.\n"
     ]
    },
    {
     "name": "stdout",
     "output_type": "stream",
     "text": [
      "8\n"
     ]
    },
    {
     "name": "stderr",
     "output_type": "stream",
     "text": [
      "[I 2024-12-02 13:27:58,546] Trial 14 finished with value: 41.65706440939832 and parameters: {'beta': 1.9815413142670844, 'learning_rate': 8.051960182486394e-05, 'batch_size': 77, 'epochs': 836, 'optimizer_type': 'adam'}. Best is trial 11 with value: 40.34309482859142.\n"
     ]
    },
    {
     "name": "stdout",
     "output_type": "stream",
     "text": [
      "8\n"
     ]
    },
    {
     "name": "stderr",
     "output_type": "stream",
     "text": [
      "[I 2024-12-02 13:28:48,249] Trial 15 finished with value: 40.68477892519823 and parameters: {'beta': 1.6724420178636281, 'learning_rate': 7.702542869976911e-05, 'batch_size': 71, 'epochs': 788, 'optimizer_type': 'adam'}. Best is trial 11 with value: 40.34309482859142.\n"
     ]
    },
    {
     "name": "stdout",
     "output_type": "stream",
     "text": [
      "8\n"
     ]
    },
    {
     "name": "stderr",
     "output_type": "stream",
     "text": [
      "[I 2024-12-02 13:29:30,441] Trial 16 finished with value: 43.404208692863804 and parameters: {'beta': 1.647693119179284, 'learning_rate': 6.903347057091787e-05, 'batch_size': 97, 'epochs': 788, 'optimizer_type': 'adam'}. Best is trial 11 with value: 40.34309482859142.\n"
     ]
    },
    {
     "name": "stdout",
     "output_type": "stream",
     "text": [
      "8\n"
     ]
    },
    {
     "name": "stderr",
     "output_type": "stream",
     "text": [
      "[I 2024-12-02 13:30:36,315] Trial 17 finished with value: 41.82148373731926 and parameters: {'beta': 1.21347550150318, 'learning_rate': 6.615510566533348e-05, 'batch_size': 55, 'epochs': 829, 'optimizer_type': 'adam'}. Best is trial 11 with value: 40.34309482859142.\n"
     ]
    },
    {
     "name": "stdout",
     "output_type": "stream",
     "text": [
      "8\n"
     ]
    },
    {
     "name": "stderr",
     "output_type": "stream",
     "text": [
      "[I 2024-12-02 13:30:51,180] Trial 18 finished with value: 46.72824889225746 and parameters: {'beta': 1.850716809698658, 'learning_rate': 8.799224827047626e-05, 'batch_size': 98, 'epochs': 270, 'optimizer_type': 'adam'}. Best is trial 11 with value: 40.34309482859142.\n"
     ]
    },
    {
     "name": "stdout",
     "output_type": "stream",
     "text": [
      "8\n"
     ]
    },
    {
     "name": "stderr",
     "output_type": "stream",
     "text": [
      "[I 2024-12-02 13:31:26,560] Trial 19 finished with value: 43.37307803025886 and parameters: {'beta': 1.7025174513185029, 'learning_rate': 8.711571218339766e-05, 'batch_size': 70, 'epochs': 567, 'optimizer_type': 'adam'}. Best is trial 11 with value: 40.34309482859142.\n"
     ]
    },
    {
     "name": "stdout",
     "output_type": "stream",
     "text": [
      "8\n"
     ]
    },
    {
     "name": "stderr",
     "output_type": "stream",
     "text": [
      "[I 2024-12-02 13:32:29,764] Trial 20 finished with value: 42.02443515151295 and parameters: {'beta': 1.5311244745464072, 'learning_rate': 6.191616440379716e-05, 'batch_size': 51, 'epochs': 765, 'optimizer_type': 'adam'}. Best is trial 11 with value: 40.34309482859142.\n"
     ]
    },
    {
     "name": "stdout",
     "output_type": "stream",
     "text": [
      "8\n"
     ]
    },
    {
     "name": "stderr",
     "output_type": "stream",
     "text": [
      "[I 2024-12-02 13:33:22,360] Trial 21 finished with value: 41.06912787138526 and parameters: {'beta': 1.8798019001282253, 'learning_rate': 8.29819888147062e-05, 'batch_size': 77, 'epochs': 867, 'optimizer_type': 'adam'}. Best is trial 11 with value: 40.34309482859142.\n"
     ]
    },
    {
     "name": "stdout",
     "output_type": "stream",
     "text": [
      "8\n"
     ]
    },
    {
     "name": "stderr",
     "output_type": "stream",
     "text": [
      "[I 2024-12-02 13:34:24,764] Trial 22 finished with value: 40.81878370598181 and parameters: {'beta': 1.8686034807852308, 'learning_rate': 8.702686525209559e-05, 'batch_size': 63, 'epochs': 911, 'optimizer_type': 'adam'}. Best is trial 11 with value: 40.34309482859142.\n"
     ]
    },
    {
     "name": "stdout",
     "output_type": "stream",
     "text": [
      "8\n"
     ]
    },
    {
     "name": "stderr",
     "output_type": "stream",
     "text": [
      "[I 2024-12-02 13:34:25,177] Trial 23 finished with value: 120.17957599696828 and parameters: {'beta': 1.720092007210473, 'learning_rate': 9.03295138197356e-05, 'batch_size': 58, 'epochs': 5, 'optimizer_type': 'adam'}. Best is trial 11 with value: 40.34309482859142.\n"
     ]
    },
    {
     "name": "stdout",
     "output_type": "stream",
     "text": [
      "8\n"
     ]
    },
    {
     "name": "stderr",
     "output_type": "stream",
     "text": [
      "[I 2024-12-02 13:35:50,642] Trial 24 finished with value: 40.297281111532186 and parameters: {'beta': 1.8974988520307325, 'learning_rate': 7.289777446530615e-05, 'batch_size': 42, 'epochs': 994, 'optimizer_type': 'adam'}. Best is trial 24 with value: 40.297281111532186.\n"
     ]
    },
    {
     "name": "stdout",
     "output_type": "stream",
     "text": [
      "8\n"
     ]
    },
    {
     "name": "stderr",
     "output_type": "stream",
     "text": [
      "[I 2024-12-02 13:37:14,177] Trial 25 finished with value: 40.472469500641324 and parameters: {'beta': 1.7797461537891197, 'learning_rate': 7.444345119974051e-05, 'batch_size': 42, 'epochs': 970, 'optimizer_type': 'adam'}. Best is trial 24 with value: 40.297281111532186.\n"
     ]
    },
    {
     "name": "stdout",
     "output_type": "stream",
     "text": [
      "8\n"
     ]
    },
    {
     "name": "stderr",
     "output_type": "stream",
     "text": [
      "[I 2024-12-02 13:38:48,609] Trial 26 finished with value: 41.49876526789879 and parameters: {'beta': 1.7930065804433395, 'learning_rate': 7.169497598727972e-05, 'batch_size': 40, 'epochs': 985, 'optimizer_type': 'rmsprop'}. Best is trial 24 with value: 40.297281111532186.\n"
     ]
    },
    {
     "name": "stdout",
     "output_type": "stream",
     "text": [
      "8\n"
     ]
    },
    {
     "name": "stderr",
     "output_type": "stream",
     "text": [
      "[I 2024-12-02 13:40:04,604] Trial 27 finished with value: 40.94634221774429 and parameters: {'beta': 1.8601643229668872, 'learning_rate': 6.458193747333661e-05, 'batch_size': 44, 'epochs': 902, 'optimizer_type': 'adam'}. Best is trial 24 with value: 40.297281111532186.\n"
     ]
    },
    {
     "name": "stdout",
     "output_type": "stream",
     "text": [
      "8\n"
     ]
    },
    {
     "name": "stderr",
     "output_type": "stream",
     "text": [
      "[I 2024-12-02 13:42:24,957] Trial 28 finished with value: 39.40188279792444 and parameters: {'beta': 1.9250395661804407, 'learning_rate': 5.907444033808864e-05, 'batch_size': 21, 'epochs': 983, 'optimizer_type': 'adam'}. Best is trial 28 with value: 39.40188279792444.\n"
     ]
    },
    {
     "name": "stdout",
     "output_type": "stream",
     "text": [
      "8\n"
     ]
    },
    {
     "name": "stderr",
     "output_type": "stream",
     "text": [
      "[I 2024-12-02 13:45:03,364] Trial 29 finished with value: 42.37217826273904 and parameters: {'beta': 1.917760513817782, 'learning_rate': 3.0114309450322348e-05, 'batch_size': 16, 'epochs': 734, 'optimizer_type': 'rmsprop'}. Best is trial 28 with value: 39.40188279792444.\n"
     ]
    },
    {
     "name": "stdout",
     "output_type": "stream",
     "text": [
      "8\n"
     ]
    },
    {
     "name": "stderr",
     "output_type": "stream",
     "text": [
      "[I 2024-12-02 13:46:57,001] Trial 30 finished with value: 43.33390581501064 and parameters: {'beta': 1.9906035145354612, 'learning_rate': 1.828860889217548e-05, 'batch_size': 23, 'epochs': 859, 'optimizer_type': 'adam'}. Best is trial 28 with value: 39.40188279792444.\n"
     ]
    },
    {
     "name": "stdout",
     "output_type": "stream",
     "text": [
      "8\n"
     ]
    },
    {
     "name": "stderr",
     "output_type": "stream",
     "text": [
      "[I 2024-12-02 13:48:46,511] Trial 31 finished with value: 40.401261696886664 and parameters: {'beta': 1.7790986331656804, 'learning_rate': 5.89719606504812e-05, 'batch_size': 27, 'epochs': 995, 'optimizer_type': 'adam'}. Best is trial 28 with value: 39.40188279792444.\n"
     ]
    },
    {
     "name": "stdout",
     "output_type": "stream",
     "text": [
      "8\n"
     ]
    },
    {
     "name": "stderr",
     "output_type": "stream",
     "text": [
      "[I 2024-12-02 13:50:32,081] Trial 32 finished with value: 39.52458769385495 and parameters: {'beta': 1.9106000740896143, 'learning_rate': 5.7405060051587574e-05, 'batch_size': 28, 'epochs': 998, 'optimizer_type': 'adam'}. Best is trial 28 with value: 39.40188279792444.\n"
     ]
    },
    {
     "name": "stdout",
     "output_type": "stream",
     "text": [
      "8\n"
     ]
    },
    {
     "name": "stderr",
     "output_type": "stream",
     "text": [
      "[I 2024-12-02 13:52:29,694] Trial 33 finished with value: 42.08219672815124 and parameters: {'beta': 1.9135246370796257, 'learning_rate': 5.187573144070513e-05, 'batch_size': 22, 'epochs': 899, 'optimizer_type': 'adam'}. Best is trial 28 with value: 39.40188279792444.\n"
     ]
    },
    {
     "name": "stdout",
     "output_type": "stream",
     "text": [
      "8\n"
     ]
    },
    {
     "name": "stderr",
     "output_type": "stream",
     "text": [
      "[I 2024-12-02 13:54:00,323] Trial 34 finished with value: 41.766473661963616 and parameters: {'beta': 1.036961965133108, 'learning_rate': 4.34546454399234e-05, 'batch_size': 32, 'epochs': 917, 'optimizer_type': 'adam'}. Best is trial 28 with value: 39.40188279792444.\n"
     ]
    },
    {
     "name": "stdout",
     "output_type": "stream",
     "text": [
      "8\n"
     ]
    },
    {
     "name": "stderr",
     "output_type": "stream",
     "text": [
      "[I 2024-12-02 13:57:03,069] Trial 35 finished with value: 39.91742881661031 and parameters: {'beta': 1.9158477295667369, 'learning_rate': 5.596361217326834e-05, 'batch_size': 16, 'epochs': 834, 'optimizer_type': 'rmsprop'}. Best is trial 28 with value: 39.40188279792444.\n"
     ]
    },
    {
     "name": "stdout",
     "output_type": "stream",
     "text": [
      "8\n"
     ]
    },
    {
     "name": "stderr",
     "output_type": "stream",
     "text": [
      "[I 2024-12-02 13:58:02,876] Trial 36 finished with value: 44.202482764400656 and parameters: {'beta': 1.1995620141898544, 'learning_rate': 3.879389229281855e-05, 'batch_size': 35, 'epochs': 611, 'optimizer_type': 'rmsprop'}. Best is trial 28 with value: 39.40188279792444.\n"
     ]
    },
    {
     "name": "stdout",
     "output_type": "stream",
     "text": [
      "8\n"
     ]
    },
    {
     "name": "stderr",
     "output_type": "stream",
     "text": [
      "[I 2024-12-02 14:00:46,603] Trial 37 finished with value: 40.10673413632521 and parameters: {'beta': 1.4623148599460847, 'learning_rate': 5.3242946284609e-05, 'batch_size': 18, 'epochs': 822, 'optimizer_type': 'rmsprop'}. Best is trial 28 with value: 39.40188279792444.\n"
     ]
    },
    {
     "name": "stdout",
     "output_type": "stream",
     "text": [
      "8\n"
     ]
    },
    {
     "name": "stderr",
     "output_type": "stream",
     "text": [
      "[I 2024-12-02 14:03:09,990] Trial 38 finished with value: 40.37647477335005 and parameters: {'beta': 1.4643638450690166, 'learning_rate': 4.949328857231196e-05, 'batch_size': 16, 'epochs': 700, 'optimizer_type': 'rmsprop'}. Best is trial 28 with value: 39.40188279792444.\n"
     ]
    },
    {
     "name": "stdout",
     "output_type": "stream",
     "text": [
      "8\n"
     ]
    },
    {
     "name": "stderr",
     "output_type": "stream",
     "text": [
      "[I 2024-12-02 14:05:06,043] Trial 39 finished with value: 42.11311855031483 and parameters: {'beta': 1.3274874475330352, 'learning_rate': 5.3124319729810426e-05, 'batch_size': 26, 'epochs': 815, 'optimizer_type': 'rmsprop'}. Best is trial 28 with value: 39.40188279792444.\n"
     ]
    },
    {
     "name": "stdout",
     "output_type": "stream",
     "text": [
      "8\n"
     ]
    },
    {
     "name": "stderr",
     "output_type": "stream",
     "text": [
      "[I 2024-12-02 14:07:18,301] Trial 40 finished with value: 41.101852280346314 and parameters: {'beta': 1.5642806417366881, 'learning_rate': 3.7707260350239424e-05, 'batch_size': 20, 'epochs': 733, 'optimizer_type': 'rmsprop'}. Best is trial 28 with value: 39.40188279792444.\n"
     ]
    },
    {
     "name": "stdout",
     "output_type": "stream",
     "text": [
      "8\n"
     ]
    },
    {
     "name": "stderr",
     "output_type": "stream",
     "text": [
      "[I 2024-12-02 14:09:11,456] Trial 41 finished with value: 41.484210751661614 and parameters: {'beta': 1.450242534175587, 'learning_rate': 5.661806665923552e-05, 'batch_size': 27, 'epochs': 871, 'optimizer_type': 'rmsprop'}. Best is trial 28 with value: 39.40188279792444.\n"
     ]
    },
    {
     "name": "stdout",
     "output_type": "stream",
     "text": [
      "8\n"
     ]
    },
    {
     "name": "stderr",
     "output_type": "stream",
     "text": [
      "[I 2024-12-02 14:12:46,098] Trial 42 finished with value: 39.27923192266208 and parameters: {'beta': 1.9166946337452722, 'learning_rate': 4.5879978923610866e-05, 'batch_size': 16, 'epochs': 992, 'optimizer_type': 'rmsprop'}. Best is trial 42 with value: 39.27923192266208.\n"
     ]
    },
    {
     "name": "stdout",
     "output_type": "stream",
     "text": [
      "8\n"
     ]
    },
    {
     "name": "stderr",
     "output_type": "stream",
     "text": [
      "[I 2024-12-02 14:16:11,039] Trial 43 finished with value: 40.282749141863924 and parameters: {'beta': 1.5925206460681804, 'learning_rate': 4.678888539316394e-05, 'batch_size': 17, 'epochs': 946, 'optimizer_type': 'rmsprop'}. Best is trial 42 with value: 39.27923192266208.\n"
     ]
    },
    {
     "name": "stdout",
     "output_type": "stream",
     "text": [
      "8\n"
     ]
    },
    {
     "name": "stderr",
     "output_type": "stream",
     "text": [
      "[I 2024-12-02 14:16:44,654] Trial 44 finished with value: 43.663982106678525 and parameters: {'beta': 1.919510084734325, 'learning_rate': 6.0118434443498614e-05, 'batch_size': 35, 'epochs': 393, 'optimizer_type': 'rmsprop'}. Best is trial 42 with value: 39.27923192266208.\n"
     ]
    },
    {
     "name": "stdout",
     "output_type": "stream",
     "text": [
      "8\n"
     ]
    },
    {
     "name": "stderr",
     "output_type": "stream",
     "text": [
      "[I 2024-12-02 14:18:00,090] Trial 45 finished with value: 43.145173212307604 and parameters: {'beta': 1.3426253988783823, 'learning_rate': 5.429579335197481e-05, 'batch_size': 23, 'epochs': 515, 'optimizer_type': 'rmsprop'}. Best is trial 42 with value: 39.27923192266208.\n"
     ]
    },
    {
     "name": "stdout",
     "output_type": "stream",
     "text": [
      "8\n"
     ]
    },
    {
     "name": "stderr",
     "output_type": "stream",
     "text": [
      "[I 2024-12-02 14:18:29,587] Trial 46 finished with value: 46.533141133322644 and parameters: {'beta': 1.8201547073914837, 'learning_rate': 3.4256875387756876e-05, 'batch_size': 30, 'epochs': 311, 'optimizer_type': 'rmsprop'}. Best is trial 42 with value: 39.27923192266208.\n"
     ]
    },
    {
     "name": "stdout",
     "output_type": "stream",
     "text": [
      "8\n"
     ]
    },
    {
     "name": "stderr",
     "output_type": "stream",
     "text": [
      "[I 2024-12-02 14:20:24,390] Trial 47 finished with value: 42.40897827148437 and parameters: {'beta': 1.7277490469822854, 'learning_rate': 4.7250488699602876e-05, 'batch_size': 20, 'epochs': 655, 'optimizer_type': 'rmsprop'}. Best is trial 42 with value: 39.27923192266208.\n"
     ]
    },
    {
     "name": "stdout",
     "output_type": "stream",
     "text": [
      "8\n"
     ]
    },
    {
     "name": "stderr",
     "output_type": "stream",
     "text": [
      "[I 2024-12-02 14:22:26,371] Trial 48 finished with value: 42.784564573373366 and parameters: {'beta': 1.931476850009238, 'learning_rate': 2.3310676203767007e-05, 'batch_size': 26, 'epochs': 885, 'optimizer_type': 'rmsprop'}. Best is trial 42 with value: 39.27923192266208.\n"
     ]
    },
    {
     "name": "stdout",
     "output_type": "stream",
     "text": [
      "8\n"
     ]
    },
    {
     "name": "stderr",
     "output_type": "stream",
     "text": [
      "[I 2024-12-02 14:25:06,790] Trial 49 finished with value: 41.0193550451478 and parameters: {'beta': 1.2431033784703411, 'learning_rate': 6.48265597200638e-05, 'batch_size': 19, 'epochs': 816, 'optimizer_type': 'rmsprop'}. Best is trial 42 with value: 39.27923192266208.\n",
      "[I 2024-12-02 14:28:50,596] A new study created in memory with name: no-name-d0dbaced-2106-41c5-9cb3-8b0d290c8458\n"
     ]
    },
    {
     "name": "stdout",
     "output_type": "stream",
     "text": [
      "8\n"
     ]
    },
    {
     "name": "stderr",
     "output_type": "stream",
     "text": [
      "[I 2024-12-02 14:29:06,168] Trial 0 finished with value: 47.78703686159049 and parameters: {'beta': 1.822745750721397, 'learning_rate': 1.0149241148230303e-05, 'batch_size': 100, 'epochs': 316, 'optimizer_type': 'adam'}. Best is trial 0 with value: 47.78703686159049.\n"
     ]
    },
    {
     "name": "stdout",
     "output_type": "stream",
     "text": [
      "8\n"
     ]
    },
    {
     "name": "stderr",
     "output_type": "stream",
     "text": [
      "[I 2024-12-02 14:29:43,197] Trial 1 finished with value: 43.630869577891794 and parameters: {'beta': 1.4638164702462182, 'learning_rate': 8.662832977305767e-05, 'batch_size': 89, 'epochs': 793, 'optimizer_type': 'rmsprop'}. Best is trial 1 with value: 43.630869577891794.\n"
     ]
    },
    {
     "name": "stdout",
     "output_type": "stream",
     "text": [
      "8\n"
     ]
    },
    {
     "name": "stderr",
     "output_type": "stream",
     "text": [
      "[I 2024-12-02 14:30:10,732] Trial 2 finished with value: 46.911250145755595 and parameters: {'beta': 1.7082459120741953, 'learning_rate': 3.971228596256182e-05, 'batch_size': 62, 'epochs': 500, 'optimizer_type': 'rmsprop'}. Best is trial 1 with value: 43.630869577891794.\n"
     ]
    },
    {
     "name": "stdout",
     "output_type": "stream",
     "text": [
      "8\n"
     ]
    },
    {
     "name": "stderr",
     "output_type": "stream",
     "text": [
      "[I 2024-12-02 14:31:40,858] Trial 3 finished with value: 40.33613490773671 and parameters: {'beta': 1.9695650972282666, 'learning_rate': 8.975137041155751e-05, 'batch_size': 25, 'epochs': 678, 'optimizer_type': 'rmsprop'}. Best is trial 3 with value: 40.33613490773671.\n"
     ]
    },
    {
     "name": "stdout",
     "output_type": "stream",
     "text": [
      "8\n"
     ]
    },
    {
     "name": "stderr",
     "output_type": "stream",
     "text": [
      "[I 2024-12-02 14:31:56,060] Trial 4 finished with value: 46.99509400325035 and parameters: {'beta': 1.456157266796236, 'learning_rate': 4.932406593088409e-05, 'batch_size': 60, 'epochs': 261, 'optimizer_type': 'rmsprop'}. Best is trial 3 with value: 40.33613490773671.\n"
     ]
    },
    {
     "name": "stdout",
     "output_type": "stream",
     "text": [
      "8\n"
     ]
    },
    {
     "name": "stderr",
     "output_type": "stream",
     "text": [
      "[I 2024-12-02 14:32:33,162] Trial 5 finished with value: 46.490172702163015 and parameters: {'beta': 1.860749851081459, 'learning_rate': 1.864750115849054e-05, 'batch_size': 24, 'epochs': 313, 'optimizer_type': 'adam'}. Best is trial 3 with value: 40.33613490773671.\n"
     ]
    },
    {
     "name": "stdout",
     "output_type": "stream",
     "text": [
      "8\n"
     ]
    },
    {
     "name": "stderr",
     "output_type": "stream",
     "text": [
      "[I 2024-12-02 14:32:37,573] Trial 6 finished with value: 47.60073442601446 and parameters: {'beta': 1.2460643369091386, 'learning_rate': 8.206306685151547e-05, 'batch_size': 63, 'epochs': 79, 'optimizer_type': 'rmsprop'}. Best is trial 3 with value: 40.33613490773671.\n"
     ]
    },
    {
     "name": "stdout",
     "output_type": "stream",
     "text": [
      "8\n"
     ]
    },
    {
     "name": "stderr",
     "output_type": "stream",
     "text": [
      "[I 2024-12-02 14:33:14,051] Trial 7 finished with value: 44.74956929221082 and parameters: {'beta': 1.468700818568647, 'learning_rate': 3.692098174748967e-05, 'batch_size': 79, 'epochs': 730, 'optimizer_type': 'rmsprop'}. Best is trial 3 with value: 40.33613490773671.\n"
     ]
    },
    {
     "name": "stdout",
     "output_type": "stream",
     "text": [
      "8\n"
     ]
    },
    {
     "name": "stderr",
     "output_type": "stream",
     "text": [
      "[I 2024-12-02 14:33:22,245] Trial 8 finished with value: 47.243181553171645 and parameters: {'beta': 1.7713957750008995, 'learning_rate': 6.79678783123827e-05, 'batch_size': 69, 'epochs': 140, 'optimizer_type': 'adam'}. Best is trial 3 with value: 40.33613490773671.\n"
     ]
    },
    {
     "name": "stdout",
     "output_type": "stream",
     "text": [
      "8\n"
     ]
    },
    {
     "name": "stderr",
     "output_type": "stream",
     "text": [
      "[I 2024-12-02 14:33:56,623] Trial 9 finished with value: 43.907239953795475 and parameters: {'beta': 1.9995925280373275, 'learning_rate': 6.700037541800742e-05, 'batch_size': 93, 'epochs': 749, 'optimizer_type': 'rmsprop'}. Best is trial 3 with value: 40.33613490773671.\n"
     ]
    },
    {
     "name": "stdout",
     "output_type": "stream",
     "text": [
      "8\n"
     ]
    },
    {
     "name": "stderr",
     "output_type": "stream",
     "text": [
      "[I 2024-12-02 14:36:25,432] Trial 10 finished with value: 37.08425545763613 and parameters: {'beta': 1.0820597868735633, 'learning_rate': 9.989079996384126e-05, 'batch_size': 18, 'epochs': 965, 'optimizer_type': 'adam'}. Best is trial 10 with value: 37.08425545763613.\n"
     ]
    },
    {
     "name": "stdout",
     "output_type": "stream",
     "text": [
      "8\n"
     ]
    },
    {
     "name": "stderr",
     "output_type": "stream",
     "text": [
      "[I 2024-12-02 14:39:04,777] Trial 11 finished with value: 38.54634253658465 and parameters: {'beta': 1.057053235391364, 'learning_rate': 9.943632000989075e-05, 'batch_size': 17, 'epochs': 998, 'optimizer_type': 'adam'}. Best is trial 10 with value: 37.08425545763613.\n"
     ]
    },
    {
     "name": "stdout",
     "output_type": "stream",
     "text": [
      "8\n"
     ]
    },
    {
     "name": "stderr",
     "output_type": "stream",
     "text": [
      "[I 2024-12-02 14:40:30,047] Trial 12 finished with value: 39.864875337970794 and parameters: {'beta': 1.026634788002586, 'learning_rate': 9.753858307073744e-05, 'batch_size': 37, 'epochs': 963, 'optimizer_type': 'adam'}. Best is trial 10 with value: 37.08425545763613.\n"
     ]
    },
    {
     "name": "stdout",
     "output_type": "stream",
     "text": [
      "8\n"
     ]
    },
    {
     "name": "stderr",
     "output_type": "stream",
     "text": [
      "[I 2024-12-02 14:41:51,296] Trial 13 finished with value: 40.89840379401819 and parameters: {'beta': 1.0148642943368469, 'learning_rate': 7.114684982179964e-05, 'batch_size': 40, 'epochs': 986, 'optimizer_type': 'adam'}. Best is trial 10 with value: 37.08425545763613.\n"
     ]
    },
    {
     "name": "stdout",
     "output_type": "stream",
     "text": [
      "8\n"
     ]
    },
    {
     "name": "stderr",
     "output_type": "stream",
     "text": [
      "[I 2024-12-02 14:42:59,950] Trial 14 finished with value: 40.61514136470966 and parameters: {'beta': 1.2079975708796495, 'learning_rate': 9.856700935597164e-05, 'batch_size': 44, 'epochs': 849, 'optimizer_type': 'adam'}. Best is trial 10 with value: 37.08425545763613.\n"
     ]
    },
    {
     "name": "stdout",
     "output_type": "stream",
     "text": [
      "8\n"
     ]
    },
    {
     "name": "stderr",
     "output_type": "stream",
     "text": [
      "[I 2024-12-02 14:44:25,037] Trial 15 finished with value: 42.790139679410565 and parameters: {'beta': 1.2107872564634568, 'learning_rate': 7.733633896627682e-05, 'batch_size': 17, 'epochs': 532, 'optimizer_type': 'adam'}. Best is trial 10 with value: 37.08425545763613.\n"
     ]
    },
    {
     "name": "stdout",
     "output_type": "stream",
     "text": [
      "8\n"
     ]
    },
    {
     "name": "stderr",
     "output_type": "stream",
     "text": [
      "[I 2024-12-02 14:45:29,255] Trial 16 finished with value: 41.60254434614039 and parameters: {'beta': 1.2974143679505337, 'learning_rate': 5.9714693850655037e-05, 'batch_size': 48, 'epochs': 893, 'optimizer_type': 'adam'}. Best is trial 10 with value: 37.08425545763613.\n"
     ]
    },
    {
     "name": "stdout",
     "output_type": "stream",
     "text": [
      "8\n"
     ]
    },
    {
     "name": "stderr",
     "output_type": "stream",
     "text": [
      "[I 2024-12-02 14:47:09,212] Trial 17 finished with value: 40.46108689948694 and parameters: {'beta': 1.6358618992699254, 'learning_rate': 9.789290261985541e-05, 'batch_size': 16, 'epochs': 596, 'optimizer_type': 'adam'}. Best is trial 10 with value: 37.08425545763613.\n"
     ]
    },
    {
     "name": "stdout",
     "output_type": "stream",
     "text": [
      "8\n"
     ]
    },
    {
     "name": "stderr",
     "output_type": "stream",
     "text": [
      "[I 2024-12-02 14:48:42,304] Trial 18 finished with value: 41.01944379664179 and parameters: {'beta': 1.1090179507945033, 'learning_rate': 5.50764065499715e-05, 'batch_size': 30, 'epochs': 911, 'optimizer_type': 'adam'}. Best is trial 10 with value: 37.08425545763613.\n"
     ]
    },
    {
     "name": "stdout",
     "output_type": "stream",
     "text": [
      "8\n"
     ]
    },
    {
     "name": "stderr",
     "output_type": "stream",
     "text": [
      "[I 2024-12-02 14:49:03,180] Trial 19 finished with value: 44.57455136882725 and parameters: {'beta': 1.3650329607155305, 'learning_rate': 8.727923879974833e-05, 'batch_size': 111, 'epochs': 426, 'optimizer_type': 'adam'}. Best is trial 10 with value: 37.08425545763613.\n"
     ]
    },
    {
     "name": "stdout",
     "output_type": "stream",
     "text": [
      "8\n"
     ]
    },
    {
     "name": "stderr",
     "output_type": "stream",
     "text": [
      "[I 2024-12-02 14:49:50,878] Trial 20 finished with value: 46.4785424986882 and parameters: {'beta': 1.1229569502712957, 'learning_rate': 2.773831070098331e-05, 'batch_size': 50, 'epochs': 656, 'optimizer_type': 'adam'}. Best is trial 10 with value: 37.08425545763613.\n"
     ]
    },
    {
     "name": "stdout",
     "output_type": "stream",
     "text": [
      "8\n"
     ]
    },
    {
     "name": "stderr",
     "output_type": "stream",
     "text": [
      "[I 2024-12-02 14:51:26,017] Trial 21 finished with value: 39.64538064074161 and parameters: {'beta': 1.0121852297790874, 'learning_rate': 9.744846002143778e-05, 'batch_size': 32, 'epochs': 994, 'optimizer_type': 'adam'}. Best is trial 10 with value: 37.08425545763613.\n"
     ]
    },
    {
     "name": "stdout",
     "output_type": "stream",
     "text": [
      "8\n"
     ]
    },
    {
     "name": "stderr",
     "output_type": "stream",
     "text": [
      "[I 2024-12-02 14:52:58,894] Trial 22 finished with value: 39.96675077979244 and parameters: {'beta': 1.1168338739050532, 'learning_rate': 9.299021615788981e-05, 'batch_size': 32, 'epochs': 978, 'optimizer_type': 'adam'}. Best is trial 10 with value: 37.08425545763613.\n"
     ]
    },
    {
     "name": "stdout",
     "output_type": "stream",
     "text": [
      "8\n"
     ]
    },
    {
     "name": "stderr",
     "output_type": "stream",
     "text": [
      "[I 2024-12-02 14:54:34,078] Trial 23 finished with value: 40.420129121239505 and parameters: {'beta': 1.0159845264714522, 'learning_rate': 7.749540064998478e-05, 'batch_size': 25, 'epochs': 829, 'optimizer_type': 'adam'}. Best is trial 10 with value: 37.08425545763613.\n"
     ]
    },
    {
     "name": "stdout",
     "output_type": "stream",
     "text": [
      "8\n"
     ]
    },
    {
     "name": "stderr",
     "output_type": "stream",
     "text": [
      "[I 2024-12-02 14:56:47,318] Trial 24 finished with value: 38.770722437616605 and parameters: {'beta': 1.1252040513323789, 'learning_rate': 9.983794190799839e-05, 'batch_size': 19, 'epochs': 903, 'optimizer_type': 'adam'}. Best is trial 10 with value: 37.08425545763613.\n"
     ]
    },
    {
     "name": "stdout",
     "output_type": "stream",
     "text": [
      "8\n"
     ]
    },
    {
     "name": "stderr",
     "output_type": "stream",
     "text": [
      "[I 2024-12-02 14:59:06,643] Trial 25 finished with value: 38.74896659281716 and parameters: {'beta': 1.3402379352313174, 'learning_rate': 8.156061326154807e-05, 'batch_size': 16, 'epochs': 841, 'optimizer_type': 'adam'}. Best is trial 10 with value: 37.08425545763613.\n"
     ]
    },
    {
     "name": "stdout",
     "output_type": "stream",
     "text": [
      "8\n"
     ]
    },
    {
     "name": "stderr",
     "output_type": "stream",
     "text": [
      "[I 2024-12-02 15:01:18,811] Trial 26 finished with value: 40.1506080741313 and parameters: {'beta': 1.3549865268296923, 'learning_rate': 8.198478624264507e-05, 'batch_size': 16, 'epochs': 801, 'optimizer_type': 'adam'}. Best is trial 10 with value: 37.08425545763613.\n"
     ]
    },
    {
     "name": "stdout",
     "output_type": "stream",
     "text": [
      "8\n"
     ]
    },
    {
     "name": "stderr",
     "output_type": "stream",
     "text": [
      "[I 2024-12-02 15:02:21,232] Trial 27 finished with value: 42.88524880480411 and parameters: {'beta': 1.582122359394442, 'learning_rate': 7.542863946996321e-05, 'batch_size': 52, 'epochs': 907, 'optimizer_type': 'adam'}. Best is trial 10 with value: 37.08425545763613.\n"
     ]
    },
    {
     "name": "stdout",
     "output_type": "stream",
     "text": [
      "8\n"
     ]
    },
    {
     "name": "stderr",
     "output_type": "stream",
     "text": [
      "[I 2024-12-02 15:03:25,471] Trial 28 finished with value: 40.788921663654385 and parameters: {'beta': 1.3377644201838508, 'learning_rate': 8.780775451097186e-05, 'batch_size': 36, 'epochs': 731, 'optimizer_type': 'adam'}. Best is trial 10 with value: 37.08425545763613.\n"
     ]
    },
    {
     "name": "stdout",
     "output_type": "stream",
     "text": [
      "8\n"
     ]
    },
    {
     "name": "stderr",
     "output_type": "stream",
     "text": [
      "[I 2024-12-02 15:05:03,052] Trial 29 finished with value: 47.716149629052005 and parameters: {'beta': 1.18095576965293, 'learning_rate': 2.493722837686311e-06, 'batch_size': 25, 'epochs': 849, 'optimizer_type': 'adam'}. Best is trial 10 with value: 37.08425545763613.\n"
     ]
    },
    {
     "name": "stdout",
     "output_type": "stream",
     "text": [
      "8\n"
     ]
    },
    {
     "name": "stderr",
     "output_type": "stream",
     "text": [
      "[I 2024-12-02 15:06:27,899] Trial 30 finished with value: 42.961626286293146 and parameters: {'beta': 1.269830462443173, 'learning_rate': 6.0900122783017575e-05, 'batch_size': 21, 'epochs': 642, 'optimizer_type': 'adam'}. Best is trial 10 with value: 37.08425545763613.\n"
     ]
    },
    {
     "name": "stdout",
     "output_type": "stream",
     "text": [
      "8\n"
     ]
    },
    {
     "name": "stderr",
     "output_type": "stream",
     "text": [
      "[I 2024-12-02 15:08:06,722] Trial 31 finished with value: 40.01602323162022 and parameters: {'beta': 1.0817372257109479, 'learning_rate': 9.270203724218483e-05, 'batch_size': 30, 'epochs': 914, 'optimizer_type': 'adam'}. Best is trial 10 with value: 37.08425545763613.\n"
     ]
    },
    {
     "name": "stdout",
     "output_type": "stream",
     "text": [
      "8\n"
     ]
    },
    {
     "name": "stderr",
     "output_type": "stream",
     "text": [
      "[I 2024-12-02 15:10:32,468] Trial 32 finished with value: 40.51054086258162 and parameters: {'beta': 1.137669248013972, 'learning_rate': 9.998896818262735e-05, 'batch_size': 22, 'epochs': 931, 'optimizer_type': 'adam'}. Best is trial 10 with value: 37.08425545763613.\n"
     ]
    },
    {
     "name": "stdout",
     "output_type": "stream",
     "text": [
      "8\n"
     ]
    },
    {
     "name": "stderr",
     "output_type": "stream",
     "text": [
      "[I 2024-12-02 15:13:12,743] Trial 33 finished with value: 39.02995660127099 and parameters: {'beta': 1.4139218194860557, 'learning_rate': 8.475248990203659e-05, 'batch_size': 16, 'epochs': 786, 'optimizer_type': 'adam'}. Best is trial 10 with value: 37.08425545763613.\n"
     ]
    },
    {
     "name": "stdout",
     "output_type": "stream",
     "text": [
      "8\n"
     ]
    },
    {
     "name": "stderr",
     "output_type": "stream",
     "text": [
      "[I 2024-12-02 15:15:09,289] Trial 34 finished with value: 40.16650632032707 and parameters: {'beta': 1.153505180646026, 'learning_rate': 9.187418393366318e-05, 'batch_size': 29, 'epochs': 878, 'optimizer_type': 'adam'}. Best is trial 10 with value: 37.08425545763613.\n"
     ]
    },
    {
     "name": "stdout",
     "output_type": "stream",
     "text": [
      "8\n"
     ]
    },
    {
     "name": "stderr",
     "output_type": "stream",
     "text": [
      "[I 2024-12-02 15:17:41,660] Trial 35 finished with value: 39.69602797778685 and parameters: {'beta': 1.0581022171788612, 'learning_rate': 9.208444046141618e-05, 'batch_size': 21, 'epochs': 805, 'optimizer_type': 'rmsprop'}. Best is trial 10 with value: 37.08425545763613.\n"
     ]
    },
    {
     "name": "stdout",
     "output_type": "stream",
     "text": [
      "8\n"
     ]
    },
    {
     "name": "stderr",
     "output_type": "stream",
     "text": [
      "[I 2024-12-02 15:19:25,304] Trial 36 finished with value: 40.60021316756063 and parameters: {'beta': 1.24201828602168, 'learning_rate': 8.507289127273735e-05, 'batch_size': 41, 'epochs': 1000, 'optimizer_type': 'adam'}. Best is trial 10 with value: 37.08425545763613.\n"
     ]
    },
    {
     "name": "stdout",
     "output_type": "stream",
     "text": [
      "8\n"
     ]
    },
    {
     "name": "stderr",
     "output_type": "stream",
     "text": [
      "[I 2024-12-02 15:20:25,918] Trial 37 finished with value: 43.80447196391091 and parameters: {'beta': 1.5483396085417822, 'learning_rate': 4.684236183051456e-05, 'batch_size': 81, 'epochs': 936, 'optimizer_type': 'rmsprop'}. Best is trial 10 with value: 37.08425545763613.\n"
     ]
    },
    {
     "name": "stdout",
     "output_type": "stream",
     "text": [
      "8\n"
     ]
    },
    {
     "name": "stderr",
     "output_type": "stream",
     "text": [
      "[I 2024-12-02 15:21:23,601] Trial 38 finished with value: 41.57630442149603 and parameters: {'beta': 1.3110381469643133, 'learning_rate': 8.022445114803773e-05, 'batch_size': 27, 'epochs': 431, 'optimizer_type': 'adam'}. Best is trial 10 with value: 37.08425545763613.\n"
     ]
    },
    {
     "name": "stdout",
     "output_type": "stream",
     "text": [
      "8\n"
     ]
    },
    {
     "name": "stderr",
     "output_type": "stream",
     "text": [
      "[I 2024-12-02 15:22:46,673] Trial 39 finished with value: 41.04640721563083 and parameters: {'beta': 1.4104498700109573, 'learning_rate': 7.220024562911716e-05, 'batch_size': 36, 'epochs': 713, 'optimizer_type': 'rmsprop'}. Best is trial 10 with value: 37.08425545763613.\n"
     ]
    },
    {
     "name": "stdout",
     "output_type": "stream",
     "text": [
      "8\n"
     ]
    },
    {
     "name": "stderr",
     "output_type": "stream",
     "text": [
      "[I 2024-12-02 15:24:02,459] Trial 40 finished with value: 42.96759862188083 and parameters: {'beta': 1.179431084425407, 'learning_rate': 9.282860442748874e-05, 'batch_size': 55, 'epochs': 871, 'optimizer_type': 'adam'}. Best is trial 10 with value: 37.08425545763613.\n"
     ]
    },
    {
     "name": "stdout",
     "output_type": "stream",
     "text": [
      "8\n"
     ]
    },
    {
     "name": "stderr",
     "output_type": "stream",
     "text": [
      "[I 2024-12-02 15:26:24,982] Trial 41 finished with value: 40.7706768206696 and parameters: {'beta': 1.406577245566524, 'learning_rate': 8.479063482603224e-05, 'batch_size': 19, 'epochs': 789, 'optimizer_type': 'adam'}. Best is trial 10 with value: 37.08425545763613.\n"
     ]
    },
    {
     "name": "stdout",
     "output_type": "stream",
     "text": [
      "8\n"
     ]
    },
    {
     "name": "stderr",
     "output_type": "stream",
     "text": [
      "[I 2024-12-02 15:28:59,200] Trial 42 finished with value: 39.28555817105877 and parameters: {'beta': 1.48079143988707, 'learning_rate': 8.799500496542453e-05, 'batch_size': 16, 'epochs': 772, 'optimizer_type': 'adam'}. Best is trial 10 with value: 37.08425545763613.\n"
     ]
    },
    {
     "name": "stdout",
     "output_type": "stream",
     "text": [
      "8\n"
     ]
    },
    {
     "name": "stderr",
     "output_type": "stream",
     "text": [
      "[I 2024-12-02 15:31:37,391] Trial 43 finished with value: 40.04154271367771 and parameters: {'beta': 1.090902226013949, 'learning_rate': 9.499425392549872e-05, 'batch_size': 21, 'epochs': 943, 'optimizer_type': 'adam'}. Best is trial 10 with value: 37.08425545763613.\n"
     ]
    },
    {
     "name": "stdout",
     "output_type": "stream",
     "text": [
      "8\n"
     ]
    },
    {
     "name": "stderr",
     "output_type": "stream",
     "text": [
      "[I 2024-12-02 15:32:10,709] Trial 44 finished with value: 42.06715825778335 and parameters: {'beta': 1.4385976426552465, 'learning_rate': 9.973076926686257e-05, 'batch_size': 25, 'epochs': 238, 'optimizer_type': 'adam'}. Best is trial 10 with value: 37.08425545763613.\n"
     ]
    },
    {
     "name": "stdout",
     "output_type": "stream",
     "text": [
      "8\n"
     ]
    },
    {
     "name": "stderr",
     "output_type": "stream",
     "text": [
      "[I 2024-12-02 15:32:14,408] Trial 45 finished with value: 48.13470750495569 and parameters: {'beta': 1.5543752485654991, 'learning_rate': 8.275863705864186e-05, 'batch_size': 20, 'epochs': 21, 'optimizer_type': 'adam'}. Best is trial 10 with value: 37.08425545763613.\n"
     ]
    },
    {
     "name": "stdout",
     "output_type": "stream",
     "text": [
      "8\n"
     ]
    },
    {
     "name": "stderr",
     "output_type": "stream",
     "text": [
      "[I 2024-12-02 15:32:59,201] Trial 46 finished with value: 44.27299003031717 and parameters: {'beta': 1.0591849262397168, 'learning_rate': 6.744198347396818e-05, 'batch_size': 70, 'epochs': 695, 'optimizer_type': 'rmsprop'}. Best is trial 10 with value: 37.08425545763613.\n"
     ]
    },
    {
     "name": "stdout",
     "output_type": "stream",
     "text": [
      "8\n"
     ]
    },
    {
     "name": "stderr",
     "output_type": "stream",
     "text": [
      "[I 2024-12-02 15:35:00,034] Trial 47 finished with value: 39.68045964027519 and parameters: {'beta': 1.2382064238858312, 'learning_rate': 8.919908779406504e-05, 'batch_size': 25, 'epochs': 846, 'optimizer_type': 'adam'}. Best is trial 10 with value: 37.08425545763613.\n"
     ]
    },
    {
     "name": "stdout",
     "output_type": "stream",
     "text": [
      "8\n"
     ]
    },
    {
     "name": "stderr",
     "output_type": "stream",
     "text": [
      "[I 2024-12-02 15:36:50,513] Trial 48 finished with value: 39.45029907226562 and parameters: {'beta': 1.6521423083800109, 'learning_rate': 9.621190682952828e-05, 'batch_size': 34, 'epochs': 949, 'optimizer_type': 'adam'}. Best is trial 10 with value: 37.08425545763613.\n"
     ]
    },
    {
     "name": "stdout",
     "output_type": "stream",
     "text": [
      "8\n"
     ]
    },
    {
     "name": "stderr",
     "output_type": "stream",
     "text": [
      "[I 2024-12-02 15:38:06,806] Trial 49 finished with value: 41.05575916802705 and parameters: {'beta': 1.8956317592086975, 'learning_rate': 7.364827162962581e-05, 'batch_size': 42, 'epochs': 763, 'optimizer_type': 'adam'}. Best is trial 10 with value: 37.08425545763613.\n",
      "[I 2024-12-02 15:41:12,582] A new study created in memory with name: no-name-b214ef7a-9f02-4903-86e3-3290cd0bd1e8\n"
     ]
    },
    {
     "name": "stdout",
     "output_type": "stream",
     "text": [
      "8\n"
     ]
    },
    {
     "name": "stderr",
     "output_type": "stream",
     "text": [
      "[I 2024-12-02 15:41:17,796] Trial 0 finished with value: 48.180859967132115 and parameters: {'beta': 1.1600406791471705, 'learning_rate': 7.097118083285834e-05, 'batch_size': 74, 'epochs': 80, 'optimizer_type': 'rmsprop'}. Best is trial 0 with value: 48.180859967132115.\n"
     ]
    },
    {
     "name": "stdout",
     "output_type": "stream",
     "text": [
      "8\n"
     ]
    },
    {
     "name": "stderr",
     "output_type": "stream",
     "text": [
      "[I 2024-12-02 15:42:16,721] Trial 1 finished with value: 43.715704072411384 and parameters: {'beta': 1.7396180601706295, 'learning_rate': 4.912805731275796e-05, 'batch_size': 102, 'epochs': 952, 'optimizer_type': 'adam'}. Best is trial 1 with value: 43.715704072411384.\n"
     ]
    },
    {
     "name": "stdout",
     "output_type": "stream",
     "text": [
      "8\n"
     ]
    },
    {
     "name": "stderr",
     "output_type": "stream",
     "text": [
      "[I 2024-12-02 15:43:09,329] Trial 2 finished with value: 41.68570939249067 and parameters: {'beta': 1.2385811172329193, 'learning_rate': 9.769211192564964e-05, 'batch_size': 62, 'epochs': 663, 'optimizer_type': 'adam'}. Best is trial 2 with value: 41.68570939249067.\n"
     ]
    },
    {
     "name": "stdout",
     "output_type": "stream",
     "text": [
      "8\n"
     ]
    },
    {
     "name": "stderr",
     "output_type": "stream",
     "text": [
      "[I 2024-12-02 15:43:38,170] Trial 3 finished with value: 44.20379520245452 and parameters: {'beta': 1.2911971629653476, 'learning_rate': 7.260849212882762e-05, 'batch_size': 31, 'epochs': 263, 'optimizer_type': 'rmsprop'}. Best is trial 2 with value: 41.68570939249067.\n"
     ]
    },
    {
     "name": "stdout",
     "output_type": "stream",
     "text": [
      "8\n"
     ]
    },
    {
     "name": "stderr",
     "output_type": "stream",
     "text": [
      "[I 2024-12-02 15:45:21,087] Trial 4 finished with value: 46.71031403043377 and parameters: {'beta': 1.6231569718402494, 'learning_rate': 6.689736221572458e-06, 'batch_size': 41, 'epochs': 999, 'optimizer_type': 'adam'}. Best is trial 2 with value: 41.68570939249067.\n"
     ]
    },
    {
     "name": "stdout",
     "output_type": "stream",
     "text": [
      "8\n"
     ]
    },
    {
     "name": "stderr",
     "output_type": "stream",
     "text": [
      "[I 2024-12-02 15:46:19,041] Trial 5 finished with value: 43.66196234404151 and parameters: {'beta': 1.333407530758424, 'learning_rate': 4.4855365316101436e-05, 'batch_size': 73, 'epochs': 768, 'optimizer_type': 'adam'}. Best is trial 2 with value: 41.68570939249067.\n"
     ]
    },
    {
     "name": "stdout",
     "output_type": "stream",
     "text": [
      "8\n"
     ]
    },
    {
     "name": "stderr",
     "output_type": "stream",
     "text": [
      "[I 2024-12-02 15:47:41,446] Trial 6 finished with value: 41.71194011631297 and parameters: {'beta': 1.7016393558325902, 'learning_rate': 5.574149266962194e-05, 'batch_size': 59, 'epochs': 983, 'optimizer_type': 'adam'}. Best is trial 2 with value: 41.68570939249067.\n"
     ]
    },
    {
     "name": "stdout",
     "output_type": "stream",
     "text": [
      "8\n"
     ]
    },
    {
     "name": "stderr",
     "output_type": "stream",
     "text": [
      "[I 2024-12-02 15:48:11,952] Trial 7 finished with value: 43.80533984739389 and parameters: {'beta': 1.7805474961348775, 'learning_rate': 6.830103803631379e-05, 'batch_size': 65, 'epochs': 394, 'optimizer_type': 'adam'}. Best is trial 2 with value: 41.68570939249067.\n"
     ]
    },
    {
     "name": "stdout",
     "output_type": "stream",
     "text": [
      "8\n"
     ]
    },
    {
     "name": "stderr",
     "output_type": "stream",
     "text": [
      "[I 2024-12-02 15:49:05,408] Trial 8 finished with value: 44.47961097831157 and parameters: {'beta': 1.4363623576096538, 'learning_rate': 4.923796679570705e-05, 'batch_size': 108, 'epochs': 952, 'optimizer_type': 'rmsprop'}. Best is trial 2 with value: 41.68570939249067.\n"
     ]
    },
    {
     "name": "stdout",
     "output_type": "stream",
     "text": [
      "8\n"
     ]
    },
    {
     "name": "stderr",
     "output_type": "stream",
     "text": [
      "[I 2024-12-02 15:50:14,582] Trial 9 finished with value: 46.66928382987407 and parameters: {'beta': 1.5351398065266644, 'learning_rate': 1.1301781190343667e-05, 'batch_size': 21, 'epochs': 407, 'optimizer_type': 'rmsprop'}. Best is trial 2 with value: 41.68570939249067.\n"
     ]
    },
    {
     "name": "stdout",
     "output_type": "stream",
     "text": [
      "8\n"
     ]
    },
    {
     "name": "stderr",
     "output_type": "stream",
     "text": [
      "[I 2024-12-02 15:50:59,318] Trial 10 finished with value: 42.501251630640745 and parameters: {'beta': 1.9919438379421113, 'learning_rate': 9.752921723474286e-05, 'batch_size': 94, 'epochs': 671, 'optimizer_type': 'adam'}. Best is trial 2 with value: 41.68570939249067.\n"
     ]
    },
    {
     "name": "stdout",
     "output_type": "stream",
     "text": [
      "8\n"
     ]
    },
    {
     "name": "stderr",
     "output_type": "stream",
     "text": [
      "[I 2024-12-02 15:52:06,878] Trial 11 finished with value: 41.58623470477204 and parameters: {'beta': 1.1041209120449982, 'learning_rate': 9.865762305460593e-05, 'batch_size': 47, 'epochs': 699, 'optimizer_type': 'adam'}. Best is trial 11 with value: 41.58623470477204.\n"
     ]
    },
    {
     "name": "stdout",
     "output_type": "stream",
     "text": [
      "8\n"
     ]
    },
    {
     "name": "stderr",
     "output_type": "stream",
     "text": [
      "[I 2024-12-02 15:53:06,478] Trial 12 finished with value: 40.90178131559002 and parameters: {'beta': 1.1050158627449271, 'learning_rate': 9.887236388097876e-05, 'batch_size': 48, 'epochs': 660, 'optimizer_type': 'adam'}. Best is trial 12 with value: 40.90178131559002.\n"
     ]
    },
    {
     "name": "stdout",
     "output_type": "stream",
     "text": [
      "8\n"
     ]
    },
    {
     "name": "stderr",
     "output_type": "stream",
     "text": [
      "[I 2024-12-02 15:54:05,572] Trial 13 finished with value: 42.10178254540287 and parameters: {'beta': 1.0570148640569927, 'learning_rate': 8.387234236538661e-05, 'batch_size': 44, 'epochs': 602, 'optimizer_type': 'adam'}. Best is trial 12 with value: 40.90178131559002.\n"
     ]
    },
    {
     "name": "stdout",
     "output_type": "stream",
     "text": [
      "8\n"
     ]
    },
    {
     "name": "stderr",
     "output_type": "stream",
     "text": [
      "[I 2024-12-02 15:55:16,595] Trial 14 finished with value: 41.87959986444729 and parameters: {'beta': 1.079645889185173, 'learning_rate': 8.586421740679156e-05, 'batch_size': 45, 'epochs': 742, 'optimizer_type': 'adam'}. Best is trial 12 with value: 40.90178131559002.\n"
     ]
    },
    {
     "name": "stdout",
     "output_type": "stream",
     "text": [
      "8\n"
     ]
    },
    {
     "name": "stderr",
     "output_type": "stream",
     "text": [
      "[I 2024-12-02 15:56:50,538] Trial 15 finished with value: 43.97921311108034 and parameters: {'beta': 1.026030748297711, 'learning_rate': 2.38678756309408e-05, 'batch_size': 19, 'epochs': 508, 'optimizer_type': 'adam'}. Best is trial 12 with value: 40.90178131559002.\n"
     ]
    },
    {
     "name": "stdout",
     "output_type": "stream",
     "text": [
      "8\n"
     ]
    },
    {
     "name": "stderr",
     "output_type": "stream",
     "text": [
      "[I 2024-12-02 15:58:01,105] Trial 16 finished with value: 43.28378541861007 and parameters: {'beta': 1.1741459238287737, 'learning_rate': 8.365393976038261e-05, 'batch_size': 52, 'epochs': 820, 'optimizer_type': 'adam'}. Best is trial 12 with value: 40.90178131559002.\n"
     ]
    },
    {
     "name": "stdout",
     "output_type": "stream",
     "text": [
      "8\n"
     ]
    },
    {
     "name": "stderr",
     "output_type": "stream",
     "text": [
      "[I 2024-12-02 15:59:07,431] Trial 17 finished with value: 43.33632193038713 and parameters: {'beta': 1.4079873600115889, 'learning_rate': 3.3738117873820576e-05, 'batch_size': 32, 'epochs': 555, 'optimizer_type': 'adam'}. Best is trial 12 with value: 40.90178131559002.\n"
     ]
    },
    {
     "name": "stdout",
     "output_type": "stream",
     "text": [
      "8\n"
     ]
    },
    {
     "name": "stderr",
     "output_type": "stream",
     "text": [
      "[I 2024-12-02 15:59:55,410] Trial 18 finished with value: 43.07800548041045 and parameters: {'beta': 1.1837756427779775, 'learning_rate': 9.989786425086565e-05, 'batch_size': 84, 'epochs': 818, 'optimizer_type': 'rmsprop'}. Best is trial 12 with value: 40.90178131559002.\n"
     ]
    },
    {
     "name": "stdout",
     "output_type": "stream",
     "text": [
      "8\n"
     ]
    },
    {
     "name": "stderr",
     "output_type": "stream",
     "text": [
      "[I 2024-12-02 16:00:45,449] Trial 19 finished with value: 43.909047596490204 and parameters: {'beta': 1.0020733789245273, 'learning_rate': 6.19106271375663e-05, 'batch_size': 32, 'epochs': 412, 'optimizer_type': 'adam'}. Best is trial 12 with value: 40.90178131559002.\n"
     ]
    },
    {
     "name": "stdout",
     "output_type": "stream",
     "text": [
      "8\n"
     ]
    },
    {
     "name": "stderr",
     "output_type": "stream",
     "text": [
      "[I 2024-12-02 16:01:08,121] Trial 20 finished with value: 45.27920614214086 and parameters: {'beta': 1.309144081802146, 'learning_rate': 8.615339041662099e-05, 'batch_size': 54, 'epochs': 258, 'optimizer_type': 'adam'}. Best is trial 12 with value: 40.90178131559002.\n"
     ]
    },
    {
     "name": "stdout",
     "output_type": "stream",
     "text": [
      "8\n"
     ]
    },
    {
     "name": "stderr",
     "output_type": "stream",
     "text": [
      "[I 2024-12-02 16:01:57,281] Trial 21 finished with value: 42.28523823752332 and parameters: {'beta': 1.2144796106929732, 'learning_rate': 9.418156646586255e-05, 'batch_size': 68, 'epochs': 654, 'optimizer_type': 'adam'}. Best is trial 12 with value: 40.90178131559002.\n"
     ]
    },
    {
     "name": "stdout",
     "output_type": "stream",
     "text": [
      "8\n"
     ]
    },
    {
     "name": "stderr",
     "output_type": "stream",
     "text": [
      "[I 2024-12-02 16:02:59,059] Trial 22 finished with value: 41.18410580763177 and parameters: {'beta': 1.1327995308893013, 'learning_rate': 9.054633151685945e-05, 'batch_size': 54, 'epochs': 695, 'optimizer_type': 'adam'}. Best is trial 12 with value: 40.90178131559002.\n"
     ]
    },
    {
     "name": "stdout",
     "output_type": "stream",
     "text": [
      "8\n"
     ]
    },
    {
     "name": "stderr",
     "output_type": "stream",
     "text": [
      "[I 2024-12-02 16:04:20,459] Trial 23 finished with value: 40.90037495627332 and parameters: {'beta': 1.0978885483686802, 'learning_rate': 7.382155283909755e-05, 'batch_size': 48, 'epochs': 887, 'optimizer_type': 'adam'}. Best is trial 23 with value: 40.90037495627332.\n"
     ]
    },
    {
     "name": "stdout",
     "output_type": "stream",
     "text": [
      "8\n"
     ]
    },
    {
     "name": "stderr",
     "output_type": "stream",
     "text": [
      "[I 2024-12-02 16:05:57,730] Trial 24 finished with value: 42.711000083809466 and parameters: {'beta': 1.1076188190625404, 'learning_rate': 7.83523169670363e-05, 'batch_size': 36, 'epochs': 868, 'optimizer_type': 'adam'}. Best is trial 23 with value: 40.90037495627332.\n"
     ]
    },
    {
     "name": "stdout",
     "output_type": "stream",
     "text": [
      "8\n"
     ]
    },
    {
     "name": "stderr",
     "output_type": "stream",
     "text": [
      "[I 2024-12-02 16:07:15,705] Trial 25 finished with value: 41.39115400171992 and parameters: {'beta': 1.3825879536519514, 'learning_rate': 7.764886742538895e-05, 'batch_size': 54, 'epochs': 880, 'optimizer_type': 'adam'}. Best is trial 23 with value: 40.90037495627332.\n"
     ]
    },
    {
     "name": "stdout",
     "output_type": "stream",
     "text": [
      "8\n"
     ]
    },
    {
     "name": "stderr",
     "output_type": "stream",
     "text": [
      "[I 2024-12-02 16:08:03,705] Trial 26 finished with value: 42.31560559628615 and parameters: {'beta': 1.501813241648037, 'learning_rate': 9.071192750035689e-05, 'batch_size': 81, 'epochs': 754, 'optimizer_type': 'rmsprop'}. Best is trial 23 with value: 40.90037495627332.\n"
     ]
    },
    {
     "name": "stdout",
     "output_type": "stream",
     "text": [
      "8\n"
     ]
    },
    {
     "name": "stderr",
     "output_type": "stream",
     "text": [
      "[I 2024-12-02 16:09:33,106] Trial 27 finished with value: 40.93339770872201 and parameters: {'beta': 1.266435959965003, 'learning_rate': 6.29928470834979e-05, 'batch_size': 24, 'epochs': 604, 'optimizer_type': 'adam'}. Best is trial 23 with value: 40.90037495627332.\n"
     ]
    },
    {
     "name": "stdout",
     "output_type": "stream",
     "text": [
      "8\n"
     ]
    },
    {
     "name": "stderr",
     "output_type": "stream",
     "text": [
      "[I 2024-12-02 16:10:57,155] Trial 28 finished with value: 41.63525272198577 and parameters: {'beta': 1.2488054197575265, 'learning_rate': 5.985374411466108e-05, 'batch_size': 24, 'epochs': 572, 'optimizer_type': 'adam'}. Best is trial 23 with value: 40.90037495627332.\n"
     ]
    },
    {
     "name": "stdout",
     "output_type": "stream",
     "text": [
      "8\n"
     ]
    },
    {
     "name": "stderr",
     "output_type": "stream",
     "text": [
      "[I 2024-12-02 16:12:05,590] Trial 29 finished with value: 44.287127138963385 and parameters: {'beta': 1.1576010370533405, 'learning_rate': 3.942566534187463e-05, 'batch_size': 16, 'epochs': 321, 'optimizer_type': 'rmsprop'}. Best is trial 23 with value: 40.90037495627332.\n"
     ]
    },
    {
     "name": "stdout",
     "output_type": "stream",
     "text": [
      "8\n"
     ]
    },
    {
     "name": "stderr",
     "output_type": "stream",
     "text": [
      "[I 2024-12-02 16:12:11,047] Trial 30 finished with value: 48.12926699510261 and parameters: {'beta': 1.2843634042009362, 'learning_rate': 6.806205239656823e-05, 'batch_size': 38, 'epochs': 51, 'optimizer_type': 'adam'}. Best is trial 23 with value: 40.90037495627332.\n"
     ]
    },
    {
     "name": "stdout",
     "output_type": "stream",
     "text": [
      "8\n"
     ]
    },
    {
     "name": "stderr",
     "output_type": "stream",
     "text": [
      "[I 2024-12-02 16:13:31,912] Trial 31 finished with value: 40.98280958488806 and parameters: {'beta': 1.1340184031102187, 'learning_rate': 7.680770305706337e-05, 'batch_size': 27, 'epochs': 605, 'optimizer_type': 'adam'}. Best is trial 23 with value: 40.90037495627332.\n"
     ]
    },
    {
     "name": "stdout",
     "output_type": "stream",
     "text": [
      "8\n"
     ]
    },
    {
     "name": "stderr",
     "output_type": "stream",
     "text": [
      "[I 2024-12-02 16:13:52,426] Trial 32 finished with value: 47.23821729973181 and parameters: {'beta': 1.0665657849143, 'learning_rate': 6.32995667702279e-05, 'batch_size': 24, 'epochs': 136, 'optimizer_type': 'adam'}. Best is trial 23 with value: 40.90037495627332.\n"
     ]
    },
    {
     "name": "stdout",
     "output_type": "stream",
     "text": [
      "8\n"
     ]
    },
    {
     "name": "stderr",
     "output_type": "stream",
     "text": [
      "[I 2024-12-02 16:14:57,397] Trial 33 finished with value: 41.90414583576259 and parameters: {'beta': 1.210799891408037, 'learning_rate': 7.632462412047126e-05, 'batch_size': 28, 'epochs': 486, 'optimizer_type': 'adam'}. Best is trial 23 with value: 40.90037495627332.\n"
     ]
    },
    {
     "name": "stdout",
     "output_type": "stream",
     "text": [
      "8\n"
     ]
    },
    {
     "name": "stderr",
     "output_type": "stream",
     "text": [
      "[I 2024-12-02 16:16:02,892] Trial 34 finished with value: 43.84207709013526 and parameters: {'beta': 1.0043754426863551, 'learning_rate': 5.537095522396341e-05, 'batch_size': 38, 'epochs': 608, 'optimizer_type': 'adam'}. Best is trial 23 with value: 40.90037495627332.\n"
     ]
    },
    {
     "name": "stdout",
     "output_type": "stream",
     "text": [
      "8\n"
     ]
    },
    {
     "name": "stderr",
     "output_type": "stream",
     "text": [
      "[I 2024-12-02 16:17:10,461] Trial 35 finished with value: 41.318388526119406 and parameters: {'beta': 1.1370871310292847, 'learning_rate': 7.703888223600856e-05, 'batch_size': 26, 'epochs': 487, 'optimizer_type': 'adam'}. Best is trial 23 with value: 40.90037495627332.\n"
     ]
    },
    {
     "name": "stdout",
     "output_type": "stream",
     "text": [
      "8\n"
     ]
    },
    {
     "name": "stderr",
     "output_type": "stream",
     "text": [
      "[I 2024-12-02 16:18:00,892] Trial 36 finished with value: 43.46977265770756 and parameters: {'beta': 1.2556368288733335, 'learning_rate': 7.333347418548481e-05, 'batch_size': 47, 'epochs': 530, 'optimizer_type': 'adam'}. Best is trial 23 with value: 40.90037495627332.\n"
     ]
    },
    {
     "name": "stdout",
     "output_type": "stream",
     "text": [
      "8\n"
     ]
    },
    {
     "name": "stderr",
     "output_type": "stream",
     "text": [
      "[I 2024-12-02 16:19:30,445] Trial 37 finished with value: 40.87196992333256 and parameters: {'beta': 1.3616407069307215, 'learning_rate': 6.920950891143844e-05, 'batch_size': 36, 'epochs': 808, 'optimizer_type': 'adam'}. Best is trial 37 with value: 40.87196992333256.\n"
     ]
    },
    {
     "name": "stdout",
     "output_type": "stream",
     "text": [
      "8\n"
     ]
    },
    {
     "name": "stderr",
     "output_type": "stream",
     "text": [
      "[I 2024-12-02 16:20:45,572] Trial 38 finished with value: 42.2521800482451 and parameters: {'beta': 1.3680230853938855, 'learning_rate': 5.43462849937643e-05, 'batch_size': 59, 'epochs': 932, 'optimizer_type': 'rmsprop'}. Best is trial 37 with value: 40.87196992333256.\n"
     ]
    },
    {
     "name": "stdout",
     "output_type": "stream",
     "text": [
      "8\n"
     ]
    },
    {
     "name": "stderr",
     "output_type": "stream",
     "text": [
      "[I 2024-12-02 16:22:18,179] Trial 39 finished with value: 42.85215262797342 and parameters: {'beta': 1.3396120588745997, 'learning_rate': 6.767963062882963e-05, 'batch_size': 34, 'epochs': 811, 'optimizer_type': 'adam'}. Best is trial 37 with value: 40.87196992333256.\n"
     ]
    },
    {
     "name": "stdout",
     "output_type": "stream",
     "text": [
      "8\n"
     ]
    },
    {
     "name": "stderr",
     "output_type": "stream",
     "text": [
      "[I 2024-12-02 16:23:51,250] Trial 40 finished with value: 43.244773750874536 and parameters: {'beta': 1.4436225774495623, 'learning_rate': 4.705650941347442e-05, 'batch_size': 41, 'epochs': 875, 'optimizer_type': 'adam'}. Best is trial 37 with value: 40.87196992333256.\n"
     ]
    },
    {
     "name": "stdout",
     "output_type": "stream",
     "text": [
      "8\n"
     ]
    },
    {
     "name": "stderr",
     "output_type": "stream",
     "text": [
      "[I 2024-12-02 16:25:25,231] Trial 41 finished with value: 41.22948708605411 and parameters: {'beta': 1.2666291438510546, 'learning_rate': 6.44415311114093e-05, 'batch_size': 29, 'epochs': 728, 'optimizer_type': 'adam'}. Best is trial 37 with value: 40.87196992333256.\n"
     ]
    },
    {
     "name": "stdout",
     "output_type": "stream",
     "text": [
      "8\n"
     ]
    },
    {
     "name": "stderr",
     "output_type": "stream",
     "text": [
      "[I 2024-12-02 16:26:32,170] Trial 42 finished with value: 42.01943286497202 and parameters: {'beta': 1.2025975619615656, 'learning_rate': 7.13427900692942e-05, 'batch_size': 41, 'epochs': 641, 'optimizer_type': 'adam'}. Best is trial 37 with value: 40.87196992333256.\n"
     ]
    },
    {
     "name": "stdout",
     "output_type": "stream",
     "text": [
      "8\n"
     ]
    },
    {
     "name": "stderr",
     "output_type": "stream",
     "text": [
      "[I 2024-12-02 16:27:44,918] Trial 43 finished with value: 42.61701933447994 and parameters: {'beta': 1.6002047772271413, 'learning_rate': 5.818043318913856e-05, 'batch_size': 49, 'epochs': 791, 'optimizer_type': 'adam'}. Best is trial 37 with value: 40.87196992333256.\n"
     ]
    },
    {
     "name": "stdout",
     "output_type": "stream",
     "text": [
      "8\n"
     ]
    },
    {
     "name": "stderr",
     "output_type": "stream",
     "text": [
      "[I 2024-12-02 16:30:48,243] Trial 44 finished with value: 39.09270083299324 and parameters: {'beta': 1.3169766531016243, 'learning_rate': 8.167825009508056e-05, 'batch_size': 16, 'epochs': 918, 'optimizer_type': 'adam'}. Best is trial 44 with value: 39.09270083299324.\n"
     ]
    },
    {
     "name": "stdout",
     "output_type": "stream",
     "text": [
      "8\n"
     ]
    },
    {
     "name": "stderr",
     "output_type": "stream",
     "text": [
      "[I 2024-12-02 16:33:42,038] Trial 45 finished with value: 38.88593718115963 and parameters: {'beta': 1.322490826641248, 'learning_rate': 8.094383200859383e-05, 'batch_size': 20, 'epochs': 992, 'optimizer_type': 'adam'}. Best is trial 45 with value: 38.88593718115963.\n"
     ]
    },
    {
     "name": "stdout",
     "output_type": "stream",
     "text": [
      "8\n"
     ]
    },
    {
     "name": "stderr",
     "output_type": "stream",
     "text": [
      "[I 2024-12-02 16:37:26,444] Trial 46 finished with value: 38.01253650722219 and parameters: {'beta': 1.4593717545420766, 'learning_rate': 8.78354371053217e-05, 'batch_size': 17, 'epochs': 925, 'optimizer_type': 'rmsprop'}. Best is trial 46 with value: 38.01253650722219.\n"
     ]
    },
    {
     "name": "stdout",
     "output_type": "stream",
     "text": [
      "8\n"
     ]
    },
    {
     "name": "stderr",
     "output_type": "stream",
     "text": [
      "[I 2024-12-02 16:41:07,431] Trial 47 finished with value: 38.765713888139864 and parameters: {'beta': 1.4647576276464316, 'learning_rate': 8.202371789272855e-05, 'batch_size': 19, 'epochs': 996, 'optimizer_type': 'rmsprop'}. Best is trial 46 with value: 38.01253650722219.\n"
     ]
    },
    {
     "name": "stdout",
     "output_type": "stream",
     "text": [
      "8\n"
     ]
    },
    {
     "name": "stderr",
     "output_type": "stream",
     "text": [
      "[I 2024-12-02 16:45:16,720] Trial 48 finished with value: 37.31908910950618 and parameters: {'beta': 1.5646031259915847, 'learning_rate': 8.292588526772067e-05, 'batch_size': 16, 'epochs': 995, 'optimizer_type': 'rmsprop'}. Best is trial 48 with value: 37.31908910950618.\n"
     ]
    },
    {
     "name": "stdout",
     "output_type": "stream",
     "text": [
      "8\n"
     ]
    },
    {
     "name": "stderr",
     "output_type": "stream",
     "text": [
      "[I 2024-12-02 16:49:30,947] Trial 49 finished with value: 37.784772958328475 and parameters: {'beta': 1.5595635181824354, 'learning_rate': 8.091108280603652e-05, 'batch_size': 16, 'epochs': 976, 'optimizer_type': 'rmsprop'}. Best is trial 48 with value: 37.31908910950618.\n",
      "[I 2024-12-02 16:53:39,603] A new study created in memory with name: no-name-85ae723c-7a68-4f2c-90ec-fc5c4b75fd1a\n"
     ]
    },
    {
     "name": "stdout",
     "output_type": "stream",
     "text": [
      "8\n"
     ]
    },
    {
     "name": "stderr",
     "output_type": "stream",
     "text": [
      "[I 2024-12-02 16:54:35,451] Trial 0 finished with value: 43.976474317863804 and parameters: {'beta': 1.8596528820407578, 'learning_rate': 2.9719313932718923e-05, 'batch_size': 49, 'epochs': 660, 'optimizer_type': 'rmsprop'}. Best is trial 0 with value: 43.976474317863804.\n"
     ]
    },
    {
     "name": "stdout",
     "output_type": "stream",
     "text": [
      "8\n"
     ]
    },
    {
     "name": "stderr",
     "output_type": "stream",
     "text": [
      "[I 2024-12-02 16:54:39,242] Trial 1 finished with value: 48.77777627973414 and parameters: {'beta': 1.8008709087413282, 'learning_rate': 6.850699229364649e-05, 'batch_size': 107, 'epochs': 65, 'optimizer_type': 'rmsprop'}. Best is trial 0 with value: 43.976474317863804.\n"
     ]
    },
    {
     "name": "stdout",
     "output_type": "stream",
     "text": [
      "8\n"
     ]
    },
    {
     "name": "stderr",
     "output_type": "stream",
     "text": [
      "[I 2024-12-02 16:56:19,789] Trial 2 finished with value: 45.652525215718285 and parameters: {'beta': 1.1504520194582641, 'learning_rate': 7.830662966065151e-06, 'batch_size': 43, 'epochs': 989, 'optimizer_type': 'adam'}. Best is trial 0 with value: 43.976474317863804.\n"
     ]
    },
    {
     "name": "stdout",
     "output_type": "stream",
     "text": [
      "8\n"
     ]
    },
    {
     "name": "stderr",
     "output_type": "stream",
     "text": [
      "[I 2024-12-02 16:59:27,673] Trial 3 finished with value: 40.58053096942047 and parameters: {'beta': 1.7178583199315693, 'learning_rate': 4.2844400499458174e-05, 'batch_size': 19, 'epochs': 853, 'optimizer_type': 'rmsprop'}. Best is trial 3 with value: 40.58053096942047.\n"
     ]
    },
    {
     "name": "stdout",
     "output_type": "stream",
     "text": [
      "8\n"
     ]
    },
    {
     "name": "stderr",
     "output_type": "stream",
     "text": [
      "[I 2024-12-02 17:00:14,688] Trial 4 finished with value: 44.00126115030317 and parameters: {'beta': 1.1516994705807335, 'learning_rate': 4.307750481053357e-05, 'batch_size': 62, 'epochs': 580, 'optimizer_type': 'adam'}. Best is trial 3 with value: 40.58053096942047.\n"
     ]
    },
    {
     "name": "stdout",
     "output_type": "stream",
     "text": [
      "8\n"
     ]
    },
    {
     "name": "stderr",
     "output_type": "stream",
     "text": [
      "[I 2024-12-02 17:01:01,893] Trial 5 finished with value: 46.92387294484608 and parameters: {'beta': 1.353096360631004, 'learning_rate': 2.109278331542912e-05, 'batch_size': 108, 'epochs': 860, 'optimizer_type': 'rmsprop'}. Best is trial 3 with value: 40.58053096942047.\n"
     ]
    },
    {
     "name": "stdout",
     "output_type": "stream",
     "text": [
      "8\n"
     ]
    },
    {
     "name": "stderr",
     "output_type": "stream",
     "text": [
      "[I 2024-12-02 17:01:02,871] Trial 6 finished with value: 50.76312674906716 and parameters: {'beta': 1.7590233797431352, 'learning_rate': 7.719177848405601e-05, 'batch_size': 33, 'epochs': 8, 'optimizer_type': 'adam'}. Best is trial 3 with value: 40.58053096942047.\n"
     ]
    },
    {
     "name": "stdout",
     "output_type": "stream",
     "text": [
      "8\n"
     ]
    },
    {
     "name": "stderr",
     "output_type": "stream",
     "text": [
      "[I 2024-12-02 17:01:34,362] Trial 7 finished with value: 44.98451856926306 and parameters: {'beta': 1.6077930060861725, 'learning_rate': 7.045359845698995e-05, 'batch_size': 85, 'epochs': 528, 'optimizer_type': 'rmsprop'}. Best is trial 3 with value: 40.58053096942047.\n"
     ]
    },
    {
     "name": "stdout",
     "output_type": "stream",
     "text": [
      "8\n"
     ]
    },
    {
     "name": "stderr",
     "output_type": "stream",
     "text": [
      "[I 2024-12-02 17:01:38,612] Trial 8 finished with value: 48.69183859753964 and parameters: {'beta': 1.145662918006125, 'learning_rate': 4.60517024527877e-05, 'batch_size': 63, 'epochs': 53, 'optimizer_type': 'adam'}. Best is trial 3 with value: 40.58053096942047.\n"
     ]
    },
    {
     "name": "stdout",
     "output_type": "stream",
     "text": [
      "8\n"
     ]
    },
    {
     "name": "stderr",
     "output_type": "stream",
     "text": [
      "[I 2024-12-02 17:01:54,038] Trial 9 finished with value: 47.98091243914704 and parameters: {'beta': 1.1898077664586388, 'learning_rate': 1.5368067930958336e-05, 'batch_size': 30, 'epochs': 129, 'optimizer_type': 'adam'}. Best is trial 3 with value: 40.58053096942047.\n"
     ]
    },
    {
     "name": "stdout",
     "output_type": "stream",
     "text": [
      "8\n"
     ]
    },
    {
     "name": "stderr",
     "output_type": "stream",
     "text": [
      "[I 2024-12-02 17:03:15,419] Trial 10 finished with value: 41.73571923099347 and parameters: {'beta': 1.996902508041221, 'learning_rate': 9.269721979968023e-05, 'batch_size': 16, 'epochs': 362, 'optimizer_type': 'rmsprop'}. Best is trial 3 with value: 40.58053096942047.\n"
     ]
    },
    {
     "name": "stdout",
     "output_type": "stream",
     "text": [
      "8\n"
     ]
    },
    {
     "name": "stderr",
     "output_type": "stream",
     "text": [
      "[I 2024-12-02 17:04:19,683] Trial 11 finished with value: 41.87731455333197 and parameters: {'beta': 1.9515783890996619, 'learning_rate': 9.88581543824086e-05, 'batch_size': 17, 'epochs': 305, 'optimizer_type': 'rmsprop'}. Best is trial 3 with value: 40.58053096942047.\n"
     ]
    },
    {
     "name": "stdout",
     "output_type": "stream",
     "text": [
      "8\n"
     ]
    },
    {
     "name": "stderr",
     "output_type": "stream",
     "text": [
      "[I 2024-12-02 17:05:34,812] Trial 12 finished with value: 40.21569924425723 and parameters: {'beta': 1.610591875671706, 'learning_rate': 9.642574338244946e-05, 'batch_size': 16, 'epochs': 350, 'optimizer_type': 'rmsprop'}. Best is trial 12 with value: 40.21569924425723.\n"
     ]
    },
    {
     "name": "stdout",
     "output_type": "stream",
     "text": [
      "8\n"
     ]
    },
    {
     "name": "stderr",
     "output_type": "stream",
     "text": [
      "[I 2024-12-02 17:07:21,004] Trial 13 finished with value: 41.370702988354125 and parameters: {'beta': 1.547307267438697, 'learning_rate': 6.0614032939502504e-05, 'batch_size': 30, 'epochs': 745, 'optimizer_type': 'rmsprop'}. Best is trial 12 with value: 40.21569924425723.\n"
     ]
    },
    {
     "name": "stdout",
     "output_type": "stream",
     "text": [
      "8\n"
     ]
    },
    {
     "name": "stderr",
     "output_type": "stream",
     "text": [
      "[I 2024-12-02 17:07:43,202] Trial 14 finished with value: 47.00893026323461 and parameters: {'beta': 1.416863620071785, 'learning_rate': 3.431224266491665e-05, 'batch_size': 79, 'epochs': 360, 'optimizer_type': 'rmsprop'}. Best is trial 12 with value: 40.21569924425723.\n"
     ]
    },
    {
     "name": "stdout",
     "output_type": "stream",
     "text": [
      "8\n"
     ]
    },
    {
     "name": "stderr",
     "output_type": "stream",
     "text": [
      "[I 2024-12-02 17:08:03,755] Trial 15 finished with value: 44.260231131937964 and parameters: {'beta': 1.6603149711104026, 'learning_rate': 8.274470431086769e-05, 'batch_size': 46, 'epochs': 245, 'optimizer_type': 'rmsprop'}. Best is trial 12 with value: 40.21569924425723.\n"
     ]
    },
    {
     "name": "stdout",
     "output_type": "stream",
     "text": [
      "8\n"
     ]
    },
    {
     "name": "stderr",
     "output_type": "stream",
     "text": [
      "[I 2024-12-02 17:09:27,374] Trial 16 finished with value: 41.409147803463156 and parameters: {'beta': 1.708795606848005, 'learning_rate': 5.6548858230731614e-05, 'batch_size': 21, 'epochs': 468, 'optimizer_type': 'rmsprop'}. Best is trial 12 with value: 40.21569924425723.\n"
     ]
    },
    {
     "name": "stdout",
     "output_type": "stream",
     "text": [
      "8\n"
     ]
    },
    {
     "name": "stderr",
     "output_type": "stream",
     "text": [
      "[I 2024-12-02 17:10:59,506] Trial 17 finished with value: 43.50192105876866 and parameters: {'beta': 1.4761309785208574, 'learning_rate': 3.5894644169154005e-05, 'batch_size': 38, 'epochs': 827, 'optimizer_type': 'rmsprop'}. Best is trial 12 with value: 40.21569924425723.\n"
     ]
    },
    {
     "name": "stdout",
     "output_type": "stream",
     "text": [
      "8\n"
     ]
    },
    {
     "name": "stderr",
     "output_type": "stream",
     "text": [
      "[I 2024-12-02 17:12:24,935] Trial 18 finished with value: 41.99619031308302 and parameters: {'beta': 1.2948143769161964, 'learning_rate': 5.331984949507648e-05, 'batch_size': 54, 'epochs': 992, 'optimizer_type': 'rmsprop'}. Best is trial 12 with value: 40.21569924425723.\n"
     ]
    },
    {
     "name": "stdout",
     "output_type": "stream",
     "text": [
      "8\n"
     ]
    },
    {
     "name": "stderr",
     "output_type": "stream",
     "text": [
      "[I 2024-12-02 17:13:04,589] Trial 19 finished with value: 44.23851336578824 and parameters: {'beta': 1.5523175552541801, 'learning_rate': 8.334255335724149e-05, 'batch_size': 75, 'epochs': 643, 'optimizer_type': 'rmsprop'}. Best is trial 12 with value: 40.21569924425723.\n"
     ]
    },
    {
     "name": "stdout",
     "output_type": "stream",
     "text": [
      "8\n"
     ]
    },
    {
     "name": "stderr",
     "output_type": "stream",
     "text": [
      "[I 2024-12-02 17:14:01,465] Trial 20 finished with value: 46.43020912284282 and parameters: {'beta': 1.8587496318340355, 'learning_rate': 2.5379036337590884e-05, 'batch_size': 27, 'epochs': 434, 'optimizer_type': 'rmsprop'}. Best is trial 12 with value: 40.21569924425723.\n"
     ]
    },
    {
     "name": "stdout",
     "output_type": "stream",
     "text": [
      "8\n"
     ]
    },
    {
     "name": "stderr",
     "output_type": "stream",
     "text": [
      "[I 2024-12-02 17:16:15,233] Trial 21 finished with value: 38.85023812820662 and parameters: {'beta': 1.5615696914243005, 'learning_rate': 6.168559481853265e-05, 'batch_size': 25, 'epochs': 831, 'optimizer_type': 'rmsprop'}. Best is trial 21 with value: 38.85023812820662.\n"
     ]
    },
    {
     "name": "stdout",
     "output_type": "stream",
     "text": [
      "8\n"
     ]
    },
    {
     "name": "stderr",
     "output_type": "stream",
     "text": [
      "[I 2024-12-02 17:18:30,816] Trial 22 finished with value: 40.15210343545942 and parameters: {'beta': 1.6452811176354587, 'learning_rate': 6.843776236875285e-05, 'batch_size': 24, 'epochs': 804, 'optimizer_type': 'rmsprop'}. Best is trial 21 with value: 38.85023812820662.\n"
     ]
    },
    {
     "name": "stdout",
     "output_type": "stream",
     "text": [
      "8\n"
     ]
    },
    {
     "name": "stderr",
     "output_type": "stream",
     "text": [
      "[I 2024-12-02 17:20:29,094] Trial 23 finished with value: 40.52552827294193 and parameters: {'beta': 1.4586138172595573, 'learning_rate': 6.644441211042066e-05, 'batch_size': 25, 'epochs': 741, 'optimizer_type': 'rmsprop'}. Best is trial 21 with value: 38.85023812820662.\n"
     ]
    },
    {
     "name": "stdout",
     "output_type": "stream",
     "text": [
      "8\n"
     ]
    },
    {
     "name": "stderr",
     "output_type": "stream",
     "text": [
      "[I 2024-12-02 17:20:47,905] Trial 24 finished with value: 44.81582067688899 and parameters: {'beta': 1.0045312746901862, 'learning_rate': 8.990923457292303e-05, 'batch_size': 38, 'epochs': 201, 'optimizer_type': 'rmsprop'}. Best is trial 21 with value: 38.85023812820662.\n"
     ]
    },
    {
     "name": "stdout",
     "output_type": "stream",
     "text": [
      "8\n"
     ]
    },
    {
     "name": "stderr",
     "output_type": "stream",
     "text": [
      "[I 2024-12-02 17:22:00,422] Trial 25 finished with value: 42.22655994927705 and parameters: {'beta': 1.6107691757308689, 'learning_rate': 7.56191823575889e-05, 'batch_size': 56, 'epochs': 915, 'optimizer_type': 'rmsprop'}. Best is trial 21 with value: 38.85023812820662.\n"
     ]
    },
    {
     "name": "stdout",
     "output_type": "stream",
     "text": [
      "8\n"
     ]
    },
    {
     "name": "stderr",
     "output_type": "stream",
     "text": [
      "[I 2024-12-02 17:23:20,928] Trial 26 finished with value: 41.287553291890156 and parameters: {'beta': 1.6254223552233387, 'learning_rate': 6.228392099591824e-05, 'batch_size': 36, 'epochs': 722, 'optimizer_type': 'adam'}. Best is trial 21 with value: 38.85023812820662.\n"
     ]
    },
    {
     "name": "stdout",
     "output_type": "stream",
     "text": [
      "8\n"
     ]
    },
    {
     "name": "stderr",
     "output_type": "stream",
     "text": [
      "[I 2024-12-02 17:23:50,738] Trial 27 finished with value: 45.14119563316231 and parameters: {'beta': 1.3579094873445428, 'learning_rate': 9.600810924571403e-05, 'batch_size': 96, 'epochs': 552, 'optimizer_type': 'rmsprop'}. Best is trial 21 with value: 38.85023812820662.\n"
     ]
    },
    {
     "name": "stdout",
     "output_type": "stream",
     "text": [
      "8\n"
     ]
    },
    {
     "name": "stderr",
     "output_type": "stream",
     "text": [
      "[I 2024-12-02 17:25:47,386] Trial 28 finished with value: 40.6188870102612 and parameters: {'beta': 1.519469228107662, 'learning_rate': 8.557938281180632e-05, 'batch_size': 22, 'epochs': 628, 'optimizer_type': 'rmsprop'}. Best is trial 21 with value: 38.85023812820662.\n"
     ]
    },
    {
     "name": "stdout",
     "output_type": "stream",
     "text": [
      "8\n"
     ]
    },
    {
     "name": "stderr",
     "output_type": "stream",
     "text": [
      "[I 2024-12-02 17:26:57,171] Trial 29 finished with value: 41.12745634619869 and parameters: {'beta': 1.8285786387567136, 'learning_rate': 7.854824381528543e-05, 'batch_size': 49, 'epochs': 787, 'optimizer_type': 'rmsprop'}. Best is trial 21 with value: 38.85023812820662.\n"
     ]
    },
    {
     "name": "stdout",
     "output_type": "stream",
     "text": [
      "8\n"
     ]
    },
    {
     "name": "stderr",
     "output_type": "stream",
     "text": [
      "[I 2024-12-02 17:28:38,115] Trial 30 finished with value: 41.44615141455807 and parameters: {'beta': 1.6907042361862241, 'learning_rate': 5.192884517305906e-05, 'batch_size': 41, 'epochs': 915, 'optimizer_type': 'rmsprop'}. Best is trial 21 with value: 38.85023812820662.\n"
     ]
    },
    {
     "name": "stdout",
     "output_type": "stream",
     "text": [
      "8\n"
     ]
    },
    {
     "name": "stderr",
     "output_type": "stream",
     "text": [
      "[I 2024-12-02 17:30:32,211] Trial 31 finished with value: 42.54994288202542 and parameters: {'beta': 1.4630476270309156, 'learning_rate': 6.692449799733151e-05, 'batch_size': 25, 'epochs': 709, 'optimizer_type': 'rmsprop'}. Best is trial 21 with value: 38.85023812820662.\n"
     ]
    },
    {
     "name": "stdout",
     "output_type": "stream",
     "text": [
      "8\n"
     ]
    },
    {
     "name": "stderr",
     "output_type": "stream",
     "text": [
      "[I 2024-12-02 17:32:19,674] Trial 32 finished with value: 41.11263423179513 and parameters: {'beta': 1.5528692799316928, 'learning_rate': 6.473300006054985e-05, 'batch_size': 30, 'epochs': 773, 'optimizer_type': 'rmsprop'}. Best is trial 21 with value: 38.85023812820662.\n"
     ]
    },
    {
     "name": "stdout",
     "output_type": "stream",
     "text": [
      "8\n"
     ]
    },
    {
     "name": "stderr",
     "output_type": "stream",
     "text": [
      "[I 2024-12-02 17:34:10,020] Trial 33 finished with value: 41.94301475411031 and parameters: {'beta': 1.4179307508474912, 'learning_rate': 7.26116266424391e-05, 'batch_size': 25, 'epochs': 675, 'optimizer_type': 'rmsprop'}. Best is trial 21 with value: 38.85023812820662.\n"
     ]
    },
    {
     "name": "stdout",
     "output_type": "stream",
     "text": [
      "8\n"
     ]
    },
    {
     "name": "stderr",
     "output_type": "stream",
     "text": [
      "[I 2024-12-02 17:37:08,489] Trial 34 finished with value: 40.15259344755714 and parameters: {'beta': 1.791705302760824, 'learning_rate': 6.0374648724346514e-05, 'batch_size': 21, 'epochs': 918, 'optimizer_type': 'rmsprop'}. Best is trial 21 with value: 38.85023812820662.\n"
     ]
    },
    {
     "name": "stdout",
     "output_type": "stream",
     "text": [
      "8\n"
     ]
    },
    {
     "name": "stderr",
     "output_type": "stream",
     "text": [
      "[I 2024-12-02 17:41:00,280] Trial 35 finished with value: 39.45362817565007 and parameters: {'beta': 1.7766220941439588, 'learning_rate': 5.8148032757045014e-05, 'batch_size': 17, 'epochs': 911, 'optimizer_type': 'rmsprop'}. Best is trial 21 with value: 38.85023812820662.\n"
     ]
    },
    {
     "name": "stdout",
     "output_type": "stream",
     "text": [
      "8\n"
     ]
    },
    {
     "name": "stderr",
     "output_type": "stream",
     "text": [
      "[I 2024-12-02 17:42:49,542] Trial 36 finished with value: 40.48801670359142 and parameters: {'beta': 1.7824786218255237, 'learning_rate': 5.7197065493678706e-05, 'batch_size': 33, 'epochs': 914, 'optimizer_type': 'adam'}. Best is trial 21 with value: 38.85023812820662.\n"
     ]
    },
    {
     "name": "stdout",
     "output_type": "stream",
     "text": [
      "8\n"
     ]
    },
    {
     "name": "stderr",
     "output_type": "stream",
     "text": [
      "[I 2024-12-02 17:44:28,013] Trial 37 finished with value: 41.65615125058302 and parameters: {'beta': 1.9362368848759886, 'learning_rate': 4.961740040380195e-05, 'batch_size': 43, 'epochs': 946, 'optimizer_type': 'rmsprop'}. Best is trial 21 with value: 38.85023812820662.\n"
     ]
    },
    {
     "name": "stdout",
     "output_type": "stream",
     "text": [
      "8\n"
     ]
    },
    {
     "name": "stderr",
     "output_type": "stream",
     "text": [
      "[I 2024-12-02 17:46:46,867] Trial 38 finished with value: 40.74352070822645 and parameters: {'beta': 1.7623744823863525, 'learning_rate': 3.892191752908172e-05, 'batch_size': 21, 'epochs': 826, 'optimizer_type': 'adam'}. Best is trial 21 with value: 38.85023812820662.\n"
     ]
    },
    {
     "name": "stdout",
     "output_type": "stream",
     "text": [
      "8\n"
     ]
    },
    {
     "name": "stderr",
     "output_type": "stream",
     "text": [
      "[I 2024-12-02 17:47:33,377] Trial 39 finished with value: 46.014833182719215 and parameters: {'beta': 1.8836584206042053, 'learning_rate': 4.7405524981291875e-05, 'batch_size': 101, 'epochs': 859, 'optimizer_type': 'rmsprop'}. Best is trial 21 with value: 38.85023812820662.\n"
     ]
    },
    {
     "name": "stdout",
     "output_type": "stream",
     "text": [
      "8\n"
     ]
    },
    {
     "name": "stderr",
     "output_type": "stream",
     "text": [
      "[I 2024-12-02 17:49:32,047] Trial 40 finished with value: 39.77558596027431 and parameters: {'beta': 1.7229042064434588, 'learning_rate': 5.851294428080998e-05, 'batch_size': 35, 'epochs': 949, 'optimizer_type': 'rmsprop'}. Best is trial 21 with value: 38.85023812820662.\n"
     ]
    },
    {
     "name": "stdout",
     "output_type": "stream",
     "text": [
      "8\n"
     ]
    },
    {
     "name": "stderr",
     "output_type": "stream",
     "text": [
      "[I 2024-12-02 17:51:42,559] Trial 41 finished with value: 40.65340895012243 and parameters: {'beta': 1.8141104004621824, 'learning_rate': 5.998791602520223e-05, 'batch_size': 33, 'epochs': 958, 'optimizer_type': 'rmsprop'}. Best is trial 21 with value: 38.85023812820662.\n"
     ]
    },
    {
     "name": "stdout",
     "output_type": "stream",
     "text": [
      "8\n"
     ]
    },
    {
     "name": "stderr",
     "output_type": "stream",
     "text": [
      "[I 2024-12-02 17:54:38,579] Trial 42 finished with value: 39.6378550515246 and parameters: {'beta': 1.730947370997395, 'learning_rate': 7.032908903411952e-05, 'batch_size': 22, 'epochs': 895, 'optimizer_type': 'rmsprop'}. Best is trial 21 with value: 38.85023812820662.\n"
     ]
    },
    {
     "name": "stdout",
     "output_type": "stream",
     "text": [
      "8\n"
     ]
    },
    {
     "name": "stderr",
     "output_type": "stream",
     "text": [
      "[I 2024-12-02 17:56:47,339] Trial 43 finished with value: 40.145888416802705 and parameters: {'beta': 1.7153976984664303, 'learning_rate': 7.198332533995173e-05, 'batch_size': 28, 'epochs': 866, 'optimizer_type': 'rmsprop'}. Best is trial 21 with value: 38.85023812820662.\n"
     ]
    },
    {
     "name": "stdout",
     "output_type": "stream",
     "text": [
      "8\n"
     ]
    },
    {
     "name": "stderr",
     "output_type": "stream",
     "text": [
      "[I 2024-12-02 17:58:44,606] Trial 44 finished with value: 47.29165369290025 and parameters: {'beta': 1.7364243911988604, 'learning_rate': 1.0915132852681641e-06, 'batch_size': 29, 'epochs': 872, 'optimizer_type': 'rmsprop'}. Best is trial 21 with value: 38.85023812820662.\n"
     ]
    },
    {
     "name": "stdout",
     "output_type": "stream",
     "text": [
      "8\n"
     ]
    },
    {
     "name": "stderr",
     "output_type": "stream",
     "text": [
      "[I 2024-12-02 18:02:00,764] Trial 45 finished with value: 38.847364556611474 and parameters: {'beta': 1.6941947204972776, 'learning_rate': 7.31376966450935e-05, 'batch_size': 16, 'epochs': 998, 'optimizer_type': 'adam'}. Best is trial 45 with value: 38.847364556611474.\n"
     ]
    },
    {
     "name": "stdout",
     "output_type": "stream",
     "text": [
      "8\n"
     ]
    },
    {
     "name": "stderr",
     "output_type": "stream",
     "text": [
      "[I 2024-12-02 18:03:14,595] Trial 46 finished with value: 43.40663953183302 and parameters: {'beta': 1.9085338619777865, 'learning_rate': 4.297173287445899e-05, 'batch_size': 68, 'epochs': 995, 'optimizer_type': 'adam'}. Best is trial 45 with value: 38.847364556611474.\n"
     ]
    },
    {
     "name": "stdout",
     "output_type": "stream",
     "text": [
      "8\n"
     ]
    },
    {
     "name": "stderr",
     "output_type": "stream",
     "text": [
      "[I 2024-12-02 18:06:10,181] Trial 47 finished with value: 38.99746565178259 and parameters: {'beta': 1.6808965140142864, 'learning_rate': 7.983166549124215e-05, 'batch_size': 19, 'epochs': 964, 'optimizer_type': 'adam'}. Best is trial 45 with value: 38.847364556611474.\n"
     ]
    },
    {
     "name": "stdout",
     "output_type": "stream",
     "text": [
      "8\n"
     ]
    },
    {
     "name": "stderr",
     "output_type": "stream",
     "text": [
      "[I 2024-12-02 18:09:08,821] Trial 48 finished with value: 38.82333829509678 and parameters: {'beta': 1.6625347474827321, 'learning_rate': 7.607875097093814e-05, 'batch_size': 17, 'epochs': 887, 'optimizer_type': 'adam'}. Best is trial 48 with value: 38.82333829509678.\n"
     ]
    },
    {
     "name": "stdout",
     "output_type": "stream",
     "text": [
      "8\n"
     ]
    },
    {
     "name": "stderr",
     "output_type": "stream",
     "text": [
      "[I 2024-12-02 18:12:23,293] Trial 49 finished with value: 38.247300310277225 and parameters: {'beta': 1.672312829344531, 'learning_rate': 7.820601536727934e-05, 'batch_size': 17, 'epochs': 992, 'optimizer_type': 'adam'}. Best is trial 49 with value: 38.247300310277225.\n",
      "[I 2024-12-02 18:15:43,464] A new study created in memory with name: no-name-a8e47f87-ab09-47e3-98ed-939f63119bba\n"
     ]
    },
    {
     "name": "stdout",
     "output_type": "stream",
     "text": [
      "45\n"
     ]
    },
    {
     "name": "stderr",
     "output_type": "stream",
     "text": [
      "[I 2024-12-02 18:16:29,774] Trial 0 finished with value: 46.32727979973181 and parameters: {'beta': 1.0900440556941884, 'learning_rate': 4.724271142795942e-05, 'batch_size': 70, 'epochs': 625, 'optimizer_type': 'rmsprop'}. Best is trial 0 with value: 46.32727979973181.\n"
     ]
    },
    {
     "name": "stdout",
     "output_type": "stream",
     "text": [
      "45\n"
     ]
    },
    {
     "name": "stderr",
     "output_type": "stream",
     "text": [
      "[I 2024-12-02 18:17:35,950] Trial 1 finished with value: 42.5599085110337 and parameters: {'beta': 1.3258156360619284, 'learning_rate': 7.550612320661072e-05, 'batch_size': 60, 'epochs': 737, 'optimizer_type': 'adam'}. Best is trial 1 with value: 42.5599085110337.\n"
     ]
    },
    {
     "name": "stdout",
     "output_type": "stream",
     "text": [
      "45\n"
     ]
    },
    {
     "name": "stderr",
     "output_type": "stream",
     "text": [
      "[I 2024-12-02 18:17:56,202] Trial 2 finished with value: 49.75385484837774 and parameters: {'beta': 1.0746875933337448, 'learning_rate': 1.484375081005308e-05, 'batch_size': 18, 'epochs': 116, 'optimizer_type': 'rmsprop'}. Best is trial 1 with value: 42.5599085110337.\n"
     ]
    },
    {
     "name": "stdout",
     "output_type": "stream",
     "text": [
      "45\n"
     ]
    },
    {
     "name": "stderr",
     "output_type": "stream",
     "text": [
      "[I 2024-12-02 18:18:13,606] Trial 3 finished with value: 47.72171466884328 and parameters: {'beta': 1.0386452414742737, 'learning_rate': 8.512006206874147e-05, 'batch_size': 36, 'epochs': 149, 'optimizer_type': 'adam'}. Best is trial 1 with value: 42.5599085110337.\n"
     ]
    },
    {
     "name": "stdout",
     "output_type": "stream",
     "text": [
      "45\n"
     ]
    },
    {
     "name": "stderr",
     "output_type": "stream",
     "text": [
      "[I 2024-12-02 18:18:24,535] Trial 4 finished with value: 47.365132163887594 and parameters: {'beta': 1.4144742614516093, 'learning_rate': 3.553677323275623e-05, 'batch_size': 42, 'epochs': 101, 'optimizer_type': 'adam'}. Best is trial 1 with value: 42.5599085110337.\n"
     ]
    },
    {
     "name": "stdout",
     "output_type": "stream",
     "text": [
      "45\n"
     ]
    },
    {
     "name": "stderr",
     "output_type": "stream",
     "text": [
      "[I 2024-12-02 18:19:41,942] Trial 5 finished with value: 41.056873970601096 and parameters: {'beta': 1.2377797260672083, 'learning_rate': 7.81612246957205e-05, 'batch_size': 39, 'epochs': 678, 'optimizer_type': 'rmsprop'}. Best is trial 5 with value: 41.056873970601096.\n"
     ]
    },
    {
     "name": "stdout",
     "output_type": "stream",
     "text": [
      "45\n"
     ]
    },
    {
     "name": "stderr",
     "output_type": "stream",
     "text": [
      "[I 2024-12-02 18:19:51,733] Trial 6 finished with value: 47.1233786511777 and parameters: {'beta': 1.9354262260673054, 'learning_rate': 9.714935439721601e-06, 'batch_size': 55, 'epochs': 116, 'optimizer_type': 'rmsprop'}. Best is trial 5 with value: 41.056873970601096.\n"
     ]
    },
    {
     "name": "stdout",
     "output_type": "stream",
     "text": [
      "45\n"
     ]
    },
    {
     "name": "stderr",
     "output_type": "stream",
     "text": [
      "[I 2024-12-02 18:20:05,295] Trial 7 finished with value: 48.04657182835821 and parameters: {'beta': 1.3344711748395344, 'learning_rate': 9.666876695129741e-05, 'batch_size': 75, 'epochs': 186, 'optimizer_type': 'rmsprop'}. Best is trial 5 with value: 41.056873970601096.\n"
     ]
    },
    {
     "name": "stdout",
     "output_type": "stream",
     "text": [
      "45\n"
     ]
    },
    {
     "name": "stderr",
     "output_type": "stream",
     "text": [
      "[I 2024-12-02 18:22:42,164] Trial 8 finished with value: 39.547098689292795 and parameters: {'beta': 1.3587196966904616, 'learning_rate': 6.086662535984353e-05, 'batch_size': 19, 'epochs': 702, 'optimizer_type': 'rmsprop'}. Best is trial 8 with value: 39.547098689292795.\n"
     ]
    },
    {
     "name": "stdout",
     "output_type": "stream",
     "text": [
      "45\n"
     ]
    },
    {
     "name": "stderr",
     "output_type": "stream",
     "text": [
      "[I 2024-12-02 18:23:28,010] Trial 9 finished with value: 42.19380711797458 and parameters: {'beta': 1.5686878923994638, 'learning_rate': 4.429300002961014e-05, 'batch_size': 30, 'epochs': 374, 'optimizer_type': 'rmsprop'}. Best is trial 8 with value: 39.547098689292795.\n"
     ]
    },
    {
     "name": "stdout",
     "output_type": "stream",
     "text": [
      "45\n"
     ]
    },
    {
     "name": "stderr",
     "output_type": "stream",
     "text": [
      "[I 2024-12-02 18:24:37,765] Trial 10 finished with value: 42.936458917874006 and parameters: {'beta': 1.6149098934543604, 'learning_rate': 6.280847370376062e-05, 'batch_size': 111, 'epochs': 950, 'optimizer_type': 'adam'}. Best is trial 8 with value: 39.547098689292795.\n"
     ]
    },
    {
     "name": "stdout",
     "output_type": "stream",
     "text": [
      "45\n"
     ]
    },
    {
     "name": "stderr",
     "output_type": "stream",
     "text": [
      "[I 2024-12-02 18:27:48,460] Trial 11 finished with value: 38.928914061589026 and parameters: {'beta': 1.252847529385583, 'learning_rate': 6.564579301099946e-05, 'batch_size': 18, 'epochs': 820, 'optimizer_type': 'rmsprop'}. Best is trial 11 with value: 38.928914061589026.\n"
     ]
    },
    {
     "name": "stdout",
     "output_type": "stream",
     "text": [
      "45\n"
     ]
    },
    {
     "name": "stderr",
     "output_type": "stream",
     "text": [
      "[I 2024-12-02 18:31:41,515] Trial 12 finished with value: 34.73612418103574 and parameters: {'beta': 1.7407175567728173, 'learning_rate': 6.101637711254887e-05, 'batch_size': 17, 'epochs': 942, 'optimizer_type': 'rmsprop'}. Best is trial 12 with value: 34.73612418103574.\n"
     ]
    },
    {
     "name": "stdout",
     "output_type": "stream",
     "text": [
      "45\n"
     ]
    },
    {
     "name": "stderr",
     "output_type": "stream",
     "text": [
      "[I 2024-12-02 18:32:49,407] Trial 13 finished with value: 43.100631486124065 and parameters: {'beta': 1.800757421067121, 'learning_rate': 2.7467166664738447e-05, 'batch_size': 87, 'epochs': 999, 'optimizer_type': 'rmsprop'}. Best is trial 12 with value: 34.73612418103574.\n"
     ]
    },
    {
     "name": "stdout",
     "output_type": "stream",
     "text": [
      "45\n"
     ]
    },
    {
     "name": "stderr",
     "output_type": "stream",
     "text": [
      "[I 2024-12-02 18:36:20,906] Trial 14 finished with value: 35.59589383708897 and parameters: {'beta': 1.7318092961999236, 'learning_rate': 6.273265499244e-05, 'batch_size': 16, 'epochs': 821, 'optimizer_type': 'rmsprop'}. Best is trial 12 with value: 34.73612418103574.\n"
     ]
    },
    {
     "name": "stdout",
     "output_type": "stream",
     "text": [
      "45\n"
     ]
    },
    {
     "name": "stderr",
     "output_type": "stream",
     "text": [
      "[I 2024-12-02 18:37:02,171] Trial 15 finished with value: 42.534450064132464 and parameters: {'beta': 1.7255894853540112, 'learning_rate': 5.423180487552326e-05, 'batch_size': 50, 'epochs': 465, 'optimizer_type': 'rmsprop'}. Best is trial 12 with value: 34.73612418103574.\n"
     ]
    },
    {
     "name": "stdout",
     "output_type": "stream",
     "text": [
      "45\n"
     ]
    },
    {
     "name": "stderr",
     "output_type": "stream",
     "text": [
      "[I 2024-12-02 18:39:24,067] Trial 16 finished with value: 32.70737605308419 and parameters: {'beta': 1.9822178240626225, 'learning_rate': 9.831596678289552e-05, 'batch_size': 27, 'epochs': 878, 'optimizer_type': 'rmsprop'}. Best is trial 16 with value: 32.70737605308419.\n"
     ]
    },
    {
     "name": "stdout",
     "output_type": "stream",
     "text": [
      "45\n"
     ]
    },
    {
     "name": "stderr",
     "output_type": "stream",
     "text": [
      "[I 2024-12-02 18:41:39,578] Trial 17 finished with value: 33.81523863379635 and parameters: {'beta': 1.9809468792529619, 'learning_rate': 9.191695546263885e-05, 'batch_size': 29, 'epochs': 876, 'optimizer_type': 'rmsprop'}. Best is trial 16 with value: 32.70737605308419.\n"
     ]
    },
    {
     "name": "stdout",
     "output_type": "stream",
     "text": [
      "45\n"
     ]
    },
    {
     "name": "stderr",
     "output_type": "stream",
     "text": [
      "[I 2024-12-02 18:42:41,904] Trial 18 finished with value: 38.20659812813375 and parameters: {'beta': 1.9628973185237863, 'learning_rate': 9.929885093847703e-05, 'batch_size': 30, 'epochs': 529, 'optimizer_type': 'adam'}. Best is trial 16 with value: 32.70737605308419.\n"
     ]
    },
    {
     "name": "stdout",
     "output_type": "stream",
     "text": [
      "45\n"
     ]
    },
    {
     "name": "stderr",
     "output_type": "stream",
     "text": [
      "[I 2024-12-02 18:43:48,778] Trial 19 finished with value: 39.20105763905084 and parameters: {'beta': 1.8605557155772425, 'learning_rate': 8.934560847386276e-05, 'batch_size': 48, 'epochs': 850, 'optimizer_type': 'rmsprop'}. Best is trial 16 with value: 32.70737605308419.\n"
     ]
    },
    {
     "name": "stdout",
     "output_type": "stream",
     "text": [
      "45\n"
     ]
    },
    {
     "name": "stderr",
     "output_type": "stream",
     "text": [
      "[I 2024-12-02 18:44:04,003] Trial 20 finished with value: 46.70512075851213 and parameters: {'beta': 1.995162187171656, 'learning_rate': 8.888957020119448e-05, 'batch_size': 87, 'epochs': 277, 'optimizer_type': 'rmsprop'}. Best is trial 16 with value: 32.70737605308419.\n"
     ]
    },
    {
     "name": "stdout",
     "output_type": "stream",
     "text": [
      "45\n"
     ]
    },
    {
     "name": "stderr",
     "output_type": "stream",
     "text": [
      "[I 2024-12-02 18:46:29,373] Trial 21 finished with value: 35.63104698978253 and parameters: {'beta': 1.8663357801620941, 'learning_rate': 7.441686064444701e-05, 'batch_size': 23, 'epochs': 917, 'optimizer_type': 'rmsprop'}. Best is trial 16 with value: 32.70737605308419.\n"
     ]
    },
    {
     "name": "stdout",
     "output_type": "stream",
     "text": [
      "45\n"
     ]
    },
    {
     "name": "stderr",
     "output_type": "stream",
     "text": [
      "[I 2024-12-02 18:48:26,081] Trial 22 finished with value: 37.50890358312806 and parameters: {'beta': 1.6872412226201106, 'learning_rate': 8.332994216613384e-05, 'batch_size': 29, 'epochs': 888, 'optimizer_type': 'rmsprop'}. Best is trial 16 with value: 32.70737605308419.\n"
     ]
    },
    {
     "name": "stdout",
     "output_type": "stream",
     "text": [
      "45\n"
     ]
    },
    {
     "name": "stderr",
     "output_type": "stream",
     "text": [
      "[I 2024-12-02 18:50:12,146] Trial 23 finished with value: 36.15656373892257 and parameters: {'beta': 1.8490460386638436, 'learning_rate': 9.160438233507889e-05, 'batch_size': 27, 'epochs': 780, 'optimizer_type': 'rmsprop'}. Best is trial 16 with value: 32.70737605308419.\n"
     ]
    },
    {
     "name": "stdout",
     "output_type": "stream",
     "text": [
      "45\n"
     ]
    },
    {
     "name": "stderr",
     "output_type": "stream",
     "text": [
      "[I 2024-12-02 18:51:09,066] Trial 24 finished with value: 38.49206298144895 and parameters: {'beta': 1.782618304443596, 'learning_rate': 9.798485841924164e-05, 'batch_size': 37, 'epochs': 597, 'optimizer_type': 'rmsprop'}. Best is trial 16 with value: 32.70737605308419.\n"
     ]
    },
    {
     "name": "stdout",
     "output_type": "stream",
     "text": [
      "45\n"
     ]
    },
    {
     "name": "stderr",
     "output_type": "stream",
     "text": [
      "[I 2024-12-02 18:52:34,396] Trial 25 finished with value: 37.79187439875816 and parameters: {'beta': 1.9145853173756762, 'learning_rate': 7.110063686576739e-05, 'batch_size': 46, 'epochs': 994, 'optimizer_type': 'rmsprop'}. Best is trial 16 with value: 32.70737605308419.\n"
     ]
    },
    {
     "name": "stdout",
     "output_type": "stream",
     "text": [
      "45\n"
     ]
    },
    {
     "name": "stderr",
     "output_type": "stream",
     "text": [
      "[I 2024-12-02 18:54:02,867] Trial 26 finished with value: 38.79840962424207 and parameters: {'beta': 1.6454209350401598, 'learning_rate': 8.247848186729386e-05, 'batch_size': 34, 'epochs': 900, 'optimizer_type': 'adam'}. Best is trial 16 with value: 32.70737605308419.\n"
     ]
    },
    {
     "name": "stdout",
     "output_type": "stream",
     "text": [
      "45\n"
     ]
    },
    {
     "name": "stderr",
     "output_type": "stream",
     "text": [
      "[I 2024-12-02 18:55:57,594] Trial 27 finished with value: 41.204862497813664 and parameters: {'beta': 1.5159662557686242, 'learning_rate': 3.660214066359667e-05, 'batch_size': 24, 'epochs': 767, 'optimizer_type': 'rmsprop'}. Best is trial 16 with value: 32.70737605308419.\n"
     ]
    },
    {
     "name": "stdout",
     "output_type": "stream",
     "text": [
      "45\n"
     ]
    },
    {
     "name": "stderr",
     "output_type": "stream",
     "text": [
      "[I 2024-12-02 18:56:31,189] Trial 28 finished with value: 46.70052271600979 and parameters: {'beta': 1.7927387337323342, 'learning_rate': 5.3877868150941055e-05, 'batch_size': 107, 'epochs': 654, 'optimizer_type': 'rmsprop'}. Best is trial 16 with value: 32.70737605308419.\n"
     ]
    },
    {
     "name": "stdout",
     "output_type": "stream",
     "text": [
      "45\n"
     ]
    },
    {
     "name": "stderr",
     "output_type": "stream",
     "text": [
      "[I 2024-12-02 18:57:06,452] Trial 29 finished with value: 44.639862151644124 and parameters: {'beta': 1.9173227176785907, 'learning_rate': 4.680688428207167e-05, 'batch_size': 70, 'epochs': 590, 'optimizer_type': 'rmsprop'}. Best is trial 16 with value: 32.70737605308419.\n"
     ]
    },
    {
     "name": "stdout",
     "output_type": "stream",
     "text": [
      "45\n"
     ]
    },
    {
     "name": "stderr",
     "output_type": "stream",
     "text": [
      "[I 2024-12-02 18:58:03,308] Trial 30 finished with value: 40.381974405317166 and parameters: {'beta': 1.9998757877271607, 'learning_rate': 7.017825444536006e-05, 'batch_size': 57, 'epochs': 841, 'optimizer_type': 'rmsprop'}. Best is trial 16 with value: 32.70737605308419.\n"
     ]
    },
    {
     "name": "stdout",
     "output_type": "stream",
     "text": [
      "45\n"
     ]
    },
    {
     "name": "stderr",
     "output_type": "stream",
     "text": [
      "[I 2024-12-02 19:00:57,034] Trial 31 finished with value: 35.45563650558244 and parameters: {'beta': 1.7311410102941065, 'learning_rate': 5.9604596906325204e-05, 'batch_size': 16, 'epochs': 814, 'optimizer_type': 'rmsprop'}. Best is trial 16 with value: 32.70737605308419.\n"
     ]
    },
    {
     "name": "stdout",
     "output_type": "stream",
     "text": [
      "45\n"
     ]
    },
    {
     "name": "stderr",
     "output_type": "stream",
     "text": [
      "[I 2024-12-02 19:03:26,297] Trial 32 finished with value: 38.412308137808274 and parameters: {'beta': 1.4740651768153312, 'learning_rate': 5.645209031045805e-05, 'batch_size': 23, 'epochs': 953, 'optimizer_type': 'rmsprop'}. Best is trial 16 with value: 32.70737605308419.\n"
     ]
    },
    {
     "name": "stdout",
     "output_type": "stream",
     "text": [
      "45\n"
     ]
    },
    {
     "name": "stderr",
     "output_type": "stream",
     "text": [
      "[I 2024-12-02 19:05:29,872] Trial 33 finished with value: 35.91741150813316 and parameters: {'beta': 1.8577362736841456, 'learning_rate': 7.755141557731792e-05, 'batch_size': 22, 'epochs': 743, 'optimizer_type': 'rmsprop'}. Best is trial 16 with value: 32.70737605308419.\n"
     ]
    },
    {
     "name": "stdout",
     "output_type": "stream",
     "text": [
      "45\n"
     ]
    },
    {
     "name": "stderr",
     "output_type": "stream",
     "text": [
      "[I 2024-12-02 19:07:02,533] Trial 34 finished with value: 45.98505030390042 and parameters: {'beta': 1.7614063490846414, 'learning_rate': 1.5611509621294217e-06, 'batch_size': 31, 'epochs': 885, 'optimizer_type': 'adam'}. Best is trial 16 with value: 32.70737605308419.\n"
     ]
    },
    {
     "name": "stdout",
     "output_type": "stream",
     "text": [
      "45\n"
     ]
    },
    {
     "name": "stderr",
     "output_type": "stream",
     "text": [
      "[I 2024-12-02 19:10:02,076] Trial 35 finished with value: 34.28017031541511 and parameters: {'beta': 1.6757566361479357, 'learning_rate': 9.263528494015629e-05, 'batch_size': 16, 'epochs': 806, 'optimizer_type': 'rmsprop'}. Best is trial 16 with value: 32.70737605308419.\n"
     ]
    },
    {
     "name": "stdout",
     "output_type": "stream",
     "text": [
      "45\n"
     ]
    },
    {
     "name": "stderr",
     "output_type": "stream",
     "text": [
      "[I 2024-12-02 19:11:07,935] Trial 36 finished with value: 39.51410895959655 and parameters: {'beta': 1.651352636411561, 'learning_rate': 9.29079516908666e-05, 'batch_size': 40, 'epochs': 729, 'optimizer_type': 'rmsprop'}. Best is trial 16 with value: 32.70737605308419.\n"
     ]
    },
    {
     "name": "stdout",
     "output_type": "stream",
     "text": [
      "45\n"
     ]
    },
    {
     "name": "stderr",
     "output_type": "stream",
     "text": [
      "[I 2024-12-02 19:12:41,368] Trial 37 finished with value: 38.596150731328706 and parameters: {'beta': 1.588841703987435, 'learning_rate': 8.514509686378655e-05, 'batch_size': 35, 'epochs': 940, 'optimizer_type': 'adam'}. Best is trial 16 with value: 32.70737605308419.\n"
     ]
    },
    {
     "name": "stdout",
     "output_type": "stream",
     "text": [
      "45\n"
     ]
    },
    {
     "name": "stderr",
     "output_type": "stream",
     "text": [
      "[I 2024-12-02 19:13:55,720] Trial 38 finished with value: 38.090077687733206 and parameters: {'beta': 1.5232737496911426, 'learning_rate': 9.566870911203287e-05, 'batch_size': 45, 'epochs': 878, 'optimizer_type': 'rmsprop'}. Best is trial 16 with value: 32.70737605308419.\n"
     ]
    },
    {
     "name": "stdout",
     "output_type": "stream",
     "text": [
      "45\n"
     ]
    },
    {
     "name": "stderr",
     "output_type": "stream",
     "text": [
      "[I 2024-12-02 19:15:28,792] Trial 39 finished with value: 35.85471246064599 and parameters: {'beta': 1.9078442670320115, 'learning_rate': 8.098169933386576e-05, 'batch_size': 24, 'epochs': 646, 'optimizer_type': 'rmsprop'}. Best is trial 16 with value: 32.70737605308419.\n"
     ]
    },
    {
     "name": "stdout",
     "output_type": "stream",
     "text": [
      "45\n"
     ]
    },
    {
     "name": "stderr",
     "output_type": "stream",
     "text": [
      "[I 2024-12-02 19:16:25,951] Trial 40 finished with value: 42.66762822848647 and parameters: {'beta': 1.8321006420610813, 'learning_rate': 2.4924880843626927e-05, 'batch_size': 53, 'epochs': 781, 'optimizer_type': 'rmsprop'}. Best is trial 16 with value: 32.70737605308419.\n"
     ]
    },
    {
     "name": "stdout",
     "output_type": "stream",
     "text": [
      "45\n"
     ]
    },
    {
     "name": "stderr",
     "output_type": "stream",
     "text": [
      "[I 2024-12-02 19:19:21,558] Trial 41 finished with value: 36.97976746060955 and parameters: {'beta': 1.697879638323706, 'learning_rate': 4.264732414421882e-05, 'batch_size': 17, 'epochs': 803, 'optimizer_type': 'rmsprop'}. Best is trial 16 with value: 32.70737605308419.\n"
     ]
    },
    {
     "name": "stdout",
     "output_type": "stream",
     "text": [
      "45\n"
     ]
    },
    {
     "name": "stderr",
     "output_type": "stream",
     "text": [
      "[I 2024-12-02 19:19:23,059] Trial 42 finished with value: 48.30375776148554 and parameters: {'beta': 1.6856532229868422, 'learning_rate': 8.807006305663595e-05, 'batch_size': 20, 'epochs': 11, 'optimizer_type': 'rmsprop'}. Best is trial 16 with value: 32.70737605308419.\n"
     ]
    },
    {
     "name": "stdout",
     "output_type": "stream",
     "text": [
      "45\n"
     ]
    },
    {
     "name": "stderr",
     "output_type": "stream",
     "text": [
      "[I 2024-12-02 19:20:59,767] Trial 43 finished with value: 39.16314396644706 and parameters: {'beta': 1.457909134499896, 'learning_rate': 6.864659053534879e-05, 'batch_size': 27, 'epochs': 713, 'optimizer_type': 'rmsprop'}. Best is trial 16 with value: 32.70737605308419.\n"
     ]
    },
    {
     "name": "stdout",
     "output_type": "stream",
     "text": [
      "45\n"
     ]
    },
    {
     "name": "stderr",
     "output_type": "stream",
     "text": [
      "[I 2024-12-02 19:24:36,524] Trial 44 finished with value: 33.15286897118412 and parameters: {'beta': 1.5559965714918311, 'learning_rate': 9.488308327024871e-05, 'batch_size': 16, 'epochs': 964, 'optimizer_type': 'rmsprop'}. Best is trial 16 with value: 32.70737605308419.\n"
     ]
    },
    {
     "name": "stdout",
     "output_type": "stream",
     "text": [
      "45\n"
     ]
    },
    {
     "name": "stderr",
     "output_type": "stream",
     "text": [
      "[I 2024-12-02 19:25:45,450] Trial 45 finished with value: 39.60148014808769 and parameters: {'beta': 1.4322158316483096, 'learning_rate': 9.437778712416334e-05, 'batch_size': 63, 'epochs': 999, 'optimizer_type': 'rmsprop'}. Best is trial 16 with value: 32.70737605308419.\n"
     ]
    },
    {
     "name": "stdout",
     "output_type": "stream",
     "text": [
      "45\n"
     ]
    },
    {
     "name": "stderr",
     "output_type": "stream",
     "text": [
      "[I 2024-12-02 19:27:19,372] Trial 46 finished with value: 38.6991284726271 and parameters: {'beta': 1.5720016254414586, 'learning_rate': 9.99341700220627e-05, 'batch_size': 34, 'epochs': 951, 'optimizer_type': 'adam'}. Best is trial 16 with value: 32.70737605308419.\n"
     ]
    },
    {
     "name": "stdout",
     "output_type": "stream",
     "text": [
      "45\n"
     ]
    },
    {
     "name": "stderr",
     "output_type": "stream",
     "text": [
      "[I 2024-12-02 19:28:43,567] Trial 47 finished with value: 40.34179140916511 and parameters: {'beta': 1.190275186295688, 'learning_rate': 7.628559908278424e-05, 'batch_size': 42, 'epochs': 933, 'optimizer_type': 'rmsprop'}. Best is trial 16 with value: 32.70737605308419.\n"
     ]
    },
    {
     "name": "stdout",
     "output_type": "stream",
     "text": [
      "45\n"
     ]
    },
    {
     "name": "stderr",
     "output_type": "stream",
     "text": [
      "[I 2024-12-02 19:31:57,987] Trial 48 finished with value: 32.52342857246968 and parameters: {'beta': 1.954166628591516, 'learning_rate': 8.674056445176403e-05, 'batch_size': 16, 'epochs': 858, 'optimizer_type': 'rmsprop'}. Best is trial 48 with value: 32.52342857246968.\n"
     ]
    },
    {
     "name": "stdout",
     "output_type": "stream",
     "text": [
      "45\n"
     ]
    },
    {
     "name": "stderr",
     "output_type": "stream",
     "text": [
      "[I 2024-12-02 19:33:55,912] Trial 49 finished with value: 34.155490340047805 and parameters: {'beta': 1.9498009185585046, 'learning_rate': 8.751074859588066e-05, 'batch_size': 26, 'epochs': 857, 'optimizer_type': 'rmsprop'}. Best is trial 48 with value: 32.52342857246968.\n",
      "[I 2024-12-02 19:37:09,262] A new study created in memory with name: no-name-d1f75835-3d45-4646-afed-cec50025b16d\n"
     ]
    },
    {
     "name": "stdout",
     "output_type": "stream",
     "text": [
      "45\n"
     ]
    },
    {
     "name": "stderr",
     "output_type": "stream",
     "text": [
      "[I 2024-12-02 19:37:11,738] Trial 0 finished with value: 50.10755815648321 and parameters: {'beta': 1.246954209275387, 'learning_rate': 7.410891093818255e-05, 'batch_size': 65, 'epochs': 39, 'optimizer_type': 'rmsprop'}. Best is trial 0 with value: 50.10755815648321.\n"
     ]
    },
    {
     "name": "stdout",
     "output_type": "stream",
     "text": [
      "45\n"
     ]
    },
    {
     "name": "stderr",
     "output_type": "stream",
     "text": [
      "[I 2024-12-02 19:37:33,544] Trial 1 finished with value: 44.85837110832556 and parameters: {'beta': 1.5270570958194822, 'learning_rate': 4.577210685311185e-05, 'batch_size': 24, 'epochs': 175, 'optimizer_type': 'adam'}. Best is trial 1 with value: 44.85837110832556.\n"
     ]
    },
    {
     "name": "stdout",
     "output_type": "stream",
     "text": [
      "45\n"
     ]
    },
    {
     "name": "stderr",
     "output_type": "stream",
     "text": [
      "[I 2024-12-02 19:37:46,135] Trial 2 finished with value: 45.95818454116138 and parameters: {'beta': 1.9993930507005588, 'learning_rate': 5.738006281157999e-05, 'batch_size': 90, 'epochs': 228, 'optimizer_type': 'rmsprop'}. Best is trial 1 with value: 44.85837110832556.\n"
     ]
    },
    {
     "name": "stdout",
     "output_type": "stream",
     "text": [
      "45\n"
     ]
    },
    {
     "name": "stderr",
     "output_type": "stream",
     "text": [
      "[I 2024-12-02 19:38:43,003] Trial 3 finished with value: 43.6254441901819 and parameters: {'beta': 1.212845923152103, 'learning_rate': 6.416068702205526e-05, 'batch_size': 67, 'epochs': 914, 'optimizer_type': 'rmsprop'}. Best is trial 3 with value: 43.6254441901819.\n"
     ]
    },
    {
     "name": "stdout",
     "output_type": "stream",
     "text": [
      "45\n"
     ]
    },
    {
     "name": "stderr",
     "output_type": "stream",
     "text": [
      "[I 2024-12-02 19:39:28,166] Trial 4 finished with value: 46.45360125641324 and parameters: {'beta': 1.4036448357671858, 'learning_rate': 5.0462583965397176e-05, 'batch_size': 100, 'epochs': 751, 'optimizer_type': 'adam'}. Best is trial 3 with value: 43.6254441901819.\n"
     ]
    },
    {
     "name": "stdout",
     "output_type": "stream",
     "text": [
      "45\n"
     ]
    },
    {
     "name": "stderr",
     "output_type": "stream",
     "text": [
      "[I 2024-12-02 19:39:37,754] Trial 5 finished with value: 47.66525004372668 and parameters: {'beta': 1.2175318584804056, 'learning_rate': 6.526075837579029e-05, 'batch_size': 97, 'epochs': 159, 'optimizer_type': 'adam'}. Best is trial 3 with value: 43.6254441901819.\n"
     ]
    },
    {
     "name": "stdout",
     "output_type": "stream",
     "text": [
      "45\n"
     ]
    },
    {
     "name": "stderr",
     "output_type": "stream",
     "text": [
      "[I 2024-12-02 19:39:52,791] Trial 6 finished with value: 49.02613488951726 and parameters: {'beta': 1.3325354964772433, 'learning_rate': 7.463209203613439e-06, 'batch_size': 53, 'epochs': 196, 'optimizer_type': 'adam'}. Best is trial 3 with value: 43.6254441901819.\n"
     ]
    },
    {
     "name": "stdout",
     "output_type": "stream",
     "text": [
      "45\n"
     ]
    },
    {
     "name": "stderr",
     "output_type": "stream",
     "text": [
      "[I 2024-12-02 19:39:54,557] Trial 7 finished with value: 54.30717518365205 and parameters: {'beta': 1.160338056559303, 'learning_rate': 8.595812864386981e-05, 'batch_size': 77, 'epochs': 29, 'optimizer_type': 'rmsprop'}. Best is trial 3 with value: 43.6254441901819.\n"
     ]
    },
    {
     "name": "stdout",
     "output_type": "stream",
     "text": [
      "45\n"
     ]
    },
    {
     "name": "stderr",
     "output_type": "stream",
     "text": [
      "[I 2024-12-02 19:40:54,614] Trial 8 finished with value: 40.66012618790811 and parameters: {'beta': 1.7457089622153161, 'learning_rate': 5.597847663457695e-05, 'batch_size': 36, 'epochs': 611, 'optimizer_type': 'rmsprop'}. Best is trial 8 with value: 40.66012618790811.\n"
     ]
    },
    {
     "name": "stdout",
     "output_type": "stream",
     "text": [
      "45\n"
     ]
    },
    {
     "name": "stderr",
     "output_type": "stream",
     "text": [
      "[I 2024-12-02 19:41:16,089] Trial 9 finished with value: 46.18391914937033 and parameters: {'beta': 1.8772875355799723, 'learning_rate': 1.3422919677002855e-05, 'batch_size': 82, 'epochs': 366, 'optimizer_type': 'rmsprop'}. Best is trial 8 with value: 40.66012618790811.\n"
     ]
    },
    {
     "name": "stdout",
     "output_type": "stream",
     "text": [
      "45\n"
     ]
    },
    {
     "name": "stderr",
     "output_type": "stream",
     "text": [
      "[I 2024-12-02 19:42:48,093] Trial 10 finished with value: 35.95840567973123 and parameters: {'beta': 1.6478476662390262, 'learning_rate': 9.966793750884866e-05, 'batch_size': 23, 'epochs': 604, 'optimizer_type': 'rmsprop'}. Best is trial 10 with value: 35.95840567973123.\n"
     ]
    },
    {
     "name": "stdout",
     "output_type": "stream",
     "text": [
      "45\n"
     ]
    },
    {
     "name": "stderr",
     "output_type": "stream",
     "text": [
      "[I 2024-12-02 19:44:21,807] Trial 11 finished with value: 40.0964317663392 and parameters: {'beta': 1.6641612775494843, 'learning_rate': 3.2086086884669344e-05, 'batch_size': 22, 'epochs': 599, 'optimizer_type': 'rmsprop'}. Best is trial 10 with value: 35.95840567973123.\n"
     ]
    },
    {
     "name": "stdout",
     "output_type": "stream",
     "text": [
      "45\n"
     ]
    },
    {
     "name": "stderr",
     "output_type": "stream",
     "text": [
      "[I 2024-12-02 19:46:08,918] Trial 12 finished with value: 39.7529949814526 and parameters: {'beta': 1.6251503984216011, 'learning_rate': 2.5292974315908133e-05, 'batch_size': 17, 'epochs': 554, 'optimizer_type': 'rmsprop'}. Best is trial 10 with value: 35.95840567973123.\n"
     ]
    },
    {
     "name": "stdout",
     "output_type": "stream",
     "text": [
      "45\n"
     ]
    },
    {
     "name": "stderr",
     "output_type": "stream",
     "text": [
      "[I 2024-12-02 19:46:44,485] Trial 13 finished with value: 41.56780787225979 and parameters: {'beta': 1.601094931285237, 'learning_rate': 9.710525155371319e-05, 'batch_size': 42, 'epochs': 476, 'optimizer_type': 'rmsprop'}. Best is trial 10 with value: 35.95840567973123.\n"
     ]
    },
    {
     "name": "stdout",
     "output_type": "stream",
     "text": [
      "45\n"
     ]
    },
    {
     "name": "stderr",
     "output_type": "stream",
     "text": [
      "[I 2024-12-02 19:49:08,192] Trial 14 finished with value: 37.69946544134795 and parameters: {'beta': 1.7538812696148856, 'learning_rate': 3.649922886422887e-05, 'batch_size': 16, 'epochs': 695, 'optimizer_type': 'rmsprop'}. Best is trial 10 with value: 35.95840567973123.\n"
     ]
    },
    {
     "name": "stdout",
     "output_type": "stream",
     "text": [
      "45\n"
     ]
    },
    {
     "name": "stderr",
     "output_type": "stream",
     "text": [
      "[I 2024-12-02 19:50:26,573] Trial 15 finished with value: 43.901200137921236 and parameters: {'beta': 1.0189766112814933, 'learning_rate': 3.682625064786027e-05, 'batch_size': 37, 'epochs': 780, 'optimizer_type': 'rmsprop'}. Best is trial 10 with value: 35.95840567973123.\n"
     ]
    },
    {
     "name": "stdout",
     "output_type": "stream",
     "text": [
      "45\n"
     ]
    },
    {
     "name": "stderr",
     "output_type": "stream",
     "text": [
      "[I 2024-12-02 19:51:04,401] Trial 16 finished with value: 43.79215144826405 and parameters: {'beta': 1.824390251067737, 'learning_rate': 8.17576806619746e-05, 'batch_size': 111, 'epochs': 737, 'optimizer_type': 'rmsprop'}. Best is trial 10 with value: 35.95840567973123.\n"
     ]
    },
    {
     "name": "stdout",
     "output_type": "stream",
     "text": [
      "45\n"
     ]
    },
    {
     "name": "stderr",
     "output_type": "stream",
     "text": [
      "[I 2024-12-02 19:52:23,992] Trial 17 finished with value: 38.443735971023784 and parameters: {'beta': 1.4620284310990432, 'learning_rate': 9.665091377092426e-05, 'batch_size': 50, 'epochs': 997, 'optimizer_type': 'rmsprop'}. Best is trial 10 with value: 35.95840567973123.\n"
     ]
    },
    {
     "name": "stdout",
     "output_type": "stream",
     "text": [
      "45\n"
     ]
    },
    {
     "name": "stderr",
     "output_type": "stream",
     "text": [
      "[I 2024-12-02 19:53:05,550] Trial 18 finished with value: 43.88986597772855 and parameters: {'beta': 1.7872999338311646, 'learning_rate': 2.1938880216726688e-05, 'batch_size': 32, 'epochs': 409, 'optimizer_type': 'adam'}. Best is trial 10 with value: 35.95840567973123.\n"
     ]
    },
    {
     "name": "stdout",
     "output_type": "stream",
     "text": [
      "45\n"
     ]
    },
    {
     "name": "stderr",
     "output_type": "stream",
     "text": [
      "[I 2024-12-02 19:56:18,804] Trial 19 finished with value: 36.348709835223296 and parameters: {'beta': 1.9553624603472166, 'learning_rate': 3.739179424497985e-05, 'batch_size': 16, 'epochs': 867, 'optimizer_type': 'rmsprop'}. Best is trial 10 with value: 35.95840567973123.\n"
     ]
    },
    {
     "name": "stdout",
     "output_type": "stream",
     "text": [
      "45\n"
     ]
    },
    {
     "name": "stderr",
     "output_type": "stream",
     "text": [
      "[I 2024-12-02 19:58:06,648] Trial 20 finished with value: 45.570753046291976 and parameters: {'beta': 1.9527993388322955, 'learning_rate': 1.0199898331350918e-06, 'batch_size': 28, 'epochs': 873, 'optimizer_type': 'rmsprop'}. Best is trial 10 with value: 35.95840567973123.\n"
     ]
    },
    {
     "name": "stdout",
     "output_type": "stream",
     "text": [
      "45\n"
     ]
    },
    {
     "name": "stderr",
     "output_type": "stream",
     "text": [
      "[I 2024-12-02 20:00:02,879] Trial 21 finished with value: 39.14276031949627 and parameters: {'beta': 1.7228280179766153, 'learning_rate': 4.074610725809484e-05, 'batch_size': 20, 'epochs': 682, 'optimizer_type': 'rmsprop'}. Best is trial 10 with value: 35.95840567973123.\n"
     ]
    },
    {
     "name": "stdout",
     "output_type": "stream",
     "text": [
      "45\n"
     ]
    },
    {
     "name": "stderr",
     "output_type": "stream",
     "text": [
      "[I 2024-12-02 20:03:14,075] Trial 22 finished with value: 37.007323080034396 and parameters: {'beta': 1.8981837808584305, 'learning_rate': 2.9174796726050174e-05, 'batch_size': 16, 'epochs': 858, 'optimizer_type': 'rmsprop'}. Best is trial 10 with value: 35.95840567973123.\n"
     ]
    },
    {
     "name": "stdout",
     "output_type": "stream",
     "text": [
      "45\n"
     ]
    },
    {
     "name": "stderr",
     "output_type": "stream",
     "text": [
      "[I 2024-12-02 20:04:21,978] Trial 23 finished with value: 41.06006788566931 and parameters: {'beta': 1.8711617930019935, 'learning_rate': 2.3973998216158033e-05, 'batch_size': 45, 'epochs': 845, 'optimizer_type': 'rmsprop'}. Best is trial 10 with value: 35.95840567973123.\n"
     ]
    },
    {
     "name": "stdout",
     "output_type": "stream",
     "text": [
      "45\n"
     ]
    },
    {
     "name": "stderr",
     "output_type": "stream",
     "text": [
      "[I 2024-12-02 20:06:25,822] Trial 24 finished with value: 39.550431208824044 and parameters: {'beta': 1.9219938025196464, 'learning_rate': 1.5501383926196315e-05, 'batch_size': 29, 'epochs': 991, 'optimizer_type': 'rmsprop'}. Best is trial 10 with value: 35.95840567973123.\n"
     ]
    },
    {
     "name": "stdout",
     "output_type": "stream",
     "text": [
      "45\n"
     ]
    },
    {
     "name": "stderr",
     "output_type": "stream",
     "text": [
      "[I 2024-12-02 20:07:27,157] Trial 25 finished with value: 42.02029195757054 and parameters: {'beta': 1.8418829404490258, 'learning_rate': 3.0982621817128945e-05, 'batch_size': 55, 'epochs': 848, 'optimizer_type': 'rmsprop'}. Best is trial 10 with value: 35.95840567973123.\n"
     ]
    },
    {
     "name": "stdout",
     "output_type": "stream",
     "text": [
      "45\n"
     ]
    },
    {
     "name": "stderr",
     "output_type": "stream",
     "text": [
      "[I 2024-12-02 20:09:57,610] Trial 26 finished with value: 37.555463284165114 and parameters: {'beta': 1.5511413005255164, 'learning_rate': 4.421460946520161e-05, 'batch_size': 16, 'epochs': 937, 'optimizer_type': 'adam'}. Best is trial 10 with value: 35.95840567973123.\n"
     ]
    },
    {
     "name": "stdout",
     "output_type": "stream",
     "text": [
      "45\n"
     ]
    },
    {
     "name": "stderr",
     "output_type": "stream",
     "text": [
      "[I 2024-12-02 20:11:38,390] Trial 27 finished with value: 36.76404974638526 and parameters: {'beta': 1.9844049039341949, 'learning_rate': 7.136944484595758e-05, 'batch_size': 28, 'epochs': 798, 'optimizer_type': 'rmsprop'}. Best is trial 10 with value: 35.95840567973123.\n"
     ]
    },
    {
     "name": "stdout",
     "output_type": "stream",
     "text": [
      "45\n"
     ]
    },
    {
     "name": "stderr",
     "output_type": "stream",
     "text": [
      "[I 2024-12-02 20:12:43,822] Trial 28 finished with value: 37.4852461402096 and parameters: {'beta': 1.951449023931197, 'learning_rate': 8.96099021572063e-05, 'batch_size': 35, 'epochs': 642, 'optimizer_type': 'rmsprop'}. Best is trial 10 with value: 35.95840567973123.\n"
     ]
    },
    {
     "name": "stdout",
     "output_type": "stream",
     "text": [
      "45\n"
     ]
    },
    {
     "name": "stderr",
     "output_type": "stream",
     "text": [
      "[I 2024-12-02 20:13:15,514] Trial 29 finished with value: 41.93538604280842 and parameters: {'beta': 1.9946918841140588, 'learning_rate': 7.446309359343368e-05, 'batch_size': 66, 'epochs': 517, 'optimizer_type': 'rmsprop'}. Best is trial 10 with value: 35.95840567973123.\n"
     ]
    },
    {
     "name": "stdout",
     "output_type": "stream",
     "text": [
      "45\n"
     ]
    },
    {
     "name": "stderr",
     "output_type": "stream",
     "text": [
      "[I 2024-12-02 20:14:20,805] Trial 30 finished with value: 39.313348479769125 and parameters: {'beta': 1.6681297092953102, 'learning_rate': 7.5681542692154e-05, 'batch_size': 42, 'epochs': 781, 'optimizer_type': 'rmsprop'}. Best is trial 10 with value: 35.95840567973123.\n"
     ]
    },
    {
     "name": "stdout",
     "output_type": "stream",
     "text": [
      "45\n"
     ]
    },
    {
     "name": "stderr",
     "output_type": "stream",
     "text": [
      "[I 2024-12-02 20:16:12,661] Trial 31 finished with value: 36.80886585748018 and parameters: {'beta': 1.9120047493681942, 'learning_rate': 6.548977770259081e-05, 'batch_size': 26, 'epochs': 813, 'optimizer_type': 'rmsprop'}. Best is trial 10 with value: 35.95840567973123.\n"
     ]
    },
    {
     "name": "stdout",
     "output_type": "stream",
     "text": [
      "45\n"
     ]
    },
    {
     "name": "stderr",
     "output_type": "stream",
     "text": [
      "[I 2024-12-02 20:18:07,284] Trial 32 finished with value: 36.5448948191173 and parameters: {'beta': 1.8110280725821746, 'learning_rate': 6.531204661443318e-05, 'batch_size': 25, 'epochs': 809, 'optimizer_type': 'rmsprop'}. Best is trial 10 with value: 35.95840567973123.\n"
     ]
    },
    {
     "name": "stdout",
     "output_type": "stream",
     "text": [
      "45\n"
     ]
    },
    {
     "name": "stderr",
     "output_type": "stream",
     "text": [
      "[I 2024-12-02 20:19:43,125] Trial 33 finished with value: 38.12928730978894 and parameters: {'beta': 1.8047557974983843, 'learning_rate': 5.568055283622625e-05, 'batch_size': 26, 'epochs': 701, 'optimizer_type': 'rmsprop'}. Best is trial 10 with value: 35.95840567973123.\n"
     ]
    },
    {
     "name": "stdout",
     "output_type": "stream",
     "text": [
      "45\n"
     ]
    },
    {
     "name": "stderr",
     "output_type": "stream",
     "text": [
      "[I 2024-12-02 20:22:13,737] Trial 34 finished with value: 34.14929437210311 and parameters: {'beta': 1.9924556086505343, 'learning_rate': 6.908011716122705e-05, 'batch_size': 23, 'epochs': 931, 'optimizer_type': 'rmsprop'}. Best is trial 34 with value: 34.14929437210311.\n"
     ]
    },
    {
     "name": "stdout",
     "output_type": "stream",
     "text": [
      "45\n"
     ]
    },
    {
     "name": "stderr",
     "output_type": "stream",
     "text": [
      "[I 2024-12-02 20:24:18,101] Trial 35 finished with value: 38.530227205646575 and parameters: {'beta': 1.6749876972392594, 'learning_rate': 4.681312902380861e-05, 'batch_size': 23, 'epochs': 947, 'optimizer_type': 'adam'}. Best is trial 34 with value: 34.14929437210311.\n"
     ]
    },
    {
     "name": "stdout",
     "output_type": "stream",
     "text": [
      "45\n"
     ]
    },
    {
     "name": "stderr",
     "output_type": "stream",
     "text": [
      "[I 2024-12-02 20:25:55,914] Trial 36 finished with value: 37.32916642374067 and parameters: {'beta': 1.547998705727864, 'learning_rate': 8.047860599998415e-05, 'batch_size': 34, 'epochs': 900, 'optimizer_type': 'rmsprop'}. Best is trial 34 with value: 34.14929437210311.\n"
     ]
    },
    {
     "name": "stdout",
     "output_type": "stream",
     "text": [
      "45\n"
     ]
    },
    {
     "name": "stderr",
     "output_type": "stream",
     "text": [
      "[I 2024-12-02 20:26:18,467] Trial 37 finished with value: 45.08849332439366 and parameters: {'beta': 1.8566371858908628, 'learning_rate': 6.0341838522369064e-05, 'batch_size': 58, 'epochs': 319, 'optimizer_type': 'adam'}. Best is trial 34 with value: 34.14929437210311.\n"
     ]
    },
    {
     "name": "stdout",
     "output_type": "stream",
     "text": [
      "45\n"
     ]
    },
    {
     "name": "stderr",
     "output_type": "stream",
     "text": [
      "[I 2024-12-02 20:28:57,214] Trial 38 finished with value: 36.097314088736006 and parameters: {'beta': 1.7144992042525382, 'learning_rate': 6.907199221393339e-05, 'batch_size': 22, 'epochs': 935, 'optimizer_type': 'rmsprop'}. Best is trial 34 with value: 34.14929437210311.\n"
     ]
    },
    {
     "name": "stdout",
     "output_type": "stream",
     "text": [
      "45\n"
     ]
    },
    {
     "name": "stderr",
     "output_type": "stream",
     "text": [
      "[I 2024-12-02 20:29:04,576] Trial 39 finished with value: 47.376131427821825 and parameters: {'beta': 1.4122820073254743, 'learning_rate': 9.215353387226325e-05, 'batch_size': 47, 'epochs': 103, 'optimizer_type': 'rmsprop'}. Best is trial 34 with value: 34.14929437210311.\n"
     ]
    },
    {
     "name": "stdout",
     "output_type": "stream",
     "text": [
      "45\n"
     ]
    },
    {
     "name": "stderr",
     "output_type": "stream",
     "text": [
      "[I 2024-12-02 20:31:10,149] Trial 40 finished with value: 38.85378814241779 and parameters: {'beta': 1.486990974661603, 'learning_rate': 5.217504802993128e-05, 'batch_size': 22, 'epochs': 923, 'optimizer_type': 'adam'}. Best is trial 34 with value: 34.14929437210311.\n"
     ]
    },
    {
     "name": "stdout",
     "output_type": "stream",
     "text": [
      "45\n"
     ]
    },
    {
     "name": "stderr",
     "output_type": "stream",
     "text": [
      "[I 2024-12-02 20:32:51,539] Trial 41 finished with value: 37.87154636667736 and parameters: {'beta': 1.7176749950710537, 'learning_rate': 6.780190845935697e-05, 'batch_size': 39, 'epochs': 1000, 'optimizer_type': 'rmsprop'}. Best is trial 34 with value: 34.14929437210311.\n"
     ]
    },
    {
     "name": "stdout",
     "output_type": "stream",
     "text": [
      "45\n"
     ]
    },
    {
     "name": "stderr",
     "output_type": "stream",
     "text": [
      "[I 2024-12-02 20:34:23,665] Trial 42 finished with value: 38.0792067798216 and parameters: {'beta': 1.7861804676062962, 'learning_rate': 6.007614309861775e-05, 'batch_size': 30, 'epochs': 742, 'optimizer_type': 'rmsprop'}. Best is trial 34 with value: 34.14929437210311.\n"
     ]
    },
    {
     "name": "stdout",
     "output_type": "stream",
     "text": [
      "45\n"
     ]
    },
    {
     "name": "stderr",
     "output_type": "stream",
     "text": [
      "[I 2024-12-02 20:35:22,090] Trial 43 finished with value: 41.83385255728195 and parameters: {'beta': 1.5912185259591627, 'learning_rate': 7.854221796446461e-05, 'batch_size': 72, 'epochs': 949, 'optimizer_type': 'rmsprop'}. Best is trial 34 with value: 34.14929437210311.\n"
     ]
    },
    {
     "name": "stdout",
     "output_type": "stream",
     "text": [
      "45\n"
     ]
    },
    {
     "name": "stderr",
     "output_type": "stream",
     "text": [
      "[I 2024-12-02 20:37:45,112] Trial 44 finished with value: 35.762884567033 and parameters: {'beta': 1.700645747995793, 'learning_rate': 8.548269728438787e-05, 'batch_size': 23, 'epochs': 894, 'optimizer_type': 'rmsprop'}. Best is trial 34 with value: 34.14929437210311.\n"
     ]
    },
    {
     "name": "stdout",
     "output_type": "stream",
     "text": [
      "45\n"
     ]
    },
    {
     "name": "stderr",
     "output_type": "stream",
     "text": [
      "[I 2024-12-02 20:40:26,218] Trial 45 finished with value: 33.81858488623776 and parameters: {'beta': 1.6378058802343491, 'learning_rate': 9.018868810372927e-05, 'batch_size': 20, 'epochs': 893, 'optimizer_type': 'rmsprop'}. Best is trial 45 with value: 33.81858488623776.\n"
     ]
    },
    {
     "name": "stdout",
     "output_type": "stream",
     "text": [
      "45\n"
     ]
    },
    {
     "name": "stderr",
     "output_type": "stream",
     "text": [
      "[I 2024-12-02 20:42:58,188] Trial 46 finished with value: 33.174670319059004 and parameters: {'beta': 1.6259486975240103, 'learning_rate': 9.984035382272895e-05, 'batch_size': 21, 'epochs': 887, 'optimizer_type': 'rmsprop'}. Best is trial 46 with value: 33.174670319059004.\n"
     ]
    },
    {
     "name": "stdout",
     "output_type": "stream",
     "text": [
      "45\n"
     ]
    },
    {
     "name": "stderr",
     "output_type": "stream",
     "text": [
      "[I 2024-12-02 20:45:44,606] Trial 47 finished with value: 35.598907789543496 and parameters: {'beta': 1.6223402660586226, 'learning_rate': 9.951091083727447e-05, 'batch_size': 20, 'epochs': 904, 'optimizer_type': 'rmsprop'}. Best is trial 46 with value: 33.174670319059004.\n"
     ]
    },
    {
     "name": "stdout",
     "output_type": "stream",
     "text": [
      "45\n"
     ]
    },
    {
     "name": "stderr",
     "output_type": "stream",
     "text": [
      "[I 2024-12-02 20:47:28,694] Trial 48 finished with value: 36.712567958547105 and parameters: {'beta': 1.5053112052735873, 'learning_rate': 8.735598927600253e-05, 'batch_size': 32, 'epochs': 901, 'optimizer_type': 'rmsprop'}. Best is trial 46 with value: 33.174670319059004.\n"
     ]
    },
    {
     "name": "stdout",
     "output_type": "stream",
     "text": [
      "45\n"
     ]
    },
    {
     "name": "stderr",
     "output_type": "stream",
     "text": [
      "[I 2024-12-02 20:48:19,658] Trial 49 finished with value: 42.47817237056903 and parameters: {'beta': 1.3182385249447013, 'learning_rate': 9.40881816396714e-05, 'batch_size': 88, 'epochs': 962, 'optimizer_type': 'rmsprop'}. Best is trial 46 with value: 33.174670319059004.\n",
      "[I 2024-12-02 20:50:53,228] A new study created in memory with name: no-name-e2203ec9-4919-4e32-83fc-ca35e92c5f2a\n"
     ]
    },
    {
     "name": "stdout",
     "output_type": "stream",
     "text": [
      "45\n"
     ]
    },
    {
     "name": "stderr",
     "output_type": "stream",
     "text": [
      "[I 2024-12-02 20:51:31,728] Trial 0 finished with value: 43.90790141091418 and parameters: {'beta': 1.290238567868805, 'learning_rate': 8.72762319772709e-05, 'batch_size': 89, 'epochs': 724, 'optimizer_type': 'rmsprop'}. Best is trial 0 with value: 43.90790141091418.\n"
     ]
    },
    {
     "name": "stdout",
     "output_type": "stream",
     "text": [
      "45\n"
     ]
    },
    {
     "name": "stderr",
     "output_type": "stream",
     "text": [
      "[I 2024-12-02 20:52:01,849] Trial 1 finished with value: 47.02985129285214 and parameters: {'beta': 1.1430964279054292, 'learning_rate': 3.488548988078691e-05, 'batch_size': 32, 'epochs': 302, 'optimizer_type': 'adam'}. Best is trial 0 with value: 43.90790141091418.\n"
     ]
    },
    {
     "name": "stdout",
     "output_type": "stream",
     "text": [
      "45\n"
     ]
    },
    {
     "name": "stderr",
     "output_type": "stream",
     "text": [
      "[I 2024-12-02 20:52:05,782] Trial 2 finished with value: 49.75556403772155 and parameters: {'beta': 1.7706553059395285, 'learning_rate': 9.519727424758198e-05, 'batch_size': 110, 'epochs': 72, 'optimizer_type': 'rmsprop'}. Best is trial 0 with value: 43.90790141091418.\n"
     ]
    },
    {
     "name": "stdout",
     "output_type": "stream",
     "text": [
      "45\n"
     ]
    },
    {
     "name": "stderr",
     "output_type": "stream",
     "text": [
      "[I 2024-12-02 20:52:48,663] Trial 3 finished with value: 44.77885887943097 and parameters: {'beta': 1.0144578205719572, 'learning_rate': 4.380877161085951e-05, 'batch_size': 76, 'epochs': 780, 'optimizer_type': 'rmsprop'}. Best is trial 0 with value: 43.90790141091418.\n"
     ]
    },
    {
     "name": "stdout",
     "output_type": "stream",
     "text": [
      "45\n"
     ]
    },
    {
     "name": "stderr",
     "output_type": "stream",
     "text": [
      "[I 2024-12-02 20:53:16,589] Trial 4 finished with value: 45.783964697994406 and parameters: {'beta': 1.9497916475626105, 'learning_rate': 4.1881937742331744e-05, 'batch_size': 102, 'epochs': 478, 'optimizer_type': 'adam'}. Best is trial 0 with value: 43.90790141091418.\n"
     ]
    },
    {
     "name": "stdout",
     "output_type": "stream",
     "text": [
      "45\n"
     ]
    },
    {
     "name": "stderr",
     "output_type": "stream",
     "text": [
      "[I 2024-12-02 20:53:53,888] Trial 5 finished with value: 43.28444532707556 and parameters: {'beta': 1.4627696447437, 'learning_rate': 9.362297931866234e-05, 'batch_size': 100, 'epochs': 639, 'optimizer_type': 'adam'}. Best is trial 5 with value: 43.28444532707556.\n"
     ]
    },
    {
     "name": "stdout",
     "output_type": "stream",
     "text": [
      "45\n"
     ]
    },
    {
     "name": "stderr",
     "output_type": "stream",
     "text": [
      "[I 2024-12-02 20:54:29,787] Trial 6 finished with value: 46.27608842992071 and parameters: {'beta': 1.2948376705136164, 'learning_rate': 9.450667586382182e-05, 'batch_size': 81, 'epochs': 552, 'optimizer_type': 'adam'}. Best is trial 5 with value: 43.28444532707556.\n"
     ]
    },
    {
     "name": "stdout",
     "output_type": "stream",
     "text": [
      "45\n"
     ]
    },
    {
     "name": "stderr",
     "output_type": "stream",
     "text": [
      "[I 2024-12-02 20:54:41,779] Trial 7 finished with value: 46.88863215659981 and parameters: {'beta': 1.7367658845815614, 'learning_rate': 2.3219712951360352e-05, 'batch_size': 103, 'epochs': 232, 'optimizer_type': 'rmsprop'}. Best is trial 5 with value: 43.28444532707556.\n"
     ]
    },
    {
     "name": "stdout",
     "output_type": "stream",
     "text": [
      "45\n"
     ]
    },
    {
     "name": "stderr",
     "output_type": "stream",
     "text": [
      "[I 2024-12-02 20:55:13,309] Trial 8 finished with value: 46.959261310634325 and parameters: {'beta': 1.3168844528448878, 'learning_rate': 1.5216725595455166e-05, 'batch_size': 40, 'epochs': 406, 'optimizer_type': 'rmsprop'}. Best is trial 5 with value: 43.28444532707556.\n"
     ]
    },
    {
     "name": "stdout",
     "output_type": "stream",
     "text": [
      "45\n"
     ]
    },
    {
     "name": "stderr",
     "output_type": "stream",
     "text": [
      "[I 2024-12-02 20:55:34,468] Trial 9 finished with value: 44.97343458488806 and parameters: {'beta': 1.6929169941010058, 'learning_rate': 8.368048655742397e-05, 'batch_size': 67, 'epochs': 365, 'optimizer_type': 'rmsprop'}. Best is trial 5 with value: 43.28444532707556.\n"
     ]
    },
    {
     "name": "stdout",
     "output_type": "stream",
     "text": [
      "45\n"
     ]
    },
    {
     "name": "stderr",
     "output_type": "stream",
     "text": [
      "[I 2024-12-02 20:56:56,214] Trial 10 finished with value: 40.604307442280785 and parameters: {'beta': 1.5173460194113289, 'learning_rate': 6.671087159991066e-05, 'batch_size': 44, 'epochs': 969, 'optimizer_type': 'adam'}. Best is trial 10 with value: 40.604307442280785.\n"
     ]
    },
    {
     "name": "stdout",
     "output_type": "stream",
     "text": [
      "45\n"
     ]
    },
    {
     "name": "stderr",
     "output_type": "stream",
     "text": [
      "[I 2024-12-02 20:58:16,577] Trial 11 finished with value: 40.75792710033815 and parameters: {'beta': 1.518289315341449, 'learning_rate': 6.608646756318361e-05, 'batch_size': 45, 'epochs': 996, 'optimizer_type': 'adam'}. Best is trial 10 with value: 40.604307442280785.\n"
     ]
    },
    {
     "name": "stdout",
     "output_type": "stream",
     "text": [
      "45\n"
     ]
    },
    {
     "name": "stderr",
     "output_type": "stream",
     "text": [
      "[I 2024-12-02 20:59:31,435] Trial 12 finished with value: 40.70831171291977 and parameters: {'beta': 1.5410864179732364, 'learning_rate': 7.121934075326345e-05, 'batch_size': 49, 'epochs': 963, 'optimizer_type': 'adam'}. Best is trial 10 with value: 40.604307442280785.\n"
     ]
    },
    {
     "name": "stdout",
     "output_type": "stream",
     "text": [
      "45\n"
     ]
    },
    {
     "name": "stderr",
     "output_type": "stream",
     "text": [
      "[I 2024-12-02 21:01:58,356] Trial 13 finished with value: 37.438961518700445 and parameters: {'beta': 1.5393651944299356, 'learning_rate': 6.770256733881122e-05, 'batch_size': 20, 'epochs': 1000, 'optimizer_type': 'adam'}. Best is trial 13 with value: 37.438961518700445.\n"
     ]
    },
    {
     "name": "stdout",
     "output_type": "stream",
     "text": [
      "45\n"
     ]
    },
    {
     "name": "stderr",
     "output_type": "stream",
     "text": [
      "[I 2024-12-02 21:03:49,067] Trial 14 finished with value: 37.916881823183886 and parameters: {'beta': 1.6443810793141684, 'learning_rate': 6.033967724513164e-05, 'batch_size': 23, 'epochs': 832, 'optimizer_type': 'adam'}. Best is trial 13 with value: 37.438961518700445.\n"
     ]
    },
    {
     "name": "stdout",
     "output_type": "stream",
     "text": [
      "45\n"
     ]
    },
    {
     "name": "stderr",
     "output_type": "stream",
     "text": [
      "[I 2024-12-02 21:05:51,235] Trial 15 finished with value: 35.98600454757463 and parameters: {'beta': 1.9088875496374123, 'learning_rate': 5.7440794836725604e-05, 'batch_size': 20, 'epochs': 832, 'optimizer_type': 'adam'}. Best is trial 15 with value: 35.98600454757463.\n"
     ]
    },
    {
     "name": "stdout",
     "output_type": "stream",
     "text": [
      "45\n"
     ]
    },
    {
     "name": "stderr",
     "output_type": "stream",
     "text": [
      "[I 2024-12-02 21:08:07,405] Trial 16 finished with value: 34.80404993313462 and parameters: {'beta': 1.963392411848313, 'learning_rate': 5.5814169102400436e-05, 'batch_size': 18, 'epochs': 860, 'optimizer_type': 'adam'}. Best is trial 16 with value: 34.80404993313462.\n"
     ]
    },
    {
     "name": "stdout",
     "output_type": "stream",
     "text": [
      "45\n"
     ]
    },
    {
     "name": "stderr",
     "output_type": "stream",
     "text": [
      "[I 2024-12-02 21:10:25,895] Trial 17 finished with value: 34.06416922042619 and parameters: {'beta': 1.9814500233792889, 'learning_rate': 5.707362079969213e-05, 'batch_size': 16, 'epochs': 845, 'optimizer_type': 'adam'}. Best is trial 17 with value: 34.06416922042619.\n"
     ]
    },
    {
     "name": "stdout",
     "output_type": "stream",
     "text": [
      "45\n"
     ]
    },
    {
     "name": "stderr",
     "output_type": "stream",
     "text": [
      "[I 2024-12-02 21:11:13,813] Trial 18 finished with value: 44.787591826026116 and parameters: {'beta': 1.8496389465249212, 'learning_rate': 3.066939764938906e-05, 'batch_size': 58, 'epochs': 675, 'optimizer_type': 'adam'}. Best is trial 17 with value: 34.06416922042619.\n"
     ]
    },
    {
     "name": "stdout",
     "output_type": "stream",
     "text": [
      "45\n"
     ]
    },
    {
     "name": "stderr",
     "output_type": "stream",
     "text": [
      "[I 2024-12-02 21:12:42,859] Trial 19 finished with value: 39.136749358675374 and parameters: {'beta': 1.833363553917765, 'learning_rate': 5.265109910182463e-05, 'batch_size': 32, 'epochs': 876, 'optimizer_type': 'adam'}. Best is trial 17 with value: 34.06416922042619.\n"
     ]
    },
    {
     "name": "stdout",
     "output_type": "stream",
     "text": [
      "45\n"
     ]
    },
    {
     "name": "stderr",
     "output_type": "stream",
     "text": [
      "[I 2024-12-02 21:13:46,098] Trial 20 finished with value: 45.40716161016208 and parameters: {'beta': 1.98449966563326, 'learning_rate': 1.6375539530504818e-06, 'batch_size': 30, 'epochs': 584, 'optimizer_type': 'adam'}. Best is trial 17 with value: 34.06416922042619.\n"
     ]
    },
    {
     "name": "stdout",
     "output_type": "stream",
     "text": [
      "45\n"
     ]
    },
    {
     "name": "stderr",
     "output_type": "stream",
     "text": [
      "[I 2024-12-02 21:16:00,380] Trial 21 finished with value: 35.71363621042735 and parameters: {'beta': 1.8890514819016735, 'learning_rate': 5.399911007100927e-05, 'batch_size': 18, 'epochs': 839, 'optimizer_type': 'adam'}. Best is trial 17 with value: 34.06416922042619.\n"
     ]
    },
    {
     "name": "stdout",
     "output_type": "stream",
     "text": [
      "45\n"
     ]
    },
    {
     "name": "stderr",
     "output_type": "stream",
     "text": [
      "[I 2024-12-02 21:18:00,707] Trial 22 finished with value: 34.873845342379894 and parameters: {'beta': 1.9962125573637879, 'learning_rate': 4.595360839233475e-05, 'batch_size': 16, 'epochs': 738, 'optimizer_type': 'adam'}. Best is trial 17 with value: 34.06416922042619.\n"
     ]
    },
    {
     "name": "stdout",
     "output_type": "stream",
     "text": [
      "45\n"
     ]
    },
    {
     "name": "stderr",
     "output_type": "stream",
     "text": [
      "[I 2024-12-02 21:19:58,001] Trial 23 finished with value: 36.1507335605906 and parameters: {'beta': 1.9898416035844992, 'learning_rate': 4.484302831897178e-05, 'batch_size': 16, 'epochs': 718, 'optimizer_type': 'adam'}. Best is trial 17 with value: 34.06416922042619.\n"
     ]
    },
    {
     "name": "stdout",
     "output_type": "stream",
     "text": [
      "45\n"
     ]
    },
    {
     "name": "stderr",
     "output_type": "stream",
     "text": [
      "[I 2024-12-02 21:21:38,403] Trial 24 finished with value: 38.540416296204526 and parameters: {'beta': 1.8024002439864937, 'learning_rate': 7.624317336255835e-05, 'batch_size': 28, 'epochs': 894, 'optimizer_type': 'adam'}. Best is trial 17 with value: 34.06416922042619.\n"
     ]
    },
    {
     "name": "stdout",
     "output_type": "stream",
     "text": [
      "45\n"
     ]
    },
    {
     "name": "stderr",
     "output_type": "stream",
     "text": [
      "[I 2024-12-02 21:22:49,273] Trial 25 finished with value: 40.12852437033582 and parameters: {'beta': 1.9072227430008504, 'learning_rate': 3.3853121784142845e-05, 'batch_size': 36, 'epochs': 752, 'optimizer_type': 'adam'}. Best is trial 17 with value: 34.06416922042619.\n"
     ]
    },
    {
     "name": "stdout",
     "output_type": "stream",
     "text": [
      "45\n"
     ]
    },
    {
     "name": "stderr",
     "output_type": "stream",
     "text": [
      "[I 2024-12-02 21:23:35,348] Trial 26 finished with value: 41.684108267257464 and parameters: {'beta': 1.6200966687461895, 'learning_rate': 7.748345227032612e-05, 'batch_size': 54, 'epochs': 622, 'optimizer_type': 'adam'}. Best is trial 17 with value: 34.06416922042619.\n"
     ]
    },
    {
     "name": "stdout",
     "output_type": "stream",
     "text": [
      "45\n"
     ]
    },
    {
     "name": "stderr",
     "output_type": "stream",
     "text": [
      "[I 2024-12-02 21:25:24,129] Trial 27 finished with value: 37.4295752681903 and parameters: {'beta': 1.9858055769237417, 'learning_rate': 4.7541032969130705e-05, 'batch_size': 25, 'epochs': 906, 'optimizer_type': 'adam'}. Best is trial 17 with value: 34.06416922042619.\n"
     ]
    },
    {
     "name": "stdout",
     "output_type": "stream",
     "text": [
      "45\n"
     ]
    },
    {
     "name": "stderr",
     "output_type": "stream",
     "text": [
      "[I 2024-12-02 21:26:41,327] Trial 28 finished with value: 39.10682992508162 and parameters: {'beta': 1.8484419759247182, 'learning_rate': 5.782106402762809e-05, 'batch_size': 35, 'epochs': 782, 'optimizer_type': 'adam'}. Best is trial 17 with value: 34.06416922042619.\n"
     ]
    },
    {
     "name": "stdout",
     "output_type": "stream",
     "text": [
      "45\n"
     ]
    },
    {
     "name": "stderr",
     "output_type": "stream",
     "text": [
      "[I 2024-12-02 21:29:04,491] Trial 29 finished with value: 40.342446489476444 and parameters: {'beta': 1.40693216747649, 'learning_rate': 3.890336828735869e-05, 'batch_size': 16, 'epochs': 685, 'optimizer_type': 'rmsprop'}. Best is trial 17 with value: 34.06416922042619.\n"
     ]
    },
    {
     "name": "stdout",
     "output_type": "stream",
     "text": [
      "45\n"
     ]
    },
    {
     "name": "stderr",
     "output_type": "stream",
     "text": [
      "[I 2024-12-02 21:30:06,928] Trial 30 finished with value: 43.275549680795244 and parameters: {'beta': 1.728327675714844, 'learning_rate': 2.5003453038620444e-05, 'batch_size': 26, 'epochs': 530, 'optimizer_type': 'adam'}. Best is trial 17 with value: 34.06416922042619.\n"
     ]
    },
    {
     "name": "stdout",
     "output_type": "stream",
     "text": [
      "45\n"
     ]
    },
    {
     "name": "stderr",
     "output_type": "stream",
     "text": [
      "[I 2024-12-02 21:32:07,158] Trial 31 finished with value: 36.682407846023786 and parameters: {'beta': 1.9109569141998457, 'learning_rate': 5.1583565989008296e-05, 'batch_size': 20, 'epochs': 826, 'optimizer_type': 'adam'}. Best is trial 17 with value: 34.06416922042619.\n"
     ]
    },
    {
     "name": "stdout",
     "output_type": "stream",
     "text": [
      "45\n"
     ]
    },
    {
     "name": "stderr",
     "output_type": "stream",
     "text": [
      "[I 2024-12-02 21:34:36,623] Trial 32 finished with value: 34.40113967212278 and parameters: {'beta': 1.8867283094420435, 'learning_rate': 5.292062517148358e-05, 'batch_size': 16, 'epochs': 912, 'optimizer_type': 'adam'}. Best is trial 17 with value: 34.06416922042619.\n"
     ]
    },
    {
     "name": "stdout",
     "output_type": "stream",
     "text": [
      "45\n"
     ]
    },
    {
     "name": "stderr",
     "output_type": "stream",
     "text": [
      "[I 2024-12-02 21:36:23,612] Trial 33 finished with value: 37.509904092817166 and parameters: {'beta': 1.782575155260307, 'learning_rate': 6.17019049300917e-05, 'batch_size': 26, 'epochs': 905, 'optimizer_type': 'adam'}. Best is trial 17 with value: 34.06416922042619.\n"
     ]
    },
    {
     "name": "stdout",
     "output_type": "stream",
     "text": [
      "45\n"
     ]
    },
    {
     "name": "stderr",
     "output_type": "stream",
     "text": [
      "[I 2024-12-02 21:37:33,266] Trial 34 finished with value: 39.935202618499304 and parameters: {'beta': 1.9399985162782956, 'learning_rate': 4.950768765008495e-05, 'batch_size': 38, 'epochs': 755, 'optimizer_type': 'adam'}. Best is trial 17 with value: 34.06416922042619.\n"
     ]
    },
    {
     "name": "stdout",
     "output_type": "stream",
     "text": [
      "45\n"
     ]
    },
    {
     "name": "stderr",
     "output_type": "stream",
     "text": [
      "[I 2024-12-02 21:37:41,500] Trial 35 finished with value: 45.17740214333605 and parameters: {'beta': 1.8654385797935733, 'learning_rate': 3.970351352142057e-05, 'batch_size': 24, 'epochs': 73, 'optimizer_type': 'rmsprop'}. Best is trial 17 with value: 34.06416922042619.\n"
     ]
    },
    {
     "name": "stdout",
     "output_type": "stream",
     "text": [
      "45\n"
     ]
    },
    {
     "name": "stderr",
     "output_type": "stream",
     "text": [
      "[I 2024-12-02 21:39:15,311] Trial 36 finished with value: 37.14940331302472 and parameters: {'beta': 1.989246768604136, 'learning_rate': 7.331511117470494e-05, 'batch_size': 32, 'epochs': 926, 'optimizer_type': 'adam'}. Best is trial 17 with value: 34.06416922042619.\n"
     ]
    },
    {
     "name": "stdout",
     "output_type": "stream",
     "text": [
      "45\n"
     ]
    },
    {
     "name": "stderr",
     "output_type": "stream",
     "text": [
      "[I 2024-12-02 21:40:02,428] Trial 37 finished with value: 43.63690677472015 and parameters: {'beta': 1.0756335719841568, 'learning_rate': 8.31916694693668e-05, 'batch_size': 88, 'epochs': 792, 'optimizer_type': 'adam'}. Best is trial 17 with value: 34.06416922042619.\n"
     ]
    },
    {
     "name": "stdout",
     "output_type": "stream",
     "text": [
      "45\n"
     ]
    },
    {
     "name": "stderr",
     "output_type": "stream",
     "text": [
      "[I 2024-12-02 21:42:00,572] Trial 38 finished with value: 36.114531810248074 and parameters: {'beta': 1.8000951420666573, 'learning_rate': 4.565735188880969e-05, 'batch_size': 17, 'epochs': 713, 'optimizer_type': 'adam'}. Best is trial 17 with value: 34.06416922042619.\n"
     ]
    },
    {
     "name": "stdout",
     "output_type": "stream",
     "text": [
      "45\n"
     ]
    },
    {
     "name": "stderr",
     "output_type": "stream",
     "text": [
      "[I 2024-12-02 21:42:28,001] Trial 39 finished with value: 47.36420971315299 and parameters: {'beta': 1.2214094359582761, 'learning_rate': 3.5241463447277486e-05, 'batch_size': 70, 'epochs': 460, 'optimizer_type': 'rmsprop'}. Best is trial 17 with value: 34.06416922042619.\n"
     ]
    },
    {
     "name": "stdout",
     "output_type": "stream",
     "text": [
      "45\n"
     ]
    },
    {
     "name": "stderr",
     "output_type": "stream",
     "text": [
      "[I 2024-12-02 21:43:19,482] Trial 40 finished with value: 39.9022559322528 and parameters: {'beta': 1.9417752112714046, 'learning_rate': 6.217750445284381e-05, 'batch_size': 42, 'epochs': 617, 'optimizer_type': 'adam'}. Best is trial 17 with value: 34.06416922042619.\n"
     ]
    },
    {
     "name": "stdout",
     "output_type": "stream",
     "text": [
      "45\n"
     ]
    },
    {
     "name": "stderr",
     "output_type": "stream",
     "text": [
      "[I 2024-12-02 21:45:40,001] Trial 41 finished with value: 34.76756937966418 and parameters: {'beta': 1.905831499855506, 'learning_rate': 5.401352680612571e-05, 'batch_size': 16, 'epochs': 866, 'optimizer_type': 'adam'}. Best is trial 17 with value: 34.06416922042619.\n"
     ]
    },
    {
     "name": "stdout",
     "output_type": "stream",
     "text": [
      "45\n"
     ]
    },
    {
     "name": "stderr",
     "output_type": "stream",
     "text": [
      "[I 2024-12-02 21:47:47,419] Trial 42 finished with value: 36.152912925606344 and parameters: {'beta': 1.940472525360013, 'learning_rate': 5.4338168388030706e-05, 'batch_size': 22, 'epochs': 939, 'optimizer_type': 'adam'}. Best is trial 17 with value: 34.06416922042619.\n"
     ]
    },
    {
     "name": "stdout",
     "output_type": "stream",
     "text": [
      "45\n"
     ]
    },
    {
     "name": "stderr",
     "output_type": "stream",
     "text": [
      "[I 2024-12-02 21:50:13,077] Trial 43 finished with value: 36.69765210507521 and parameters: {'beta': 1.732035357356747, 'learning_rate': 4.354675303292952e-05, 'batch_size': 16, 'epochs': 878, 'optimizer_type': 'adam'}. Best is trial 17 with value: 34.06416922042619.\n"
     ]
    },
    {
     "name": "stdout",
     "output_type": "stream",
     "text": [
      "45\n"
     ]
    },
    {
     "name": "stderr",
     "output_type": "stream",
     "text": [
      "[I 2024-12-02 21:51:45,990] Trial 44 finished with value: 37.92190160039645 and parameters: {'beta': 1.8775423666069255, 'learning_rate': 6.437832553535116e-05, 'batch_size': 29, 'epochs': 808, 'optimizer_type': 'adam'}. Best is trial 17 with value: 34.06416922042619.\n"
     ]
    },
    {
     "name": "stdout",
     "output_type": "stream",
     "text": [
      "45\n"
     ]
    },
    {
     "name": "stderr",
     "output_type": "stream",
     "text": [
      "[I 2024-12-02 21:54:18,789] Trial 45 finished with value: 35.51041378192048 and parameters: {'beta': 1.9968476719812835, 'learning_rate': 5.7321624531574e-05, 'batch_size': 21, 'epochs': 861, 'optimizer_type': 'rmsprop'}. Best is trial 17 with value: 34.06416922042619.\n"
     ]
    },
    {
     "name": "stdout",
     "output_type": "stream",
     "text": [
      "45\n"
     ]
    },
    {
     "name": "stderr",
     "output_type": "stream",
     "text": [
      "[I 2024-12-02 21:55:57,807] Trial 46 finished with value: 37.640297778684705 and parameters: {'beta': 1.9435699995748918, 'learning_rate': 6.906307463576937e-05, 'batch_size': 33, 'epochs': 957, 'optimizer_type': 'adam'}. Best is trial 17 with value: 34.06416922042619.\n"
     ]
    },
    {
     "name": "stdout",
     "output_type": "stream",
     "text": [
      "45\n"
     ]
    },
    {
     "name": "stderr",
     "output_type": "stream",
     "text": [
      "[I 2024-12-02 21:57:35,735] Trial 47 finished with value: 39.487735577483676 and parameters: {'beta': 1.6600200353797832, 'learning_rate': 4.9348535468757485e-05, 'batch_size': 24, 'epochs': 766, 'optimizer_type': 'adam'}. Best is trial 17 with value: 34.06416922042619.\n"
     ]
    },
    {
     "name": "stdout",
     "output_type": "stream",
     "text": [
      "45\n"
     ]
    },
    {
     "name": "stderr",
     "output_type": "stream",
     "text": [
      "[I 2024-12-02 21:58:29,390] Trial 48 finished with value: 44.22958419572061 and parameters: {'beta': 1.8245608006028298, 'learning_rate': 3.9556606689123735e-05, 'batch_size': 50, 'epochs': 654, 'optimizer_type': 'adam'}. Best is trial 17 with value: 34.06416922042619.\n"
     ]
    },
    {
     "name": "stdout",
     "output_type": "stream",
     "text": [
      "45\n"
     ]
    },
    {
     "name": "stderr",
     "output_type": "stream",
     "text": [
      "[I 2024-12-02 22:00:16,791] Trial 49 finished with value: 39.635925087999944 and parameters: {'beta': 1.7696241383487243, 'learning_rate': 2.7172056264835286e-05, 'batch_size': 29, 'epochs': 938, 'optimizer_type': 'adam'}. Best is trial 17 with value: 34.06416922042619.\n",
      "[I 2024-12-02 22:02:40,548] A new study created in memory with name: no-name-cd595c75-fd71-4a9d-b974-76cd3a62b07c\n"
     ]
    },
    {
     "name": "stdout",
     "output_type": "stream",
     "text": [
      "45\n"
     ]
    },
    {
     "name": "stderr",
     "output_type": "stream",
     "text": [
      "[I 2024-12-02 22:04:10,060] Trial 0 finished with value: 41.792315537182255 and parameters: {'beta': 1.6777491243171516, 'learning_rate': 2.462825064845001e-05, 'batch_size': 44, 'epochs': 975, 'optimizer_type': 'rmsprop'}. Best is trial 0 with value: 41.792315537182255.\n"
     ]
    },
    {
     "name": "stdout",
     "output_type": "stream",
     "text": [
      "45\n"
     ]
    },
    {
     "name": "stderr",
     "output_type": "stream",
     "text": [
      "[I 2024-12-02 22:04:36,680] Trial 1 finished with value: 50.70882276848181 and parameters: {'beta': 1.263652620370415, 'learning_rate': 2.870518042205962e-06, 'batch_size': 37, 'epochs': 275, 'optimizer_type': 'adam'}. Best is trial 0 with value: 41.792315537182255.\n"
     ]
    },
    {
     "name": "stdout",
     "output_type": "stream",
     "text": [
      "45\n"
     ]
    },
    {
     "name": "stderr",
     "output_type": "stream",
     "text": [
      "[I 2024-12-02 22:05:35,742] Trial 2 finished with value: 45.55054002448694 and parameters: {'beta': 1.974817877701222, 'learning_rate': 8.542938830978024e-06, 'batch_size': 68, 'epochs': 849, 'optimizer_type': 'adam'}. Best is trial 0 with value: 41.792315537182255.\n"
     ]
    },
    {
     "name": "stdout",
     "output_type": "stream",
     "text": [
      "45\n"
     ]
    },
    {
     "name": "stderr",
     "output_type": "stream",
     "text": [
      "[I 2024-12-02 22:05:50,753] Trial 3 finished with value: 46.50916675169076 and parameters: {'beta': 1.85604898139246, 'learning_rate': 6.034298076885157e-05, 'batch_size': 107, 'epochs': 282, 'optimizer_type': 'rmsprop'}. Best is trial 0 with value: 41.792315537182255.\n"
     ]
    },
    {
     "name": "stdout",
     "output_type": "stream",
     "text": [
      "45\n"
     ]
    },
    {
     "name": "stderr",
     "output_type": "stream",
     "text": [
      "[I 2024-12-02 22:06:54,798] Trial 4 finished with value: 41.879674564190765 and parameters: {'beta': 1.6721408396071489, 'learning_rate': 5.424066497800274e-05, 'batch_size': 78, 'epochs': 972, 'optimizer_type': 'adam'}. Best is trial 0 with value: 41.792315537182255.\n"
     ]
    },
    {
     "name": "stdout",
     "output_type": "stream",
     "text": [
      "45\n"
     ]
    },
    {
     "name": "stderr",
     "output_type": "stream",
     "text": [
      "[I 2024-12-02 22:08:11,891] Trial 5 finished with value: 45.170800416861006 and parameters: {'beta': 1.3903044005354879, 'learning_rate': 1.833879123697549e-05, 'batch_size': 32, 'epochs': 740, 'optimizer_type': 'adam'}. Best is trial 0 with value: 41.792315537182255.\n"
     ]
    },
    {
     "name": "stdout",
     "output_type": "stream",
     "text": [
      "45\n"
     ]
    },
    {
     "name": "stderr",
     "output_type": "stream",
     "text": [
      "[I 2024-12-02 22:09:07,752] Trial 6 finished with value: 45.13799502244636 and parameters: {'beta': 1.3461951506628966, 'learning_rate': 2.5925582612802715e-05, 'batch_size': 63, 'epochs': 832, 'optimizer_type': 'rmsprop'}. Best is trial 0 with value: 41.792315537182255.\n"
     ]
    },
    {
     "name": "stdout",
     "output_type": "stream",
     "text": [
      "45\n"
     ]
    },
    {
     "name": "stderr",
     "output_type": "stream",
     "text": [
      "[I 2024-12-02 22:09:37,411] Trial 7 finished with value: 47.990848370452426 and parameters: {'beta': 1.260656568876895, 'learning_rate': 8.71944385230226e-06, 'batch_size': 50, 'epochs': 360, 'optimizer_type': 'adam'}. Best is trial 0 with value: 41.792315537182255.\n"
     ]
    },
    {
     "name": "stdout",
     "output_type": "stream",
     "text": [
      "45\n"
     ]
    },
    {
     "name": "stderr",
     "output_type": "stream",
     "text": [
      "[I 2024-12-02 22:10:49,240] Trial 8 finished with value: 40.265706805328826 and parameters: {'beta': 1.2025202824587145, 'learning_rate': 8.386192030751257e-05, 'batch_size': 46, 'epochs': 858, 'optimizer_type': 'rmsprop'}. Best is trial 8 with value: 40.265706805328826.\n"
     ]
    },
    {
     "name": "stdout",
     "output_type": "stream",
     "text": [
      "45\n"
     ]
    },
    {
     "name": "stderr",
     "output_type": "stream",
     "text": [
      "[I 2024-12-02 22:10:52,740] Trial 9 finished with value: 54.27336571536847 and parameters: {'beta': 1.695079869359505, 'learning_rate': 1.2165693340098306e-05, 'batch_size': 56, 'epochs': 45, 'optimizer_type': 'adam'}. Best is trial 8 with value: 40.265706805328826.\n"
     ]
    },
    {
     "name": "stdout",
     "output_type": "stream",
     "text": [
      "45\n"
     ]
    },
    {
     "name": "stderr",
     "output_type": "stream",
     "text": [
      "[I 2024-12-02 22:13:04,322] Trial 10 finished with value: 38.40996667662663 and parameters: {'beta': 1.0245318886156576, 'learning_rate': 9.893346064455761e-05, 'batch_size': 16, 'epochs': 623, 'optimizer_type': 'rmsprop'}. Best is trial 10 with value: 38.40996667662663.\n"
     ]
    },
    {
     "name": "stdout",
     "output_type": "stream",
     "text": [
      "45\n"
     ]
    },
    {
     "name": "stderr",
     "output_type": "stream",
     "text": [
      "[I 2024-12-02 22:15:08,038] Trial 11 finished with value: 38.262009851256416 and parameters: {'beta': 1.025222046929669, 'learning_rate': 9.795093565855076e-05, 'batch_size': 17, 'epochs': 611, 'optimizer_type': 'rmsprop'}. Best is trial 11 with value: 38.262009851256416.\n"
     ]
    },
    {
     "name": "stdout",
     "output_type": "stream",
     "text": [
      "45\n"
     ]
    },
    {
     "name": "stderr",
     "output_type": "stream",
     "text": [
      "[I 2024-12-02 22:17:08,333] Trial 12 finished with value: 38.78129238299469 and parameters: {'beta': 1.0059074289060328, 'learning_rate': 9.890314702522702e-05, 'batch_size': 17, 'epochs': 589, 'optimizer_type': 'rmsprop'}. Best is trial 11 with value: 38.262009851256416.\n"
     ]
    },
    {
     "name": "stdout",
     "output_type": "stream",
     "text": [
      "45\n"
     ]
    },
    {
     "name": "stderr",
     "output_type": "stream",
     "text": [
      "[I 2024-12-02 22:19:08,015] Trial 13 finished with value: 41.12633247944846 and parameters: {'beta': 1.0670190206014387, 'learning_rate': 7.918590057726444e-05, 'batch_size': 16, 'epochs': 575, 'optimizer_type': 'rmsprop'}. Best is trial 11 with value: 38.262009851256416.\n"
     ]
    },
    {
     "name": "stdout",
     "output_type": "stream",
     "text": [
      "45\n"
     ]
    },
    {
     "name": "stderr",
     "output_type": "stream",
     "text": [
      "[I 2024-12-02 22:20:02,750] Trial 14 finished with value: 41.18564462234725 and parameters: {'beta': 1.10135309868482, 'learning_rate': 9.908614297203613e-05, 'batch_size': 26, 'epochs': 445, 'optimizer_type': 'rmsprop'}. Best is trial 11 with value: 38.262009851256416.\n"
     ]
    },
    {
     "name": "stdout",
     "output_type": "stream",
     "text": [
      "45\n"
     ]
    },
    {
     "name": "stderr",
     "output_type": "stream",
     "text": [
      "[I 2024-12-02 22:20:40,280] Trial 15 finished with value: 43.8108347423041 and parameters: {'beta': 1.5042431766117887, 'learning_rate': 7.786966108048382e-05, 'batch_size': 89, 'epochs': 684, 'optimizer_type': 'rmsprop'}. Best is trial 11 with value: 38.262009851256416.\n"
     ]
    },
    {
     "name": "stdout",
     "output_type": "stream",
     "text": [
      "45\n"
     ]
    },
    {
     "name": "stderr",
     "output_type": "stream",
     "text": [
      "[I 2024-12-02 22:21:44,460] Trial 16 finished with value: 43.4642774895056 and parameters: {'beta': 1.145645905277784, 'learning_rate': 4.058497928629761e-05, 'batch_size': 26, 'epochs': 507, 'optimizer_type': 'rmsprop'}. Best is trial 11 with value: 38.262009851256416.\n"
     ]
    },
    {
     "name": "stdout",
     "output_type": "stream",
     "text": [
      "45\n"
     ]
    },
    {
     "name": "stderr",
     "output_type": "stream",
     "text": [
      "[I 2024-12-02 22:22:49,234] Trial 17 finished with value: 42.71802983070487 and parameters: {'beta': 1.0058397506934997, 'learning_rate': 6.706514953844105e-05, 'batch_size': 35, 'epochs': 631, 'optimizer_type': 'rmsprop'}. Best is trial 11 with value: 38.262009851256416.\n"
     ]
    },
    {
     "name": "stdout",
     "output_type": "stream",
     "text": [
      "45\n"
     ]
    },
    {
     "name": "stderr",
     "output_type": "stream",
     "text": [
      "[I 2024-12-02 22:23:08,849] Trial 18 finished with value: 42.35301941828941 and parameters: {'beta': 1.4752040427549664, 'learning_rate': 8.988282539817852e-05, 'batch_size': 16, 'epochs': 130, 'optimizer_type': 'rmsprop'}. Best is trial 11 with value: 38.262009851256416.\n"
     ]
    },
    {
     "name": "stdout",
     "output_type": "stream",
     "text": [
      "45\n"
     ]
    },
    {
     "name": "stderr",
     "output_type": "stream",
     "text": [
      "[I 2024-12-02 22:23:33,171] Trial 19 finished with value: 47.635847678113336 and parameters: {'beta': 1.1813541263346652, 'learning_rate': 6.902794496927881e-05, 'batch_size': 108, 'epochs': 462, 'optimizer_type': 'rmsprop'}. Best is trial 11 with value: 38.262009851256416.\n"
     ]
    },
    {
     "name": "stdout",
     "output_type": "stream",
     "text": [
      "45\n"
     ]
    },
    {
     "name": "stderr",
     "output_type": "stream",
     "text": [
      "[I 2024-12-02 22:24:12,521] Trial 20 finished with value: 43.61211720936334 and parameters: {'beta': 1.5316266861425947, 'learning_rate': 4.6086525058232256e-05, 'batch_size': 90, 'epochs': 733, 'optimizer_type': 'rmsprop'}. Best is trial 11 with value: 38.262009851256416.\n"
     ]
    },
    {
     "name": "stdout",
     "output_type": "stream",
     "text": [
      "45\n"
     ]
    },
    {
     "name": "stderr",
     "output_type": "stream",
     "text": [
      "[I 2024-12-02 22:25:37,495] Trial 21 finished with value: 39.91043268459946 and parameters: {'beta': 1.0093119709902956, 'learning_rate': 9.918277812613864e-05, 'batch_size': 22, 'epochs': 543, 'optimizer_type': 'rmsprop'}. Best is trial 11 with value: 38.262009851256416.\n"
     ]
    },
    {
     "name": "stdout",
     "output_type": "stream",
     "text": [
      "45\n"
     ]
    },
    {
     "name": "stderr",
     "output_type": "stream",
     "text": [
      "[I 2024-12-02 22:27:04,622] Trial 22 finished with value: 40.68151172239389 and parameters: {'beta': 1.0803383334403134, 'learning_rate': 9.215565278049946e-05, 'batch_size': 25, 'epochs': 632, 'optimizer_type': 'rmsprop'}. Best is trial 11 with value: 38.262009851256416.\n"
     ]
    },
    {
     "name": "stdout",
     "output_type": "stream",
     "text": [
      "45\n"
     ]
    },
    {
     "name": "stderr",
     "output_type": "stream",
     "text": [
      "[I 2024-12-02 22:28:30,677] Trial 23 finished with value: 41.72565954407649 and parameters: {'beta': 1.000085592601102, 'learning_rate': 8.958203739656715e-05, 'batch_size': 16, 'epochs': 428, 'optimizer_type': 'rmsprop'}. Best is trial 11 with value: 38.262009851256416.\n"
     ]
    },
    {
     "name": "stdout",
     "output_type": "stream",
     "text": [
      "45\n"
     ]
    },
    {
     "name": "stderr",
     "output_type": "stream",
     "text": [
      "[I 2024-12-02 22:29:28,312] Trial 24 finished with value: 41.14545363241167 and parameters: {'beta': 1.2528210127007722, 'learning_rate': 9.9951803301998e-05, 'batch_size': 39, 'epochs': 613, 'optimizer_type': 'rmsprop'}. Best is trial 11 with value: 38.262009851256416.\n"
     ]
    },
    {
     "name": "stdout",
     "output_type": "stream",
     "text": [
      "45\n"
     ]
    },
    {
     "name": "stderr",
     "output_type": "stream",
     "text": [
      "[I 2024-12-02 22:31:04,125] Trial 25 finished with value: 39.89900649341185 and parameters: {'beta': 1.1158381852504728, 'learning_rate': 7.414256546431411e-05, 'batch_size': 29, 'epochs': 753, 'optimizer_type': 'rmsprop'}. Best is trial 11 with value: 38.262009851256416.\n"
     ]
    },
    {
     "name": "stdout",
     "output_type": "stream",
     "text": [
      "45\n"
     ]
    },
    {
     "name": "stderr",
     "output_type": "stream",
     "text": [
      "[I 2024-12-02 22:31:55,142] Trial 26 finished with value: 40.736939205340484 and parameters: {'beta': 1.3445995931849328, 'learning_rate': 8.504460108856764e-05, 'batch_size': 21, 'epochs': 356, 'optimizer_type': 'rmsprop'}. Best is trial 11 with value: 38.262009851256416.\n"
     ]
    },
    {
     "name": "stdout",
     "output_type": "stream",
     "text": [
      "45\n"
     ]
    },
    {
     "name": "stderr",
     "output_type": "stream",
     "text": [
      "[I 2024-12-02 22:32:52,045] Trial 27 finished with value: 41.20155539441465 and parameters: {'beta': 1.1845824365525188, 'learning_rate': 9.486711761554569e-05, 'batch_size': 32, 'epochs': 541, 'optimizer_type': 'rmsprop'}. Best is trial 11 with value: 38.262009851256416.\n"
     ]
    },
    {
     "name": "stdout",
     "output_type": "stream",
     "text": [
      "45\n"
     ]
    },
    {
     "name": "stderr",
     "output_type": "stream",
     "text": [
      "[I 2024-12-02 22:33:53,826] Trial 28 finished with value: 41.49877610847132 and parameters: {'beta': 1.0719391091762565, 'learning_rate': 8.461880887682181e-05, 'batch_size': 41, 'epochs': 683, 'optimizer_type': 'rmsprop'}. Best is trial 11 with value: 38.262009851256416.\n"
     ]
    },
    {
     "name": "stdout",
     "output_type": "stream",
     "text": [
      "45\n"
     ]
    },
    {
     "name": "stderr",
     "output_type": "stream",
     "text": [
      "[I 2024-12-02 22:34:54,216] Trial 29 finished with value: 41.21988926218517 and parameters: {'beta': 1.6098036645002052, 'learning_rate': 7.144955436216021e-05, 'batch_size': 52, 'epochs': 806, 'optimizer_type': 'rmsprop'}. Best is trial 11 with value: 38.262009851256416.\n"
     ]
    },
    {
     "name": "stdout",
     "output_type": "stream",
     "text": [
      "45\n"
     ]
    },
    {
     "name": "stderr",
     "output_type": "stream",
     "text": [
      "[I 2024-12-02 22:37:30,575] Trial 30 finished with value: 42.24721251530434 and parameters: {'beta': 1.051775539774286, 'learning_rate': 3.342059681258639e-05, 'batch_size': 21, 'epochs': 924, 'optimizer_type': 'rmsprop'}. Best is trial 11 with value: 38.262009851256416.\n"
     ]
    },
    {
     "name": "stdout",
     "output_type": "stream",
     "text": [
      "45\n"
     ]
    },
    {
     "name": "stderr",
     "output_type": "stream",
     "text": [
      "[I 2024-12-02 22:39:01,283] Trial 31 finished with value: 39.73674714956711 and parameters: {'beta': 1.1293069748803377, 'learning_rate': 8.102755429472474e-05, 'batch_size': 29, 'epochs': 718, 'optimizer_type': 'rmsprop'}. Best is trial 11 with value: 38.262009851256416.\n"
     ]
    },
    {
     "name": "stdout",
     "output_type": "stream",
     "text": [
      "45\n"
     ]
    },
    {
     "name": "stderr",
     "output_type": "stream",
     "text": [
      "[I 2024-12-02 22:40:21,214] Trial 32 finished with value: 39.93411163785564 and parameters: {'beta': 1.1422352311860706, 'learning_rate': 9.35968169644418e-05, 'batch_size': 31, 'epochs': 685, 'optimizer_type': 'rmsprop'}. Best is trial 11 with value: 38.262009851256416.\n"
     ]
    },
    {
     "name": "stdout",
     "output_type": "stream",
     "text": [
      "45\n"
     ]
    },
    {
     "name": "stderr",
     "output_type": "stream",
     "text": [
      "[I 2024-12-02 22:42:26,317] Trial 33 finished with value: 38.93640546656366 and parameters: {'beta': 1.2187573648752048, 'learning_rate': 8.724701102602121e-05, 'batch_size': 16, 'epochs': 594, 'optimizer_type': 'rmsprop'}. Best is trial 11 with value: 38.262009851256416.\n"
     ]
    },
    {
     "name": "stdout",
     "output_type": "stream",
     "text": [
      "45\n"
     ]
    },
    {
     "name": "stderr",
     "output_type": "stream",
     "text": [
      "[I 2024-12-02 22:44:08,426] Trial 34 finished with value: 39.21871729608792 and parameters: {'beta': 1.228626359055994, 'learning_rate': 8.94059866287555e-05, 'batch_size': 16, 'epochs': 589, 'optimizer_type': 'adam'}. Best is trial 11 with value: 38.262009851256416.\n"
     ]
    },
    {
     "name": "stdout",
     "output_type": "stream",
     "text": [
      "45\n"
     ]
    },
    {
     "name": "stderr",
     "output_type": "stream",
     "text": [
      "[I 2024-12-02 22:44:53,745] Trial 35 finished with value: 43.87521653815882 and parameters: {'beta': 1.3093906064540917, 'learning_rate': 6.22132588339809e-05, 'batch_size': 37, 'epochs': 489, 'optimizer_type': 'rmsprop'}. Best is trial 11 with value: 38.262009851256416.\n"
     ]
    },
    {
     "name": "stdout",
     "output_type": "stream",
     "text": [
      "45\n"
     ]
    },
    {
     "name": "stderr",
     "output_type": "stream",
     "text": [
      "[I 2024-12-02 22:46:21,578] Trial 36 finished with value: 39.39776201390509 and parameters: {'beta': 1.4125025314082764, 'learning_rate': 9.534057083683393e-05, 'batch_size': 23, 'epochs': 639, 'optimizer_type': 'adam'}. Best is trial 11 with value: 38.262009851256416.\n"
     ]
    },
    {
     "name": "stdout",
     "output_type": "stream",
     "text": [
      "45\n"
     ]
    },
    {
     "name": "stderr",
     "output_type": "stream",
     "text": [
      "[I 2024-12-02 22:46:50,887] Trial 37 finished with value: 44.44647754270639 and parameters: {'beta': 1.0632709939786098, 'learning_rate': 8.705869902152067e-05, 'batch_size': 44, 'epochs': 382, 'optimizer_type': 'rmsprop'}. Best is trial 11 with value: 38.262009851256416.\n"
     ]
    },
    {
     "name": "stdout",
     "output_type": "stream",
     "text": [
      "45\n"
     ]
    },
    {
     "name": "stderr",
     "output_type": "stream",
     "text": [
      "[I 2024-12-02 22:47:09,021] Trial 38 finished with value: 45.20258388234608 and parameters: {'beta': 1.999047710908544, 'learning_rate': 7.76244274142884e-05, 'batch_size': 76, 'epochs': 275, 'optimizer_type': 'adam'}. Best is trial 11 with value: 38.262009851256416.\n"
     ]
    },
    {
     "name": "stdout",
     "output_type": "stream",
     "text": [
      "45\n"
     ]
    },
    {
     "name": "stderr",
     "output_type": "stream",
     "text": [
      "[I 2024-12-02 22:48:39,400] Trial 39 finished with value: 38.13164618193213 and parameters: {'beta': 1.8004462373490966, 'learning_rate': 5.823173415483579e-05, 'batch_size': 20, 'epochs': 534, 'optimizer_type': 'rmsprop'}. Best is trial 39 with value: 38.13164618193213.\n"
     ]
    },
    {
     "name": "stdout",
     "output_type": "stream",
     "text": [
      "45\n"
     ]
    },
    {
     "name": "stderr",
     "output_type": "stream",
     "text": [
      "[I 2024-12-02 22:49:36,499] Trial 40 finished with value: 41.47241224602087 and parameters: {'beta': 1.8875955345905986, 'learning_rate': 5.592900398374098e-05, 'batch_size': 60, 'epochs': 793, 'optimizer_type': 'rmsprop'}. Best is trial 39 with value: 38.13164618193213.\n"
     ]
    },
    {
     "name": "stdout",
     "output_type": "stream",
     "text": [
      "45\n"
     ]
    },
    {
     "name": "stderr",
     "output_type": "stream",
     "text": [
      "[I 2024-12-02 22:51:15,415] Trial 41 finished with value: 34.230314157969914 and parameters: {'beta': 1.7823355933931109, 'learning_rate': 9.580051559349704e-05, 'batch_size': 20, 'epochs': 561, 'optimizer_type': 'rmsprop'}. Best is trial 41 with value: 34.230314157969914.\n"
     ]
    },
    {
     "name": "stdout",
     "output_type": "stream",
     "text": [
      "45\n"
     ]
    },
    {
     "name": "stderr",
     "output_type": "stream",
     "text": [
      "[I 2024-12-02 22:52:41,704] Trial 42 finished with value: 36.4385130924965 and parameters: {'beta': 1.7762993395525999, 'learning_rate': 9.50766305583124e-05, 'batch_size': 21, 'epochs': 534, 'optimizer_type': 'rmsprop'}. Best is trial 41 with value: 34.230314157969914.\n"
     ]
    },
    {
     "name": "stdout",
     "output_type": "stream",
     "text": [
      "45\n"
     ]
    },
    {
     "name": "stderr",
     "output_type": "stream",
     "text": [
      "[I 2024-12-02 22:54:01,078] Trial 43 finished with value: 44.69257748731926 and parameters: {'beta': 1.7853535047353866, 'learning_rate': 2.859821176284619e-06, 'batch_size': 21, 'epochs': 518, 'optimizer_type': 'rmsprop'}. Best is trial 41 with value: 34.230314157969914.\n"
     ]
    },
    {
     "name": "stdout",
     "output_type": "stream",
     "text": [
      "45\n"
     ]
    },
    {
     "name": "stderr",
     "output_type": "stream",
     "text": [
      "[I 2024-12-02 22:54:39,171] Trial 44 finished with value: 44.33599407139109 and parameters: {'beta': 1.769903420057104, 'learning_rate': 2.4510637762833783e-05, 'batch_size': 33, 'epochs': 400, 'optimizer_type': 'rmsprop'}. Best is trial 41 with value: 34.230314157969914.\n"
     ]
    },
    {
     "name": "stdout",
     "output_type": "stream",
     "text": [
      "45\n"
     ]
    },
    {
     "name": "stderr",
     "output_type": "stream",
     "text": [
      "[I 2024-12-02 22:55:17,835] Trial 45 finished with value: 39.5530564948694 and parameters: {'beta': 1.915162966963532, 'learning_rate': 9.554822139618665e-05, 'batch_size': 28, 'epochs': 339, 'optimizer_type': 'adam'}. Best is trial 41 with value: 34.230314157969914.\n"
     ]
    },
    {
     "name": "stdout",
     "output_type": "stream",
     "text": [
      "45\n"
     ]
    },
    {
     "name": "stderr",
     "output_type": "stream",
     "text": [
      "[I 2024-12-02 22:55:42,910] Trial 46 finished with value: 40.049561594493355 and parameters: {'beta': 1.8028171929256938, 'learning_rate': 8.167936418114478e-05, 'batch_size': 22, 'epochs': 205, 'optimizer_type': 'rmsprop'}. Best is trial 41 with value: 34.230314157969914.\n"
     ]
    },
    {
     "name": "stdout",
     "output_type": "stream",
     "text": [
      "45\n"
     ]
    },
    {
     "name": "stderr",
     "output_type": "stream",
     "text": [
      "[I 2024-12-02 22:56:17,222] Trial 47 finished with value: 45.99874723064366 and parameters: {'beta': 1.7141172163320755, 'learning_rate': 4.2030491857400894e-05, 'batch_size': 69, 'epochs': 556, 'optimizer_type': 'rmsprop'}. Best is trial 41 with value: 34.230314157969914.\n"
     ]
    },
    {
     "name": "stdout",
     "output_type": "stream",
     "text": [
      "45\n"
     ]
    },
    {
     "name": "stderr",
     "output_type": "stream",
     "text": [
      "[I 2024-12-02 22:56:43,418] Trial 48 finished with value: 46.27985912721549 and parameters: {'beta': 1.8391538876437328, 'learning_rate': 6.392481068872934e-05, 'batch_size': 95, 'epochs': 480, 'optimizer_type': 'rmsprop'}. Best is trial 41 with value: 34.230314157969914.\n"
     ]
    },
    {
     "name": "stdout",
     "output_type": "stream",
     "text": [
      "45\n"
     ]
    },
    {
     "name": "stderr",
     "output_type": "stream",
     "text": [
      "[I 2024-12-02 22:58:07,099] Trial 49 finished with value: 39.67998447702892 and parameters: {'beta': 1.6441516813447115, 'learning_rate': 5.359727487195532e-05, 'batch_size': 25, 'epochs': 663, 'optimizer_type': 'adam'}. Best is trial 41 with value: 34.230314157969914.\n",
      "[I 2024-12-02 22:59:45,258] A new study created in memory with name: no-name-7b214b7a-d715-4585-8533-ec6083bae0a5\n"
     ]
    },
    {
     "name": "stdout",
     "output_type": "stream",
     "text": [
      "45\n"
     ]
    },
    {
     "name": "stderr",
     "output_type": "stream",
     "text": [
      "[I 2024-12-02 23:01:07,380] Trial 0 finished with value: 35.76039729331856 and parameters: {'beta': 1.885392702069006, 'learning_rate': 9.565060900786089e-05, 'batch_size': 36, 'epochs': 799, 'optimizer_type': 'rmsprop'}. Best is trial 0 with value: 35.76039729331856.\n"
     ]
    },
    {
     "name": "stdout",
     "output_type": "stream",
     "text": [
      "45\n"
     ]
    },
    {
     "name": "stderr",
     "output_type": "stream",
     "text": [
      "[I 2024-12-02 23:02:17,449] Trial 1 finished with value: 45.69139422516324 and parameters: {'beta': 1.630997058738886, 'learning_rate': 1.2491734497792934e-05, 'batch_size': 56, 'epochs': 910, 'optimizer_type': 'adam'}. Best is trial 0 with value: 35.76039729331856.\n"
     ]
    },
    {
     "name": "stdout",
     "output_type": "stream",
     "text": [
      "45\n"
     ]
    },
    {
     "name": "stderr",
     "output_type": "stream",
     "text": [
      "[I 2024-12-02 23:03:03,507] Trial 2 finished with value: 46.67552467460063 and parameters: {'beta': 1.4034189736079274, 'learning_rate': 9.25782326124073e-06, 'batch_size': 33, 'epochs': 466, 'optimizer_type': 'rmsprop'}. Best is trial 0 with value: 35.76039729331856.\n"
     ]
    },
    {
     "name": "stdout",
     "output_type": "stream",
     "text": [
      "45\n"
     ]
    },
    {
     "name": "stderr",
     "output_type": "stream",
     "text": [
      "[I 2024-12-02 23:04:27,504] Trial 3 finished with value: 42.046221468341884 and parameters: {'beta': 1.0020462441271678, 'learning_rate': 8.210037849683621e-05, 'batch_size': 32, 'epochs': 799, 'optimizer_type': 'adam'}. Best is trial 0 with value: 35.76039729331856.\n"
     ]
    },
    {
     "name": "stdout",
     "output_type": "stream",
     "text": [
      "45\n"
     ]
    },
    {
     "name": "stderr",
     "output_type": "stream",
     "text": [
      "[I 2024-12-02 23:05:26,479] Trial 4 finished with value: 38.29052588619403 and parameters: {'beta': 1.8735384882063058, 'learning_rate': 9.160467266206491e-05, 'batch_size': 43, 'epochs': 684, 'optimizer_type': 'rmsprop'}. Best is trial 0 with value: 35.76039729331856.\n"
     ]
    },
    {
     "name": "stdout",
     "output_type": "stream",
     "text": [
      "45\n"
     ]
    },
    {
     "name": "stderr",
     "output_type": "stream",
     "text": [
      "[I 2024-12-02 23:05:51,010] Trial 5 finished with value: 44.859127215485074 and parameters: {'beta': 1.9424511867689003, 'learning_rate': 2.616973776652966e-05, 'batch_size': 43, 'epochs': 278, 'optimizer_type': 'adam'}. Best is trial 0 with value: 35.76039729331856.\n"
     ]
    },
    {
     "name": "stdout",
     "output_type": "stream",
     "text": [
      "45\n"
     ]
    },
    {
     "name": "stderr",
     "output_type": "stream",
     "text": [
      "[I 2024-12-02 23:06:40,319] Trial 6 finished with value: 45.873680365263525 and parameters: {'beta': 1.6462435764840455, 'learning_rate': 4.781091728933399e-05, 'batch_size': 105, 'epochs': 836, 'optimizer_type': 'adam'}. Best is trial 0 with value: 35.76039729331856.\n"
     ]
    },
    {
     "name": "stdout",
     "output_type": "stream",
     "text": [
      "45\n"
     ]
    },
    {
     "name": "stderr",
     "output_type": "stream",
     "text": [
      "[I 2024-12-02 23:06:50,083] Trial 7 finished with value: 46.36777744577892 and parameters: {'beta': 1.7829020353472598, 'learning_rate': 5.81730668529965e-05, 'batch_size': 49, 'epochs': 134, 'optimizer_type': 'rmsprop'}. Best is trial 0 with value: 35.76039729331856.\n"
     ]
    },
    {
     "name": "stdout",
     "output_type": "stream",
     "text": [
      "45\n"
     ]
    },
    {
     "name": "stderr",
     "output_type": "stream",
     "text": [
      "[I 2024-12-02 23:07:38,898] Trial 8 finished with value: 43.434935794659516 and parameters: {'beta': 1.5959559845745073, 'learning_rate': 8.593646217815024e-05, 'batch_size': 108, 'epochs': 828, 'optimizer_type': 'adam'}. Best is trial 0 with value: 35.76039729331856.\n"
     ]
    },
    {
     "name": "stdout",
     "output_type": "stream",
     "text": [
      "45\n"
     ]
    },
    {
     "name": "stderr",
     "output_type": "stream",
     "text": [
      "[I 2024-12-02 23:07:46,717] Trial 9 finished with value: 48.704296875 and parameters: {'beta': 1.3091305687221504, 'learning_rate': 4.091299129448052e-05, 'batch_size': 101, 'epochs': 151, 'optimizer_type': 'rmsprop'}. Best is trial 0 with value: 35.76039729331856.\n"
     ]
    },
    {
     "name": "stdout",
     "output_type": "stream",
     "text": [
      "45\n"
     ]
    },
    {
     "name": "stderr",
     "output_type": "stream",
     "text": [
      "[I 2024-12-02 23:08:19,549] Trial 10 finished with value: 42.69041875583022 and parameters: {'beta': 1.9980928789133126, 'learning_rate': 6.621892610246609e-05, 'batch_size': 76, 'epochs': 567, 'optimizer_type': 'rmsprop'}. Best is trial 0 with value: 35.76039729331856.\n"
     ]
    },
    {
     "name": "stdout",
     "output_type": "stream",
     "text": [
      "45\n"
     ]
    },
    {
     "name": "stderr",
     "output_type": "stream",
     "text": [
      "[I 2024-12-02 23:10:18,585] Trial 11 finished with value: 34.15628575566989 and parameters: {'beta': 1.8361932787228366, 'learning_rate': 9.723370120802846e-05, 'batch_size': 18, 'epochs': 621, 'optimizer_type': 'rmsprop'}. Best is trial 11 with value: 34.15628575566989.\n"
     ]
    },
    {
     "name": "stdout",
     "output_type": "stream",
     "text": [
      "45\n"
     ]
    },
    {
     "name": "stderr",
     "output_type": "stream",
     "text": [
      "[I 2024-12-02 23:11:49,521] Trial 12 finished with value: 35.41000619005801 and parameters: {'beta': 1.803686022064672, 'learning_rate': 9.923717639321556e-05, 'batch_size': 17, 'epochs': 464, 'optimizer_type': 'rmsprop'}. Best is trial 11 with value: 34.15628575566989.\n"
     ]
    },
    {
     "name": "stdout",
     "output_type": "stream",
     "text": [
      "45\n"
     ]
    },
    {
     "name": "stderr",
     "output_type": "stream",
     "text": [
      "[I 2024-12-02 23:13:06,971] Trial 13 finished with value: 36.458060831098415 and parameters: {'beta': 1.761824687522093, 'learning_rate': 7.080532892480616e-05, 'batch_size': 16, 'epochs': 401, 'optimizer_type': 'rmsprop'}. Best is trial 11 with value: 34.15628575566989.\n"
     ]
    },
    {
     "name": "stdout",
     "output_type": "stream",
     "text": [
      "45\n"
     ]
    },
    {
     "name": "stderr",
     "output_type": "stream",
     "text": [
      "[I 2024-12-02 23:15:14,455] Trial 14 finished with value: 34.290305749693914 and parameters: {'beta': 1.7533698486576401, 'learning_rate': 9.982664513431858e-05, 'batch_size': 16, 'epochs': 597, 'optimizer_type': 'rmsprop'}. Best is trial 11 with value: 34.15628575566989.\n"
     ]
    },
    {
     "name": "stdout",
     "output_type": "stream",
     "text": [
      "45\n"
     ]
    },
    {
     "name": "stderr",
     "output_type": "stream",
     "text": [
      "[I 2024-12-02 23:15:50,907] Trial 15 finished with value: 44.004440079874065 and parameters: {'beta': 1.5086380154322094, 'learning_rate': 7.755505231828738e-05, 'batch_size': 72, 'epochs': 598, 'optimizer_type': 'rmsprop'}. Best is trial 11 with value: 34.15628575566989.\n"
     ]
    },
    {
     "name": "stdout",
     "output_type": "stream",
     "text": [
      "45\n"
     ]
    },
    {
     "name": "stderr",
     "output_type": "stream",
     "text": [
      "[I 2024-12-02 23:17:25,341] Trial 16 finished with value: 38.4934176772388 and parameters: {'beta': 1.193951364777623, 'learning_rate': 9.854802971560657e-05, 'batch_size': 24, 'epochs': 671, 'optimizer_type': 'rmsprop'}. Best is trial 11 with value: 34.15628575566989.\n"
     ]
    },
    {
     "name": "stdout",
     "output_type": "stream",
     "text": [
      "45\n"
     ]
    },
    {
     "name": "stderr",
     "output_type": "stream",
     "text": [
      "[I 2024-12-02 23:18:35,632] Trial 17 finished with value: 39.822328299906715 and parameters: {'beta': 1.712958041404664, 'learning_rate': 6.997754767654367e-05, 'batch_size': 65, 'epochs': 1000, 'optimizer_type': 'rmsprop'}. Best is trial 11 with value: 34.15628575566989.\n"
     ]
    },
    {
     "name": "stdout",
     "output_type": "stream",
     "text": [
      "45\n"
     ]
    },
    {
     "name": "stderr",
     "output_type": "stream",
     "text": [
      "[I 2024-12-02 23:18:54,293] Trial 18 finished with value: 46.99520828474814 and parameters: {'beta': 1.4771431851989005, 'learning_rate': 3.291762568963518e-05, 'batch_size': 89, 'epochs': 341, 'optimizer_type': 'rmsprop'}. Best is trial 11 with value: 34.15628575566989.\n"
     ]
    },
    {
     "name": "stdout",
     "output_type": "stream",
     "text": [
      "45\n"
     ]
    },
    {
     "name": "stderr",
     "output_type": "stream",
     "text": [
      "[I 2024-12-02 23:20:25,353] Trial 19 finished with value: 39.01262589639692 and parameters: {'beta': 1.8548443765266942, 'learning_rate': 5.627588273949045e-05, 'batch_size': 26, 'epochs': 671, 'optimizer_type': 'rmsprop'}. Best is trial 11 with value: 34.15628575566989.\n"
     ]
    },
    {
     "name": "stdout",
     "output_type": "stream",
     "text": [
      "45\n"
     ]
    },
    {
     "name": "stderr",
     "output_type": "stream",
     "text": [
      "[I 2024-12-02 23:21:03,270] Trial 20 finished with value: 41.88638232786264 and parameters: {'beta': 1.6686813141208727, 'learning_rate': 8.535712862050504e-05, 'batch_size': 54, 'epochs': 544, 'optimizer_type': 'rmsprop'}. Best is trial 11 with value: 34.15628575566989.\n"
     ]
    },
    {
     "name": "stdout",
     "output_type": "stream",
     "text": [
      "45\n"
     ]
    },
    {
     "name": "stderr",
     "output_type": "stream",
     "text": [
      "[I 2024-12-02 23:22:28,959] Trial 21 finished with value: 35.53769002885961 and parameters: {'beta': 1.8090966833956823, 'learning_rate': 9.966493812819413e-05, 'batch_size': 17, 'epochs': 437, 'optimizer_type': 'rmsprop'}. Best is trial 11 with value: 34.15628575566989.\n"
     ]
    },
    {
     "name": "stdout",
     "output_type": "stream",
     "text": [
      "45\n"
     ]
    },
    {
     "name": "stderr",
     "output_type": "stream",
     "text": [
      "[I 2024-12-02 23:23:01,787] Trial 22 finished with value: 38.60554736692514 and parameters: {'beta': 1.9920715063119794, 'learning_rate': 9.061360041339518e-05, 'batch_size': 24, 'epochs': 283, 'optimizer_type': 'rmsprop'}. Best is trial 11 with value: 34.15628575566989.\n"
     ]
    },
    {
     "name": "stdout",
     "output_type": "stream",
     "text": [
      "45\n"
     ]
    },
    {
     "name": "stderr",
     "output_type": "stream",
     "text": [
      "[I 2024-12-02 23:24:20,834] Trial 23 finished with value: 37.21350944860658 and parameters: {'beta': 1.7425573436743194, 'learning_rate': 7.800210378897662e-05, 'batch_size': 22, 'epochs': 513, 'optimizer_type': 'rmsprop'}. Best is trial 11 with value: 34.15628575566989.\n"
     ]
    },
    {
     "name": "stdout",
     "output_type": "stream",
     "text": [
      "45\n"
     ]
    },
    {
     "name": "stderr",
     "output_type": "stream",
     "text": [
      "[I 2024-12-02 23:26:34,956] Trial 24 finished with value: 33.93609778560809 and parameters: {'beta': 1.8935763622731372, 'learning_rate': 9.339504137940469e-05, 'batch_size': 16, 'epochs': 624, 'optimizer_type': 'rmsprop'}. Best is trial 24 with value: 33.93609778560809.\n"
     ]
    },
    {
     "name": "stdout",
     "output_type": "stream",
     "text": [
      "45\n"
     ]
    },
    {
     "name": "stderr",
     "output_type": "stream",
     "text": [
      "[I 2024-12-02 23:27:48,072] Trial 25 finished with value: 38.793876260785915 and parameters: {'beta': 1.559952986205973, 'learning_rate': 8.880879127210111e-05, 'batch_size': 38, 'epochs': 735, 'optimizer_type': 'rmsprop'}. Best is trial 24 with value: 33.93609778560809.\n"
     ]
    },
    {
     "name": "stdout",
     "output_type": "stream",
     "text": [
      "45\n"
     ]
    },
    {
     "name": "stderr",
     "output_type": "stream",
     "text": [
      "[I 2024-12-02 23:28:59,052] Trial 26 finished with value: 37.83527137414733 and parameters: {'beta': 1.933070842168986, 'learning_rate': 7.694561193772402e-05, 'batch_size': 29, 'epochs': 617, 'optimizer_type': 'adam'}. Best is trial 24 with value: 33.93609778560809.\n"
     ]
    },
    {
     "name": "stdout",
     "output_type": "stream",
     "text": [
      "45\n"
     ]
    },
    {
     "name": "stderr",
     "output_type": "stream",
     "text": [
      "[I 2024-12-02 23:29:50,496] Trial 27 finished with value: 40.81306753585588 and parameters: {'beta': 1.8645217164985866, 'learning_rate': 6.35899339113922e-05, 'batch_size': 42, 'epochs': 624, 'optimizer_type': 'rmsprop'}. Best is trial 24 with value: 33.93609778560809.\n"
     ]
    },
    {
     "name": "stdout",
     "output_type": "stream",
     "text": [
      "45\n"
     ]
    },
    {
     "name": "stderr",
     "output_type": "stream",
     "text": [
      "[I 2024-12-02 23:29:51,271] Trial 28 finished with value: 49.97026141721811 and parameters: {'beta': 1.6944095339592786, 'learning_rate': 9.321162575467723e-05, 'batch_size': 29, 'epochs': 7, 'optimizer_type': 'rmsprop'}. Best is trial 24 with value: 33.93609778560809.\n"
     ]
    },
    {
     "name": "stdout",
     "output_type": "stream",
     "text": [
      "45\n"
     ]
    },
    {
     "name": "stderr",
     "output_type": "stream",
     "text": [
      "[I 2024-12-02 23:31:13,767] Trial 29 finished with value: 36.13655577702309 and parameters: {'beta': 1.907850092205572, 'learning_rate': 9.39819653042759e-05, 'batch_size': 37, 'epochs': 774, 'optimizer_type': 'rmsprop'}. Best is trial 24 with value: 33.93609778560809.\n"
     ]
    },
    {
     "name": "stdout",
     "output_type": "stream",
     "text": [
      "45\n"
     ]
    },
    {
     "name": "stderr",
     "output_type": "stream",
     "text": [
      "[I 2024-12-02 23:33:11,125] Trial 30 finished with value: 34.645857261543846 and parameters: {'beta': 1.8379864710498168, 'learning_rate': 8.175462419454801e-05, 'batch_size': 21, 'epochs': 719, 'optimizer_type': 'rmsprop'}. Best is trial 24 with value: 33.93609778560809.\n"
     ]
    },
    {
     "name": "stdout",
     "output_type": "stream",
     "text": [
      "45\n"
     ]
    },
    {
     "name": "stderr",
     "output_type": "stream",
     "text": [
      "[I 2024-12-02 23:35:47,363] Trial 31 finished with value: 34.65974968298158 and parameters: {'beta': 1.8237631186720216, 'learning_rate': 8.309862144022729e-05, 'batch_size': 16, 'epochs': 718, 'optimizer_type': 'rmsprop'}. Best is trial 24 with value: 33.93609778560809.\n"
     ]
    },
    {
     "name": "stdout",
     "output_type": "stream",
     "text": [
      "45\n"
     ]
    },
    {
     "name": "stderr",
     "output_type": "stream",
     "text": [
      "[I 2024-12-02 23:38:12,546] Trial 32 finished with value: 32.91547268540112 and parameters: {'beta': 1.9101650299297215, 'learning_rate': 9.344186707479372e-05, 'batch_size': 22, 'epochs': 868, 'optimizer_type': 'rmsprop'}. Best is trial 32 with value: 32.91547268540112.\n"
     ]
    },
    {
     "name": "stdout",
     "output_type": "stream",
     "text": [
      "45\n"
     ]
    },
    {
     "name": "stderr",
     "output_type": "stream",
     "text": [
      "[I 2024-12-02 23:39:57,336] Trial 33 finished with value: 44.29078314482276 and parameters: {'beta': 1.9465605142837703, 'learning_rate': 3.3756502659730876e-06, 'batch_size': 32, 'epochs': 905, 'optimizer_type': 'rmsprop'}. Best is trial 32 with value: 32.91547268540112.\n"
     ]
    },
    {
     "name": "stdout",
     "output_type": "stream",
     "text": [
      "45\n"
     ]
    },
    {
     "name": "stderr",
     "output_type": "stream",
     "text": [
      "[I 2024-12-02 23:42:03,942] Trial 34 finished with value: 34.59909103165811 and parameters: {'beta': 1.8996581399647736, 'learning_rate': 9.431679832565762e-05, 'batch_size': 22, 'epochs': 908, 'optimizer_type': 'adam'}. Best is trial 32 with value: 32.91547268540112.\n"
     ]
    },
    {
     "name": "stdout",
     "output_type": "stream",
     "text": [
      "45\n"
     ]
    },
    {
     "name": "stderr",
     "output_type": "stream",
     "text": [
      "[I 2024-12-02 23:43:53,033] Trial 35 finished with value: 35.938349846227844 and parameters: {'beta': 1.742726876386881, 'learning_rate': 8.923463226955234e-05, 'batch_size': 35, 'epochs': 956, 'optimizer_type': 'rmsprop'}. Best is trial 32 with value: 32.91547268540112.\n"
     ]
    },
    {
     "name": "stdout",
     "output_type": "stream",
     "text": [
      "45\n"
     ]
    },
    {
     "name": "stderr",
     "output_type": "stream",
     "text": [
      "[I 2024-12-02 23:45:44,318] Trial 36 finished with value: 39.33432252798507 and parameters: {'beta': 1.965004471805638, 'learning_rate': 2.1169050806568445e-05, 'batch_size': 28, 'epochs': 868, 'optimizer_type': 'rmsprop'}. Best is trial 32 with value: 32.91547268540112.\n"
     ]
    },
    {
     "name": "stdout",
     "output_type": "stream",
     "text": [
      "45\n"
     ]
    },
    {
     "name": "stderr",
     "output_type": "stream",
     "text": [
      "[I 2024-12-02 23:46:26,431] Trial 37 finished with value: 44.08623142527111 and parameters: {'beta': 1.0495195745610686, 'learning_rate': 7.460734663309366e-05, 'batch_size': 51, 'epochs': 518, 'optimizer_type': 'adam'}. Best is trial 32 with value: 32.91547268540112.\n"
     ]
    },
    {
     "name": "stdout",
     "output_type": "stream",
     "text": [
      "45\n"
     ]
    },
    {
     "name": "stderr",
     "output_type": "stream",
     "text": [
      "[I 2024-12-02 23:48:45,422] Trial 38 finished with value: 32.3603099310576 and parameters: {'beta': 1.8850164993866811, 'learning_rate': 9.964843519681158e-05, 'batch_size': 20, 'epochs': 780, 'optimizer_type': 'rmsprop'}. Best is trial 38 with value: 32.3603099310576.\n"
     ]
    },
    {
     "name": "stdout",
     "output_type": "stream",
     "text": [
      "45\n"
     ]
    },
    {
     "name": "stderr",
     "output_type": "stream",
     "text": [
      "[I 2024-12-02 23:50:00,675] Trial 39 finished with value: 38.64511727859725 and parameters: {'beta': 1.8769561643704256, 'learning_rate': 8.808734148384215e-05, 'batch_size': 38, 'epochs': 788, 'optimizer_type': 'adam'}. Best is trial 38 with value: 32.3603099310576.\n"
     ]
    },
    {
     "name": "stdout",
     "output_type": "stream",
     "text": [
      "45\n"
     ]
    },
    {
     "name": "stderr",
     "output_type": "stream",
     "text": [
      "[I 2024-12-02 23:51:12,418] Trial 40 finished with value: 38.898658866312964 and parameters: {'beta': 1.351854333738301, 'learning_rate': 9.436189949677492e-05, 'batch_size': 46, 'epochs': 857, 'optimizer_type': 'rmsprop'}. Best is trial 38 with value: 32.3603099310576.\n"
     ]
    },
    {
     "name": "stdout",
     "output_type": "stream",
     "text": [
      "45\n"
     ]
    },
    {
     "name": "stderr",
     "output_type": "stream",
     "text": [
      "[I 2024-12-02 23:53:03,072] Trial 41 finished with value: 34.582536202046406 and parameters: {'beta': 1.908910484767155, 'learning_rate': 9.790802237859336e-05, 'batch_size': 20, 'epochs': 645, 'optimizer_type': 'rmsprop'}. Best is trial 38 with value: 32.3603099310576.\n"
     ]
    },
    {
     "name": "stdout",
     "output_type": "stream",
     "text": [
      "45\n"
     ]
    },
    {
     "name": "stderr",
     "output_type": "stream",
     "text": [
      "[I 2024-12-02 23:54:34,771] Trial 42 finished with value: 36.84466133687034 and parameters: {'beta': 1.6194862246980206, 'learning_rate': 8.432305921499812e-05, 'batch_size': 28, 'epochs': 742, 'optimizer_type': 'rmsprop'}. Best is trial 38 with value: 32.3603099310576.\n"
     ]
    },
    {
     "name": "stdout",
     "output_type": "stream",
     "text": [
      "45\n"
     ]
    },
    {
     "name": "stderr",
     "output_type": "stream",
     "text": [
      "[I 2024-12-02 23:55:35,574] Trial 43 finished with value: 37.00655207847481 and parameters: {'beta': 1.7849411521191765, 'learning_rate': 9.982377393953328e-05, 'batch_size': 32, 'epochs': 579, 'optimizer_type': 'rmsprop'}. Best is trial 38 with value: 32.3603099310576.\n"
     ]
    },
    {
     "name": "stdout",
     "output_type": "stream",
     "text": [
      "45\n"
     ]
    },
    {
     "name": "stderr",
     "output_type": "stream",
     "text": [
      "[I 2024-12-02 23:58:02,925] Trial 44 finished with value: 33.449692888402225 and parameters: {'beta': 1.9601340927818054, 'learning_rate': 9.3736462991423e-05, 'batch_size': 19, 'epochs': 767, 'optimizer_type': 'rmsprop'}. Best is trial 38 with value: 32.3603099310576.\n"
     ]
    },
    {
     "name": "stdout",
     "output_type": "stream",
     "text": [
      "45\n"
     ]
    },
    {
     "name": "stderr",
     "output_type": "stream",
     "text": [
      "[I 2024-12-03 00:00:16,712] Trial 45 finished with value: 32.908667174381996 and parameters: {'beta': 1.989985929174665, 'learning_rate': 8.131565071846737e-05, 'batch_size': 21, 'epochs': 775, 'optimizer_type': 'rmsprop'}. Best is trial 38 with value: 32.3603099310576.\n"
     ]
    },
    {
     "name": "stdout",
     "output_type": "stream",
     "text": [
      "45\n"
     ]
    },
    {
     "name": "stderr",
     "output_type": "stream",
     "text": [
      "[I 2024-12-03 00:02:13,631] Trial 46 finished with value: 34.06405912940182 and parameters: {'beta': 1.9986402238008776, 'learning_rate': 8.080978388384624e-05, 'batch_size': 25, 'epochs': 809, 'optimizer_type': 'rmsprop'}. Best is trial 38 with value: 32.3603099310576.\n"
     ]
    },
    {
     "name": "stdout",
     "output_type": "stream",
     "text": [
      "45\n"
     ]
    },
    {
     "name": "stderr",
     "output_type": "stream",
     "text": [
      "[I 2024-12-03 00:03:03,703] Trial 47 finished with value: 40.514308462569964 and parameters: {'beta': 1.9517139887651076, 'learning_rate': 8.979041632273855e-05, 'batch_size': 61, 'epochs': 769, 'optimizer_type': 'rmsprop'}. Best is trial 38 with value: 32.3603099310576.\n"
     ]
    },
    {
     "name": "stdout",
     "output_type": "stream",
     "text": [
      "45\n"
     ]
    },
    {
     "name": "stderr",
     "output_type": "stream",
     "text": [
      "[I 2024-12-03 00:03:57,179] Trial 48 finished with value: 41.613116910564365 and parameters: {'beta': 1.914703861178859, 'learning_rate': 7.217979275809145e-05, 'batch_size': 85, 'epochs': 855, 'optimizer_type': 'adam'}. Best is trial 38 with value: 32.3603099310576.\n"
     ]
    },
    {
     "name": "stdout",
     "output_type": "stream",
     "text": [
      "45\n"
     ]
    },
    {
     "name": "stderr",
     "output_type": "stream",
     "text": [
      "[I 2024-12-03 00:05:25,682] Trial 49 finished with value: 39.43090474142957 and parameters: {'beta': 1.9666385411116527, 'learning_rate': 4.4604737882870984e-05, 'batch_size': 41, 'epochs': 928, 'optimizer_type': 'rmsprop'}. Best is trial 38 with value: 32.3603099310576.\n"
     ]
    }
   ],
   "source": [
    "# Directory where models will be saved\n",
    "model_save_dir = pathlib.Path(\"saved_models\")\n",
    "model_save_dir.mkdir(parents=True, exist_ok=True)\n",
    "\n",
    "# Define the optimization process for the models\n",
    "latent_dims = [2, 3, 4, 5, 6, 7, 8, 9, 10, 12, 14, 16, 18, 20, 25, 30, 35, 40, 45, 50, 60, 70, 80, 90, 100, 150, 200]\n",
    "model_names = [\"pca\", \"ica\", \"nmf\", \"vanillavae\", \"betavae\", \"betatcvae\"]\n",
    "\n",
    "# Dynamically generate random seeds for the initializations\n",
    "initialization_seeds = [random.randint(0, 2**32 - 1) for _ in range(5)]\n",
    "print(f\"Generated seeds: {initialization_seeds}\")\n",
    "\n",
    "for num_components in latent_dims:\n",
    "    for model_name in model_names:\n",
    "        if model_name in [\"pca\", \"ica\", \"nmf\"]:\n",
    "            # Single initialization for PCA, ICA, and NMF\n",
    "            if model_name == \"pca\":\n",
    "                model = PCA(n_components=num_components)\n",
    "            elif model_name == \"ica\":\n",
    "                model = FastICA(n_components=num_components)\n",
    "            elif model_name == \"nmf\":\n",
    "                model = NMF(n_components=num_components, init='nndsvd', max_iter=2000, random_state=0)\n",
    "            \n",
    "            # Fit the model to the data\n",
    "            model.fit(train_data)\n",
    "            \n",
    "            # Save the trained model (single initialization)\n",
    "            save_model(\n",
    "                trial=\"non-optuna\",\n",
    "                model=model,\n",
    "                directory=model_save_dir,\n",
    "                modelname=model_name,\n",
    "                latent_dims=num_components,\n",
    "                init=0,  # Single initialization for non-VAE models\n",
    "                seed=0   # Placeholder seed\n",
    "            )\n",
    "\n",
    "        elif model_name in [\"betavae\", \"betatcvae\", \"vanillavae\"]:\n",
    "            # Multiple initializations for VAEs\n",
    "            for init_idx, init_seed in enumerate(initialization_seeds):  # Loop over seeds\n",
    "                set_random_seed(init_seed)\n",
    "                \n",
    "                study = optuna.create_study(direction=\"minimize\")\n",
    "                if model_name == \"betavae\":\n",
    "                    study.optimize(\n",
    "                        lambda trial: objective(\n",
    "                            trial, train_tensor, train_tensor, train_data, \n",
    "                            latent_dim=num_components\n",
    "                        ), \n",
    "                        n_trials=50\n",
    "                    )\n",
    "                elif model_name == \"betatcvae\":\n",
    "                    study.optimize(\n",
    "                        lambda trial: objective_tc(\n",
    "                            trial, train_tensor, train_tensor, train_data, \n",
    "                            latent_dim=num_components\n",
    "                        ), \n",
    "                        n_trials=50\n",
    "                    )\n",
    "                elif model_name == \"vanillavae\":\n",
    "                    study.optimize(\n",
    "                        lambda trial: objective_vvae(\n",
    "                            trial, train_tensor, train_tensor, train_data, \n",
    "                            latent_dim=num_components\n",
    "                        ), \n",
    "                        n_trials=50\n",
    "                    )\n",
    "                \n",
    "                # Retrieve the best trial and initialize the model\n",
    "                best_trial = study.best_trial\n",
    "                if model_name == \"betavae\":\n",
    "                    model = BetaVAE(input_dim=train_data.shape[1], latent_dim=num_components, beta=best_trial.params['beta'])\n",
    "                    train_loader = DataLoader(TensorDataset(train_tensor), batch_size=best_trial.params['batch_size'], shuffle=True)\n",
    "                    optimizer = get_optimizer(best_trial.params['optimizer_type'], model.parameters(), best_trial.params['learning_rate'])\n",
    "                    train_vae(model, train_loader, optimizer, best_trial.params['epochs'])\n",
    "                elif model_name == \"betatcvae\":\n",
    "                    model = BetaTCVAE(input_dim=train_data.shape[1], latent_dim=num_components, beta=best_trial.params['beta'])\n",
    "                    train_loader = DataLoader(TensorDataset(train_tensor), batch_size=best_trial.params['batch_size'], shuffle=True)\n",
    "                    optimizer = get_optimizer_tc(best_trial.params['optimizer_type'], model.parameters(), best_trial.params['learning_rate'])\n",
    "                    train_tc_vae(model, train_loader, optimizer, best_trial.params['epochs'])\n",
    "                elif model_name == \"vanillavae\":\n",
    "                    model = VanillaVAE(input_dim=train_data.shape[1], latent_dim=num_components)\n",
    "                    train_loader = DataLoader(TensorDataset(train_tensor), batch_size=best_trial.params['batch_size'], shuffle=True)\n",
    "                    optimizer = get_optimizer_vvae(best_trial.params['optimizer_type'], model.parameters(), best_trial.params['learning_rate'])\n",
    "                    train_vvae(model, train_loader, optimizer, best_trial.params['epochs'])\n",
    "                \n",
    "                \n",
    "                # Save the trained model (multiple initializations)\n",
    "                save_model(\n",
    "                    trial=best_trial,\n",
    "                    model=model,\n",
    "                    directory=model_save_dir,\n",
    "                    modelname=model_name,\n",
    "                    latent_dims=num_components,\n",
    "                    init=init_idx,\n",
    "                    seed=init_seed\n",
    "                )\n"
   ]
  }
 ],
 "metadata": {
  "kernelspec": {
   "display_name": "gene_dependency_representations",
   "language": "python",
   "name": "python3"
  },
  "language_info": {
   "codemirror_mode": {
    "name": "ipython",
    "version": 3
   },
   "file_extension": ".py",
   "mimetype": "text/x-python",
   "name": "python",
   "nbconvert_exporter": "python",
   "pygments_lexer": "ipython3",
   "version": "3.12.5"
  }
 },
 "nbformat": 4,
 "nbformat_minor": 2
}
