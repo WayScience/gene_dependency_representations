{
 "cells": [
  {
   "attachments": {},
   "cell_type": "markdown",
   "metadata": {},
   "source": [
    "## Download RNAseq Data\n",
    "\n",
    "Source: [Cancer Dependency Map resource](https://depmap.org/portal/download/).\n",
    "\n",
    "- `CRISPRGeneDependency.parquet`: The data in this document describes the probability that a gene knockdown has an effect on cell-inhibition or death. These probabilities are derived from the data contained in CRISPRGeneEffect.parquet using methods described [here](https://doi.org/10.1101/720243)\n",
    "- `\n",
    "\n",
    ">Tsherniak A, Vazquez F, Montgomery PG, Weir BA, Kryukov G, Cowley GS, Gill S, Harrington WF, Pantel S, Krill-Burger JM, Meyers RM, Ali L, Goodale A, Lee Y, Jiang G, Hsiao J, Gerath WFJ, Howell S, Merkel E, Ghandi M, Garraway LA, Root DE, Golub TR, Boehm JS, Hahn WC. Defining a Cancer Dependency Map. Cell. 2017 Jul 27;170(3):564-576."
   ]
  },
  {
   "cell_type": "code",
   "execution_count": 1,
   "metadata": {},
   "outputs": [],
   "source": [
    "import pathlib\n",
    "import urllib.request\n",
    "import pandas as pd\n",
    "from pathlib import Path\n",
    "import pyarrow as pa"
   ]
  },
  {
   "cell_type": "code",
   "execution_count": 2,
   "metadata": {},
   "outputs": [],
   "source": [
    "def download_dependency_data(figshare_id, figshare_url, output_file):\n",
    "    \"\"\"\n",
    "    Download the provided figshare resource\n",
    "    \"\"\"\n",
    "    urllib.request.urlretrieve(f\"{figshare_url}/{figshare_id}\", output_file)"
   ]
  },
  {
   "cell_type": "code",
   "execution_count": 3,
   "metadata": {},
   "outputs": [],
   "source": [
    "# Set download constants\n",
    "output_dir = pathlib.Path(\"data\")\n",
    "figshare_url = \"https://ndownloader.figshare.com/files/\"\n",
    "\n",
    "download_dict = {\n",
    "    \"46493242\": \"RNASeq.csv\",\n",
    "\n",
    "     # DepMap, Broad (2024). DepMap 24Q2 Public. Figshare+. Dataset. https://doi.org/10.25452/figshare.plus.25880521.v1\n",
    "}"
   ]
  },
  {
   "cell_type": "code",
   "execution_count": 4,
   "metadata": {},
   "outputs": [],
   "source": [
    "# Make sure directory exists\n",
    "output_dir.mkdir(exist_ok=True)"
   ]
  },
  {
   "cell_type": "code",
   "execution_count": 5,
   "metadata": {},
   "outputs": [
    {
     "name": "stdout",
     "output_type": "stream",
     "text": [
      "Downloading data/RNASeq.csv...\n"
     ]
    }
   ],
   "source": [
    "for figshare_id in download_dict:\n",
    "    # Set output file\n",
    "    output_file = pathlib.Path(output_dir, download_dict[figshare_id])\n",
    "\n",
    "    # Download the dependency data\n",
    "    print(f\"Downloading {output_file}...\")\n",
    "\n",
    "    download_dependency_data(\n",
    "        figshare_id=figshare_id, figshare_url=figshare_url, output_file=output_file\n",
    "    )"
   ]
  },
  {
   "cell_type": "code",
   "execution_count": 6,
   "metadata": {},
   "outputs": [],
   "source": [
    "#Convert to parquet\n",
    "# List of CSV files\n",
    "\n",
    "data_directory = \"../6.RNAseq/data/\"\n",
    "csv_file = pathlib.Path(data_directory, \"RNASeq.csv\").resolve()\n",
    "\n",
    "\n",
    "df = pd.read_csv(csv_file)\n",
    "    \n",
    "# Define the output Parquet file name\n",
    "parquet_file = csv_file.with_suffix('.parquet')\n",
    "    \n",
    "# Save the DataFrame as a Parquet file\n",
    "df.to_parquet(parquet_file, index=False)"
   ]
  },
  {
   "cell_type": "code",
   "execution_count": 7,
   "metadata": {},
   "outputs": [
    {
     "name": "stdout",
     "output_type": "stream",
     "text": [
      "     Unnamed: 0  TSPAN6 (7105)  TNMD (64102)  DPM1 (8813)  SCYL3 (57147)  \\\n",
      "0    ACH-001113       4.361066      0.000000     7.393090       2.873813   \n",
      "1    ACH-001289       4.578939      0.584963     7.116760       2.580145   \n",
      "2    ACH-001339       3.160275      0.000000     7.388103       2.397803   \n",
      "3    ACH-001538       5.094236      0.000000     7.160174       2.606442   \n",
      "4    ACH-001794       3.889474      0.056584     6.777946       1.978196   \n",
      "..          ...            ...           ...          ...            ...   \n",
      "523  ACH-001743       4.074677      0.000000     6.909293       2.263034   \n",
      "524  ACH-001578       6.361768      3.418190     7.227760       2.589763   \n",
      "525  ACH-002669       3.122673      0.000000     7.045487       1.570463   \n",
      "526  ACH-001858       4.400538      0.000000     7.022368       1.925999   \n",
      "527  ACH-001997       5.076816      0.000000     7.834850       2.601697   \n",
      "\n",
      "     C1orf112 (55732)  FGR (2268)  CFH (3075)  FUCA2 (2519)  GCLC (2729)  ...  \\\n",
      "0            4.497612    0.028569    1.244887      3.066950     6.529665  ...   \n",
      "1            3.517276    0.000000    0.189034      3.823749     4.232661  ...   \n",
      "2            4.246408    0.056584    1.316146      6.697246     3.692650  ...   \n",
      "3            3.082362    0.000000    5.876517      6.173927     4.497612  ...   \n",
      "4            3.166715    0.632268    6.962549      7.104442     4.260026  ...   \n",
      "..                ...         ...         ...           ...          ...  ...   \n",
      "523          4.032982    0.000000    6.315059      4.972233     3.438293  ...   \n",
      "524          4.382667    0.042644    0.014355      5.802193     3.075533  ...   \n",
      "525          3.675816    0.014355    3.638074      6.819796     4.486071  ...   \n",
      "526          3.261531    0.028569    3.294253      6.910853     5.419876  ...   \n",
      "527          3.915521    0.028569    4.098453      6.991862     4.489928  ...   \n",
      "\n",
      "     CDR1 (1038)  ENSG00000288643  ENSG00000288645  ENSG00000288656  \\\n",
      "0            0.0              0.0              0.0         1.244887   \n",
      "1            0.0              0.0              0.0         0.000000   \n",
      "2            0.0              0.0              0.0         0.713696   \n",
      "3            0.0              0.0              0.0         0.622930   \n",
      "4            0.0              0.0              0.0         0.056584   \n",
      "..           ...              ...              ...              ...   \n",
      "523          0.0              0.0              0.0         0.000000   \n",
      "524          0.0              0.0              0.0         0.000000   \n",
      "525          0.0              0.0              0.0         0.056584   \n",
      "526          0.0              0.0              0.0         0.214125   \n",
      "527          0.0              0.0              0.0         0.137504   \n",
      "\n",
      "     ENSG00000288658  ENSG00000288661  ENSG00000288669  ENSG00000288671  \\\n",
      "0           0.584963         0.000000         0.000000              0.0   \n",
      "1           0.659925         0.000000         0.000000              0.0   \n",
      "2           0.189034         0.000000         0.084064              0.0   \n",
      "3           0.000000         0.000000         0.000000              0.0   \n",
      "4           0.545968         0.000000         0.000000              0.0   \n",
      "..               ...              ...              ...              ...   \n",
      "523         2.017922         2.914565         0.000000              0.0   \n",
      "524         0.604071         2.094236         0.000000              0.0   \n",
      "525         0.070389         0.722466         0.000000              0.0   \n",
      "526         0.111031         0.000000         0.000000              0.0   \n",
      "527         0.000000         0.000000         0.000000              0.0   \n",
      "\n",
      "     ENSG00000288674  ENSG00000288675  \n",
      "0           0.555816         0.189034  \n",
      "1           0.275007         0.516015  \n",
      "2           0.263034         0.176323  \n",
      "3           0.333424         0.111031  \n",
      "4           0.214125         1.049631  \n",
      "..               ...              ...  \n",
      "523         1.604071         0.526069  \n",
      "524         0.367371         0.014355  \n",
      "525         0.163499         0.084064  \n",
      "526         0.214125         0.298658  \n",
      "527         0.111031         0.238787  \n",
      "\n",
      "[528 rows x 19828 columns]\n"
     ]
    }
   ],
   "source": [
    "print(df)"
   ]
  }
 ],
 "metadata": {
  "kernelspec": {
   "display_name": "base",
   "language": "python",
   "name": "python3"
  },
  "language_info": {
   "codemirror_mode": {
    "name": "ipython",
    "version": 3
   },
   "file_extension": ".py",
   "mimetype": "text/x-python",
   "name": "python",
   "nbconvert_exporter": "python",
   "pygments_lexer": "ipython3",
   "version": "3.12.5"
  }
 },
 "nbformat": 4,
 "nbformat_minor": 4
}
