{
 "cells": [
  {
   "cell_type": "code",
   "execution_count": 1,
   "metadata": {},
   "outputs": [],
   "source": [
    "import pathlib\n",
    "import warnings\n",
    "\n",
    "import matplotlib.pyplot as plt\n",
    "import numpy as np\n",
    "import pandas as pd\n",
    "import plotnine as gg\n",
    "import seaborn as sns\n",
    "from plotnine import *\n",
    "\n",
    "warnings.filterwarnings(\"ignore\")"
   ]
  },
  {
   "cell_type": "code",
   "execution_count": 2,
   "metadata": {
    "tags": []
   },
   "outputs": [],
   "source": [
    "# Set constants\n",
    "adult_threshold = 15\n",
    "pediatric_liquid_tumors = [\"Leukemia\", \"Lymphoma\"]"
   ]
  },
  {
   "cell_type": "code",
   "execution_count": 3,
   "metadata": {},
   "outputs": [],
   "source": [
    "# Set i/o paths and files\n",
    "data_dir = pathlib.Path(\"../0.data-download/data\")\n",
    "fig_dir = pathlib.Path(\"figures\")\n",
    "fig_dir.mkdir(exist_ok=True)\n",
    "\n",
    "model_input_file = pathlib.Path(f\"{data_dir}/Model.csv\")\n",
    "crispr_input_file = pathlib.Path(f\"{data_dir}/CRISPRGeneDependency.csv\")\n",
    "\n",
    "model_ouput_age_cleaned_file = pathlib.Path(f\"{data_dir}/Model_age_column_cleaned.csv\")\n",
    "cancer_type_output_figure = pathlib.Path(f\"{fig_dir}/sample_cancer_types_bar_chart.png\")\n",
    "age_category_output_figure = pathlib.Path(f\"{fig_dir}/age_categories_bar_chart.png\")\n",
    "age_distribution_output_figure = pathlib.Path(\n",
    "    f\"{fig_dir}/sample_age_distribution_plot.png\"\n",
    ")\n",
    "sex_output_figure = pathlib.Path(f\"{fig_dir}/sample_gender_bar_chart.png\")\n",
    "pediatric_cancer_type_output_figure = pathlib.Path(\n",
    "    f\"{fig_dir}/pediatric_sample_cancer_types_bar_chart.png\"\n",
    ")"
   ]
  },
  {
   "cell_type": "code",
   "execution_count": 4,
   "metadata": {
    "tags": []
   },
   "outputs": [
    {
     "name": "stdout",
     "output_type": "stream",
     "text": [
      "(1840, 29)\n"
     ]
    },
    {
     "data": {
      "text/html": [
       "<div>\n",
       "<style scoped>\n",
       "    .dataframe tbody tr th:only-of-type {\n",
       "        vertical-align: middle;\n",
       "    }\n",
       "\n",
       "    .dataframe tbody tr th {\n",
       "        vertical-align: top;\n",
       "    }\n",
       "\n",
       "    .dataframe thead th {\n",
       "        text-align: right;\n",
       "    }\n",
       "</style>\n",
       "<table border=\"1\" class=\"dataframe\">\n",
       "  <thead>\n",
       "    <tr style=\"text-align: right;\">\n",
       "      <th></th>\n",
       "      <th>DepMap_ID</th>\n",
       "      <th>cell_line_name</th>\n",
       "      <th>stripped_cell_line_name</th>\n",
       "      <th>CCLE_Name</th>\n",
       "      <th>alias</th>\n",
       "      <th>COSMICID</th>\n",
       "      <th>sex</th>\n",
       "      <th>source</th>\n",
       "      <th>RRID</th>\n",
       "      <th>WTSI_Master_Cell_ID</th>\n",
       "      <th>...</th>\n",
       "      <th>lineage_sub_subtype</th>\n",
       "      <th>lineage_molecular_subtype</th>\n",
       "      <th>default_growth_pattern</th>\n",
       "      <th>model_manipulation</th>\n",
       "      <th>model_manipulation_details</th>\n",
       "      <th>patient_id</th>\n",
       "      <th>parent_depmap_id</th>\n",
       "      <th>Cellosaurus_NCIt_disease</th>\n",
       "      <th>Cellosaurus_NCIt_id</th>\n",
       "      <th>Cellosaurus_issues</th>\n",
       "    </tr>\n",
       "  </thead>\n",
       "  <tbody>\n",
       "    <tr>\n",
       "      <th>0</th>\n",
       "      <td>ACH-000016</td>\n",
       "      <td>SLR 21</td>\n",
       "      <td>SLR21</td>\n",
       "      <td>SLR21_KIDNEY</td>\n",
       "      <td>NaN</td>\n",
       "      <td>NaN</td>\n",
       "      <td>NaN</td>\n",
       "      <td>Academic lab</td>\n",
       "      <td>CVCL_V607</td>\n",
       "      <td>NaN</td>\n",
       "      <td>...</td>\n",
       "      <td>NaN</td>\n",
       "      <td>NaN</td>\n",
       "      <td>NaN</td>\n",
       "      <td>NaN</td>\n",
       "      <td>NaN</td>\n",
       "      <td>PT-JnARLB</td>\n",
       "      <td>NaN</td>\n",
       "      <td>Clear cell renal cell carcinoma</td>\n",
       "      <td>C4033</td>\n",
       "      <td>NaN</td>\n",
       "    </tr>\n",
       "    <tr>\n",
       "      <th>1</th>\n",
       "      <td>ACH-000032</td>\n",
       "      <td>MHH-CALL-3</td>\n",
       "      <td>MHHCALL3</td>\n",
       "      <td>MHHCALL3_HAEMATOPOIETIC_AND_LYMPHOID_TISSUE</td>\n",
       "      <td>NaN</td>\n",
       "      <td>NaN</td>\n",
       "      <td>Female</td>\n",
       "      <td>DSMZ</td>\n",
       "      <td>CVCL_0089</td>\n",
       "      <td>NaN</td>\n",
       "      <td>...</td>\n",
       "      <td>b_cell</td>\n",
       "      <td>NaN</td>\n",
       "      <td>NaN</td>\n",
       "      <td>NaN</td>\n",
       "      <td>NaN</td>\n",
       "      <td>PT-p2KOyI</td>\n",
       "      <td>NaN</td>\n",
       "      <td>Childhood B acute lymphoblastic leukemia</td>\n",
       "      <td>C9140</td>\n",
       "      <td>NaN</td>\n",
       "    </tr>\n",
       "    <tr>\n",
       "      <th>2</th>\n",
       "      <td>ACH-000033</td>\n",
       "      <td>NCI-H1819</td>\n",
       "      <td>NCIH1819</td>\n",
       "      <td>NCIH1819_LUNG</td>\n",
       "      <td>NaN</td>\n",
       "      <td>NaN</td>\n",
       "      <td>Female</td>\n",
       "      <td>Academic lab</td>\n",
       "      <td>CVCL_1497</td>\n",
       "      <td>NaN</td>\n",
       "      <td>...</td>\n",
       "      <td>NSCLC_adenocarcinoma</td>\n",
       "      <td>NaN</td>\n",
       "      <td>NaN</td>\n",
       "      <td>NaN</td>\n",
       "      <td>NaN</td>\n",
       "      <td>PT-9p1WQv</td>\n",
       "      <td>NaN</td>\n",
       "      <td>Lung adenocarcinoma</td>\n",
       "      <td>C3512</td>\n",
       "      <td>NaN</td>\n",
       "    </tr>\n",
       "  </tbody>\n",
       "</table>\n",
       "<p>3 rows × 29 columns</p>\n",
       "</div>"
      ],
      "text/plain": [
       "    DepMap_ID cell_line_name stripped_cell_line_name  \\\n",
       "0  ACH-000016         SLR 21                   SLR21   \n",
       "1  ACH-000032     MHH-CALL-3                MHHCALL3   \n",
       "2  ACH-000033      NCI-H1819                NCIH1819   \n",
       "\n",
       "                                     CCLE_Name alias  COSMICID     sex  \\\n",
       "0                                 SLR21_KIDNEY   NaN       NaN     NaN   \n",
       "1  MHHCALL3_HAEMATOPOIETIC_AND_LYMPHOID_TISSUE   NaN       NaN  Female   \n",
       "2                                NCIH1819_LUNG   NaN       NaN  Female   \n",
       "\n",
       "         source       RRID  WTSI_Master_Cell_ID  ...   lineage_sub_subtype  \\\n",
       "0  Academic lab  CVCL_V607                  NaN  ...                   NaN   \n",
       "1          DSMZ  CVCL_0089                  NaN  ...                b_cell   \n",
       "2  Academic lab  CVCL_1497                  NaN  ...  NSCLC_adenocarcinoma   \n",
       "\n",
       "  lineage_molecular_subtype default_growth_pattern model_manipulation  \\\n",
       "0                       NaN                    NaN                NaN   \n",
       "1                       NaN                    NaN                NaN   \n",
       "2                       NaN                    NaN                NaN   \n",
       "\n",
       "  model_manipulation_details patient_id parent_depmap_id  \\\n",
       "0                        NaN  PT-JnARLB              NaN   \n",
       "1                        NaN  PT-p2KOyI              NaN   \n",
       "2                        NaN  PT-9p1WQv              NaN   \n",
       "\n",
       "                   Cellosaurus_NCIt_disease Cellosaurus_NCIt_id  \\\n",
       "0           Clear cell renal cell carcinoma               C4033   \n",
       "1  Childhood B acute lymphoblastic leukemia               C9140   \n",
       "2                       Lung adenocarcinoma               C3512   \n",
       "\n",
       "  Cellosaurus_issues  \n",
       "0                NaN  \n",
       "1                NaN  \n",
       "2                NaN  \n",
       "\n",
       "[3 rows x 29 columns]"
      ]
     },
     "execution_count": 4,
     "metadata": {},
     "output_type": "execute_result"
    }
   ],
   "source": [
    "# Load model data\n",
    "model_df = pd.read_csv(model_input_file)\n",
    "\n",
    "print(model_df.shape)\n",
    "model_df.head(3)"
   ]
  },
  {
   "cell_type": "code",
   "execution_count": 5,
   "metadata": {
    "tags": []
   },
   "outputs": [
    {
     "name": "stdout",
     "output_type": "stream",
     "text": [
      "(1086, 17387)\n"
     ]
    },
    {
     "data": {
      "text/html": [
       "<div>\n",
       "<style scoped>\n",
       "    .dataframe tbody tr th:only-of-type {\n",
       "        vertical-align: middle;\n",
       "    }\n",
       "\n",
       "    .dataframe tbody tr th {\n",
       "        vertical-align: top;\n",
       "    }\n",
       "\n",
       "    .dataframe thead th {\n",
       "        text-align: right;\n",
       "    }\n",
       "</style>\n",
       "<table border=\"1\" class=\"dataframe\">\n",
       "  <thead>\n",
       "    <tr style=\"text-align: right;\">\n",
       "      <th></th>\n",
       "      <th>DepMap_ID</th>\n",
       "      <th>A1BG (1)</th>\n",
       "      <th>A1CF (29974)</th>\n",
       "      <th>A2M (2)</th>\n",
       "      <th>A2ML1 (144568)</th>\n",
       "      <th>A3GALT2 (127550)</th>\n",
       "      <th>A4GALT (53947)</th>\n",
       "      <th>A4GNT (51146)</th>\n",
       "      <th>AAAS (8086)</th>\n",
       "      <th>AACS (65985)</th>\n",
       "      <th>...</th>\n",
       "      <th>ZWILCH (55055)</th>\n",
       "      <th>ZWINT (11130)</th>\n",
       "      <th>ZXDA (7789)</th>\n",
       "      <th>ZXDB (158586)</th>\n",
       "      <th>ZXDC (79364)</th>\n",
       "      <th>ZYG11A (440590)</th>\n",
       "      <th>ZYG11B (79699)</th>\n",
       "      <th>ZYX (7791)</th>\n",
       "      <th>ZZEF1 (23140)</th>\n",
       "      <th>ZZZ3 (26009)</th>\n",
       "    </tr>\n",
       "  </thead>\n",
       "  <tbody>\n",
       "    <tr>\n",
       "      <th>0</th>\n",
       "      <td>ACH-000001</td>\n",
       "      <td>0.094568</td>\n",
       "      <td>0.012519</td>\n",
       "      <td>0.027460</td>\n",
       "      <td>0.025962</td>\n",
       "      <td>0.073412</td>\n",
       "      <td>0.027340</td>\n",
       "      <td>0.020199</td>\n",
       "      <td>0.284733</td>\n",
       "      <td>0.022084</td>\n",
       "      <td>...</td>\n",
       "      <td>0.037449</td>\n",
       "      <td>0.080585</td>\n",
       "      <td>0.034309</td>\n",
       "      <td>0.007142</td>\n",
       "      <td>0.004241</td>\n",
       "      <td>0.082956</td>\n",
       "      <td>0.012000</td>\n",
       "      <td>0.003592</td>\n",
       "      <td>0.012679</td>\n",
       "      <td>0.324623</td>\n",
       "    </tr>\n",
       "    <tr>\n",
       "      <th>1</th>\n",
       "      <td>ACH-000004</td>\n",
       "      <td>0.012676</td>\n",
       "      <td>0.049011</td>\n",
       "      <td>0.075933</td>\n",
       "      <td>0.033215</td>\n",
       "      <td>0.013176</td>\n",
       "      <td>0.097497</td>\n",
       "      <td>0.005015</td>\n",
       "      <td>0.153166</td>\n",
       "      <td>0.007358</td>\n",
       "      <td>...</td>\n",
       "      <td>0.038768</td>\n",
       "      <td>0.230569</td>\n",
       "      <td>0.007125</td>\n",
       "      <td>0.021209</td>\n",
       "      <td>0.011203</td>\n",
       "      <td>0.060266</td>\n",
       "      <td>0.128375</td>\n",
       "      <td>0.005911</td>\n",
       "      <td>0.004645</td>\n",
       "      <td>0.042530</td>\n",
       "    </tr>\n",
       "    <tr>\n",
       "      <th>2</th>\n",
       "      <td>ACH-000005</td>\n",
       "      <td>0.053957</td>\n",
       "      <td>0.027968</td>\n",
       "      <td>0.010139</td>\n",
       "      <td>0.005448</td>\n",
       "      <td>0.018599</td>\n",
       "      <td>0.081636</td>\n",
       "      <td>0.005457</td>\n",
       "      <td>0.159904</td>\n",
       "      <td>0.050884</td>\n",
       "      <td>...</td>\n",
       "      <td>0.017479</td>\n",
       "      <td>0.274568</td>\n",
       "      <td>0.054525</td>\n",
       "      <td>0.033396</td>\n",
       "      <td>0.033416</td>\n",
       "      <td>0.034712</td>\n",
       "      <td>0.092832</td>\n",
       "      <td>0.012482</td>\n",
       "      <td>0.020843</td>\n",
       "      <td>0.050412</td>\n",
       "    </tr>\n",
       "  </tbody>\n",
       "</table>\n",
       "<p>3 rows × 17387 columns</p>\n",
       "</div>"
      ],
      "text/plain": [
       "    DepMap_ID  A1BG (1)  A1CF (29974)   A2M (2)  A2ML1 (144568)  \\\n",
       "0  ACH-000001  0.094568      0.012519  0.027460        0.025962   \n",
       "1  ACH-000004  0.012676      0.049011  0.075933        0.033215   \n",
       "2  ACH-000005  0.053957      0.027968  0.010139        0.005448   \n",
       "\n",
       "   A3GALT2 (127550)  A4GALT (53947)  A4GNT (51146)  AAAS (8086)  AACS (65985)  \\\n",
       "0          0.073412        0.027340       0.020199     0.284733      0.022084   \n",
       "1          0.013176        0.097497       0.005015     0.153166      0.007358   \n",
       "2          0.018599        0.081636       0.005457     0.159904      0.050884   \n",
       "\n",
       "   ...  ZWILCH (55055)  ZWINT (11130)  ZXDA (7789)  ZXDB (158586)  \\\n",
       "0  ...        0.037449       0.080585     0.034309       0.007142   \n",
       "1  ...        0.038768       0.230569     0.007125       0.021209   \n",
       "2  ...        0.017479       0.274568     0.054525       0.033396   \n",
       "\n",
       "   ZXDC (79364)  ZYG11A (440590)  ZYG11B (79699)  ZYX (7791)  ZZEF1 (23140)  \\\n",
       "0      0.004241         0.082956        0.012000    0.003592       0.012679   \n",
       "1      0.011203         0.060266        0.128375    0.005911       0.004645   \n",
       "2      0.033416         0.034712        0.092832    0.012482       0.020843   \n",
       "\n",
       "   ZZZ3 (26009)  \n",
       "0      0.324623  \n",
       "1      0.042530  \n",
       "2      0.050412  \n",
       "\n",
       "[3 rows x 17387 columns]"
      ]
     },
     "execution_count": 5,
     "metadata": {},
     "output_type": "execute_result"
    }
   ],
   "source": [
    "# Load dependency data\n",
    "gene_dependency_df = pd.read_csv(crispr_input_file)\n",
    "\n",
    "print(gene_dependency_df.shape)\n",
    "gene_dependency_df.head(3)"
   ]
  },
  {
   "cell_type": "markdown",
   "metadata": {},
   "source": [
    "## Describe input data"
   ]
  },
  {
   "cell_type": "code",
   "execution_count": 6,
   "metadata": {},
   "outputs": [
    {
     "name": "stdout",
     "output_type": "stream",
     "text": [
      "Number of samples documented in Model.csv: 1840 \n",
      "\n",
      "Number of samples measured in CRISPRGeneDependency.csv: 1086 \n",
      "\n",
      "Samples measured in both: 1086 \n",
      "\n",
      "Number of Cancer Types: \n",
      " 31 \n",
      "\n"
     ]
    }
   ],
   "source": [
    "# Model.csv visualization\n",
    "# How many samples from Model.csv?\n",
    "n_samples_model = len(model_df[\"DepMap_ID\"].unique())\n",
    "print(f\"Number of samples documented in Model.csv: {n_samples_model} \\n\")\n",
    "\n",
    "# How many samples from CRISPRGeneDependency.csv?\n",
    "n_samples_gene = len(gene_dependency_df[\"DepMap_ID\"].unique())\n",
    "print(f\"Number of samples measured in CRISPRGeneDependency.csv: {n_samples_gene} \\n\")\n",
    "\n",
    "# Identify which samples are included in both Model.csv and CRISPRGeneDependency.csv\n",
    "sample_overlap = list(set(model_df[\"DepMap_ID\"]) & set(gene_dependency_df[\"DepMap_ID\"]))\n",
    "\n",
    "# count the number of samples that overlap in both data sets\n",
    "print(f\"Samples measured in both: {len(sample_overlap)} \\n\")\n",
    "\n",
    "# How many different types of cancer?\n",
    "n_cancer_types = model_df.query(\"DepMap_ID in @sample_overlap\")[\n",
    "    \"primary_disease\"\n",
    "].nunique()\n",
    "print(f\"Number of Cancer Types: \\n {n_cancer_types} \\n\")"
   ]
  },
  {
   "cell_type": "code",
   "execution_count": 7,
   "metadata": {
    "tags": []
   },
   "outputs": [
    {
     "data": {
      "image/png": "[encoded data removed]",
      "text/plain": [
       "<Figure size 640x480 with 1 Axes>"
      ]
     },
     "metadata": {},
     "output_type": "display_data"
    },
    {
     "data": {
      "text/plain": [
       "<ggplot: (340373381)>"
      ]
     },
     "execution_count": 7,
     "metadata": {},
     "output_type": "execute_result"
    }
   ],
   "source": [
    "# Visualize cancer type distribution\n",
    "cancer_types_bar = (\n",
    "    gg.ggplot(model_df, gg.aes(x=\"primary_disease\"))\n",
    "    + gg.geom_bar()\n",
    "    + gg.coord_flip()\n",
    "    + gg.ggtitle(\"Distribution of cancer types\")\n",
    "    + gg.theme_bw()\n",
    ")\n",
    "\n",
    "cancer_types_bar.save(cancer_type_output_figure, dpi=500)\n",
    "\n",
    "cancer_types_bar"
   ]
  },
  {
   "cell_type": "markdown",
   "metadata": {},
   "source": [
    "## Clean age variable"
   ]
  },
  {
   "cell_type": "code",
   "execution_count": 8,
   "metadata": {},
   "outputs": [],
   "source": [
    "age_categories = []\n",
    "age_distribution = []\n",
    "\n",
    "# Loop through each age entry to clean it\n",
    "for age_entry in model_df.age.tolist():\n",
    "    try:\n",
    "        # If the age is an integer, apply appropriate category\n",
    "        if int(age_entry) >= adult_threshold:\n",
    "            age_categories.append(\"Adult\")\n",
    "        else:\n",
    "            age_categories.append(\"Pediatric\")\n",
    "\n",
    "        # If the age is an integer, apply appropriate continuous measure\n",
    "        age_distribution.append(int(age_entry))\n",
    "\n",
    "    except ValueError:\n",
    "        # If conversion fails, categorize appropriately\n",
    "        if pd.notnull(age_entry):\n",
    "            age_categories.append(age_entry)\n",
    "        else:\n",
    "            age_categories.append(\"Missing\")\n",
    "\n",
    "        age_distribution.append(np.nan)"
   ]
  },
  {
   "cell_type": "code",
   "execution_count": 9,
   "metadata": {},
   "outputs": [
    {
     "name": "stdout",
     "output_type": "stream",
     "text": [
      "(1840, 31)\n"
     ]
    },
    {
     "data": {
      "text/html": [
       "<div>\n",
       "<style scoped>\n",
       "    .dataframe tbody tr th:only-of-type {\n",
       "        vertical-align: middle;\n",
       "    }\n",
       "\n",
       "    .dataframe tbody tr th {\n",
       "        vertical-align: top;\n",
       "    }\n",
       "\n",
       "    .dataframe thead th {\n",
       "        text-align: right;\n",
       "    }\n",
       "</style>\n",
       "<table border=\"1\" class=\"dataframe\">\n",
       "  <thead>\n",
       "    <tr style=\"text-align: right;\">\n",
       "      <th></th>\n",
       "      <th>DepMap_ID</th>\n",
       "      <th>cell_line_name</th>\n",
       "      <th>stripped_cell_line_name</th>\n",
       "      <th>CCLE_Name</th>\n",
       "      <th>alias</th>\n",
       "      <th>COSMICID</th>\n",
       "      <th>sex</th>\n",
       "      <th>source</th>\n",
       "      <th>RRID</th>\n",
       "      <th>WTSI_Master_Cell_ID</th>\n",
       "      <th>...</th>\n",
       "      <th>default_growth_pattern</th>\n",
       "      <th>model_manipulation</th>\n",
       "      <th>model_manipulation_details</th>\n",
       "      <th>patient_id</th>\n",
       "      <th>parent_depmap_id</th>\n",
       "      <th>Cellosaurus_NCIt_disease</th>\n",
       "      <th>Cellosaurus_NCIt_id</th>\n",
       "      <th>Cellosaurus_issues</th>\n",
       "      <th>age_categories</th>\n",
       "      <th>age_distribution</th>\n",
       "    </tr>\n",
       "  </thead>\n",
       "  <tbody>\n",
       "    <tr>\n",
       "      <th>0</th>\n",
       "      <td>ACH-000016</td>\n",
       "      <td>SLR 21</td>\n",
       "      <td>SLR21</td>\n",
       "      <td>SLR21_KIDNEY</td>\n",
       "      <td>NaN</td>\n",
       "      <td>NaN</td>\n",
       "      <td>NaN</td>\n",
       "      <td>Academic lab</td>\n",
       "      <td>CVCL_V607</td>\n",
       "      <td>NaN</td>\n",
       "      <td>...</td>\n",
       "      <td>NaN</td>\n",
       "      <td>NaN</td>\n",
       "      <td>NaN</td>\n",
       "      <td>PT-JnARLB</td>\n",
       "      <td>NaN</td>\n",
       "      <td>Clear cell renal cell carcinoma</td>\n",
       "      <td>C4033</td>\n",
       "      <td>NaN</td>\n",
       "      <td>Missing</td>\n",
       "      <td>NaN</td>\n",
       "    </tr>\n",
       "    <tr>\n",
       "      <th>1</th>\n",
       "      <td>ACH-000032</td>\n",
       "      <td>MHH-CALL-3</td>\n",
       "      <td>MHHCALL3</td>\n",
       "      <td>MHHCALL3_HAEMATOPOIETIC_AND_LYMPHOID_TISSUE</td>\n",
       "      <td>NaN</td>\n",
       "      <td>NaN</td>\n",
       "      <td>Female</td>\n",
       "      <td>DSMZ</td>\n",
       "      <td>CVCL_0089</td>\n",
       "      <td>NaN</td>\n",
       "      <td>...</td>\n",
       "      <td>NaN</td>\n",
       "      <td>NaN</td>\n",
       "      <td>NaN</td>\n",
       "      <td>PT-p2KOyI</td>\n",
       "      <td>NaN</td>\n",
       "      <td>Childhood B acute lymphoblastic leukemia</td>\n",
       "      <td>C9140</td>\n",
       "      <td>NaN</td>\n",
       "      <td>Pediatric</td>\n",
       "      <td>11.0</td>\n",
       "    </tr>\n",
       "    <tr>\n",
       "      <th>2</th>\n",
       "      <td>ACH-000033</td>\n",
       "      <td>NCI-H1819</td>\n",
       "      <td>NCIH1819</td>\n",
       "      <td>NCIH1819_LUNG</td>\n",
       "      <td>NaN</td>\n",
       "      <td>NaN</td>\n",
       "      <td>Female</td>\n",
       "      <td>Academic lab</td>\n",
       "      <td>CVCL_1497</td>\n",
       "      <td>NaN</td>\n",
       "      <td>...</td>\n",
       "      <td>NaN</td>\n",
       "      <td>NaN</td>\n",
       "      <td>NaN</td>\n",
       "      <td>PT-9p1WQv</td>\n",
       "      <td>NaN</td>\n",
       "      <td>Lung adenocarcinoma</td>\n",
       "      <td>C3512</td>\n",
       "      <td>NaN</td>\n",
       "      <td>Adult</td>\n",
       "      <td>55.0</td>\n",
       "    </tr>\n",
       "  </tbody>\n",
       "</table>\n",
       "<p>3 rows × 31 columns</p>\n",
       "</div>"
      ],
      "text/plain": [
       "    DepMap_ID cell_line_name stripped_cell_line_name  \\\n",
       "0  ACH-000016         SLR 21                   SLR21   \n",
       "1  ACH-000032     MHH-CALL-3                MHHCALL3   \n",
       "2  ACH-000033      NCI-H1819                NCIH1819   \n",
       "\n",
       "                                     CCLE_Name alias  COSMICID     sex  \\\n",
       "0                                 SLR21_KIDNEY   NaN       NaN     NaN   \n",
       "1  MHHCALL3_HAEMATOPOIETIC_AND_LYMPHOID_TISSUE   NaN       NaN  Female   \n",
       "2                                NCIH1819_LUNG   NaN       NaN  Female   \n",
       "\n",
       "         source       RRID  WTSI_Master_Cell_ID  ... default_growth_pattern  \\\n",
       "0  Academic lab  CVCL_V607                  NaN  ...                    NaN   \n",
       "1          DSMZ  CVCL_0089                  NaN  ...                    NaN   \n",
       "2  Academic lab  CVCL_1497                  NaN  ...                    NaN   \n",
       "\n",
       "  model_manipulation model_manipulation_details patient_id parent_depmap_id  \\\n",
       "0                NaN                        NaN  PT-JnARLB              NaN   \n",
       "1                NaN                        NaN  PT-p2KOyI              NaN   \n",
       "2                NaN                        NaN  PT-9p1WQv              NaN   \n",
       "\n",
       "                   Cellosaurus_NCIt_disease Cellosaurus_NCIt_id  \\\n",
       "0           Clear cell renal cell carcinoma               C4033   \n",
       "1  Childhood B acute lymphoblastic leukemia               C9140   \n",
       "2                       Lung adenocarcinoma               C3512   \n",
       "\n",
       "  Cellosaurus_issues age_categories age_distribution  \n",
       "0                NaN        Missing              NaN  \n",
       "1                NaN      Pediatric             11.0  \n",
       "2                NaN          Adult             55.0  \n",
       "\n",
       "[3 rows x 31 columns]"
      ]
     },
     "execution_count": 9,
     "metadata": {},
     "output_type": "execute_result"
    }
   ],
   "source": [
    "# Add columns age_categories & age_distribution\n",
    "model_df = model_df.assign(\n",
    "    age_categories=age_categories, age_distribution=age_distribution\n",
    ")\n",
    "\n",
    "# Output file\n",
    "model_df.to_csv(model_ouput_age_cleaned_file, index=False)\n",
    "\n",
    "print(model_df.shape)\n",
    "model_df.head(3)"
   ]
  },
  {
   "cell_type": "markdown",
   "metadata": {},
   "source": [
    "## Visualize age categories and distribution"
   ]
  },
  {
   "cell_type": "code",
   "execution_count": 10,
   "metadata": {},
   "outputs": [
    {
     "data": {
      "image/png": "[encoded data removed]",
      "text/plain": [
       "<Figure size 640x480 with 1 Axes>"
      ]
     },
     "metadata": {},
     "output_type": "display_data"
    },
    {
     "data": {
      "text/plain": [
       "<ggplot: (355207526)>"
      ]
     },
     "execution_count": 10,
     "metadata": {},
     "output_type": "execute_result"
    }
   ],
   "source": [
    "age_categories_bar = (\n",
    "    gg.ggplot(model_df, gg.aes(x=\"age_categories\"))\n",
    "    + gg.geom_bar()\n",
    "    + gg.ggtitle(\n",
    "        f\"Age categories of derived cell lines (Pediatric =< {adult_threshold})\"\n",
    "    )\n",
    "    + gg.theme_bw()\n",
    ")\n",
    "\n",
    "age_categories_bar.save(age_category_output_figure, dpi=500)\n",
    "\n",
    "age_categories_bar"
   ]
  },
  {
   "cell_type": "code",
   "execution_count": 11,
   "metadata": {},
   "outputs": [
    {
     "data": {
      "image/png": "[encoded data removed]",
      "text/plain": [
       "<Figure size 640x480 with 1 Axes>"
      ]
     },
     "metadata": {},
     "output_type": "display_data"
    },
    {
     "data": {
      "text/plain": [
       "<ggplot: (357989202)>"
      ]
     },
     "execution_count": 11,
     "metadata": {},
     "output_type": "execute_result"
    }
   ],
   "source": [
    "age_distribution_plot = (\n",
    "    gg.ggplot(model_df, gg.aes(x=\"age_distribution\"))\n",
    "    + gg.geom_density()\n",
    "    + gg.geom_vline(xintercept=adult_threshold, linetype=\"dashed\", color=\"red\")\n",
    "    + gg.ggtitle(\n",
    "        f\"Age distribution of derived cell lines (Pediatric =< {adult_threshold})\"\n",
    "    )\n",
    "    + gg.theme_bw()\n",
    ")\n",
    "\n",
    "age_distribution_plot.save(age_distribution_output_figure, dpi=500)\n",
    "\n",
    "age_distribution_plot"
   ]
  },
  {
   "cell_type": "code",
   "execution_count": 12,
   "metadata": {},
   "outputs": [
    {
     "data": {
      "text/plain": [
       "Adult        1308\n",
       "Missing       341\n",
       "Pediatric     188\n",
       "Fetus           3\n",
       "Name: 0, dtype: int64"
      ]
     },
     "execution_count": 12,
     "metadata": {},
     "output_type": "execute_result"
    }
   ],
   "source": [
    "pd.DataFrame(age_categories).loc[:, 0].value_counts()"
   ]
  },
  {
   "cell_type": "code",
   "execution_count": 13,
   "metadata": {
    "tags": []
   },
   "outputs": [
    {
     "data": {
      "image/png": "[encoded data removed]",
      "text/plain": [
       "<Figure size 640x480 with 1 Axes>"
      ]
     },
     "metadata": {},
     "output_type": "display_data"
    },
    {
     "data": {
      "text/plain": [
       "<ggplot: (361047314)>"
      ]
     },
     "execution_count": 13,
     "metadata": {},
     "output_type": "execute_result"
    }
   ],
   "source": [
    "gendersamp_plot = (\n",
    "    gg.ggplot(model_df, gg.aes(x=\"sex\"))\n",
    "    + gg.geom_bar()\n",
    "    + gg.ggtitle(f\"Sex categories of derived cell lines\")\n",
    "    + gg.theme_bw()\n",
    ")\n",
    "\n",
    "gendersamp_plot.save(sex_output_figure)\n",
    "\n",
    "gendersamp_plot"
   ]
  },
  {
   "cell_type": "markdown",
   "metadata": {},
   "source": [
    "## What cell lines are pediatric cancer?"
   ]
  },
  {
   "cell_type": "code",
   "execution_count": 14,
   "metadata": {
    "tags": []
   },
   "outputs": [
    {
     "name": "stdout",
     "output_type": "stream",
     "text": [
      "(105, 31)\n"
     ]
    },
    {
     "data": {
      "text/html": [
       "<div>\n",
       "<style scoped>\n",
       "    .dataframe tbody tr th:only-of-type {\n",
       "        vertical-align: middle;\n",
       "    }\n",
       "\n",
       "    .dataframe tbody tr th {\n",
       "        vertical-align: top;\n",
       "    }\n",
       "\n",
       "    .dataframe thead th {\n",
       "        text-align: right;\n",
       "    }\n",
       "</style>\n",
       "<table border=\"1\" class=\"dataframe\">\n",
       "  <thead>\n",
       "    <tr style=\"text-align: right;\">\n",
       "      <th></th>\n",
       "      <th>DepMap_ID</th>\n",
       "      <th>cell_line_name</th>\n",
       "      <th>stripped_cell_line_name</th>\n",
       "      <th>CCLE_Name</th>\n",
       "      <th>alias</th>\n",
       "      <th>COSMICID</th>\n",
       "      <th>sex</th>\n",
       "      <th>source</th>\n",
       "      <th>RRID</th>\n",
       "      <th>WTSI_Master_Cell_ID</th>\n",
       "      <th>...</th>\n",
       "      <th>default_growth_pattern</th>\n",
       "      <th>model_manipulation</th>\n",
       "      <th>model_manipulation_details</th>\n",
       "      <th>patient_id</th>\n",
       "      <th>parent_depmap_id</th>\n",
       "      <th>Cellosaurus_NCIt_disease</th>\n",
       "      <th>Cellosaurus_NCIt_id</th>\n",
       "      <th>Cellosaurus_issues</th>\n",
       "      <th>age_categories</th>\n",
       "      <th>age_distribution</th>\n",
       "    </tr>\n",
       "  </thead>\n",
       "  <tbody>\n",
       "    <tr>\n",
       "      <th>0</th>\n",
       "      <td>ACH-000172</td>\n",
       "      <td>TM-87</td>\n",
       "      <td>TM87</td>\n",
       "      <td>TM87_SOFT_TISSUE</td>\n",
       "      <td>TM87</td>\n",
       "      <td>NaN</td>\n",
       "      <td>Male</td>\n",
       "      <td>Academic lab</td>\n",
       "      <td>CVCL_8001</td>\n",
       "      <td>NaN</td>\n",
       "      <td>...</td>\n",
       "      <td>NaN</td>\n",
       "      <td>NaN</td>\n",
       "      <td>NaN</td>\n",
       "      <td>PT-o2d0Va</td>\n",
       "      <td>NaN</td>\n",
       "      <td>Extrarenal rhabdoid tumor</td>\n",
       "      <td>C6586</td>\n",
       "      <td>NaN</td>\n",
       "      <td>Pediatric</td>\n",
       "      <td>1.0</td>\n",
       "    </tr>\n",
       "    <tr>\n",
       "      <th>1</th>\n",
       "      <td>ACH-000602</td>\n",
       "      <td>M-07e</td>\n",
       "      <td>M07E</td>\n",
       "      <td>M07E_HAEMATOPOIETIC_AND_LYMPHOID_TISSUE</td>\n",
       "      <td>NaN</td>\n",
       "      <td>NaN</td>\n",
       "      <td>Female</td>\n",
       "      <td>DSMZ</td>\n",
       "      <td>CVCL_2106</td>\n",
       "      <td>NaN</td>\n",
       "      <td>...</td>\n",
       "      <td>2D: suspension</td>\n",
       "      <td>NaN</td>\n",
       "      <td>NaN</td>\n",
       "      <td>PT-T0am5q</td>\n",
       "      <td>NaN</td>\n",
       "      <td>Childhood acute megakaryoblastic leukemia</td>\n",
       "      <td>C7972</td>\n",
       "      <td>NaN</td>\n",
       "      <td>Pediatric</td>\n",
       "      <td>0.0</td>\n",
       "    </tr>\n",
       "    <tr>\n",
       "      <th>2</th>\n",
       "      <td>ACH-001099</td>\n",
       "      <td>KD</td>\n",
       "      <td>KD</td>\n",
       "      <td>KD_SOFT_TISSUE</td>\n",
       "      <td>NaN</td>\n",
       "      <td>NaN</td>\n",
       "      <td>Female</td>\n",
       "      <td>Academic lab</td>\n",
       "      <td>CVCL_U757</td>\n",
       "      <td>NaN</td>\n",
       "      <td>...</td>\n",
       "      <td>NaN</td>\n",
       "      <td>NaN</td>\n",
       "      <td>NaN</td>\n",
       "      <td>PT-FynJTm</td>\n",
       "      <td>NaN</td>\n",
       "      <td>Extrarenal rhabdoid tumor</td>\n",
       "      <td>C6586</td>\n",
       "      <td>NaN</td>\n",
       "      <td>Pediatric</td>\n",
       "      <td>0.0</td>\n",
       "    </tr>\n",
       "  </tbody>\n",
       "</table>\n",
       "<p>3 rows × 31 columns</p>\n",
       "</div>"
      ],
      "text/plain": [
       "    DepMap_ID cell_line_name stripped_cell_line_name  \\\n",
       "0  ACH-000172          TM-87                    TM87   \n",
       "1  ACH-000602          M-07e                    M07E   \n",
       "2  ACH-001099             KD                      KD   \n",
       "\n",
       "                                 CCLE_Name alias  COSMICID     sex  \\\n",
       "0                         TM87_SOFT_TISSUE  TM87       NaN    Male   \n",
       "1  M07E_HAEMATOPOIETIC_AND_LYMPHOID_TISSUE   NaN       NaN  Female   \n",
       "2                           KD_SOFT_TISSUE   NaN       NaN  Female   \n",
       "\n",
       "         source       RRID  WTSI_Master_Cell_ID  ... default_growth_pattern  \\\n",
       "0  Academic lab  CVCL_8001                  NaN  ...                    NaN   \n",
       "1          DSMZ  CVCL_2106                  NaN  ...         2D: suspension   \n",
       "2  Academic lab  CVCL_U757                  NaN  ...                    NaN   \n",
       "\n",
       "  model_manipulation model_manipulation_details patient_id parent_depmap_id  \\\n",
       "0                NaN                        NaN  PT-o2d0Va              NaN   \n",
       "1                NaN                        NaN  PT-T0am5q              NaN   \n",
       "2                NaN                        NaN  PT-FynJTm              NaN   \n",
       "\n",
       "                    Cellosaurus_NCIt_disease Cellosaurus_NCIt_id  \\\n",
       "0                  Extrarenal rhabdoid tumor               C6586   \n",
       "1  Childhood acute megakaryoblastic leukemia               C7972   \n",
       "2                  Extrarenal rhabdoid tumor               C6586   \n",
       "\n",
       "  Cellosaurus_issues age_categories age_distribution  \n",
       "0                NaN      Pediatric              1.0  \n",
       "1                NaN      Pediatric              0.0  \n",
       "2                NaN      Pediatric              0.0  \n",
       "\n",
       "[3 rows x 31 columns]"
      ]
     },
     "execution_count": 14,
     "metadata": {},
     "output_type": "execute_result"
    }
   ],
   "source": [
    "pediatric_model_df = (\n",
    "    model_df.query(\"age_categories == 'Pediatric'\")\n",
    "    .query(\"DepMap_ID in @sample_overlap\")\n",
    "    .reset_index(drop=True)\n",
    ")\n",
    "\n",
    "print(pediatric_model_df.shape)\n",
    "pediatric_model_df.head(3)"
   ]
  },
  {
   "cell_type": "code",
   "execution_count": 15,
   "metadata": {
    "tags": []
   },
   "outputs": [
    {
     "data": {
      "text/plain": [
       "5          NGP\n",
       "7           LS\n",
       "16     MHHNB11\n",
       "21      CHP212\n",
       "23       SKNSH\n",
       "30       KELLY\n",
       "31       SKNAS\n",
       "34       IMR32\n",
       "35      SKNBE2\n",
       "36       SKNFI\n",
       "38       SKNDZ\n",
       "52         NB1\n",
       "68      SHSY5Y\n",
       "75      CHLA15\n",
       "76     COGN278\n",
       "77     COGN305\n",
       "78      NB1643\n",
       "80       GIMEN\n",
       "81        LAN2\n",
       "95        NB69\n",
       "98      BE2M17\n",
       "100       NB10\n",
       "101       NB13\n",
       "102       NB17\n",
       "103        NB5\n",
       "104        NB7\n",
       "Name: stripped_cell_line_name, dtype: object"
      ]
     },
     "execution_count": 15,
     "metadata": {},
     "output_type": "execute_result"
    }
   ],
   "source": [
    "# What are the neuroblastoma models?\n",
    "pediatric_model_df.query(\n",
    "    \"Cellosaurus_NCIt_disease == 'Neuroblastoma'\"\n",
    ").stripped_cell_line_name"
   ]
  },
  {
   "cell_type": "code",
   "execution_count": 16,
   "metadata": {
    "tags": []
   },
   "outputs": [
    {
     "data": {
      "text/plain": [
       "Neuroblastoma     32\n",
       "Leukemia          18\n",
       "Rhabdoid          14\n",
       "Bone Cancer       12\n",
       "Sarcoma            8\n",
       "Brain Cancer       8\n",
       "Lymphoma           6\n",
       "Kidney Cancer      2\n",
       "Eye Cancer         2\n",
       "Skin Cancer        1\n",
       "Liver Cancer       1\n",
       "Ovarian Cancer     1\n",
       "Name: primary_disease, dtype: int64"
      ]
     },
     "execution_count": 16,
     "metadata": {},
     "output_type": "execute_result"
    }
   ],
   "source": [
    "# What is the distribution of pediatric tumor types\n",
    "pediatric_cancer_counts = pediatric_model_df.primary_disease.value_counts()\n",
    "pediatric_cancer_counts"
   ]
  },
  {
   "cell_type": "code",
   "execution_count": 17,
   "metadata": {
    "tags": []
   },
   "outputs": [
    {
     "data": {
      "text/html": [
       "<div>\n",
       "<style scoped>\n",
       "    .dataframe tbody tr th:only-of-type {\n",
       "        vertical-align: middle;\n",
       "    }\n",
       "\n",
       "    .dataframe tbody tr th {\n",
       "        vertical-align: top;\n",
       "    }\n",
       "\n",
       "    .dataframe thead th {\n",
       "        text-align: right;\n",
       "    }\n",
       "</style>\n",
       "<table border=\"1\" class=\"dataframe\">\n",
       "  <thead>\n",
       "    <tr style=\"text-align: right;\">\n",
       "      <th></th>\n",
       "      <th>index</th>\n",
       "      <th>primary_disease</th>\n",
       "    </tr>\n",
       "  </thead>\n",
       "  <tbody>\n",
       "    <tr>\n",
       "      <th>0</th>\n",
       "      <td>Neuroblastoma</td>\n",
       "      <td>32</td>\n",
       "    </tr>\n",
       "    <tr>\n",
       "      <th>1</th>\n",
       "      <td>Leukemia</td>\n",
       "      <td>18</td>\n",
       "    </tr>\n",
       "    <tr>\n",
       "      <th>2</th>\n",
       "      <td>Rhabdoid</td>\n",
       "      <td>14</td>\n",
       "    </tr>\n",
       "    <tr>\n",
       "      <th>3</th>\n",
       "      <td>Bone Cancer</td>\n",
       "      <td>12</td>\n",
       "    </tr>\n",
       "    <tr>\n",
       "      <th>4</th>\n",
       "      <td>Sarcoma</td>\n",
       "      <td>8</td>\n",
       "    </tr>\n",
       "    <tr>\n",
       "      <th>5</th>\n",
       "      <td>Brain Cancer</td>\n",
       "      <td>8</td>\n",
       "    </tr>\n",
       "    <tr>\n",
       "      <th>6</th>\n",
       "      <td>Lymphoma</td>\n",
       "      <td>6</td>\n",
       "    </tr>\n",
       "    <tr>\n",
       "      <th>7</th>\n",
       "      <td>Kidney Cancer</td>\n",
       "      <td>2</td>\n",
       "    </tr>\n",
       "    <tr>\n",
       "      <th>8</th>\n",
       "      <td>Eye Cancer</td>\n",
       "      <td>2</td>\n",
       "    </tr>\n",
       "    <tr>\n",
       "      <th>9</th>\n",
       "      <td>Skin Cancer</td>\n",
       "      <td>1</td>\n",
       "    </tr>\n",
       "    <tr>\n",
       "      <th>10</th>\n",
       "      <td>Liver Cancer</td>\n",
       "      <td>1</td>\n",
       "    </tr>\n",
       "    <tr>\n",
       "      <th>11</th>\n",
       "      <td>Ovarian Cancer</td>\n",
       "      <td>1</td>\n",
       "    </tr>\n",
       "  </tbody>\n",
       "</table>\n",
       "</div>"
      ],
      "text/plain": [
       "             index  primary_disease\n",
       "0    Neuroblastoma               32\n",
       "1         Leukemia               18\n",
       "2         Rhabdoid               14\n",
       "3      Bone Cancer               12\n",
       "4          Sarcoma                8\n",
       "5     Brain Cancer                8\n",
       "6         Lymphoma                6\n",
       "7    Kidney Cancer                2\n",
       "8       Eye Cancer                2\n",
       "9      Skin Cancer                1\n",
       "10    Liver Cancer                1\n",
       "11  Ovarian Cancer                1"
      ]
     },
     "execution_count": 17,
     "metadata": {},
     "output_type": "execute_result"
    }
   ],
   "source": [
    "pediatric_cancer_counts.reset_index()"
   ]
  },
  {
   "cell_type": "code",
   "execution_count": 18,
   "metadata": {
    "tags": []
   },
   "outputs": [
    {
     "data": {
      "image/png": "[encoded data removed]",
      "text/plain": [
       "<Figure size 640x480 with 1 Axes>"
      ]
     },
     "metadata": {},
     "output_type": "display_data"
    },
    {
     "data": {
      "text/plain": [
       "<ggplot: (366464211)>"
      ]
     },
     "execution_count": 18,
     "metadata": {},
     "output_type": "execute_result"
    }
   ],
   "source": [
    "# Visualize cancer type distribution\n",
    "ped_cancer_types_bar = (\n",
    "    gg.ggplot(\n",
    "        pediatric_cancer_counts.reset_index(), gg.aes(x=\"index\", y=\"primary_disease\")\n",
    "    )\n",
    "    + gg.geom_bar(stat=\"identity\")\n",
    "    + gg.coord_flip()\n",
    "    + gg.ggtitle(\"Distribution of pediatric cancer types\")\n",
    "    + gg.ylab(\"count\")\n",
    "    + gg.xlab(\"cancer type\")\n",
    "    + gg.theme_bw()\n",
    ")\n",
    "\n",
    "ped_cancer_types_bar.save(pediatric_cancer_type_output_figure, dpi=500)\n",
    "\n",
    "ped_cancer_types_bar"
   ]
  },
  {
   "cell_type": "code",
   "execution_count": 19,
   "metadata": {
    "tags": []
   },
   "outputs": [
    {
     "name": "stdout",
     "output_type": "stream",
     "text": [
      "The number of pediatric solid tumors:\n",
      "81\n",
      "The number of pediatric liquid tumors:\n",
      "24\n"
     ]
    }
   ],
   "source": [
    "# Pediatric solid vs liquid tumors\n",
    "print(\"The number of pediatric solid tumors:\")\n",
    "print(\n",
    "    pediatric_model_df.query(\"primary_disease not in @pediatric_liquid_tumors\")\n",
    "    .primary_disease.value_counts()\n",
    "    .sum()\n",
    ")\n",
    "print(\"The number of pediatric liquid tumors:\")\n",
    "print(\n",
    "    pediatric_model_df.query(\"primary_disease in @pediatric_liquid_tumors\")\n",
    "    .primary_disease.value_counts()\n",
    "    .sum()\n",
    ")"
   ]
  }
 ],
 "metadata": {
  "kernelspec": {
   "display_name": "Python 3 (ipykernel)",
   "language": "python",
   "name": "python3"
  },
  "language_info": {
   "codemirror_mode": {
    "name": "ipython",
    "version": 3
   },
   "file_extension": ".py",
   "mimetype": "text/x-python",
   "name": "python",
   "nbconvert_exporter": "python",
   "pygments_lexer": "ipython3",
   "version": "3.10.9"
  },
  "vscode": {
   "interpreter": {
    "hash": "dea262fe473c2a7265de16dc303f906b3f1b3217055f2dca7dbe6a97a0d596fd"
   }
  }
 },
 "nbformat": 4,
 "nbformat_minor": 4
}
