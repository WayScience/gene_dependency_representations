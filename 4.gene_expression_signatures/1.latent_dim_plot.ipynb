{
 "cells": [
  {
   "cell_type": "code",
   "execution_count": 58,
   "metadata": {
    "vscode": {
     "languageId": "r"
    }
   },
   "outputs": [],
   "source": [
    "suppressPackageStartupMessages(library(dplyr))\n",
    "suppressPackageStartupMessages(library(ggplot2))\n",
    "suppressPackageStartupMessages(library(cowplot))\n",
    "suppressPackageStartupMessages(library(reticulate))"
   ]
  },
  {
   "cell_type": "code",
   "execution_count": 59,
   "metadata": {
    "vscode": {
     "languageId": "r"
    }
   },
   "outputs": [
    {
     "name": "stderr",
     "output_type": "stream",
     "text": [
      "\u001b[1mRows: \u001b[22m\u001b[34m407472\u001b[39m \u001b[1mColumns: \u001b[22m\u001b[34m8\u001b[39m\n",
      "\u001b[36m──\u001b[39m \u001b[1mColumn specification\u001b[22m \u001b[36m────────────────────────────────────────────────────────\u001b[39m\n",
      "\u001b[1mDelimiter:\u001b[22m \",\"\n",
      "\u001b[31mchr\u001b[39m (2): model, reactome pathway\n",
      "\u001b[32mdbl\u001b[39m (5): z, full_model_z, gsea es score, nes score, p value\n",
      "\u001b[33mlgl\u001b[39m (1): shuffled\n",
      "\n",
      "\u001b[36mℹ\u001b[39m Use `spec()` to retrieve the full column specification for this data.\n",
      "\u001b[36mℹ\u001b[39m Specify the column types or set `show_col_types = FALSE` to quiet this message.\n"
     ]
    }
   ],
   "source": [
    "#Load data\n",
    "data_dir <- file.path(\"../4.gene_expression_signatures/results\")\n",
    "\n",
    "results_file <- file.path(data_dir, \"combined_z_matrix_gsea_results.csv\")\n",
    "gsea_results_df <- readr::read_csv(\n",
    "    results_file,\n",
    ")"
   ]
  },
  {
   "cell_type": "code",
   "execution_count": 60,
   "metadata": {
    "vscode": {
     "languageId": "r"
    }
   },
   "outputs": [
    {
     "name": "stderr",
     "output_type": "stream",
     "text": [
      "\u001b[1m\u001b[22m`summarise()` has grouped output by 'model'. You can override using the\n",
      "`.groups` argument.\n"
     ]
    }
   ],
   "source": [
    "# Prepare the data\n",
    "# Filter for the single highest ES score for each model at each dimension\n",
    "max_es_df <- gsea_results_df %>%\n",
    "  group_by(model, full_model_z) %>%\n",
    "  summarize(max_es = max(`gsea es score`, na.rm = TRUE)) %>%\n",
    "  ungroup()"
   ]
  },
  {
   "cell_type": "code",
   "execution_count": 61,
   "metadata": {
    "vscode": {
     "languageId": "r"
    }
   },
   "outputs": [],
   "source": [
    "# Plot the data\n",
    "latent_plot <- ggplot(max_es_df, aes(x = factor(full_model_z), y = max_es, color = model, fill = model)) +\n",
    "  geom_point(size = 3, shape = 21) +  # Points on the line\n",
    "  geom_smooth(aes(group = model), method = \"loess\", se = TRUE, size = 1, alpha = 0.1) +  # Trend line with shading \n",
    "  scale_color_manual(name = \"Algorithm\",\n",
    "                     values = c(\n",
    "                      \"#e41a1c\", \n",
    "                      \"#377eb8\", \n",
    "                      \"#4daf4a\", \n",
    "                      \"#e4e716\", \n",
    "                      \"#984ea3\", \n",
    "                      \"#ff7f00\"),\n",
    "                     labels = c(\n",
    "                      \"pca\" = \"PCA\", \n",
    "                      \"ica\" = \"ICA\", \n",
    "                      \"nmf\" = \"NMF\", \n",
    "                      \"vanillavae\" = \"VAE\",\n",
    "                      \"betavae\" = \"BVAE\", \n",
    "                      \"betatcvae\" = \"BTCVAE\"\n",
    "                      )) +\n",
    "  scale_fill_manual(name = \"Algorithm\",\n",
    "                    values = c(\n",
    "                      \"#e41a1c\", \n",
    "                      \"#377eb8\", \n",
    "                      \"#4daf4a\", \n",
    "                      \"#e4e716\", \n",
    "                      \"#984ea3\", \n",
    "                      \"#ff7f00\"),\n",
    "                    labels = c(\n",
    "                      \"pca\" = \"PCA\", \n",
    "                      \"ica\" = \"ICA\", \n",
    "                      \"nmf\" = \"NMF\", \n",
    "                      \"vanillavae\" = \"VAE\",\n",
    "                      \"betavae\" = \"BVAE\", \n",
    "                      \"betatcvae\" = \"BTCVAE\")) +\n",
    "  labs(x = \"Latent Dimensions\", y = \"Highest ES Score\", title = \"Highest ES Score by Latent Dimension for Each Model\") +\n",
    "  theme(legend.position = \"right\")"
   ]
  },
  {
   "cell_type": "code",
   "execution_count": 66,
   "metadata": {
    "vscode": {
     "languageId": "r"
    }
   },
   "outputs": [
    {
     "name": "stderr",
     "output_type": "stream",
     "text": [
      "\u001b[1m\u001b[22m`geom_smooth()` using formula = 'y ~ x'\n"
     ]
    }
   ],
   "source": [
    "# Save the plot with custom dimensions\n",
    "ggsave(\"./visualize/latent_plot.png\", plot = latent_plot, width = 10, height = 8, units = \"in\")"
   ]
  }
 ],
 "metadata": {
  "kernelspec": {
   "display_name": "R",
   "language": "R",
   "name": "ir"
  },
  "language_info": {
   "codemirror_mode": "r",
   "file_extension": ".r",
   "mimetype": "text/x-r-source",
   "name": "R",
   "pygments_lexer": "r",
   "version": "4.2.2"
  }
 },
 "nbformat": 4,
 "nbformat_minor": 2
}
