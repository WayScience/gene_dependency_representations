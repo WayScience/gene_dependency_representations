{
 "cells": [
  {
   "attachments": {},
   "cell_type": "markdown",
   "metadata": {},
   "source": [
    "## Download Dependency Data\n",
    "\n",
    "Source: [Cancer Dependency Map resource](https://depmap.org/portal/download/).\n",
    "\n",
    "- `CRISPRGeneDependency.csv`: The data in this document describes the probability that a gene knockdown has an effect on cell-inhibition or death. These probabilities are derived from the data contained in CRISPRGeneEffect.csv using methods described [here](https://doi.org/10.1101/720243)\n",
    "- `Model.csv`: Metadata for all of DepMap’s cancer models/cell lines.\n",
    "- `CRISPRGeneEffect.csv`: The data in this document are the Gene Effect Scores obtained from CRISPR knockout screens conducted by the Broad Institute. Negative scores notate that cell growth inhibition and/or death occurred following a gene knockout. Information on how these Gene Effect Scores were determined can be found [here](https://genomebiology.biomedcentral.com/articles/10.1186/s13059-021-02540-7)\n",
    "- `depmap_gene_meta.tsv`: Genes that passed QC and were included in the training model for Pan et al. 2022. We use this data to filter genes as input to our models. The genes were filtered based 1) variance, 2) perturbation confidence, and 3) high on target predictions based on high correlation across other guides.\n",
    "\n",
    "> Pan J, Kwon JJ, Talamas JA, Borah AA, Vazquez F, Boehm JS, Tsherniak A, Zitnik M, McFarland JM, Hahn WC. Sparse dictionary learning recovers pleiotropy from human cell fitness screens. Cell Syst. 2022 Apr 20;13(4):286-303.e10. doi: 10.1016/j.cels.2021.12.005. Epub 2022 Jan 31. PMID: 35085500; PMCID: PMC9035054."
   ]
  },
  {
   "cell_type": "code",
   "execution_count": 1,
   "metadata": {},
   "outputs": [],
   "source": [
    "import pathlib\n",
    "import urllib.request"
   ]
  },
  {
   "cell_type": "code",
   "execution_count": 2,
   "metadata": {},
   "outputs": [],
   "source": [
    "def download_dependency_data(figshare_id, figshare_url, output_file):\n",
    "    \"\"\"\n",
    "    Download the provided figshare resource\n",
    "    \"\"\"\n",
    "    urllib.request.urlretrieve(f\"{figshare_url}/{figshare_id}\", output_file)"
   ]
  },
  {
   "cell_type": "code",
   "execution_count": 3,
   "metadata": {},
   "outputs": [],
   "source": [
    "# Set download constants\n",
    "output_dir = pathlib.Path(\"data\")\n",
    "figshare_url = \"https://ndownloader.figshare.com/files/\"\n",
    "\n",
    "download_dict = {\n",
    "    \"40448549\": \"CRISPRGeneDependency.csv\",\n",
    "    \"40448555\": \"CRISPRGeneEffect.csv\",\n",
    "    \"40448834\": \"Model.csv\",\n",
    "    \"29094531\": \"depmap_gene_meta.tsv\",  # Data from Pan et al. 2022\n",
    "}"
   ]
  },
  {
   "cell_type": "code",
   "execution_count": 4,
   "metadata": {},
   "outputs": [],
   "source": [
    "# Make sure directory exists\n",
    "output_dir.mkdir(exist_ok=True)"
   ]
  },
  {
   "cell_type": "code",
   "execution_count": 5,
   "metadata": {},
   "outputs": [
    {
     "name": "stdout",
     "output_type": "stream",
     "text": [
      "Downloading data/CRISPRGeneDependency.csv...\n",
      "Downloading data/CRISPRGeneEffect.csv...\n",
      "Downloading data/Model.csv...\n",
      "Downloading data/depmap_gene_meta.tsv...\n"
     ]
    }
   ],
   "source": [
    "for figshare_id in download_dict:\n",
    "    # Set output file\n",
    "    output_file = pathlib.Path(output_dir, download_dict[figshare_id])\n",
    "\n",
    "    # Download the dependency data\n",
    "    print(f\"Downloading {output_file}...\")\n",
    "\n",
    "    download_dependency_data(\n",
    "        figshare_id=figshare_id, figshare_url=figshare_url, output_file=output_file\n",
    "    )"
   ]
  }
 ],
 "metadata": {
  "kernelspec": {
   "display_name": "base",
   "language": "python",
   "name": "python3"
  },
  "language_info": {
   "codemirror_mode": {
    "name": "ipython",
    "version": 3
   },
   "file_extension": ".py",
   "mimetype": "text/x-python",
   "name": "python",
   "nbconvert_exporter": "python",
   "pygments_lexer": "ipython3",
   "version": "3.10.11"
  }
 },
 "nbformat": 4,
 "nbformat_minor": 4
}
