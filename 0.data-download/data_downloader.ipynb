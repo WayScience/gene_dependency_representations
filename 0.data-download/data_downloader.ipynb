{
 "cells": [
  {
   "cell_type": "markdown",
   "metadata": {},
   "source": [
    "## Download Dependency Data\n",
    "\n",
    "Source: [Cancer Dependency Map resource](https://depmap.org/portal/download/).\n",
    "\n",
    "- `CRISPRGeneDependency.csv`: The data in this document describes the probability that a gene knockdown has an effect on cell-inhibition or death. These probabilities are derived from the data contained in CRISPRGeneEffect.csv using methods described [here](https://doi.org/10.1101/720243)\n",
    "- `Model.csv`: Metadata for all of DepMap’s cancer models/cell lines.\n",
    "- `CRISPRGeneEffect.csv`: The data in this document are the Gene Effect Scores obtained from CRISPR knockout screens conducted by the Broad Institute. Negative scores notate that cell growth inhibition and/or death occurred following a gene knockout. Information on how these Gene Effect Scores were determined can be found [here](https://genomebiology.biomedcentral.com/articles/10.1186/s13059-021-02540-7)"
   ]
  },
  {
   "cell_type": "code",
   "execution_count": 1,
   "metadata": {},
   "outputs": [],
   "source": [
    "import pathlib\n",
    "import urllib.request"
   ]
  },
  {
   "cell_type": "code",
   "execution_count": 2,
   "metadata": {},
   "outputs": [],
   "source": [
    "def download_dependency_data(figshare_id, figshare_url, output_file):\n",
    "    \"\"\"\n",
    "    Download the provided figshare resource\n",
    "    \"\"\"\n",
    "    urllib.request.urlretrieve(f\"{figshare_url}/{figshare_id}\", output_file)"
   ]
  },
  {
   "cell_type": "code",
   "execution_count": 3,
   "metadata": {},
   "outputs": [],
   "source": [
    "# Set download constants\n",
    "output_dir = pathlib.Path(\"data\")\n",
    "figshare_url = \"https://ndownloader.figshare.com/files/\"\n",
    "\n",
    "download_dict = {\"34990033\": \"CRISPRGeneDependency.csv\", \"35020903\": \"Model.csv\"}"
   ]
  },
  {
   "cell_type": "code",
   "execution_count": 4,
   "metadata": {},
   "outputs": [],
   "source": [
    "# Make sure directory exists\n",
    "output_dir.mkdir(exist_ok=True)"
   ]
  },
  {
   "cell_type": "code",
   "execution_count": 5,
   "metadata": {},
   "outputs": [
    {
     "name": "stdout",
     "output_type": "stream",
     "text": [
      "Downloading data/CRISPRGeneDependency.csv...\n",
      "Downloading data/Model.csv...\n"
     ]
    }
   ],
   "source": [
    "for figshare_id in download_dict:\n",
    "    # Set output file\n",
    "    output_file = pathlib.Path(output_dir, download_dict[figshare_id])\n",
    "\n",
    "    # Download the dependency data\n",
    "    print(f\"Downloading {output_file}...\")\n",
    "\n",
    "    download_dependency_data(\n",
    "        figshare_id=figshare_id, figshare_url=figshare_url, output_file=output_file\n",
    "    )"
   ]
  }
 ],
 "metadata": {
  "kernelspec": {
   "display_name": "gene_dependency_representations",
   "language": "python",
   "name": "python3"
  },
  "language_info": {
   "codemirror_mode": {
    "name": "ipython",
    "version": 3
   },
   "file_extension": ".py",
   "mimetype": "text/x-python",
   "name": "python",
   "nbconvert_exporter": "python",
   "pygments_lexer": "ipython3",
   "version": "3.10.8 | packaged by conda-forge | (main, Nov 22 2022, 08:26:04) [GCC 10.4.0]"
  },
  "orig_nbformat": 4,
  "vscode": {
   "interpreter": {
    "hash": "dea262fe473c2a7265de16dc303f906b3f1b3217055f2dca7dbe6a97a0d596fd"
   }
  }
 },
 "nbformat": 4,
 "nbformat_minor": 2
}
